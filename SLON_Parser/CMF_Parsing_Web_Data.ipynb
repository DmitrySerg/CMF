{
 "cells": [
  {
   "cell_type": "markdown",
   "metadata": {},
   "source": [
    "# How to scrap a website (no pain - no gain)"
   ]
  },
  {
   "cell_type": "markdown",
   "metadata": {},
   "source": [
    "Основные библиотеки (названия кликабельны - рекомендую почитать)"
   ]
  },
  {
   "cell_type": "markdown",
   "metadata": {},
   "source": [
    "- **[`requests`](http://docs.python-requests.org/en/master/#)** \n",
    "\n",
    "Прекрасная библиотека для создания собственных запросов к серверам, которую мы будем использовать для получения сырого, необработанного, страшного и путанного HTML кода страницы \n",
    "\n",
    "\n",
    "- **[`re`](https://docs.python.org/2/library/re.html)** \n",
    "\n",
    "Не менее прекрасная библиотека, позволяющая вам использовать регулярные выражения. Если вы хотите подробнее поизучать регулярные выражения, а не только гуглить на стаковерфлоу необходимые вам паттерны, как делаю я, то вот идеальный сайт для изучения - http://regexr.com/\n",
    "\n",
    "- **[`bs4`](https://www.crummy.com/software/BeautifulSoup/)**, a.k.a **BeautifulSoup**\n",
    "\n",
    "Красивый суп. Эта совершенно волшебная библиотека, которая из сырого и необработанного HTML (или XML) кода страницы выдаст вам структурированный массив данных, по которому очень удобно искать необходимые теги, классы, атрибуты, тексты и прочие элементы веб страниц"
   ]
  },
  {
   "cell_type": "code",
   "execution_count": 1,
   "metadata": {
    "collapsed": false
   },
   "outputs": [],
   "source": [
    "import requests\n",
    "import re\n",
    "from bs4 import BeautifulSoup\n",
    "import pandas as pd\n",
    "import time\n",
    "import sys"
   ]
  },
  {
   "cell_type": "markdown",
   "metadata": {},
   "source": [
    "### Так выглядит наша главная ссылка, по которой мы будем в дальнейшем гулять, добавляя новые значения для страницы"
   ]
  },
  {
   "cell_type": "code",
   "execution_count": 2,
   "metadata": {
    "collapsed": true
   },
   "outputs": [],
   "source": [
    "main_url = 'https://slon.ru/news?page='"
   ]
  },
  {
   "cell_type": "code",
   "execution_count": 3,
   "metadata": {
    "collapsed": true
   },
   "outputs": [],
   "source": [
    "page = 1"
   ]
  },
  {
   "cell_type": "markdown",
   "metadata": {},
   "source": [
    "Если склеить два кусочка - мы получим наш url!"
   ]
  },
  {
   "cell_type": "code",
   "execution_count": 4,
   "metadata": {
    "collapsed": false
   },
   "outputs": [
    {
     "data": {
      "text/plain": [
       "'https://slon.ru/news?page=1'"
      ]
     },
     "execution_count": 4,
     "metadata": {},
     "output_type": "execute_result"
    }
   ],
   "source": [
    "main_url+str(page)"
   ]
  },
  {
   "cell_type": "markdown",
   "metadata": {},
   "source": [
    "Благословенный 200 ответ - соединение установлено и данные получены, всё чудесно!"
   ]
  },
  {
   "cell_type": "code",
   "execution_count": 5,
   "metadata": {
    "collapsed": false
   },
   "outputs": [
    {
     "data": {
      "text/plain": [
       "<Response [200]>"
      ]
     },
     "execution_count": 5,
     "metadata": {},
     "output_type": "execute_result"
    }
   ],
   "source": [
    "requests.get(main_url+str(page))"
   ]
  },
  {
   "cell_type": "markdown",
   "metadata": {},
   "source": [
    "Создадим переменную, которая будет держать HTML код нашей полученной страницы"
   ]
  },
  {
   "cell_type": "code",
   "execution_count": 6,
   "metadata": {
    "collapsed": true
   },
   "outputs": [],
   "source": [
    "news_page = requests.get(main_url+str(page))\n",
    "news_page = news_page.content"
   ]
  },
  {
   "cell_type": "code",
   "execution_count": 7,
   "metadata": {
    "collapsed": true
   },
   "outputs": [
    {
     "data": {
      "text/plain": [
       "'<!DOCTYPE html>\\n<html>\\n<head>\\n    <title>\\xd0\\x9d\\xd0\\xbe\\xd0\\xb2\\xd0\\xbe\\xd1\\x81\\xd1\\x82\\xd0\\xb8 \\xd0\\xbd\\xd0\\xb0 Slon.ru</title>\\n\\n    <!-- Hello, stranger! What are you doing here? ( \\xcd\\xa1\\xc2\\xb0 \\xcd\\x9c\\xca\\x96 \\xcd\\xa1\\xc2\\xb0) -->\\n\\n    <meta charset=\"UTF-8\" /><script type=\"text/javascript\">(window.NREUM||(NREUM={})).loader_config={xpid:\"UAEGUFNVGwUCVFdSAwI=\"};window.NREUM||(NREUM={}),__nr_require=function(t,e,n){function r(n){if(!e[n]){var o=e[n]={exports:{}};t[n][0].call(o.exports,function(e){var o=t[n][1][e];return r(o||e)},o,o.exports)}return e[n].exports}if(\"function\"==typeof __nr_require)return __nr_require;for(var o=0;o<n.length;o++)r(n[o]);return r}({1:[function(t,e,n){function r(t){try{s.console&&console.log(t)}catch(e){}}var o,i=t(\"ee\"),a=t(15),s={};try{o=localStorage.getItem(\"__nr_flags\").split(\",\"),console&&\"function\"==typeof console.log&&(s.console=!0,o.indexOf(\"dev\")!==-1&&(s.dev=!0),o.indexOf(\"nr_dev\")!==-1&&(s.nrDev=!0))}catch(c){}s.nrDev&&i.on(\"internal-error\",function(t){r(t.stack)}),s.dev&&i.on(\"fn-err\",function(t,e,n){r(n.stack)}),s.dev&&(r(\"NR AGENT IN DEVELOPMENT MODE\"),r(\"flags: \"+a(s,function(t,e){return t}).join(\", \")))},{}],2:[function(t,e,n){function r(t,e,n,r,o){try{d?d-=1:i(\"err\",[o||new UncaughtException(t,e,n)])}catch(s){try{i(\"ierr\",[s,(new Date).getTime(),!0])}catch(c){}}return\"function\"==typeof f&&f.apply(this,a(arguments))}function UncaughtException(t,e,n){this.message=t||\"Uncaught error with no additional information\",this.sourceURL=e,this.line=n}function o(t){i(\"err\",[t,(new Date).getTime()])}var i=t(\"handle\"),a=t(16),s=t(\"ee\"),c=t(\"loader\"),f=window.onerror,u=!1,d=0;c.features.err=!0,t(1),window.onerror=r;try{throw new Error}catch(l){\"stack\"in l&&(t(8),t(7),\"addEventListener\"in window&&t(5),c.xhrWrappable&&t(9),u=!0)}s.on(\"fn-start\",function(t,e,n){u&&(d+=1)}),s.on(\"fn-err\",function(t,e,n){u&&(this.thrown=!0,o(n))}),s.on(\"fn-end\",function(){u&&!this.thrown&&d>0&&(d-=1)}),s.on(\"internal-error\",function(t){i(\"ierr\",[t,(new Date).getTime(),!0])})},{}],3:[function(t,e,n){t(\"loader\").features.ins=!0},{}],4:[function(t,e,n){function r(t){}if(window.performance&&window.performance.timing&&window.performance.getEntriesByType){var o=t(\"ee\"),i=t(\"handle\"),a=t(8),s=t(7),c=\"learResourceTimings\",f=\"addEventListener\",u=\"resourcetimingbufferfull\",d=\"bstResource\",l=\"resource\",p=\"-start\",h=\"-end\",m=\"fn\"+p,w=\"fn\"+h,v=\"bstTimer\",y=\"pushState\";t(\"loader\").features.stn=!0,t(6);var g=NREUM.o.EV;o.on(m,function(t,e){var n=t[0];n instanceof g&&(this.bstStart=Date.now())}),o.on(w,function(t,e){var n=t[0];n instanceof g&&i(\"bst\",[n,e,this.bstStart,Date.now()])}),a.on(m,function(t,e,n){this.bstStart=Date.now(),this.bstType=n}),a.on(w,function(t,e){i(v,[e,this.bstStart,Date.now(),this.bstType])}),s.on(m,function(){this.bstStart=Date.now()}),s.on(w,function(t,e){i(v,[e,this.bstStart,Date.now(),\"requestAnimationFrame\"])}),o.on(y+p,function(t){this.time=Date.now(),this.startPath=location.pathname+location.hash}),o.on(y+h,function(t){i(\"bstHist\",[location.pathname+location.hash,this.startPath,this.time])}),f in window.performance&&(window.performance[\"c\"+c]?window.performance[f](u,function(t){i(d,[window.performance.getEntriesByType(l)]),window.performance[\"c\"+c]()},!1):window.performance[f](\"webkit\"+u,function(t){i(d,[window.performance.getEntriesByType(l)]),window.performance[\"webkitC\"+c]()},!1)),document[f](\"scroll\",r,!1),document[f](\"keypress\",r,!1),document[f](\"click\",r,!1)}},{}],5:[function(t,e,n){function r(t){for(var e=t;e&&!e.hasOwnProperty(u);)e=Object.getPrototypeOf(e);e&&o(e)}function o(t){s.inPlace(t,[u,d],\"-\",i)}function i(t,e){return t[1]}var a=t(\"ee\").get(\"events\"),s=t(17)(a),c=t(\"gos\"),f=XMLHttpRequest,u=\"addEventListener\",d=\"removeEventListener\";e.exports=a,\"getPrototypeOf\"in Object?(r(document),r(window),r(f.prototype)):f.prototype.hasOwnProperty(u)&&(o(window),o(f.prototype)),a.on(u+\"-start\",function(t,e){if(t[1]){var n=t[1];if(\"function\"==typeof n){var r=c(n,\"nr@wrapped\",function(){return s(n,\"fn-\",null,n.name||\"anonymous\")});this.wrapped=t[1]=r}else\"function\"==typeof n.handleEvent&&s.inPlace(n,[\"handleEvent\"],\"fn-\")}}),a.on(d+\"-start\",function(t){var e=this.wrapped;e&&(t[1]=e)})},{}],6:[function(t,e,n){var r=t(\"ee\").get(\"history\"),o=t(17)(r);e.exports=r,o.inPlace(window.history,[\"pushState\",\"replaceState\"],\"-\")},{}],7:[function(t,e,n){var r=t(\"ee\").get(\"raf\"),o=t(17)(r),i=\"equestAnimationFrame\";e.exports=r,o.inPlace(window,[\"r\"+i,\"mozR\"+i,\"webkitR\"+i,\"msR\"+i],\"raf-\"),r.on(\"raf-start\",function(t){t[0]=o(t[0],\"fn-\")})},{}],8:[function(t,e,n){function r(t,e,n){t[0]=a(t[0],\"fn-\",null,n)}function o(t,e,n){this.method=n,this.timerDuration=\"number\"==typeof t[1]?t[1]:0,t[0]=a(t[0],\"fn-\",this,n)}var i=t(\"ee\").get(\"timer\"),a=t(17)(i),s=\"setTimeout\",c=\"setInterval\",f=\"clearTimeout\",u=\"-start\",d=\"-\";e.exports=i,a.inPlace(window,[s,\"setImmediate\"],s+d),a.inPlace(window,[c],c+d),a.inPlace(window,[f,\"clearImmediate\"],f+d),i.on(c+u,r),i.on(s+u,o)},{}],9:[function(t,e,n){function r(t,e){d.inPlace(e,[\"onreadystatechange\"],\"fn-\",s)}function o(){var t=this,e=u.context(t);t.readyState>3&&!e.resolved&&(e.resolved=!0,u.emit(\"xhr-resolved\",[],t)),d.inPlace(t,w,\"fn-\",s)}function i(t){v.push(t),h&&(g=-g,b.data=g)}function a(){for(var t=0;t<v.length;t++)r([],v[t]);v.length&&(v=[])}function s(t,e){return e}function c(t,e){for(var n in t)e[n]=t[n];return e}t(5);var f=t(\"ee\"),u=f.get(\"xhr\"),d=t(17)(u),l=NREUM.o,p=l.XHR,h=l.MO,m=\"readystatechange\",w=[\"onload\",\"onerror\",\"onabort\",\"onloadstart\",\"onloadend\",\"onprogress\",\"ontimeout\"],v=[];e.exports=u;var y=window.XMLHttpRequest=function(t){var e=new p(t);try{u.emit(\"new-xhr\",[e],e),e.addEventListener(m,o,!1)}catch(n){try{u.emit(\"internal-error\",[n])}catch(r){}}return e};if(c(p,y),y.prototype=p.prototype,d.inPlace(y.prototype,[\"open\",\"send\"],\"-xhr-\",s),u.on(\"send-xhr-start\",function(t,e){r(t,e),i(e)}),u.on(\"open-xhr-start\",r),h){var g=1,b=document.createTextNode(g);new h(a).observe(b,{characterData:!0})}else f.on(\"fn-end\",function(t){t[0]&&t[0].type===m||a()})},{}],10:[function(t,e,n){function r(t){var e=this.params,n=this.metrics;if(!this.ended){this.ended=!0;for(var r=0;r<d;r++)t.removeEventListener(u[r],this.listener,!1);if(!e.aborted){if(n.duration=(new Date).getTime()-this.startTime,4===t.readyState){e.status=t.status;var i=o(t,this.lastSize);if(i&&(n.rxSize=i),this.sameOrigin){var a=t.getResponseHeader(\"X-NewRelic-App-Data\");a&&(e.cat=a.split(\", \").pop())}}else e.status=0;n.cbTime=this.cbTime,f.emit(\"xhr-done\",[t],t),s(\"xhr\",[e,n,this.startTime])}}}function o(t,e){var n=t.responseType;if(\"json\"===n&&null!==e)return e;var r=\"arraybuffer\"===n||\"blob\"===n||\"json\"===n?t.response:t.responseText;return h(r)}function i(t,e){var n=c(e),r=t.params;r.host=n.hostname+\":\"+n.port,r.pathname=n.pathname,t.sameOrigin=n.sameOrigin}var a=t(\"loader\");if(a.xhrWrappable){var s=t(\"handle\"),c=t(11),f=t(\"ee\"),u=[\"load\",\"error\",\"abort\",\"timeout\"],d=u.length,l=t(\"id\"),p=t(14),h=t(13),m=window.XMLHttpRequest;a.features.xhr=!0,t(9),f.on(\"new-xhr\",function(t){var e=this;e.totalCbs=0,e.called=0,e.cbTime=0,e.end=r,e.ended=!1,e.xhrGuids={},e.lastSize=null,p&&(p>34||p<10)||window.opera||t.addEventListener(\"progress\",function(t){e.lastSize=t.loaded},!1)}),f.on(\"open-xhr-start\",function(t){this.params={method:t[0]},i(this,t[1]),this.metrics={}}),f.on(\"open-xhr-end\",function(t,e){\"loader_config\"in NREUM&&\"xpid\"in NREUM.loader_config&&this.sameOrigin&&e.setRequestHeader(\"X-NewRelic-ID\",NREUM.loader_config.xpid)}),f.on(\"send-xhr-start\",function(t,e){var n=this.metrics,r=t[0],o=this;if(n&&r){var i=h(r);i&&(n.txSize=i)}this.startTime=(new Date).getTime(),this.listener=function(t){try{\"abort\"===t.type&&(o.params.aborted=!0),(\"load\"!==t.type||o.called===o.totalCbs&&(o.onloadCalled||\"function\"!=typeof e.onload))&&o.end(e)}catch(n){try{f.emit(\"internal-error\",[n])}catch(r){}}};for(var a=0;a<d;a++)e.addEventListener(u[a],this.listener,!1)}),f.on(\"xhr-cb-time\",function(t,e,n){this.cbTime+=t,e?this.onloadCalled=!0:this.called+=1,this.called!==this.totalCbs||!this.onloadCalled&&\"function\"==typeof n.onload||this.end(n)}),f.on(\"xhr-load-added\",function(t,e){var n=\"\"+l(t)+!!e;this.xhrGuids&&!this.xhrGuids[n]&&(this.xhrGuids[n]=!0,this.totalCbs+=1)}),f.on(\"xhr-load-removed\",function(t,e){var n=\"\"+l(t)+!!e;this.xhrGuids&&this.xhrGuids[n]&&(delete this.xhrGuids[n],this.totalCbs-=1)}),f.on(\"addEventListener-end\",function(t,e){e instanceof m&&\"load\"===t[0]&&f.emit(\"xhr-load-added\",[t[1],t[2]],e)}),f.on(\"removeEventListener-end\",function(t,e){e instanceof m&&\"load\"===t[0]&&f.emit(\"xhr-load-removed\",[t[1],t[2]],e)}),f.on(\"fn-start\",function(t,e,n){e instanceof m&&(\"onload\"===n&&(this.onload=!0),(\"load\"===(t[0]&&t[0].type)||this.onload)&&(this.xhrCbStart=(new Date).getTime()))}),f.on(\"fn-end\",function(t,e){this.xhrCbStart&&f.emit(\"xhr-cb-time\",[(new Date).getTime()-this.xhrCbStart,this.onload,e],e)})}},{}],11:[function(t,e,n){e.exports=function(t){var e=document.createElement(\"a\"),n=window.location,r={};e.href=t,r.port=e.port;var o=e.href.split(\"://\");!r.port&&o[1]&&(r.port=o[1].split(\"/\")[0].split(\"@\").pop().split(\":\")[1]),r.port&&\"0\"!==r.port||(r.port=\"https\"===o[0]?\"443\":\"80\"),r.hostname=e.hostname||n.hostname,r.pathname=e.pathname,r.protocol=o[0],\"/\"!==r.pathname.charAt(0)&&(r.pathname=\"/\"+r.pathname);var i=!e.protocol||\":\"===e.protocol||e.protocol===n.protocol,a=e.hostname===document.domain&&e.port===n.port;return r.sameOrigin=i&&(!e.hostname||a),r}},{}],12:[function(t,e,n){function r(){}function o(t,e,n){return function(){return i(t,[(new Date).getTime()].concat(s(arguments)),e?null:this,n),e?void 0:this}}var i=t(\"handle\"),a=t(15),s=t(16),c=t(\"ee\").get(\"tracer\"),f=NREUM;\"undefined\"==typeof window.newrelic&&(newrelic=f);var u=[\"setPageViewName\",\"setCustomAttribute\",\"setErrorHandler\",\"finished\",\"addToTrace\",\"inlineHit\"],d=\"api-\",l=d+\"ixn-\";a(u,function(t,e){f[e]=o(d+e,!0,\"api\")}),f.addPageAction=o(d+\"addPageAction\",!0),e.exports=newrelic,f.interaction=function(){return(new r).get()};var p=r.prototype={createTracer:function(t,e){var n={},r=this,o=\"function\"==typeof e;return i(l+\"tracer\",[Date.now(),t,n],r),function(){if(c.emit((o?\"\":\"no-\")+\"fn-start\",[Date.now(),r,o],n),o)try{return e.apply(this,arguments)}finally{c.emit(\"fn-end\",[Date.now()],n)}}}};a(\"setName,setAttribute,save,ignore,onEnd,getContext,end,get\".split(\",\"),function(t,e){p[e]=o(l+e)}),newrelic.noticeError=function(t){\"string\"==typeof t&&(t=new Error(t)),i(\"err\",[t,(new Date).getTime()])}},{}],13:[function(t,e,n){e.exports=function(t){if(\"string\"==typeof t&&t.length)return t.length;if(\"object\"==typeof t){if(\"undefined\"!=typeof ArrayBuffer&&t instanceof ArrayBuffer&&t.byteLength)return t.byteLength;if(\"undefined\"!=typeof Blob&&t instanceof Blob&&t.size)return t.size;if(!(\"undefined\"!=typeof FormData&&t instanceof FormData))try{return JSON.stringify(t).length}catch(e){return}}}},{}],14:[function(t,e,n){var r=0,o=navigator.userAgent.match(/Firefox[\\\\/\\\\s](\\\\d+\\\\.\\\\d+)/);o&&(r=+o[1]),e.exports=r},{}],15:[function(t,e,n){function r(t,e){var n=[],r=\"\",i=0;for(r in t)o.call(t,r)&&(n[i]=e(r,t[r]),i+=1);return n}var o=Object.prototype.hasOwnProperty;e.exports=r},{}],16:[function(t,e,n){function r(t,e,n){e||(e=0),\"undefined\"==typeof n&&(n=t?t.length:0);for(var r=-1,o=n-e||0,i=Array(o<0?0:o);++r<o;)i[r]=t[e+r];return i}e.exports=r},{}],17:[function(t,e,n){function r(t){return!(t&&\"function\"==typeof t&&t.apply&&!t[a])}var o=t(\"ee\"),i=t(16),a=\"nr@original\",s=Object.prototype.hasOwnProperty,c=!1;e.exports=function(t){function e(t,e,n,o){function nrWrapper(){var r,a,s,c;try{a=this,r=i(arguments),s=\"function\"==typeof n?n(r,a):n||{}}catch(u){d([u,\"\",[r,a,o],s])}f(e+\"start\",[r,a,o],s);try{return c=t.apply(a,r)}catch(l){throw f(e+\"err\",[r,a,l],s),l}finally{f(e+\"end\",[r,a,c],s)}}return r(t)?t:(e||(e=\"\"),nrWrapper[a]=t,u(t,nrWrapper),nrWrapper)}function n(t,n,o,i){o||(o=\"\");var a,s,c,f=\"-\"===o.charAt(0);for(c=0;c<n.length;c++)s=n[c],a=t[s],r(a)||(t[s]=e(a,f?s+o:o,i,s))}function f(e,n,r){if(!c){c=!0;try{t.emit(e,n,r)}catch(o){d([o,e,n,r])}c=!1}}function u(t,e){if(Object.defineProperty&&Object.keys)try{var n=Object.keys(t);return n.forEach(function(n){Object.defineProperty(e,n,{get:function(){return t[n]},set:function(e){return t[n]=e,e}})}),e}catch(r){d([r])}for(var o in t)s.call(t,o)&&(e[o]=t[o]);return e}function d(e){try{t.emit(\"internal-error\",e)}catch(n){}}return t||(t=o),e.inPlace=n,e.flag=a,e}},{}],ee:[function(t,e,n){function r(){}function o(t){function e(t){return t&&t instanceof r?t:t?s(t,a,i):i()}function n(n,r,o){t&&t(n,r,o);for(var i=e(o),a=l(n),s=a.length,c=0;c<s;c++)a[c].apply(i,r);var u=f[w[n]];return u&&u.push([v,n,r,i]),i}function d(t,e){m[t]=l(t).concat(e)}function l(t){return m[t]||[]}function p(t){return u[t]=u[t]||o(n)}function h(t,e){c(t,function(t,n){e=e||\"feature\",w[n]=e,e in f||(f[e]=[])})}var m={},w={},v={on:d,emit:n,get:p,listeners:l,context:e,buffer:h};return v}function i(){return new r}var a=\"nr@context\",s=t(\"gos\"),c=t(15),f={},u={},d=e.exports=o();d.backlog=f},{}],gos:[function(t,e,n){function r(t,e,n){if(o.call(t,e))return t[e];var r=n();if(Object.defineProperty&&Object.keys)try{return Object.defineProperty(t,e,{value:r,writable:!0,enumerable:!1}),r}catch(i){}return t[e]=r,r}var o=Object.prototype.hasOwnProperty;e.exports=r},{}],handle:[function(t,e,n){function r(t,e,n,r){o.buffer([t],r),o.emit(t,e,n)}var o=t(\"ee\").get(\"handle\");e.exports=r,r.ee=o},{}],id:[function(t,e,n){function r(t){var e=typeof t;return!t||\"object\"!==e&&\"function\"!==e?-1:t===window?0:a(t,i,function(){return o++})}var o=1,i=\"nr@id\",a=t(\"gos\");e.exports=r},{}],loader:[function(t,e,n){function r(){if(!g++){var t=y.info=NREUM.info,e=u.getElementsByTagName(\"script\")[0];if(t&&t.licenseKey&&t.applicationID&&e){c(w,function(e,n){t[e]||(t[e]=n)});var n=\"https\"===m.split(\":\")[0]||t.sslForHttp;y.proto=n?\"https://\":\"http://\",s(\"mark\",[\"onload\",a()],null,\"api\");var r=u.createElement(\"script\");r.src=y.proto+t.agent,e.parentNode.insertBefore(r,e)}}}function o(){\"complete\"===u.readyState&&i()}function i(){s(\"mark\",[\"domContent\",a()],null,\"api\")}function a(){return(new Date).getTime()}var s=t(\"handle\"),c=t(15),f=window,u=f.document,d=\"addEventListener\",l=\"attachEvent\",p=f.XMLHttpRequest,h=p&&p.prototype;NREUM.o={ST:setTimeout,CT:clearTimeout,XHR:p,REQ:f.Request,EV:f.Event,PR:f.Promise,MO:f.MutationObserver},t(12);var m=\"\"+location,w={beacon:\"bam.nr-data.net\",errorBeacon:\"bam.nr-data.net\",agent:\"js-agent.newrelic.com/nr-974.min.js\"},v=p&&h&&h[d]&&!/CriOS/.test(navigator.userAgent),y=e.exports={offset:a(),origin:m,features:{},xhrWrappable:v};u[d]?(u[d](\"DOMContentLoaded\",i,!1),f[d](\"load\",r,!1)):(u[l](\"onreadystatechange\",o),f[l](\"onload\",r)),s(\"mark\",[\"firstbyte\",a()],null,\"api\");var g=0},{}]},{},[\"loader\",2,10,4,3]);</script>\\n    <meta http-equiv=\"Content-Type\" content=\"text/html\" />\\n\\n    <meta name=\"viewport\" content=\"width=device-width, initial-scale=1, user-scalable=no\" />\\n\\n        <meta content=\"\" name=\"description\" />\\n<meta property=\"og:type\"        content=\"website\" />\\n<meta property=\"og:url\"         content=\"https://slon.ru/news\" />\\n<meta property=\"og:title\"       content=\"\\xd0\\x9d\\xd0\\xbe\\xd0\\xb2\\xd0\\xbe\\xd1\\x81\\xd1\\x82\\xd0\\xb8 \\xd0\\xbd\\xd0\\xb0 Slon.ru\" />\\n<meta property=\"og:description\" content=\"\" />\\n    <link rel=\"alternate\" type=\"application/rss+xml\" href=\"/export/all.xml\" title=\"Slon.ru\" />\\n    <link rel=\"alternate\" type=\"application/rss+xml\" href=\"/export/articles.xml\" title=\"\\xd0\\xa1\\xd1\\x82\\xd0\\xb0\\xd1\\x82\\xd1\\x8c\\xd0\\xb8 Slon.ru\" />\\n    <link rel=\"alternate\" type=\"application/rss+xml\" href=\"/export/fast.xml\" title=\"\\xd0\\x91\\xd1\\x8b\\xd1\\x81\\xd1\\x82\\xd1\\x80\\xd1\\x8b\\xd0\\xb9 Slon\" />\\n\\n    <link rel=\"search\" type=\"application/opensearchdescription+xml\" href=\"https://slon.ru/search.xml\" title=\"\\xd0\\x9f\\xd0\\xbe\\xd0\\xb8\\xd1\\x81\\xd0\\xba \\xd0\\xbd\\xd0\\xb0 Slon\" />\\n\\n    <link rel=\"icon\" type=\"image/png\" href=\"/assets/images/favicon.png?v=1.0.504\" />\\n    <link rel=\"apple-touch-icon\" href=\"/assets/images/favicon76x76.png?v=1.0.504\" />\\n    <link rel=\"apple-touch-icon\" sizes=\"76x76\" href=\"/assets/images/favicon76x76.png?v=1.0.504\" />\\n    <link rel=\"apple-touch-icon\" sizes=\"120x120\" href=\"/assets/images/favicon60x60@2x.png?v=1.0.504\" />\\n    <link rel=\"apple-touch-icon\" sizes=\"152x152\" href=\"/assets/images/favicon76x76@2x.png?v=1.0.504\" />\\n\\n    <meta property=\"fb:pages\" content=\"309148850654\" />\\n    <meta name=\"google-site-verification\" content=\"xA1LIaDSAy5J179d1NKlmZwKgiGXU87FBtKblSOCOmQ\" />\\n\\n    <script src=\"/assets/javascripts/advertisement.js?v=1.0.504\"></script>\\n    <script src=\"/assets/javascripts/site-vendor.min.js?v=1.0.504\"></script>\\n        <script src=\"/assets/javascripts/site-bundle.min.js?v=1.0.504\"></script>\\n\\n    <script src=\"https://cdn.onesignal.com/sdks/OneSignalSDK.js\" async></script>\\n<link rel=\"manifest\" href=\"/manifest.json\">\\n<script>\\n    var OneSignal = window.OneSignal || [];\\n    OneSignal.push([\"init\", {\\n        path: \"/\",\\n        appId: \"623ee752-8622-4386-b53b-e43b4d268923\",\\n        safari_web_id: \"web.onesignal.auto.4058b815-86ea-44b3-9131-733c406f5a63\",\\n        autoRegister: true,\\n        welcomeNotification: {disable: true},\\n        bell: {disable: true},\\n        serviceWorkerRefetchRequests: false,\\n        persistNotification: false\\n    }]);\\n</script>\\n\\n<!-- Facebook Pixel Code -->\\n<script>\\n    !function(f,b,e,v,n,t,s){if(f.fbq)return;n=f.fbq=function(){n.callMethod?\\n            n.callMethod.apply(n,arguments):n.queue.push(arguments)};if(!f._fbq)f._fbq=n;\\n        n.push=n;n.loaded=!0;n.version=\\'2.0\\';n.queue=[];t=b.createElement(e);t.async=!0;\\n        t.src=v;s=b.getElementsByTagName(e)[0];s.parentNode.insertBefore(t,s)}(window,\\n            document,\\'script\\',\\'https://connect.facebook.net/en_US/fbevents.js\\');\\n    fbq(\\'init\\', \\'1235577806499011\\');\\n    fbq(\\'track\\', \"PageView\");\\n</script>\\n<noscript>\\n    <img height=\"1\" width=\"1\" style=\"display:none\" src=\"https://www.facebook.com/tr?id=1235577806499011&ev=PageView&noscript=1\" />\\n</noscript>\\n<!-- End Facebook Pixel Code -->\\n    <script>\\n    var isMobile = false;\\n    var targeting = {\\n        slonAuthorized: false,\\n        slonSubscriber: false\\n                    , slonUrl: \"slon.ru/news\"\\n                            , slonTitle: \"\\xd0\\x9d\\xd0\\xbe\\xd0\\xb2\\xd0\\xbe\\xd1\\x81\\xd1\\x82\\xd0\\xb8 \\xd0\\xbd\\xd0\\xb0 Slon.ru\"\\n                    }\\n</script>\\n\\n<!-- gpt -->\\n<script async=\"async\" src=\"https://www.googletagservices.com/tag/js/gpt.js\"></script>\\n\\n<script>\\n    var googletag = googletag || {};\\n    googletag.cmd = googletag.cmd || [];\\n\\n    googletag.cmd.push(function() {\\n        try {\\n            googletag.pubads().addEventListener(\\'slotRenderEnded\\', function(event) {\\n             // recalc waypoints & packery\\n               $(window).trigger(\\'resize\\')\\n            //    console.log(event.slot.getName() + \\' is rendered to slot of size: \\'\\n            //        + event.size[0] + \\'x\\' + event.size[1]);\\n            });\\n\\n            if (typeof isMobile != \"undefined\" && isMobile) {\\n                googletag.defineSlot(\\'/124171376/Slon_m_bottomline\\', [300, 250], \\'div-gpt-ad-1474029926680-0\\').addService(googletag.pubads());\\n                googletag.defineSlot(\\'/124171376/Slon_m_main_after2\\', [300, 250], \\'div-gpt-ad-1473765563133-0\\').addService(googletag.pubads());\\n                googletag.defineSlot(\\'/124171376/Slon_m_news_after2\\', [300, 250], \\'div-gpt-ad-1474031936665-0\\').addService(googletag.pubads());\\n                googletag.defineSlot(\\'/124171376/Slon_m_news_head\\', [[1, 1], [300, 250]], \\'div-gpt-ad-1475062555813-0\\').addService(googletag.pubads());\\n                googletag.defineSlot(\\'/124171376/Slon_m_articles_after1\\', [[1, 1], [300, 250]], \\'div-gpt-ad-1475062671768-0\\').addService(googletag.pubads());\\n                googletag.defineSlot(\\'/124171376/Slon_Top_970x250\\', [300, 250], \\'div-gpt-ad-1474021918358-0\\').addService(googletag.pubads());\\n                googletag.defineSlot(\\'/124171376/Slon_m_main_top\\', [[1, 1], [300, 250]], \\'div-gpt-ad-1475062185764-0\\').addService(googletag.pubads());\\n                googletag.defineSlot(\\'/124171376/Slon_mobilefulllscreen\\', [1, 1], \\'div-gpt-ad-1475060329189-0\\').addService(googletag.pubads()); \\n                //googletag.defineSlot(\\'/124171376/Slon_d_main_native\\', [325, 340], \\'div-gpt-ad-1475243988921-0\\').addService(googletag.pubads()); \\n                googletag.defineSlot(\\'/124171376/Slon_m_articles_bottom_adv\\', [300, 250], \\'div-gpt-ad-1475491892564-0\\').addService(googletag.pubads());\\n                googletag.defineSlot(\\'/124171376/Slon_m_after_social\\', [[325, 340], [300, 250]], \\'div-gpt-ad-1475505320731-0\\').addService(googletag.pubads());\\n            } else {\\n                googletag.defineSlot(\\'/124171376/d_articles_after3\\', [580, 400], \\'div-gpt-ad-1474022000295-0\\').addService(googletag.pubads());\\n                googletag.defineSlot(\\'/124171376/Slon_footer\\', [970, 250], \\'div-gpt-ad-1463485357561-0\\').addService(googletag.pubads());\\n                googletag.defineSlot(\\'/124171376/Slon_d_articles_bottom_adv\\', [[1, 1], [300, 250]], \\'div-gpt-ad-1475491326002-0\\').addService(googletag.pubads());\\n                googletag.defineSlot(\\'/124171376/Slon_NEW_240x400\\', [[240, 400], [300, 600]], \\'div-gpt-ad-1456419684817-0\\').addService(googletag.pubads());\\n                googletag.defineSlot(\\'/124171376/Slon_mainpage_240x400_2\\', [[300, 600], [240, 400]], \\'div-gpt-ad-1453890280452-0\\').addService(googletag.pubads());\\n                googletag.defineSlot(\\'/124171376/Slon_asidenews_2\\', [300, 600], \\'div-gpt-ad-1460627939318-0\\').addService(googletag.pubads());\\n                googletag.defineSlot(\\'/124171376/d_topline\\', [970, 250], \\'div-gpt-ad-1474017645149-0\\').addService(googletag.pubads());\\n                 googletag.defineSlot(\\'/124171376/d_aside\\', [[300, 600], [240, 400], [1, 1]], \\'div-gpt-ad-1474979850261-0\\').addService(googletag.pubads());\\n                // googletag.defineSlot(\\'/124171376/Slon_d_main_native\\', [325, 340], \\'div-gpt-ad-1475243988921-0\\').addService(googletag.pubads()); \\n                 googletag.defineSlot(\\'/124171376/Slon_d_after_social\\', [580, 400], \\'div-gpt-ad-1475505355112-0\\').addService(googletag.pubads());\\n            }\\n\\n            for (var target in targeting) {\\n                if (targeting.hasOwnProperty(target)) {\\n                     googletag.pubads().setTargeting(target, targeting[target].toString());\\n                 }\\n            }\\n\\n            googletag.pubads().enableSingleRequest();\\n            googletag.pubads().collapseEmptyDivs(true);\\n            googletag.enableServices();\\n        } catch (e) {\\n            console.error(e);\\n        }\\n    });\\n</script>\\n<!-- end gpt -->\\n    <link rel=\"stylesheet\" href=\"/assets/stylesheets/site-bundle.min.css?v=1.0.504\" />\\n    <link rel=\"stylesheet\" href=\"//fonts.googleapis.com/css?family=Roboto:300,400,700,300italic,500|Roboto+Condensed:700,400,600|Roboto+Slab&subset=latin,cyrillic\" />\\n    <link rel=\"stylesheet\" href=\"/assets/fonts/style.css?v=1.0.504\" />\\n    </head>\\n<body>\\n            <!-- /124171376/Slon_mobilefulllscreen -->\\n<div id=\\'div-gpt-ad-1475060329189-0\\' style=\\'height:0px; width:0px; position: absolute;\\'>\\n<script>\\ngoogletag.cmd.push(function() { googletag.display(\\'div-gpt-ad-1475060329189-0\\'); });\\n</script>\\n</div>\\n        <div class=\"top-main-banner-wrap\">\\n\\t<div class=\"advert advert-desktop\">\\n\\t\\t<!-- /124171376/d_topline -->\\n<div id=\\'div-gpt-ad-1474017645149-0\\'>\\n<script>\\ngoogletag.cmd.push(function() { googletag.display(\\'div-gpt-ad-1474017645149-0\\'); });\\n</script>\\n</div>\\n\\t</div>\\n</div>        <nav class=\"navbar navbar-default main-menu\" role=\"navigation\">\\n\\n    <div class=\"container\">\\n        <div class=\"logo\">\\n            <a class=\"navbar-brand\" href=\"/\"></a>\\n        </div>\\n        <div class=\"show-menu\">\\n            <i class=\"icon-svg17\"></i>\\n        </div>\\n\\n        <div class=\"collapse-block\">\\n            \\n            <ul class=\"menu\">\\n                <li><a href=\"/news\">\\xd0\\x9d\\xd0\\xbe\\xd0\\xb2\\xd0\\xbe\\xd1\\x81\\xd1\\x82\\xd0\\xb8</a></li>\\n                <li><a href=\"/special/books\">\\xd0\\x9a\\xd0\\xbd\\xd0\\xb8\\xd0\\xb3\\xd0\\xb8</a></li>\\n                \\n                                \\n                                    <li><a href=\"/subscribe\">\\xd0\\x9f\\xd0\\xbe\\xd0\\xb4\\xd0\\xbf\\xd0\\xb8\\xd1\\x81\\xd0\\xba\\xd0\\xb0</a></li>\\n                                <li><a href=\"/advertise\">\\xd0\\xa0\\xd0\\xb5\\xd0\\xba\\xd0\\xbb\\xd0\\xb0\\xd0\\xbc\\xd0\\xb0</a></li>\\n                <li><a href=\"https://telegram.me/SlonMag\">Telegram</a></li>\\n            </ul>\\n            <div class=\"auth-block\">\\n                <ul class=\"right-menu\">\\n                                            <li>\\n                            <a href=\"/signin\">\\n                                                                \\xd0\\x92\\xd1\\x85\\xd0\\xbe\\xd0\\xb4\\n                            </a>\\n                        </li>\\n                        <li>\\n                            <a href=\"/signup\">\\n                                                                \\xd0\\xa0\\xd0\\xb5\\xd0\\xb3\\xd0\\xb8\\xd1\\x81\\xd1\\x82\\xd1\\x80\\xd0\\xb0\\xd1\\x86\\xd0\\xb8\\xd1\\x8f\\n                            </a>\\n                        </li>\\n                                        <li class=\"search-button \">\\n                        <a href=\"#\" class=\"full\">\\n                            <i class=\"icon-svg2\"></i>\\n                            <i class=\"icon-svg18\"></i>\\n                        </a>\\n                        <a href=\"/search\" class=\"mobile\">\\n                            \\xd0\\x9f\\xd0\\xbe\\xd0\\xb8\\xd1\\x81\\xd0\\xba\\n                        </a>\\n                    </li>\\n                </ul>\\n            </div>\\n        </div>\\n            </div>\\n</nav>\\n\\n<section class=\"search-wrapper hidden-search \">\\n    <section class=\"main\">\\n        <section class=\"input\">\\n            <div class=\"container\">\\n                <form action=\"/search\" method=\"GET\">\\n                    <input\\n                        type=\"text\"\\n                        class=\"search-input form-control\"\\n                        placeholder=\"\\xd0\\xaf \\xd0\\xb8\\xd1\\x89\\xd1\\x83...\"\\n                        name=\"q\"\\n                    />\\n                    <button class=\"search-submit\">\\n                        <i class=\"icon-svg2\"></i>\\n                    </button>\\n                </form>\\n            </div>\\n        </section>\\n    </section>\\n</section>\\n        \\n        \\n        <section class=\"showcase news\">\\n        <div class=\"container\">\\n            <h2>\\n                \\xd0\\x9d\\xd0\\x9e\\xd0\\x92\\xd0\\x9e\\xd0\\xa1\\xd0\\xa2\\xd0\\x98\\n                <a class=\"rss-button\" href=\"/export/fast.xml\" target=\"_blank\">\\n                    <i class=\"icon-svg7\"></i>\\n                </a>\\n            </h2>\\n        </div>\\n        <section class=\"showcase-container\">\\n                                                        <section class=\"showcase-row\">\\n                    <section class=\"showcase-lines\">\\n                        <div class=\"date-col\">\\n                            <div class=\"date\">\\n                                <span class=\"date-content-day\">\\n                                    15\\n                                </span>\\n                                <span class=\"date-content-month\">\\n                                    \\xd0\\xbe\\xd0\\xba\\xd1\\x82\\xd1\\x8f\\xd0\\xb1\\xd1\\x80\\xd1\\x8f\\n                                </span>\\n                            </div>\\n                        </div>\\n                        <div class=\"news-col\">\\n                                                            <article class=\"news-line\">\\n                                    <a href=\"/posts/74927\">\\n                                        <div class=\"line-content\">\\n                                            <div class=\"line-post-label\">\\n                                                                                                    01:31\\n                                                                                            </div>\\n                                            <h6 class=\"line-post-headline \">\\n                                                \\xd0\\x92\\xd0\\xbb\\xd0\\xb0\\xd1\\x81\\xd1\\x82\\xd0\\xb8 \\xd0\\xa1\\xd0\\xa8\\xd0\\x90 \\xd0\\xb7\\xd0\\xb0\\xd0\\xbf\\xd1\\x80\\xd0\\xb5\\xd1\\x82\\xd0\\xb8\\xd0\\xbb\\xd0\\xb8 \\xd0\\xbf\\xd1\\x80\\xd0\\xbe\\xd0\\xbd\\xd0\\xbe\\xd1\\x81\\xd0\\xb8\\xd1\\x82\\xd1\\x8c Samsung Galaxy Note 7&nbsp;\\xd0\\xb2&nbsp;\\xd1\\x81\\xd0\\xb0\\xd0\\xbc\\xd0\\xbe\\xd0\\xbb\\xd0\\xb5\\xd1\\x82\\xd1\\x8b\\n                                                                                            </h6>\\n                                        </div>\\n                                    </a>\\n                                </article>\\n                                                                                                                    </div>\\n                    </section>\\n                </section>\\n                                   <aside class=\"showcase-aside\">\\n                        <div class=\"advert\" data-banner=\"ASIDE_MAIN\">\\n                            \\n                        </div>\\n                    </aside>\\n                                                            <section class=\"showcase-row\">\\n                    <section class=\"showcase-lines\">\\n                        <div class=\"date-col\">\\n                            <div class=\"date\">\\n                                <span class=\"date-content-day\">\\n                                    14\\n                                </span>\\n                                <span class=\"date-content-month\">\\n                                    \\xd0\\xbe\\xd0\\xba\\xd1\\x82\\xd1\\x8f\\xd0\\xb1\\xd1\\x80\\xd1\\x8f\\n                                </span>\\n                            </div>\\n                        </div>\\n                        <div class=\"news-col\">\\n                                                            <article class=\"news-line\">\\n                                    <a href=\"/posts/74926\">\\n                                        <div class=\"line-content\">\\n                                            <div class=\"line-post-label\">\\n                                                                                                    23:14\\n                                                                                            </div>\\n                                            <h6 class=\"line-post-headline \">\\n                                                Fitch \\xd1\\x83\\xd0\\xbb\\xd1\\x83\\xd1\\x87\\xd1\\x88\\xd0\\xb8\\xd0\\xbb\\xd0\\xbe \\xd0\\xbf\\xd1\\x80\\xd0\\xbe\\xd0\\xb3\\xd0\\xbd\\xd0\\xbe\\xd0\\xb7 \\xd0\\xbf\\xd0\\xbe&nbsp;\\xd1\\x80\\xd0\\xb5\\xd0\\xb9\\xd1\\x82\\xd0\\xb8\\xd0\\xbd\\xd0\\xb3\\xd1\\x83 \\xd0\\xa0\\xd0\\xbe\\xd1\\x81\\xd1\\x81\\xd0\\xb8\\xd0\\xb8 \\xd0\\xb4\\xd0\\xbe&nbsp;\\xc2\\xab\\xd1\\x81\\xd1\\x82\\xd0\\xb0\\xd0\\xb1\\xd0\\xb8\\xd0\\xbb\\xd1\\x8c\\xd0\\xbd\\xd0\\xbe\\xd0\\xb3\\xd0\\xbe\\xc2\\xbb\\n                                                                                            </h6>\\n                                        </div>\\n                                    </a>\\n                                </article>\\n                                                                                                                            <article class=\"news-line\">\\n                                    <a href=\"/posts/74924\">\\n                                        <div class=\"line-content\">\\n                                            <div class=\"line-post-label\">\\n                                                                                                    21:00\\n                                                                                            </div>\\n                                            <h6 class=\"line-post-headline \">\\n                                                \\xd0\\xa1\\xd0\\x9c\\xd0\\x98 \\xd1\\x81\\xd0\\xbe\\xd0\\xbe\\xd0\\xb1\\xd1\\x89\\xd0\\xb8\\xd0\\xbb\\xd0\\xb8 \\xd0\\xbe\\xd0\\xb1&nbsp;\\xd0\\xbe\\xd0\\xb1\\xd1\\x8b\\xd1\\x81\\xd0\\xba\\xd0\\xb0\\xd1\\x85 \\xd0\\xb2&nbsp;\\xd0\\xbc\\xd0\\xb0\\xd0\\xb3\\xd0\\xb0\\xd0\\xb7\\xd0\\xb8\\xd0\\xbd\\xd0\\xb5 \\xc2\\xab\\xd0\\x9b\\xd0\\xb8\\xd1\\x82\\xd0\\xa0\\xd0\\xb5\\xd1\\x81\\xc2\\xbb\\n                                                                                            </h6>\\n                                        </div>\\n                                    </a>\\n                                </article>\\n                                                                                                                                                                                                                                    <article class=\"news-line\">\\n                                    <a href=\"/posts/74921\">\\n                                        <div class=\"line-content\">\\n                                            <div class=\"line-post-label\">\\n                                                                                                    19:43\\n                                                                                            </div>\\n                                            <h6 class=\"line-post-headline \">\\n                                                \\xd0\\xa1\\xd0\\x9c\\xd0\\x98 \\xd1\\x81\\xd0\\xbe\\xd0\\xbe\\xd0\\xb1\\xd1\\x89\\xd0\\xb8\\xd0\\xbb\\xd0\\xb8 \\xd0\\xbe&nbsp;\\xd0\\xb7\\xd0\\xb0\\xd0\\xb4\\xd0\\xb5\\xd1\\x80\\xd0\\xb6\\xd0\\xb0\\xd0\\xbd\\xd0\\xb8\\xd0\\xb8 \\xd0\\xb1\\xd1\\x8b\\xd0\\xb2\\xd1\\x88\\xd0\\xb5\\xd0\\xb3\\xd0\\xbe \\xd0\\xbc\\xd0\\xb8\\xd1\\x80\\xd0\\xbe\\xd0\\xb2\\xd0\\xbe\\xd0\\xb3\\xd0\\xbe \\xd1\\x81\\xd1\\x83\\xd0\\xb4\\xd1\\x8c\\xd0\\xb8 \\xd0\\xb7\\xd0\\xb0&nbsp;\\xd1\\x81\\xd1\\x82\\xd1\\x80\\xd0\\xb5\\xd0\\xbb\\xd1\\x8c\\xd0\\xb1\\xd1\\x83 \\xd0\\xb2&nbsp;\\xd0\\xa5\\xd0\\xb0\\xd1\\x81\\xd0\\xb0\\xd0\\xb2\\xd1\\x8e\\xd1\\x80\\xd1\\x82\\xd0\\xb5\\n                                                                                            </h6>\\n                                        </div>\\n                                    </a>\\n                                </article>\\n                                                                                                                            <article class=\"news-line\">\\n                                    <a href=\"/posts/74918\">\\n                                        <div class=\"line-content\">\\n                                            <div class=\"line-post-label\">\\n                                                                                                    18:46\\n                                                                                            </div>\\n                                            <h6 class=\"line-post-headline \">\\n                                                \\xd0\\x9e\\xd1\\x82&nbsp;\\xd0\\xb2\\xd0\\xbb\\xd0\\xb0\\xd0\\xb4\\xd0\\xb5\\xd0\\xbb\\xd1\\x8c\\xd1\\x86\\xd0\\xb5\\xd0\\xb2 \\xd0\\xb8\\xd0\\xbd\\xd0\\xbe\\xd1\\x81\\xd1\\x82\\xd1\\x80\\xd0\\xb0\\xd0\\xbd\\xd0\\xbd\\xd1\\x8b\\xd1\\x85 \\xd1\\x81\\xd1\\x87\\xd0\\xb5\\xd1\\x82\\xd0\\xbe\\xd0\\xb2 \\xd1\\x81\\xd1\\x82\\xd0\\xb0\\xd0\\xbb\\xd0\\xb8 \\xd1\\x82\\xd1\\x80\\xd0\\xb5\\xd0\\xb1\\xd0\\xbe\\xd0\\xb2\\xd0\\xb0\\xd1\\x82\\xd1\\x8c \\xd0\\xbb\\xd0\\xb8\\xd1\\x87\\xd0\\xbd\\xd0\\xbe \\xd0\\xbf\\xd1\\x80\\xd0\\xb8\\xd0\\xb9\\xd1\\x82\\xd0\\xb8 \\xd0\\xb2&nbsp;\\xd0\\xbd\\xd0\\xb0\\xd0\\xbb\\xd0\\xbe\\xd0\\xb3\\xd0\\xbe\\xd0\\xb2\\xd1\\x83\\xd1\\x8e\\n                                                                                            </h6>\\n                                        </div>\\n                                    </a>\\n                                </article>\\n                                                                                                                            <article class=\"news-line\">\\n                                    <a href=\"/posts/74919\">\\n                                        <div class=\"line-content\">\\n                                            <div class=\"line-post-label\">\\n                                                                                                    18:46\\n                                                                                            </div>\\n                                            <h6 class=\"line-post-headline \">\\n                                                \\xd0\\x9c\\xd0\\xb8\\xd0\\xbd\\xd0\\xb8\\xd1\\x81\\xd1\\x82\\xd1\\x80 \\xd0\\x90\\xd0\\xb1\\xd1\\x8b\\xd0\\xb7\\xd0\\xbe\\xd0\\xb2 \\xd0\\xbe\\xd0\\xb1\\xd1\\x8a\\xd1\\x8f\\xd1\\x81\\xd0\\xbd\\xd0\\xb8\\xd0\\xbb \\xd0\\xbf\\xd1\\x80\\xd0\\xbe\\xd1\\x81\\xd1\\x80\\xd0\\xbe\\xd1\\x87\\xd0\\xba\\xd1\\x83 \\xd1\\x80\\xd0\\xb0\\xd1\\x81\\xd1\\x81\\xd0\\xbc\\xd0\\xbe\\xd1\\x82\\xd1\\x80\\xd0\\xb5\\xd0\\xbd\\xd0\\xb8\\xd1\\x8f \\xd0\\xbf\\xd0\\xb5\\xd1\\x82\\xd0\\xb8\\xd1\\x86\\xd0\\xb8\\xd0\\xb8 \\xd0\\xbf\\xd1\\x80\\xd0\\xbe\\xd1\\x82\\xd0\\xb8\\xd0\\xb2 \\xd0\\xb7\\xd0\\xb0\\xd0\\xba\\xd0\\xbe\\xd0\\xbd\\xd0\\xbe\\xd0\\xb2 \\xd0\\xaf\\xd1\\x80\\xd0\\xbe\\xd0\\xb2\\xd0\\xbe\\xd0\\xb9\\n                                                                                            </h6>\\n                                        </div>\\n                                    </a>\\n                                </article>\\n                                                                                                                            <article class=\"news-line\">\\n                                    <a href=\"/posts/74917\">\\n                                        <div class=\"line-content\">\\n                                            <div class=\"line-post-label\">\\n                                                                                                    18:29\\n                                                                                            </div>\\n                                            <h6 class=\"line-post-headline \">\\n                                                \\xd0\\x9c\\xd0\\xb8\\xd0\\xbd\\xd0\\xbe\\xd0\\xb1\\xd0\\xbe\\xd1\\x80\\xd0\\xbe\\xd0\\xbd\\xd1\\x8b \\xd0\\xbe\\xd1\\x82\\xd0\\xb2\\xd0\\xb5\\xd1\\x80\\xd0\\xb3\\xd0\\xbb\\xd0\\xbe \\xd0\\xb4\\xd0\\xb0\\xd0\\xbd\\xd0\\xbd\\xd1\\x8b\\xd0\\xb5 \\xd0\\xbe&nbsp;\\xd0\\xb3\\xd0\\xb8\\xd0\\xb1\\xd0\\xb5\\xd0\\xbb\\xd0\\xb8 \\xd1\\x88\\xd0\\xb5\\xd1\\x81\\xd1\\x82\\xd0\\xb5\\xd1\\x80\\xd1\\x8b\\xd1\\x85 \\xd0\\xb2\\xd0\\xbe\\xd0\\xb5\\xd0\\xbd\\xd0\\xbd\\xd1\\x8b\\xd1\\x85 \\xd0\\xb2&nbsp;\\xd0\\xa1\\xd0\\xb8\\xd1\\x80\\xd0\\xb8\\xd0\\xb8\\n                                                                                            </h6>\\n                                        </div>\\n                                    </a>\\n                                </article>\\n                                                                                                                            <article class=\"news-line\">\\n                                    <a href=\"/posts/74915\">\\n                                        <div class=\"line-content\">\\n                                            <div class=\"line-post-label\">\\n                                                                                                    17:57\\n                                                                                            </div>\\n                                            <h6 class=\"line-post-headline \">\\n                                                \\xd0\\xa1\\xd0\\xb8\\xd1\\x80\\xd0\\xb8\\xd0\\xb9\\xd1\\x81\\xd0\\xba\\xd0\\xb8\\xd0\\xb5 \\xd0\\xb8\\xd1\\x81\\xd0\\xbb\\xd0\\xb0\\xd0\\xbc\\xd0\\xb8\\xd1\\x81\\xd1\\x82\\xd1\\x8b \\xd0\\xb7\\xd0\\xb0\\xd1\\x8f\\xd0\\xb2\\xd0\\xb8\\xd0\\xbb\\xd0\\xb8 \\xd0\\xbe\\xd0\\xb1&nbsp;\\xd1\\x83\\xd0\\xb1\\xd0\\xb8\\xd0\\xb9\\xd1\\x81\\xd1\\x82\\xd0\\xb2\\xd0\\xb5 \\xd1\\x88\\xd0\\xb5\\xd1\\x81\\xd1\\x82\\xd0\\xb5\\xd1\\x80\\xd1\\x8b\\xd1\\x85 \\xd1\\x80\\xd0\\xbe\\xd1\\x81\\xd1\\x81\\xd0\\xb8\\xd0\\xb9\\xd1\\x81\\xd0\\xba\\xd0\\xb8\\xd1\\x85 \\xd0\\xb2\\xd0\\xbe\\xd0\\xb5\\xd0\\xbd\\xd0\\xbd\\xd1\\x8b\\xd1\\x85\\n                                                                                            </h6>\\n                                        </div>\\n                                    </a>\\n                                </article>\\n                                                                                                                            <article class=\"news-line\">\\n                                    <a href=\"/posts/74914\">\\n                                        <div class=\"line-content\">\\n                                            <div class=\"line-post-label\">\\n                                                                                                    17:38\\n                                                                                            </div>\\n                                            <h6 class=\"line-post-headline \">\\n                                                \\xd0\\xa0\\xd0\\xbe\\xd1\\x81\\xd1\\x82\\xd0\\xb5\\xd1\\x85\\xd0\\xbd\\xd0\\xb0\\xd0\\xb4\\xd0\\xb7\\xd0\\xbe\\xd1\\x80 \\xd0\\xb2\\xd0\\xbd\\xd0\\xb5\\xd0\\xbf\\xd0\\xbb\\xd0\\xb0\\xd0\\xbd\\xd0\\xbe\\xd0\\xb2\\xd0\\xbe \\xd0\\xbf\\xd1\\x80\\xd0\\xbe\\xd0\\xb2\\xd0\\xb5\\xd1\\x80\\xd0\\xb8\\xd1\\x82 \\xd0\\xbf\\xd1\\x80\\xd0\\xb5\\xd0\\xb4\\xd0\\xbf\\xd1\\x80\\xd0\\xb8\\xd1\\x8f\\xd1\\x82\\xd0\\xb8\\xd0\\xb5 \\xc2\\xab\\xd0\\x9b\\xd1\\x83\\xd0\\xba\\xd0\\xbe\\xd0\\xb9\\xd0\\xbb\\xd0\\xb0\\xc2\\xbb \\xd0\\xb8&nbsp;\\xc2\\xab\\xd0\\x91\\xd0\\xb0\\xd1\\x88\\xd0\\xbd\\xd0\\xb5\\xd1\\x84\\xd1\\x82\\xd0\\xb8\\xc2\\xbb\\n                                                                                            </h6>\\n                                        </div>\\n                                    </a>\\n                                </article>\\n                                                                                                                            <article class=\"news-line\">\\n                                    <a href=\"/posts/74912\">\\n                                        <div class=\"line-content\">\\n                                            <div class=\"line-post-label\">\\n                                                                                                    17:26\\n                                                                                            </div>\\n                                            <h6 class=\"line-post-headline \">\\n                                                Reuters \\xd1\\x83\\xd0\\xb7\\xd0\\xbd\\xd0\\xb0\\xd0\\xbb\\xd0\\xbe \\xd0\\xbe&nbsp;\\xd0\\xb2\\xd0\\xbe\\xd0\\xb7\\xd0\\xbc\\xd0\\xbe\\xd0\\xb6\\xd0\\xbd\\xd0\\xbe\\xd0\\xbc \\xd1\\x83\\xd0\\xb2\\xd0\\xbe\\xd0\\xbb\\xd1\\x8c\\xd0\\xbd\\xd0\\xb5\\xd0\\xbd\\xd0\\xb8\\xd0\\xb8 \\xd0\\xb5\\xd1\\x89\\xd0\\xb5 10&nbsp;\\xd1\\x82\\xd1\\x8b\\xd1\\x81\\xd1\\x8f\\xd1\\x87 \\xd1\\x80\\xd0\\xb0\\xd0\\xb1\\xd0\\xbe\\xd1\\x82\\xd0\\xbd\\xd0\\xb8\\xd0\\xba\\xd0\\xbe\\xd0\\xb2 Deutsche Bank\\n                                                                                            </h6>\\n                                        </div>\\n                                    </a>\\n                                </article>\\n                                                                                                                            <article class=\"news-line\">\\n                                    <a href=\"/posts/74913\">\\n                                        <div class=\"line-content\">\\n                                            <div class=\"line-post-label\">\\n                                                                                                    17:17\\n                                                                                            </div>\\n                                            <h6 class=\"line-post-headline \">\\n                                                \\xd0\\xa4\\xd1\\x80\\xd0\\xb0\\xd0\\xbd\\xd1\\x86\\xd1\\x83\\xd0\\xb7\\xd1\\x81\\xd0\\xba\\xd0\\xb8\\xd0\\xb9 \\xd1\\x81\\xd1\\x83\\xd0\\xb4 \\xd1\\x81\\xd0\\xbc\\xd1\\x8f\\xd0\\xb3\\xd1\\x87\\xd0\\xb8\\xd0\\xbb \\xd1\\x80\\xd0\\xbe\\xd1\\x81\\xd1\\x81\\xd0\\xb8\\xd0\\xb9\\xd1\\x81\\xd0\\xba\\xd0\\xb8\\xd0\\xbc \\xd0\\xb1\\xd0\\xbe\\xd0\\xbb\\xd0\\xb5\\xd0\\xbb\\xd1\\x8c\\xd1\\x89\\xd0\\xb8\\xd0\\xba\\xd0\\xb0\\xd0\\xbc \\xd0\\xbd\\xd0\\xb0\\xd0\\xba\\xd0\\xb0\\xd0\\xb7\\xd0\\xb0\\xd0\\xbd\\xd0\\xb8\\xd0\\xb5 \\xd0\\xb7\\xd0\\xb0&nbsp;\\xd0\\xb1\\xd0\\xb5\\xd1\\x81\\xd0\\xbf\\xd0\\xbe\\xd1\\x80\\xd1\\x8f\\xd0\\xb4\\xd0\\xba\\xd0\\xb8 \\xd0\\xbd\\xd0\\xb0&nbsp;\\xd0\\x95\\xd0\\xb2\\xd1\\x80\\xd0\\xbe-2016\\n                                                                                            </h6>\\n                                        </div>\\n                                    </a>\\n                                </article>\\n                                                                                                                            <article class=\"news-line\">\\n                                    <a href=\"/posts/74911\">\\n                                        <div class=\"line-content\">\\n                                            <div class=\"line-post-label\">\\n                                                                                                    16:48\\n                                                                                            </div>\\n                                            <h6 class=\"line-post-headline \">\\n                                                \\xd0\\xa1\\xd0\\xbb\\xd0\\xb5\\xd0\\xb4\\xd1\\x81\\xd1\\x82\\xd0\\xb2\\xd0\\xb8\\xd0\\xb5 \\xd1\\x83\\xd0\\xb6\\xd0\\xb5\\xd1\\x81\\xd1\\x82\\xd0\\xbe\\xd1\\x87\\xd0\\xb8\\xd0\\xbb\\xd0\\xbe \\xd0\\xbe\\xd0\\xb1\\xd0\\xb2\\xd0\\xb8\\xd0\\xbd\\xd0\\xb5\\xd0\\xbd\\xd0\\xb8\\xd0\\xb5 \\xd0\\x9f\\xd0\\xbe\\xd0\\xbb\\xd0\\xbe\\xd0\\xbd\\xd1\\x81\\xd0\\xba\\xd0\\xbe\\xd0\\xbc\\xd1\\x83 \\xd0\\xbf\\xd0\\xbe&nbsp;\\xd0\\xb4\\xd0\\xb5\\xd0\\xbb\\xd1\\x83 \\xd0\\xbe&nbsp;\\xd0\\xbc\\xd0\\xbe\\xd1\\x88\\xd0\\xb5\\xd0\\xbd\\xd0\\xbd\\xd0\\xb8\\xd1\\x87\\xd0\\xb5\\xd1\\x81\\xd1\\x82\\xd0\\xb2\\xd0\\xb5\\n                                                                                            </h6>\\n                                        </div>\\n                                    </a>\\n                                </article>\\n                                                                                                                            <article class=\"news-line\">\\n                                    <a href=\"/posts/74910\">\\n                                        <div class=\"line-content\">\\n                                            <div class=\"line-post-label\">\\n                                                                                                    16:38\\n                                                                                            </div>\\n                                            <h6 class=\"line-post-headline \">\\n                                                Goldman Sachs \\xd0\\xb2\\xd1\\x8b\\xd0\\xb8\\xd0\\xb3\\xd1\\x80\\xd0\\xb0\\xd0\\xbb \\xd0\\xb8\\xd1\\x81\\xd0\\xba \\xd0\\xbe&nbsp;\\xc2\\xab\\xd1\\x80\\xd0\\xb0\\xd0\\xb7\\xd0\\xbe\\xd1\\x80\\xd0\\xb5\\xd0\\xbd\\xd0\\xb8\\xd0\\xb8\\xc2\\xbb \\xd0\\x9b\\xd0\\xb8\\xd0\\xb2\\xd0\\xb8\\xd0\\xb8\\n                                                                                            </h6>\\n                                        </div>\\n                                    </a>\\n                                </article>\\n                                                                                                                            <article class=\"news-line\">\\n                                    <a href=\"/posts/74909\">\\n                                        <div class=\"line-content\">\\n                                            <div class=\"line-post-label\">\\n                                                                                                    15:54\\n                                                                                            </div>\\n                                            <h6 class=\"line-post-headline \">\\n                                                \\xd0\\x91\\xd0\\xbb\\xd0\\xbe\\xd0\\xb3\\xd0\\xb5\\xd1\\x80 \\xd0\\x96\\xd1\\x83\\xd1\\x80\\xd0\\xb0\\xd0\\xb2\\xd0\\xbb\\xd0\\xb5\\xd0\\xb2 \\xd0\\xb2\\xd0\\xb5\\xd1\\x80\\xd0\\xbd\\xd1\\x83\\xd0\\xbb\\xd1\\x81\\xd1\\x8f \\xd0\\xb2&nbsp;\\xd0\\xa0\\xd0\\xbe\\xd1\\x81\\xd1\\x81\\xd0\\xb8\\xd1\\x8e \\xd0\\xbf\\xd0\\xbe\\xd1\\x81\\xd0\\xbb\\xd0\\xb5 \\xd1\\x82\\xd1\\x80\\xd0\\xb5\\xd1\\x85 \\xd0\\xbb\\xd0\\xb5\\xd1\\x82 \\xd0\\xb2&nbsp;\\xd0\\xbf\\xd0\\xbb\\xd0\\xb5\\xd0\\xbd\\xd1\\x83 \\xd1\\x83&nbsp;\\xd1\\x81\\xd0\\xb8\\xd1\\x80\\xd0\\xb8\\xd0\\xb9\\xd1\\x81\\xd0\\xba\\xd0\\xb8\\xd1\\x85 \\xd0\\xb8\\xd1\\x81\\xd0\\xbb\\xd0\\xb0\\xd0\\xbc\\xd0\\xb8\\xd1\\x81\\xd1\\x82\\xd0\\xbe\\xd0\\xb2\\n                                                                                            </h6>\\n                                        </div>\\n                                    </a>\\n                                </article>\\n                                                                                                                            <article class=\"news-line\">\\n                                    <a href=\"/posts/74907\">\\n                                        <div class=\"line-content\">\\n                                            <div class=\"line-post-label\">\\n                                                                                                    15:53\\n                                                                                            </div>\\n                                            <h6 class=\"line-post-headline \">\\n                                                \\xd0\\x9e\\xd0\\xb1\\xd0\\xb2\\xd0\\xb8\\xd0\\xbd\\xd1\\x8f\\xd0\\xb5\\xd0\\xbc\\xd0\\xbe\\xd0\\xb3\\xd0\\xbe \\xd0\\xb2&nbsp;\\xd0\\xbe\\xd0\\xb1\\xd0\\xb2\\xd0\\xb0\\xd0\\xbb\\xd0\\xb5 Dow Jones \\xd1\\x82\\xd1\\x80\\xd0\\xb5\\xd0\\xb9\\xd0\\xb4\\xd0\\xb5\\xd1\\x80\\xd0\\xb0 \\xd0\\xb2\\xd1\\x8b\\xd0\\xb4\\xd0\\xb0\\xd0\\xb4\\xd1\\x83\\xd1\\x82 \\xd0\\xa1\\xd0\\xa8\\xd0\\x90\\n                                                                                            </h6>\\n                                        </div>\\n                                    </a>\\n                                </article>\\n                                                                                                                            <article class=\"news-line\">\\n                                    <a href=\"/posts/74908\">\\n                                        <div class=\"line-content\">\\n                                            <div class=\"line-post-label\">\\n                                                                                                    15:34\\n                                                                                            </div>\\n                                            <h6 class=\"line-post-headline \">\\n                                                \\xd0\\x9c\\xd0\\x92\\xd0\\x94 \\xd0\\xbe\\xd0\\xbf\\xd1\\x80\\xd0\\xbe\\xd0\\xb2\\xd0\\xb5\\xd1\\x80\\xd0\\xb3\\xd0\\xbb\\xd0\\xbe \\xd0\\xb7\\xd0\\xb0\\xd0\\xba\\xd1\\x80\\xd1\\x8b\\xd1\\x82\\xd0\\xb8\\xd0\\xb5 \\xd0\\xb4\\xd0\\xb5\\xd0\\xbb \\xd1\\x8d\\xd0\\xba\\xd1\\x81-\\xd1\\x80\\xd1\\x83\\xd0\\xba\\xd0\\xbe\\xd0\\xb2\\xd0\\xbe\\xd0\\xb4\\xd0\\xb8\\xd1\\x82\\xd0\\xb5\\xd0\\xbb\\xd0\\xb5\\xd0\\xb9 \\xc2\\xab\\xd0\\x9a\\xd1\\x83\\xd1\\x80\\xd0\\xbe\\xd1\\x80\\xd1\\x82\\xd0\\xbe\\xd0\\xb2 \\xd0\\xa1\\xd0\\xb5\\xd0\\xb2\\xd0\\xb5\\xd1\\x80\\xd0\\xbd\\xd0\\xbe\\xd0\\xb3\\xd0\\xbe \\xd0\\x9a\\xd0\\xb0\\xd0\\xb2\\xd0\\xba\\xd0\\xb0\\xd0\\xb7\\xd0\\xb0\\xc2\\xbb\\n                                                                                            </h6>\\n                                        </div>\\n                                    </a>\\n                                </article>\\n                                                                                                                            <article class=\"news-line\">\\n                                    <a href=\"/posts/74905\">\\n                                        <div class=\"line-content\">\\n                                            <div class=\"line-post-label\">\\n                                                                                                    14:56\\n                                                                                            </div>\\n                                            <h6 class=\"line-post-headline \">\\n                                                \\xd0\\x9f\\xd1\\x80\\xd0\\xbe\\xd0\\xbf\\xd0\\xb0\\xd0\\xb6\\xd1\\x83 \\xd0\\xb3\\xd0\\xbb\\xd0\\xb0\\xd0\\xb2\\xd1\\x8b \\xd0\\xb1\\xd0\\xb0\\xd0\\xbd\\xd0\\xba\\xd0\\xb0 \\xd0\\xa0\\xd0\\x9f\\xd0\\xa6 \\xd0\\xbe\\xd0\\xb1\\xd1\\x8a\\xd1\\x8f\\xd1\\x81\\xd0\\xbd\\xd0\\xb8\\xd0\\xbb\\xd0\\xb8 \\xd0\\xb1\\xd0\\xbe\\xd0\\xbb\\xd0\\xb5\\xd0\\xb7\\xd0\\xbd\\xd1\\x8c\\xd1\\x8e\\n                                                                                            </h6>\\n                                        </div>\\n                                    </a>\\n                                </article>\\n                                                                                                                            <article class=\"news-line\">\\n                                    <a href=\"/posts/74903\">\\n                                        <div class=\"line-content\">\\n                                            <div class=\"line-post-label\">\\n                                                                                                    14:47\\n                                                                                            </div>\\n                                            <h6 class=\"line-post-headline \">\\n                                                \\xd0\\x92&nbsp;\\xd0\\x9c\\xd0\\xb8\\xd0\\xbd\\xd1\\x84\\xd0\\xb8\\xd0\\xbd\\xd0\\xb5 \\xd0\\xbd\\xd0\\xb0\\xd0\\xb7\\xd0\\xb2\\xd0\\xb0\\xd0\\xbb\\xd0\\xb8 \\xd1\\x83\\xd1\\x81\\xd0\\xbb\\xd0\\xbe\\xd0\\xb2\\xd0\\xb8\\xd1\\x8f \\xd0\\xb4\\xd0\\xbb\\xd1\\x8f \\xd1\\x80\\xd0\\xb0\\xd0\\xb7\\xd0\\xbc\\xd0\\xbe\\xd1\\x80\\xd0\\xbe\\xd0\\xb7\\xd0\\xba\\xd0\\xb8 \\xd0\\xbf\\xd0\\xb5\\xd0\\xbd\\xd1\\x81\\xd0\\xb8\\xd0\\xbe\\xd0\\xbd\\xd0\\xbd\\xd1\\x8b\\xd1\\x85 \\xd0\\xbd\\xd0\\xb0\\xd0\\xba\\xd0\\xbe\\xd0\\xbf\\xd0\\xbb\\xd0\\xb5\\xd0\\xbd\\xd0\\xb8\\xd0\\xb9\\n                                                                                            </h6>\\n                                        </div>\\n                                    </a>\\n                                </article>\\n                                                                                                                            <article class=\"news-line\">\\n                                    <a href=\"/posts/74902\">\\n                                        <div class=\"line-content\">\\n                                            <div class=\"line-post-label\">\\n                                                                                                    14:33\\n                                                                                            </div>\\n                                            <h6 class=\"line-post-headline \">\\n                                                \\xd0\\xa6\\xd0\\x91&nbsp;\\xd0\\xb7\\xd0\\xb0&nbsp;\\xd1\\x82\\xd1\\x80\\xd0\\xb8 \\xd0\\xba\\xd0\\xb2\\xd0\\xb0\\xd1\\x80\\xd1\\x82\\xd0\\xb0\\xd0\\xbb\\xd0\\xb0 \\xd0\\xbe\\xd0\\xb1\\xd0\\xbd\\xd0\\xb0\\xd1\\x80\\xd1\\x83\\xd0\\xb6\\xd0\\xb8\\xd0\\xbb \\xd0\\xb2&nbsp;\\xd0\\xa0\\xd0\\xbe\\xd1\\x81\\xd1\\x81\\xd0\\xb8\\xd0\\xb8 120 \\xd1\\x84\\xd0\\xb8\\xd0\\xbd\\xd0\\xb0\\xd0\\xbd\\xd1\\x81\\xd0\\xbe\\xd0\\xb2\\xd1\\x8b\\xd1\\x85 \\xd0\\xbf\\xd0\\xb8\\xd1\\x80\\xd0\\xb0\\xd0\\xbc\\xd0\\xb8\\xd0\\xb4\\n                                                                                            </h6>\\n                                        </div>\\n                                    </a>\\n                                </article>\\n                                                                                                                            <article class=\"news-line\">\\n                                    <a href=\"/posts/74901\">\\n                                        <div class=\"line-content\">\\n                                            <div class=\"line-post-label\">\\n                                                                                                    14:17\\n                                                                                            </div>\\n                                            <h6 class=\"line-post-headline \">\\n                                                \\xd0\\xa4\\xd0\\x91\\xd0\\x9a \\xd0\\xbf\\xd0\\xbe\\xd0\\xb4\\xd0\\xb0\\xd1\\x81\\xd1\\x82 \\xd0\\xb2&nbsp;\\xd1\\x81\\xd1\\x83\\xd0\\xb4 \\xd0\\xb8\\xd0\\xb7-\\xd0\\xb7\\xd0\\xb0&nbsp;\\xd0\\xbe\\xd1\\x82\\xd0\\xba\\xd0\\xb0\\xd0\\xb7\\xd0\\xb0 \\xd1\\x80\\xd0\\xb0\\xd1\\x81\\xd1\\x81\\xd0\\xbc\\xd0\\xbe\\xd1\\x82\\xd1\\x80\\xd0\\xb5\\xd1\\x82\\xd1\\x8c \\xd0\\xbf\\xd0\\xb5\\xd1\\x82\\xd0\\xb8\\xd1\\x86\\xd0\\xb8\\xd1\\x8e \\xd0\\xbf\\xd0\\xbe&nbsp;\\xd0\\xb7\\xd0\\xb0\\xd0\\xba\\xd0\\xbe\\xd0\\xbd\\xd0\\xb0\\xd0\\xbc \\xd0\\xaf\\xd1\\x80\\xd0\\xbe\\xd0\\xb2\\xd0\\xbe\\xd0\\xb9\\n                                                                                            </h6>\\n                                        </div>\\n                                    </a>\\n                                </article>\\n                                                                                                                            <article class=\"news-line\">\\n                                    <a href=\"/posts/74900\">\\n                                        <div class=\"line-content\">\\n                                            <div class=\"line-post-label\">\\n                                                                                                    14:10\\n                                                                                            </div>\\n                                            <h6 class=\"line-post-headline \">\\n                                                \\xd0\\x9d\\xd0\\xbe\\xd1\\x81\\xd0\\xb8\\xd0\\xba \\xd0\\xbe\\xd0\\xb1\\xd0\\xbd\\xd0\\xb0\\xd1\\x80\\xd1\\x83\\xd0\\xb6\\xd0\\xb8\\xd0\\xbb \\xd1\\x87\\xd1\\x83\\xd0\\xb6\\xd0\\xbe\\xd0\\xb5 \\xd0\\xb8\\xd0\\xbc\\xd1\\x8f \\xd0\\xb2&nbsp;\\xd0\\xbf\\xd1\\x80\\xd0\\xb8\\xd0\\xb3\\xd0\\xbe\\xd0\\xb2\\xd0\\xbe\\xd1\\x80\\xd0\\xb5 \\xd0\\xb7\\xd0\\xb0&nbsp;\\xd0\\xbf\\xd0\\xbe\\xd1\\x81\\xd1\\x82 \\xd0\\xb2&nbsp;\\xd0\\x96\\xd0\\x96\\n                                                                                            </h6>\\n                                        </div>\\n                                    </a>\\n                                </article>\\n                                                                                                                            <article class=\"news-line\">\\n                                    <a href=\"/posts/74897\">\\n                                        <div class=\"line-content\">\\n                                            <div class=\"line-post-label\">\\n                                                                                                    14:00\\n                                                                                            </div>\\n                                            <h6 class=\"line-post-headline \">\\n                                                \\xc2\\xab\\xd0\\x94\\xd0\\xbe\\xd0\\xb6\\xd0\\xb4\\xd1\\x8c\\xc2\\xbb \\xd1\\x83\\xd0\\xb7\\xd0\\xbd\\xd0\\xb0\\xd0\\xbb \\xd0\\xbe&nbsp;\\xd0\\xbf\\xd1\\x80\\xd0\\xbe\\xd0\\xbf\\xd0\\xb0\\xd0\\xb6\\xd0\\xb5 \\xd0\\xb3\\xd0\\xbb\\xd0\\xb0\\xd0\\xb2\\xd1\\x8b \\xd0\\xb1\\xd0\\xb0\\xd0\\xbd\\xd0\\xba\\xd0\\xb0 \\xd0\\xa0\\xd0\\x9f\\xd0\\xa6  \\xd0\\xbf\\xd0\\xbe\\xd1\\x81\\xd0\\xbb\\xd0\\xb5 \\xd0\\xbd\\xd0\\xbe\\xd0\\xb2\\xd0\\xbe\\xd1\\x81\\xd1\\x82\\xd0\\xb5\\xd0\\xb9 \\xd0\\xbe&nbsp;\\xd0\\xbf\\xd0\\xbe\\xd0\\xb4\\xd0\\xbe\\xd0\\xb7\\xd1\\x80\\xd0\\xb8\\xd1\\x82\\xd0\\xb5\\xd0\\xbb\\xd1\\x8c\\xd0\\xbd\\xd1\\x8b\\xd1\\x85 \\xd0\\xba\\xd1\\x80\\xd0\\xb5\\xd0\\xb4\\xd0\\xb8\\xd1\\x82\\xd0\\xb0\\xd1\\x85\\n                                                                                            </h6>\\n                                        </div>\\n                                    </a>\\n                                </article>\\n                                                                                                                            <article class=\"news-line\">\\n                                    <a href=\"/posts/74896\">\\n                                        <div class=\"line-content\">\\n                                            <div class=\"line-post-label\">\\n                                                                                                    13:53\\n                                                                                            </div>\\n                                            <h6 class=\"line-post-headline \">\\n                                                \\xd0\\x9c\\xd0\\xb8\\xd0\\xbd\\xd1\\x84\\xd0\\xb8\\xd0\\xbd \\xd0\\xbe\\xd1\\x82\\xd0\\xba\\xd0\\xb0\\xd0\\xb7\\xd0\\xb0\\xd0\\xbb\\xd1\\x81\\xd1\\x8f \\xd0\\xbe\\xd1\\x82&nbsp;\\xd0\\xb0\\xd0\\xb2\\xd1\\x82\\xd0\\xbe\\xd0\\xbc\\xd0\\xb0\\xd1\\x82\\xd0\\xb8\\xd1\\x87\\xd0\\xb5\\xd1\\x81\\xd0\\xba\\xd0\\xbe\\xd0\\xb3\\xd0\\xbe \\xd0\\xbf\\xd0\\xb5\\xd1\\x80\\xd0\\xb5\\xd1\\x87\\xd0\\xb8\\xd1\\x81\\xd0\\xbb\\xd0\\xb5\\xd0\\xbd\\xd0\\xb8\\xd1\\x8f \\xd0\\xbf\\xd0\\xb5\\xd0\\xbd\\xd1\\x81\\xd0\\xb8\\xd0\\xb9 \\xc2\\xab\\xd0\\xbc\\xd0\\xbe\\xd0\\xbb\\xd1\\x87\\xd1\\x83\\xd0\\xbd\\xd0\\xbe\\xd0\\xb2\\xc2\\xbb \\xd0\\xb2&nbsp;\\xd0\\xb1\\xd1\\x8e\\xd0\\xb4\\xd0\\xb6\\xd0\\xb5\\xd1\\x82\\n                                                                                            </h6>\\n                                        </div>\\n                                    </a>\\n                                </article>\\n                                                                                                                            <article class=\"news-line\">\\n                                    <a href=\"/posts/74898\">\\n                                        <div class=\"line-content\">\\n                                            <div class=\"line-post-label\">\\n                                                                                                    13:50\\n                                                                                            </div>\\n                                            <h6 class=\"line-post-headline \">\\n                                                \\xc2\\xab\\xd0\\xa0\\xd0\\xbe\\xd1\\x81\\xd0\\xbd\\xd0\\xb5\\xd1\\x84\\xd1\\x82\\xd1\\x8c\\xc2\\xbb \\xd1\\x81\\xd1\\x80\\xd0\\xb0\\xd0\\xb2\\xd0\\xbd\\xd0\\xb8\\xd0\\xbb\\xd0\\xb0 \\xd0\\xbf\\xd0\\xb0\\xd0\\xb4\\xd0\\xb5\\xd0\\xbd\\xd0\\xb8\\xd0\\xb5 \\xd0\\xb0\\xd0\\xba\\xd1\\x86\\xd0\\xb8\\xd0\\xb9 \\xc2\\xab\\xd0\\x91\\xd0\\xb0\\xd1\\x88\\xd0\\xbd\\xd0\\xb5\\xd1\\x84\\xd1\\x82\\xd0\\xb8\\xc2\\xbb \\xd1\\x81&nbsp;\\xd0\\xb2\\xd0\\xbe\\xd1\\x81\\xd1\\x85\\xd0\\xbe\\xd0\\xb4\\xd0\\xbe\\xd0\\xbc \\xd1\\x81\\xd0\\xbe\\xd0\\xbb\\xd0\\xbd\\xd1\\x86\\xd0\\xb0\\n                                                                                            </h6>\\n                                        </div>\\n                                    </a>\\n                                </article>\\n                                                                                                                            <article class=\"news-line\">\\n                                    <a href=\"/posts/74894\">\\n                                        <div class=\"line-content\">\\n                                            <div class=\"line-post-label\">\\n                                                                                                    13:08\\n                                                                                            </div>\\n                                            <h6 class=\"line-post-headline \">\\n                                                \\xd0\\x9c\\xd0\\xb8\\xd0\\xbd\\xd1\\x82\\xd1\\x80\\xd0\\xb0\\xd0\\xbd\\xd1\\x81 \\xd0\\xbf\\xd0\\xbe\\xd0\\xb4\\xd1\\x82\\xd0\\xb2\\xd0\\xb5\\xd1\\x80\\xd0\\xb4\\xd0\\xb8\\xd0\\xbb \\xd0\\xbf\\xd0\\xbb\\xd0\\xb0\\xd0\\xbd\\xd1\\x8b \\xd1\\x81\\xd0\\xb4\\xd0\\xb5\\xd0\\xbb\\xd0\\xb0\\xd1\\x82\\xd1\\x8c \\xd0\\xbf\\xd0\\xb5\\xd1\\x80\\xd0\\xb5\\xd1\\x81\\xd0\\xb5\\xd1\\x87\\xd0\\xb5\\xd0\\xbd\\xd0\\xb8\\xd0\\xb5 \\xd0\\xb3\\xd1\\x80\\xd0\\xb0\\xd0\\xbd\\xd0\\xb8\\xd1\\x86\\xd1\\x8b \\xd0\\xbf\\xd0\\xbb\\xd0\\xb0\\xd1\\x82\\xd0\\xbd\\xd1\\x8b\\xd0\\xbc\\n                                                                                            </h6>\\n                                        </div>\\n                                    </a>\\n                                </article>\\n                                                                                                                            <article class=\"news-line\">\\n                                    <a href=\"/posts/74892\">\\n                                        <div class=\"line-content\">\\n                                            <div class=\"line-post-label\">\\n                                                                                                    12:26\\n                                                                                            </div>\\n                                            <h6 class=\"line-post-headline \">\\n                                                \\xd0\\xa3&nbsp;\\xd1\\x81\\xd1\\x83\\xd0\\xb1\\xd0\\xbf\\xd0\\xbe\\xd0\\xb4\\xd1\\x80\\xd1\\x8f\\xd0\\xb4\\xd1\\x87\\xd0\\xb8\\xd0\\xba\\xd0\\xbe\\xd0\\xb2 \\xc2\\xab\\xd0\\xa0\\xd0\\xbe\\xd1\\x81\\xd1\\x81\\xd0\\xb8\\xd0\\xb9\\xd1\\x81\\xd0\\xba\\xd0\\xb8\\xd1\\x85 \\xd0\\xba\\xd0\\xbe\\xd1\\x81\\xd0\\xbc\\xd0\\xb8\\xd1\\x87\\xd0\\xb5\\xd1\\x81\\xd0\\xba\\xd0\\xb8\\xd1\\x85 \\xd1\\x81\\xd0\\xb8\\xd1\\x81\\xd1\\x82\\xd0\\xb5\\xd0\\xbc\\xc2\\xbb \\xd0\\xbf\\xd1\\x80\\xd0\\xbe\\xd1\\x88\\xd0\\xbb\\xd0\\xb8 \\xd0\\xbe\\xd0\\xb1\\xd1\\x8b\\xd1\\x81\\xd0\\xba\\xd0\\xb8\\n                                                                                            </h6>\\n                                        </div>\\n                                    </a>\\n                                </article>\\n                                                                                                                            <article class=\"news-line\">\\n                                    <a href=\"/posts/74891\">\\n                                        <div class=\"line-content\">\\n                                            <div class=\"line-post-label\">\\n                                                                                                    12:19\\n                                                                                            </div>\\n                                            <h6 class=\"line-post-headline \">\\n                                                \\xd0\\x93\\xd0\\xb5\\xd0\\xbd\\xd0\\xbf\\xd1\\x80\\xd0\\xbe\\xd0\\xba\\xd1\\x83\\xd1\\x80\\xd0\\xb0\\xd1\\x82\\xd1\\x83\\xd1\\x80\\xd0\\xb0 \\xd0\\xbf\\xd0\\xbe&nbsp;\\xd0\\xbf\\xd0\\xbe\\xd1\\x80\\xd1\\x83\\xd1\\x87\\xd0\\xb5\\xd0\\xbd\\xd0\\xb8\\xd1\\x8e \\xd0\\x9f\\xd1\\x83\\xd1\\x82\\xd0\\xb8\\xd0\\xbd\\xd0\\xb0 \\xd0\\xbd\\xd0\\xb0\\xd1\\x87\\xd0\\xb0\\xd0\\xbb\\xd0\\xb0 \\xd0\\xbf\\xd1\\x80\\xd0\\xbe\\xd0\\xb2\\xd0\\xb5\\xd1\\x80\\xd1\\x8f\\xd1\\x82\\xd1\\x8c \\xd1\\x88\\xd0\\xb0\\xd1\\x85\\xd1\\x82\\xd1\\x8b \\xc2\\xab\\xd0\\xa3\\xd1\\x80\\xd0\\xb0\\xd0\\xbb\\xd0\\xba\\xd0\\xb0\\xd0\\xbb\\xd0\\xb8\\xd1\\x8f\\xc2\\xbb\\n                                                                                            </h6>\\n                                        </div>\\n                                    </a>\\n                                </article>\\n                                                                                                                            <article class=\"news-line\">\\n                                    <a href=\"/posts/74893\">\\n                                        <div class=\"line-content\">\\n                                            <div class=\"line-post-label\">\\n                                                                                                    12:19\\n                                                                                            </div>\\n                                            <h6 class=\"line-post-headline \">\\n                                                \\xd0\\x92&nbsp;\\xd0\\x90\\xd0\\xbd\\xd1\\x82\\xd0\\xb0\\xd0\\xbb\\xd1\\x8c\\xd0\\xb5 \\xd1\\x82\\xd1\\x80\\xd0\\xb8 \\xd1\\x80\\xd0\\xb0\\xd0\\xba\\xd0\\xb5\\xd1\\x82\\xd1\\x8b \\xd0\\xb2\\xd0\\xb7\\xd0\\xbe\\xd1\\x80\\xd0\\xb2\\xd0\\xb0\\xd0\\xbb\\xd0\\xb8\\xd1\\x81\\xd1\\x8c \\xd0\\xbd\\xd0\\xb0&nbsp;\\xd1\\x88\\xd0\\xbe\\xd1\\x81\\xd1\\x81\\xd0\\xb5\\n                                                                                            </h6>\\n                                        </div>\\n                                    </a>\\n                                </article>\\n                                                                                                                            <article class=\"news-line\">\\n                                    <a href=\"/posts/74890\">\\n                                        <div class=\"line-content\">\\n                                            <div class=\"line-post-label\">\\n                                                                                                    11:31\\n                                                                                            </div>\\n                                            <h6 class=\"line-post-headline \">\\n                                                \\xd0\\x9a\\xd0\\xb8\\xd1\\x82\\xd0\\xb0\\xd0\\xb9 \\xd0\\xb7\\xd0\\xb0\\xd0\\xb4\\xd1\\x83\\xd0\\xbc\\xd0\\xb0\\xd0\\xbb \\xd0\\xbe\\xd0\\xb1\\xd1\\x8a\\xd0\\xb5\\xd0\\xb4\\xd0\\xb8\\xd0\\xbd\\xd0\\xb8\\xd1\\x82\\xd1\\x8c \\xd0\\xba\\xd1\\x80\\xd1\\x83\\xd0\\xbf\\xd0\\xbd\\xd0\\xb5\\xd0\\xb9\\xd1\\x88\\xd0\\xb8\\xd0\\xb5 \\xd1\\x85\\xd0\\xb8\\xd0\\xbc\\xd0\\xb8\\xd1\\x87\\xd0\\xb5\\xd1\\x81\\xd0\\xba\\xd0\\xb8\\xd0\\xb5 \\xd0\\xba\\xd0\\xbe\\xd0\\xbc\\xd0\\xbf\\xd0\\xb0\\xd0\\xbd\\xd0\\xb8\\xd0\\xb8 \\xd1\\x81\\xd1\\x82\\xd1\\x80\\xd0\\xb0\\xd0\\xbd\\xd1\\x8b\\n                                                                                            </h6>\\n                                        </div>\\n                                    </a>\\n                                </article>\\n                                                                                                                            <article class=\"news-line\">\\n                                    <a href=\"/posts/74889\">\\n                                        <div class=\"line-content\">\\n                                            <div class=\"line-post-label\">\\n                                                                                                    10:35\\n                                                                                            </div>\\n                                            <h6 class=\"line-post-headline \">\\n                                                \\xd0\\x90\\xd0\\xba\\xd1\\x86\\xd0\\xb8\\xd0\\xb8 \\xc2\\xab\\xd0\\x91\\xd0\\xb0\\xd1\\x88\\xd0\\xbd\\xd0\\xb5\\xd1\\x84\\xd1\\x82\\xd0\\xb8\\xc2\\xbb \\xd1\\x83\\xd0\\xbf\\xd0\\xb0\\xd0\\xbb\\xd0\\xb8 \\xd0\\xbd\\xd0\\xb0&nbsp;7% \\xd0\\xb2&nbsp;\\xd0\\xbd\\xd0\\xb0\\xd1\\x87\\xd0\\xb0\\xd0\\xbb\\xd0\\xb5 \\xd1\\x82\\xd0\\xbe\\xd1\\x80\\xd0\\xb3\\xd0\\xbe\\xd0\\xb2\\n                                                                                            </h6>\\n                                        </div>\\n                                    </a>\\n                                </article>\\n                                                                                                                    </div>\\n                    </section>\\n                </section>\\n                                    </section>\\n    </section>\\n\\n    <section class=\"showcase\">\\n            <div class=\"paginator\">\\n                     <div class=\"container\">\\n            <hr/>\\n            <div class=\"row\">\\n                <div class=\"col-xs-3\">\\n                                            <span class=\"prev-button muted\">\\n                            <i class=\"icon-svg20\"></i>\\n                            <span>\\xd0\\x9f\\xd1\\x80\\xd0\\xb5\\xd0\\xb4\\xd1\\x8b\\xd0\\xb4\\xd1\\x83\\xd1\\x89\\xd0\\xb0\\xd1\\x8f</span>\\n                        </span>\\n                                    </div>\\n\\n                <div class=\"col-xs-6\">\\n                                        \\n                    <ul class=\"pages\">\\n                        \\n                        <li class=\"current\">1</li>\\n\\n                                                                                    <li><a class=\"page\" href=\"?page=2\">2</a></li>\\n                                                            <li><a class=\"page\" href=\"?page=3\">3</a></li>\\n                            \\n                                                            <li>...</li>\\n                            \\n                                                            <li><a class=\"page\" href=\"?page=100\">100</a></li>\\n                                                                        </ul>\\n                </div>\\n\\n                <div class=\"col-xs-3 text-right\">\\n                                            <a href=\"?page=2\" class=\"next-button\">\\n                            <span>\\xd0\\xa1\\xd0\\xbb\\xd0\\xb5\\xd0\\xb4\\xd1\\x83\\xd1\\x8e\\xd1\\x89\\xd0\\xb0\\xd1\\x8f</span>\\n                            <i class=\"icon-svg19\"></i>\\n                        </a>\\n                                    </div>\\n            </div>\\n        </div>\\n    </div>\\n    </section>\\n\\n        <div class=\"advert-bg advert-bg--gray\">\\n        \\t<div class=\"advert advert-desktop advert--bottom\">\\n\\t\\t<!-- /124171376/Slon_footer -->\\n<div id=\\'div-gpt-ad-1463485357561-0\\'>\\n<script type=\\'text/javascript\\'>\\ngoogletag.cmd.push(function() { googletag.display(\\'div-gpt-ad-1463485357561-0\\'); });\\n</script>\\n</div>\\n\\t</div>\\n    </div>\\n\\n\\n    \\n            <footer class=\"footer\">\\n    <!-- Secondary menu -->\\n    <nav class=\"navbar navbar-default navbar-black\">\\n        <div class=\"container\">\\n            <div class=\"navbar-header\">\\n                <a class=\"navbar-brand\" href=\"/\"></a>\\n            </div>\\n            <div class=\"show-menu\">\\n                <i class=\"icon-svg17\"></i>\\n            </div>\\n            <div class=\"collapse-block\">\\n                <ul class=\"nav navbar-nav\">\\n                    <li><a href=\"/about\">\\xd0\\x9e \\xd0\\xbf\\xd1\\x80\\xd0\\xbe\\xd0\\xb5\\xd0\\xba\\xd1\\x82\\xd0\\xb5</a></li>\\n                    <li><a href=\"/advertise\">\\xd0\\xa0\\xd0\\xb5\\xd0\\xba\\xd0\\xbb\\xd0\\xb0\\xd0\\xbc\\xd0\\xb0</a></li>\\n                    <li><a href=\"/feedback\">\\xd0\\x9e\\xd0\\xb1\\xd1\\x80\\xd0\\xb0\\xd1\\x82\\xd0\\xbd\\xd0\\xb0\\xd1\\x8f \\xd1\\x81\\xd0\\xb2\\xd1\\x8f\\xd0\\xb7\\xd1\\x8c</a></li>\\n                    <li><a href=\"/faq\">\\xd0\\x92\\xd0\\xbe\\xd0\\xbf\\xd1\\x80\\xd0\\xbe\\xd1\\x81-\\xd0\\xbe\\xd1\\x82\\xd0\\xb2\\xd0\\xb5\\xd1\\x82</a></li>\\n                    <li><a href=\"/eula\">\\xd0\\x9f\\xd0\\xbe\\xd0\\xbb\\xd1\\x8c\\xd0\\xb7\\xd0\\xbe\\xd0\\xb2\\xd0\\xb0\\xd1\\x82\\xd0\\xb5\\xd0\\xbb\\xd1\\x8c\\xd1\\x81\\xd0\\xba\\xd0\\xbe\\xd0\\xb5 \\xd1\\x81\\xd0\\xbe\\xd0\\xb3\\xd0\\xbb\\xd0\\xb0\\xd1\\x88\\xd0\\xb5\\xd0\\xbd\\xd0\\xb8\\xd0\\xb5</a></li>\\n                </ul>\\n            </div>\\n        </div>\\n    </nav>\\n    <!-- Copyright -->\\n    <section class=\"copyright-container\">\\n        <div class=\"row\">\\n            <div class=\"col col-sm-8 col-xs-12\">\\n                <p>&copy; 2009 &mdash; 2016. \\xd0\\x92\\xd1\\x81\\xd0\\xb5 \\xd0\\xbf\\xd1\\x80\\xd0\\xb0\\xd0\\xb2\\xd0\\xb0 \\xd0\\xb7\\xd0\\xb0\\xd1\\x89\\xd0\\xb8\\xd1\\x89\\xd0\\xb5\\xd0\\xbd\\xd1\\x8b.</p>\\n                <p>\\n                    \\xd0\\x9b\\xd1\\x8e\\xd0\\xb1\\xd0\\xbe\\xd0\\xb5 \\xd0\\xb8\\xd1\\x81\\xd0\\xbf\\xd0\\xbe\\xd0\\xbb\\xd1\\x8c\\xd0\\xb7\\xd0\\xbe\\xd0\\xb2\\xd0\\xb0\\xd0\\xbd\\xd0\\xb8\\xd0\\xb5 \\xd0\\xbc\\xd0\\xb0\\xd1\\x82\\xd0\\xb5\\xd1\\x80\\xd0\\xb8\\xd0\\xb0\\xd0\\xbb\\xd0\\xbe\\xd0\\xb2 \\xd0\\xb4\\xd0\\xbe\\xd0\\xbf\\xd1\\x83\\xd1\\x81\\xd0\\xba\\xd0\\xb0\\xd0\\xb5\\xd1\\x82\\xd1\\x81\\xd1\\x8f \\xd1\\x82\\xd0\\xbe\\xd0\\xbb\\xd1\\x8c\\xd0\\xba\\xd0\\xbe \\xd1\\x81&nbsp;\\xd1\\x81\\xd0\\xbe\\xd0\\xb3\\xd0\\xbb\\xd0\\xb0\\xd1\\x81\\xd0\\xb8\\xd1\\x8f \\xd1\\x80\\xd0\\xb5\\xd0\\xb4\\xd0\\xb0\\xd0\\xba\\xd1\\x86\\xd0\\xb8\\xd0\\xb8. \\xd0\\xa1\\xd0\\xb2\\xd0\\xb8\\xd0\\xb4\\xd0\\xb5\\xd1\\x82\\xd0\\xb5\\xd0\\xbb\\xd1\\x8c\\xd1\\x81\\xd1\\x82\\xd0\\xb2\\xd0\\xbe \\xd0\\xbe&nbsp;\\xd1\\x80\\xd0\\xb5\\xd0\\xb3\\xd0\\xb8\\xd1\\x81\\xd1\\x82\\xd1\\x80\\xd0\\xb0\\xd1\\x86\\xd0\\xb8\\xd0\\xb8 \\xd0\\xad\\xd0\\xbb&nbsp;\\xe2\\x84\\x96\\xd0\\xa4\\xd0\\xa177-36570.\\n                    \\xd0\\x92\\xd1\\x8b\\xd0\\xb4\\xd0\\xb0\\xd0\\xbd\\xd0\\xbe&nbsp;\\xd0\\xa0\\xd0\\xbe\\xd1\\x81\\xd0\\xba\\xd0\\xbe\\xd0\\xbc\\xd0\\xbd\\xd0\\xb0\\xd0\\xb4\\xd0\\xb7\\xd0\\xbe\\xd1\\x80\\xd0\\xbe\\xd0\\xbc 11&nbsp;\\xd0\\xb8\\xd1\\x8e\\xd0\\xbd\\xd1\\x8f&nbsp;2009&nbsp;\\xd0\\xb3\\xd0\\xbe\\xd0\\xb4\\xd0\\xb0. 16+\\n                </p>\\n                <p class=\"proofreading-invite\">\\n                    \\xd0\\x97\\xd0\\xb0\\xd0\\xbc\\xd0\\xb5\\xd1\\x82\\xd0\\xb8\\xd0\\xbb\\xd0\\xb8 \\xd0\\xbe\\xd1\\x88\\xd0\\xb8\\xd0\\xb1\\xd0\\xba\\xd1\\x83? \\xd0\\x92\\xd1\\x8b\\xd0\\xb4\\xd0\\xb5\\xd0\\xbb\\xd0\\xb8\\xd1\\x82\\xd0\\xb5 \\xd0\\xb5\\xd0\\xb5 \\xd0\\xb8 \\xd0\\xbd\\xd0\\xb0\\xd0\\xb6\\xd0\\xbc\\xd0\\xb8\\xd1\\x82\\xd0\\xb5 <span class=\"ctrl-modifier\"></span>+Enter\\n                </p>\\n                <p id=\"push-notify-switch\">\\n                    Push-\\xd1\\x83\\xd0\\xb2\\xd0\\xb5\\xd0\\xb4\\xd0\\xbe\\xd0\\xbc\\xd0\\xbb\\xd0\\xb5\\xd0\\xbd\\xd0\\xb8\\xd1\\x8f:\\n                    <span class=\"denied\">\\xd1\\x81\\xd0\\xbe\\xd1\\x81\\xd1\\x82\\xd0\\xbe\\xd1\\x8f\\xd0\\xbd\\xd0\\xb8\\xd0\\xb5 \\xd0\\xbf\\xd1\\x80\\xd0\\xbe\\xd0\\xb2\\xd0\\xb5\\xd1\\x80\\xd1\\x8f\\xd0\\xb5\\xd1\\x82\\xd1\\x81\\xd1\\x8f</span>\\n                    <a href=\"#\" class=\"change hide\"></a>\\n                </p>\\n            </div>\\n        </div>\\n    </section>\\n</footer>\\n\\n<div class=\"modal proofreading\">\\n    <form action=\"/proofreading\" method=\"post\">\\n        <div class=\"modal-header\">\\n            <button type=\"button\" class=\"close\">&times;</button>\\n            <h3>\\xd0\\x9e\\xd1\\x80\\xd1\\x84\\xd0\\xbe\\xd0\\xb3\\xd1\\x80\\xd0\\xb0\\xd1\\x84\\xd0\\xb8\\xd1\\x87\\xd0\\xb5\\xd1\\x81\\xd0\\xba\\xd0\\xb0\\xd1\\x8f \\xd0\\xbe\\xd1\\x88\\xd0\\xb8\\xd0\\xb1\\xd0\\xba\\xd0\\xb0</h3>\\n        </div>\\n        <div class=\"modal-body\">\\n            <div class=\"error-view\"></div>\\n            <div class=\"comment\">\\n                <textarea name=\"comment\" placeholder=\"\\xd0\\x9e\\xd0\\xbf\\xd0\\xb8\\xd1\\x81\\xd0\\xb0\\xd0\\xbd\\xd0\\xb8\\xd0\\xb5 \\xd0\\xbe\\xd1\\x88\\xd0\\xb8\\xd0\\xb1\\xd0\\xba\\xd0\\xb8 (\\xd0\\xbd\\xd0\\xb5\\xd0\\xbe\\xd0\\xb1\\xd1\\x8f\\xd0\\xb7\\xd0\\xb0\\xd1\\x82\\xd0\\xb5\\xd0\\xbb\\xd1\\x8c\\xd0\\xbd\\xd0\\xbe)\" autofocus></textarea>\\n            </div>\\n            <div class=\"text-muted\">\\n                <small>\\n                    \\xd0\\x9f\\xd0\\xbe\\xd0\\xb6\\xd0\\xb0\\xd0\\xbb\\xd1\\x83\\xd0\\xb9\\xd1\\x81\\xd1\\x82\\xd0\\xb0, \\xd0\\xb8\\xd1\\x81\\xd0\\xbf\\xd0\\xbe\\xd0\\xbb\\xd1\\x8c\\xd0\\xb7\\xd1\\x83\\xd0\\xb9\\xd1\\x82\\xd0\\xb5 \\xd1\\x8d\\xd1\\x82\\xd1\\x83 \\xd1\\x84\\xd0\\xbe\\xd1\\x80\\xd0\\xbc\\xd1\\x83 \\xd0\\xb4\\xd0\\xbb\\xd1\\x8f \\xd0\\xba\\xd0\\xbe\\xd1\\x80\\xd1\\x80\\xd0\\xb5\\xd0\\xba\\xd1\\x86\\xd0\\xb8\\xd0\\xb8 \\xd0\\xbe\\xd1\\x88\\xd0\\xb8\\xd0\\xb1\\xd0\\xbe\\xd0\\xba. <br/>\\n                    \\xd0\\x95\\xd1\\x81\\xd0\\xbb\\xd0\\xb8 \\xd0\\xb2\\xd1\\x8b \\xd1\\x85\\xd0\\xbe\\xd1\\x82\\xd0\\xb8\\xd1\\x82\\xd0\\xb5 \\xd0\\xb2\\xd0\\xbd\\xd0\\xb5\\xd1\\x81\\xd1\\x82\\xd0\\xb8 \\xd0\\xbf\\xd1\\x80\\xd0\\xb5\\xd0\\xb4\\xd0\\xbb\\xd0\\xbe\\xd0\\xb6\\xd0\\xb5\\xd0\\xbd\\xd0\\xb8\\xd0\\xb5, \\xd0\\xbd\\xd0\\xb0\\xd0\\xbf\\xd0\\xb8\\xd1\\x88\\xd0\\xb8\\xd1\\x82\\xd0\\xb5 <a href=\"/feedback\" target=\"_blank\">\\xd1\\x80\\xd0\\xb5\\xd0\\xb4\\xd0\\xb0\\xd0\\xba\\xd1\\x82\\xd0\\xbe\\xd1\\x80\\xd1\\x83</a>.<br/>\\n                    \\xd0\\x95\\xd1\\x81\\xd0\\xbb\\xd0\\xb8 \\xd1\\x83 \\xd0\\xb2\\xd0\\xb0\\xd1\\x81 \\xd0\\xb2\\xd0\\xbe\\xd0\\xb7\\xd0\\xbd\\xd0\\xb8\\xd0\\xba\\xd0\\xbb\\xd0\\xb8 \\xd1\\x82\\xd0\\xb5\\xd1\\x85\\xd0\\xbd\\xd0\\xb8\\xd1\\x87\\xd0\\xb5\\xd1\\x81\\xd0\\xba\\xd0\\xb8\\xd0\\xb5 \\xd1\\x82\\xd1\\x80\\xd1\\x83\\xd0\\xb4\\xd0\\xbd\\xd0\\xbe\\xd1\\x81\\xd1\\x82\\xd0\\xb8, \\xd0\\xbd\\xd0\\xb0\\xd0\\xbf\\xd0\\xb8\\xd1\\x88\\xd0\\xb8\\xd1\\x82\\xd0\\xb5 <a href=\"mailto:support@slon.ru\">\\xd0\\xb2 \\xd1\\x82\\xd0\\xb5\\xd1\\x85\\xd0\\xbf\\xd0\\xbe\\xd0\\xb4\\xd0\\xb4\\xd0\\xb5\\xd1\\x80\\xd0\\xb6\\xd0\\xba\\xd1\\x83.</a>\\n                </small>\\n            </div>\\n        </div>\\n        <div class=\"modal-footer\">\\n            <button type=\"submit\" class=\"btn btn-success\">\\xd0\\x9e\\xd1\\x82\\xd0\\xbf\\xd1\\x80\\xd0\\xb0\\xd0\\xb2\\xd0\\xb8\\xd1\\x82\\xd1\\x8c</button>\\n            <a href=\"#\" class=\"btn btn-default btn-close\">\\xd0\\x97\\xd0\\xb0\\xd0\\xba\\xd1\\x80\\xd1\\x8b\\xd1\\x82\\xd1\\x8c</a>\\n        </div>\\n    </form>\\n</div>                <!-- Custom analytics params -->\\n<script>\\n    window.analyticParams = window.analyticParams || {};\\n    analyticParams.isAuthorized = false;\\n    analyticParams.isSubscriber = false;\\n            analyticParams.postType = null;\\n        analyticParams.adblock = null;\\n    analyticParams.user_id = null;\\n</script>\\n<!-- /Custom analytics params -->\\n\\n<!-- Google Analytics -->\\n<script type=\"text/javascript\">\\n    (function(i,s,o,g,r,a,m){i[\\'GoogleAnalyticsObject\\']=r;i[r]=i[r]||function(){\\n    (i[r].q=i[r].q||[]).push(arguments)},i[r].l=1*new Date();a=s.createElement(o),\\n    m=s.getElementsByTagName(o)[0];a.async=1;a.src=g;m.parentNode.insertBefore(a,m)\\n    })(window,document,\\'script\\',\\'//www.google-analytics.com/analytics.js\\',\\'ga\\');\\n\\n    ga(\\'create\\', \\'UA-58645035-1\\', \\'auto\\');\\n        ga(\\'set\\', \\'dimension5\\', analyticParams.isAuthorized.toString());\\n    ga(\\'set\\', \\'dimension6\\', analyticParams.isSubscriber.toString());\\n    ga(\\'send\\', \\'pageview\\');\\n</script>\\n<!-- /Google Analytics -->\\n\\n<!-- Chartbeat -->\\n                \\n                                        <!-- /Chartbeat -->\\n\\n<!-- comScore -->\\n<script id=\"analytics_comscore\" data-c2=\"17291956\">\\n    var _comscore = _comscore || [];\\n    _comscore.push({ c1: \"2\", c2: \"17291956\" });\\n    (function() {\\n        var s = document.createElement(\"script\"), el = document.getElementsByTagName(\"script\")[0]; s.async = true;\\n        s.src = (document.location.protocol == \"https:\" ? \"https://sb\" : \"http://b\") + \".scorecardresearch.com/beacon.js\";\\n        el.parentNode.insertBefore(s, el);\\n    })();\\n</script>\\n<noscript>\\n    <img src=\"http://b.scorecardresearch.com/p?c1=2&amp;c2=17291956&amp;cv=2.0&amp;cj=1\" />\\n</noscript>\\n<!-- /comScore -->\\n\\n<!-- tns-counter.ru -->\\n<script type=\"text/javascript\" id=\"analytics_tns\" data-account=\"slon_ru\" data-tmsec=\"slon_total\">\\n    (function(win, doc, cb) {\\n        (win[cb] = win[cb] || []).push(function() {\\n            try {\\n                tnsCounterslon_ru = new TNS.TnsCounter({\\n                    \\'account\\': \"slon_ru\",\\n                    \\'tmsec\\'  : \"slon_total\"\\n                });\\n            } catch (e) {}\\n        });\\n\\n        var tnsscript = doc.createElement(\\'script\\');\\n        tnsscript.type = \\'text/javascript\\';\\n        tnsscript.async = true;\\n        tnsscript.src = (\\'https:\\' == doc.location.protocol ? \\'https:\\' : \\'http:\\') +\\n        \\'//www.tns-counter.ru/tcounter.js\\';\\n        var s = doc.getElementsByTagName(\\'script\\')[0];\\n        s.parentNode.insertBefore(tnsscript, s);\\n    })(window, this.document, \\'tnscounter_callback\\');\\n</script>\\n<noscript>\\n    <img src=\"//www.tns-counter.ru/V13a****slon_ru/ru/UTF-8/tmsec=slon_total/\" width=\"0\" height=\"0\" alt=\"\" />\\n</noscript>\\n<!-- /tns-counter.ru -->\\n\\n<!-- Yandex.Metrika counter -->\\n<script type=\"text/javascript\" id=\"analytics_ya\" data-id=\"169265\">\\n    (function (d, w, c) {\\n        fuckAdBlock.\\n                onDetected(function () {\\n                    w.analyticParams.adblock = true;\\n                    runMetrika();\\n                })\\n                .onNotDetected(function () {\\n                    w.analyticParams.adblock = false;\\n                    runMetrika();\\n                })\\n                .check();\\n\\n        function runMetrika() {\\n            (w[c] = w[c] || []).push(function () {\\n                try {\\n                    window.yaCommerce = window.yaCommerce || [];\\n                    w.yaCounter169265 = new Ya.Metrika({\\n                        id: 169265,\\n                        webvisor: true,\\n                        clickmap: true,\\n                        trackLinks: true,\\n                        accurateTrackBounce: true,\\n                        ecommerce: \"yaCommerce\",\\n                        params: window.analyticParams,\\n                        triggerEvent: true\\n                    });\\n                } catch (e) {\\n                }\\n            });\\n\\n            var n = d.getElementsByTagName(\"script\")[0],\\n                    s = d.createElement(\"script\"),\\n                    f = function () {\\n                        n.parentNode.insertBefore(s, n);\\n                    };\\n            s.type = \"text/javascript\";\\n            s.async = true;\\n            s.src = (d.location.protocol == \"https:\" ? \"https:\" : \"http:\") + \"//mc.yandex.ru/metrika/watch.js\";\\n\\n            if (w.opera == \"[object Opera]\") {\\n                d.addEventListener(\"DOMContentLoaded\", f, false);\\n            } else { f(); }\\n        }\\n    })(document, window, \"yandex_metrika_callbacks\");\\n</script>\\n<noscript><div><img src=\"//mc.yandex.ru/watch/169265\" style=\"position:absolute; left:-9999px;\" alt=\"\" /></div></noscript>\\n<!-- /Yandex.Metrika counter -->\\n\\n<!-- SMI2 -->\\n<!-- /SMI2 -->\\n\\n<!--LiveInternet counter-->\\n<script type=\"text/javascript\">\\n    new Image().src = \"//counter.yadro.ru/hit?r\" + escape(document.referrer)\\n        + ((typeof(screen)==\"undefined\")?\"\" : \";s\"+screen.width+\"*\"+screen.height+\"*\"\\n        + (screen.colorDepth?screen.colorDepth:screen.pixelDepth)) + \";u\"+escape(document.URL)\\n        + \";h\"+escape(document.title.substring(0,80))\\n        + \";\" +Math.random();\\n</script>\\n<!--/LiveInternet-->        <script type=\"text/javascript\">window.NREUM||(NREUM={});NREUM.info={\"beacon\":\"bam.nr-data.net\",\"licenseKey\":\"4dd19f9694\",\"applicationID\":\"6206043\",\"transactionName\":\"ZwAHMBcAV0NQUUdaWV5KMBYMTlhAQRxDW0Y=\",\"queueTime\":0,\"applicationTime\":72,\"atts\":\"S0cERl8aRE0=\",\"errorBeacon\":\"bam.nr-data.net\",\"agent\":\"\"}</script></body>\\n</html>'"
      ]
     },
     "execution_count": 7,
     "metadata": {},
     "output_type": "execute_result"
    }
   ],
   "source": [
    "news_page"
   ]
  },
  {
   "cell_type": "code",
   "execution_count": 8,
   "metadata": {
    "collapsed": true
   },
   "outputs": [],
   "source": [
    "news_page = BeautifulSoup(news_page, 'lxml')"
   ]
  },
  {
   "cell_type": "markdown",
   "metadata": {},
   "source": [
    "### Стало намного лучше, не правда ли?"
   ]
  },
  {
   "cell_type": "code",
   "execution_count": 9,
   "metadata": {
    "collapsed": true
   },
   "outputs": [
    {
     "data": {
      "text/plain": [
       "<!DOCTYPE html>\\n<html>\\n<head>\\n<title>\\u041d\\u043e\\u0432\\u043e\\u0441\\u0442\\u0438 \\u043d\\u0430 Slon.ru</title>\\n<!-- Hello, stranger! What are you doing here? ( \\u0361\\xb0 \\u035c\\u0296 \\u0361\\xb0) -->\\n<meta charset=\"unicode-escape\"/><script type=\"text/javascript\">(window.NREUM||(NREUM={})).loader_config={xpid:\"UAEGUFNVGwUCVFdSAwI=\"};window.NREUM||(NREUM={}),__nr_require=function(t,e,n){function r(n){if(!e[n]){var o=e[n]={exports:{}};t[n][0].call(o.exports,function(e){var o=t[n][1][e];return r(o||e)},o,o.exports)}return e[n].exports}if(\"function\"==typeof __nr_require)return __nr_require;for(var o=0;o<n.length;o++)r(n[o]);return r}({1:[function(t,e,n){function r(t){try{s.console&&console.log(t)}catch(e){}}var o,i=t(\"ee\"),a=t(15),s={};try{o=localStorage.getItem(\"__nr_flags\").split(\",\"),console&&\"function\"==typeof console.log&&(s.console=!0,o.indexOf(\"dev\")!==-1&&(s.dev=!0),o.indexOf(\"nr_dev\")!==-1&&(s.nrDev=!0))}catch(c){}s.nrDev&&i.on(\"internal-error\",function(t){r(t.stack)}),s.dev&&i.on(\"fn-err\",function(t,e,n){r(n.stack)}),s.dev&&(r(\"NR AGENT IN DEVELOPMENT MODE\"),r(\"flags: \"+a(s,function(t,e){return t}).join(\", \")))},{}],2:[function(t,e,n){function r(t,e,n,r,o){try{d?d-=1:i(\"err\",[o||new UncaughtException(t,e,n)])}catch(s){try{i(\"ierr\",[s,(new Date).getTime(),!0])}catch(c){}}return\"function\"==typeof f&&f.apply(this,a(arguments))}function UncaughtException(t,e,n){this.message=t||\"Uncaught error with no additional information\",this.sourceURL=e,this.line=n}function o(t){i(\"err\",[t,(new Date).getTime()])}var i=t(\"handle\"),a=t(16),s=t(\"ee\"),c=t(\"loader\"),f=window.onerror,u=!1,d=0;c.features.err=!0,t(1),window.onerror=r;try{throw new Error}catch(l){\"stack\"in l&&(t(8),t(7),\"addEventListener\"in window&&t(5),c.xhrWrappable&&t(9),u=!0)}s.on(\"fn-start\",function(t,e,n){u&&(d+=1)}),s.on(\"fn-err\",function(t,e,n){u&&(this.thrown=!0,o(n))}),s.on(\"fn-end\",function(){u&&!this.thrown&&d>0&&(d-=1)}),s.on(\"internal-error\",function(t){i(\"ierr\",[t,(new Date).getTime(),!0])})},{}],3:[function(t,e,n){t(\"loader\").features.ins=!0},{}],4:[function(t,e,n){function r(t){}if(window.performance&&window.performance.timing&&window.performance.getEntriesByType){var o=t(\"ee\"),i=t(\"handle\"),a=t(8),s=t(7),c=\"learResourceTimings\",f=\"addEventListener\",u=\"resourcetimingbufferfull\",d=\"bstResource\",l=\"resource\",p=\"-start\",h=\"-end\",m=\"fn\"+p,w=\"fn\"+h,v=\"bstTimer\",y=\"pushState\";t(\"loader\").features.stn=!0,t(6);var g=NREUM.o.EV;o.on(m,function(t,e){var n=t[0];n instanceof g&&(this.bstStart=Date.now())}),o.on(w,function(t,e){var n=t[0];n instanceof g&&i(\"bst\",[n,e,this.bstStart,Date.now()])}),a.on(m,function(t,e,n){this.bstStart=Date.now(),this.bstType=n}),a.on(w,function(t,e){i(v,[e,this.bstStart,Date.now(),this.bstType])}),s.on(m,function(){this.bstStart=Date.now()}),s.on(w,function(t,e){i(v,[e,this.bstStart,Date.now(),\"requestAnimationFrame\"])}),o.on(y+p,function(t){this.time=Date.now(),this.startPath=location.pathname+location.hash}),o.on(y+h,function(t){i(\"bstHist\",[location.pathname+location.hash,this.startPath,this.time])}),f in window.performance&&(window.performance[\"c\"+c]?window.performance[f](u,function(t){i(d,[window.performance.getEntriesByType(l)]),window.performance[\"c\"+c]()},!1):window.performance[f](\"webkit\"+u,function(t){i(d,[window.performance.getEntriesByType(l)]),window.performance[\"webkitC\"+c]()},!1)),document[f](\"scroll\",r,!1),document[f](\"keypress\",r,!1),document[f](\"click\",r,!1)}},{}],5:[function(t,e,n){function r(t){for(var e=t;e&&!e.hasOwnProperty(u);)e=Object.getPrototypeOf(e);e&&o(e)}function o(t){s.inPlace(t,[u,d],\"-\",i)}function i(t,e){return t[1]}var a=t(\"ee\").get(\"events\"),s=t(17)(a),c=t(\"gos\"),f=XMLHttpRequest,u=\"addEventListener\",d=\"removeEventListener\";e.exports=a,\"getPrototypeOf\"in Object?(r(document),r(window),r(f.prototype)):f.prototype.hasOwnProperty(u)&&(o(window),o(f.prototype)),a.on(u+\"-start\",function(t,e){if(t[1]){var n=t[1];if(\"function\"==typeof n){var r=c(n,\"nr@wrapped\",function(){return s(n,\"fn-\",null,n.name||\"anonymous\")});this.wrapped=t[1]=r}else\"function\"==typeof n.handleEvent&&s.inPlace(n,[\"handleEvent\"],\"fn-\")}}),a.on(d+\"-start\",function(t){var e=this.wrapped;e&&(t[1]=e)})},{}],6:[function(t,e,n){var r=t(\"ee\").get(\"history\"),o=t(17)(r);e.exports=r,o.inPlace(window.history,[\"pushState\",\"replaceState\"],\"-\")},{}],7:[function(t,e,n){var r=t(\"ee\").get(\"raf\"),o=t(17)(r),i=\"equestAnimationFrame\";e.exports=r,o.inPlace(window,[\"r\"+i,\"mozR\"+i,\"webkitR\"+i,\"msR\"+i],\"raf-\"),r.on(\"raf-start\",function(t){t[0]=o(t[0],\"fn-\")})},{}],8:[function(t,e,n){function r(t,e,n){t[0]=a(t[0],\"fn-\",null,n)}function o(t,e,n){this.method=n,this.timerDuration=\"number\"==typeof t[1]?t[1]:0,t[0]=a(t[0],\"fn-\",this,n)}var i=t(\"ee\").get(\"timer\"),a=t(17)(i),s=\"setTimeout\",c=\"setInterval\",f=\"clearTimeout\",u=\"-start\",d=\"-\";e.exports=i,a.inPlace(window,[s,\"setImmediate\"],s+d),a.inPlace(window,[c],c+d),a.inPlace(window,[f,\"clearImmediate\"],f+d),i.on(c+u,r),i.on(s+u,o)},{}],9:[function(t,e,n){function r(t,e){d.inPlace(e,[\"onreadystatechange\"],\"fn-\",s)}function o(){var t=this,e=u.context(t);t.readyState>3&&!e.resolved&&(e.resolved=!0,u.emit(\"xhr-resolved\",[],t)),d.inPlace(t,w,\"fn-\",s)}function i(t){v.push(t),h&&(g=-g,b.data=g)}function a(){for(var t=0;t<v.length;t++)r([],v[t]);v.length&&(v=[])}function s(t,e){return e}function c(t,e){for(var n in t)e[n]=t[n];return e}t(5);var f=t(\"ee\"),u=f.get(\"xhr\"),d=t(17)(u),l=NREUM.o,p=l.XHR,h=l.MO,m=\"readystatechange\",w=[\"onload\",\"onerror\",\"onabort\",\"onloadstart\",\"onloadend\",\"onprogress\",\"ontimeout\"],v=[];e.exports=u;var y=window.XMLHttpRequest=function(t){var e=new p(t);try{u.emit(\"new-xhr\",[e],e),e.addEventListener(m,o,!1)}catch(n){try{u.emit(\"internal-error\",[n])}catch(r){}}return e};if(c(p,y),y.prototype=p.prototype,d.inPlace(y.prototype,[\"open\",\"send\"],\"-xhr-\",s),u.on(\"send-xhr-start\",function(t,e){r(t,e),i(e)}),u.on(\"open-xhr-start\",r),h){var g=1,b=document.createTextNode(g);new h(a).observe(b,{characterData:!0})}else f.on(\"fn-end\",function(t){t[0]&&t[0].type===m||a()})},{}],10:[function(t,e,n){function r(t){var e=this.params,n=this.metrics;if(!this.ended){this.ended=!0;for(var r=0;r<d;r++)t.removeEventListener(u[r],this.listener,!1);if(!e.aborted){if(n.duration=(new Date).getTime()-this.startTime,4===t.readyState){e.status=t.status;var i=o(t,this.lastSize);if(i&&(n.rxSize=i),this.sameOrigin){var a=t.getResponseHeader(\"X-NewRelic-App-Data\");a&&(e.cat=a.split(\", \").pop())}}else e.status=0;n.cbTime=this.cbTime,f.emit(\"xhr-done\",[t],t),s(\"xhr\",[e,n,this.startTime])}}}function o(t,e){var n=t.responseType;if(\"json\"===n&&null!==e)return e;var r=\"arraybuffer\"===n||\"blob\"===n||\"json\"===n?t.response:t.responseText;return h(r)}function i(t,e){var n=c(e),r=t.params;r.host=n.hostname+\":\"+n.port,r.pathname=n.pathname,t.sameOrigin=n.sameOrigin}var a=t(\"loader\");if(a.xhrWrappable){var s=t(\"handle\"),c=t(11),f=t(\"ee\"),u=[\"load\",\"error\",\"abort\",\"timeout\"],d=u.length,l=t(\"id\"),p=t(14),h=t(13),m=window.XMLHttpRequest;a.features.xhr=!0,t(9),f.on(\"new-xhr\",function(t){var e=this;e.totalCbs=0,e.called=0,e.cbTime=0,e.end=r,e.ended=!1,e.xhrGuids={},e.lastSize=null,p&&(p>34||p<10)||window.opera||t.addEventListener(\"progress\",function(t){e.lastSize=t.loaded},!1)}),f.on(\"open-xhr-start\",function(t){this.params={method:t[0]},i(this,t[1]),this.metrics={}}),f.on(\"open-xhr-end\",function(t,e){\"loader_config\"in NREUM&&\"xpid\"in NREUM.loader_config&&this.sameOrigin&&e.setRequestHeader(\"X-NewRelic-ID\",NREUM.loader_config.xpid)}),f.on(\"send-xhr-start\",function(t,e){var n=this.metrics,r=t[0],o=this;if(n&&r){var i=h(r);i&&(n.txSize=i)}this.startTime=(new Date).getTime(),this.listener=function(t){try{\"abort\"===t.type&&(o.params.aborted=!0),(\"load\"!==t.type||o.called===o.totalCbs&&(o.onloadCalled||\"function\"!=typeof e.onload))&&o.end(e)}catch(n){try{f.emit(\"internal-error\",[n])}catch(r){}}};for(var a=0;a<d;a++)e.addEventListener(u[a],this.listener,!1)}),f.on(\"xhr-cb-time\",function(t,e,n){this.cbTime+=t,e?this.onloadCalled=!0:this.called+=1,this.called!==this.totalCbs||!this.onloadCalled&&\"function\"==typeof n.onload||this.end(n)}),f.on(\"xhr-load-added\",function(t,e){var n=\"\"+l(t)+!!e;this.xhrGuids&&!this.xhrGuids[n]&&(this.xhrGuids[n]=!0,this.totalCbs+=1)}),f.on(\"xhr-load-removed\",function(t,e){var n=\"\"+l(t)+!!e;this.xhrGuids&&this.xhrGuids[n]&&(delete this.xhrGuids[n],this.totalCbs-=1)}),f.on(\"addEventListener-end\",function(t,e){e instanceof m&&\"load\"===t[0]&&f.emit(\"xhr-load-added\",[t[1],t[2]],e)}),f.on(\"removeEventListener-end\",function(t,e){e instanceof m&&\"load\"===t[0]&&f.emit(\"xhr-load-removed\",[t[1],t[2]],e)}),f.on(\"fn-start\",function(t,e,n){e instanceof m&&(\"onload\"===n&&(this.onload=!0),(\"load\"===(t[0]&&t[0].type)||this.onload)&&(this.xhrCbStart=(new Date).getTime()))}),f.on(\"fn-end\",function(t,e){this.xhrCbStart&&f.emit(\"xhr-cb-time\",[(new Date).getTime()-this.xhrCbStart,this.onload,e],e)})}},{}],11:[function(t,e,n){e.exports=function(t){var e=document.createElement(\"a\"),n=window.location,r={};e.href=t,r.port=e.port;var o=e.href.split(\"://\");!r.port&&o[1]&&(r.port=o[1].split(\"/\")[0].split(\"@\").pop().split(\":\")[1]),r.port&&\"0\"!==r.port||(r.port=\"https\"===o[0]?\"443\":\"80\"),r.hostname=e.hostname||n.hostname,r.pathname=e.pathname,r.protocol=o[0],\"/\"!==r.pathname.charAt(0)&&(r.pathname=\"/\"+r.pathname);var i=!e.protocol||\":\"===e.protocol||e.protocol===n.protocol,a=e.hostname===document.domain&&e.port===n.port;return r.sameOrigin=i&&(!e.hostname||a),r}},{}],12:[function(t,e,n){function r(){}function o(t,e,n){return function(){return i(t,[(new Date).getTime()].concat(s(arguments)),e?null:this,n),e?void 0:this}}var i=t(\"handle\"),a=t(15),s=t(16),c=t(\"ee\").get(\"tracer\"),f=NREUM;\"undefined\"==typeof window.newrelic&&(newrelic=f);var u=[\"setPageViewName\",\"setCustomAttribute\",\"setErrorHandler\",\"finished\",\"addToTrace\",\"inlineHit\"],d=\"api-\",l=d+\"ixn-\";a(u,function(t,e){f[e]=o(d+e,!0,\"api\")}),f.addPageAction=o(d+\"addPageAction\",!0),e.exports=newrelic,f.interaction=function(){return(new r).get()};var p=r.prototype={createTracer:function(t,e){var n={},r=this,o=\"function\"==typeof e;return i(l+\"tracer\",[Date.now(),t,n],r),function(){if(c.emit((o?\"\":\"no-\")+\"fn-start\",[Date.now(),r,o],n),o)try{return e.apply(this,arguments)}finally{c.emit(\"fn-end\",[Date.now()],n)}}}};a(\"setName,setAttribute,save,ignore,onEnd,getContext,end,get\".split(\",\"),function(t,e){p[e]=o(l+e)}),newrelic.noticeError=function(t){\"string\"==typeof t&&(t=new Error(t)),i(\"err\",[t,(new Date).getTime()])}},{}],13:[function(t,e,n){e.exports=function(t){if(\"string\"==typeof t&&t.length)return t.length;if(\"object\"==typeof t){if(\"undefined\"!=typeof ArrayBuffer&&t instanceof ArrayBuffer&&t.byteLength)return t.byteLength;if(\"undefined\"!=typeof Blob&&t instanceof Blob&&t.size)return t.size;if(!(\"undefined\"!=typeof FormData&&t instanceof FormData))try{return JSON.stringify(t).length}catch(e){return}}}},{}],14:[function(t,e,n){var r=0,o=navigator.userAgent.match(/Firefox[\\\\/\\\\s](\\\\d+\\\\.\\\\d+)/);o&&(r=+o[1]),e.exports=r},{}],15:[function(t,e,n){function r(t,e){var n=[],r=\"\",i=0;for(r in t)o.call(t,r)&&(n[i]=e(r,t[r]),i+=1);return n}var o=Object.prototype.hasOwnProperty;e.exports=r},{}],16:[function(t,e,n){function r(t,e,n){e||(e=0),\"undefined\"==typeof n&&(n=t?t.length:0);for(var r=-1,o=n-e||0,i=Array(o<0?0:o);++r<o;)i[r]=t[e+r];return i}e.exports=r},{}],17:[function(t,e,n){function r(t){return!(t&&\"function\"==typeof t&&t.apply&&!t[a])}var o=t(\"ee\"),i=t(16),a=\"nr@original\",s=Object.prototype.hasOwnProperty,c=!1;e.exports=function(t){function e(t,e,n,o){function nrWrapper(){var r,a,s,c;try{a=this,r=i(arguments),s=\"function\"==typeof n?n(r,a):n||{}}catch(u){d([u,\"\",[r,a,o],s])}f(e+\"start\",[r,a,o],s);try{return c=t.apply(a,r)}catch(l){throw f(e+\"err\",[r,a,l],s),l}finally{f(e+\"end\",[r,a,c],s)}}return r(t)?t:(e||(e=\"\"),nrWrapper[a]=t,u(t,nrWrapper),nrWrapper)}function n(t,n,o,i){o||(o=\"\");var a,s,c,f=\"-\"===o.charAt(0);for(c=0;c<n.length;c++)s=n[c],a=t[s],r(a)||(t[s]=e(a,f?s+o:o,i,s))}function f(e,n,r){if(!c){c=!0;try{t.emit(e,n,r)}catch(o){d([o,e,n,r])}c=!1}}function u(t,e){if(Object.defineProperty&&Object.keys)try{var n=Object.keys(t);return n.forEach(function(n){Object.defineProperty(e,n,{get:function(){return t[n]},set:function(e){return t[n]=e,e}})}),e}catch(r){d([r])}for(var o in t)s.call(t,o)&&(e[o]=t[o]);return e}function d(e){try{t.emit(\"internal-error\",e)}catch(n){}}return t||(t=o),e.inPlace=n,e.flag=a,e}},{}],ee:[function(t,e,n){function r(){}function o(t){function e(t){return t&&t instanceof r?t:t?s(t,a,i):i()}function n(n,r,o){t&&t(n,r,o);for(var i=e(o),a=l(n),s=a.length,c=0;c<s;c++)a[c].apply(i,r);var u=f[w[n]];return u&&u.push([v,n,r,i]),i}function d(t,e){m[t]=l(t).concat(e)}function l(t){return m[t]||[]}function p(t){return u[t]=u[t]||o(n)}function h(t,e){c(t,function(t,n){e=e||\"feature\",w[n]=e,e in f||(f[e]=[])})}var m={},w={},v={on:d,emit:n,get:p,listeners:l,context:e,buffer:h};return v}function i(){return new r}var a=\"nr@context\",s=t(\"gos\"),c=t(15),f={},u={},d=e.exports=o();d.backlog=f},{}],gos:[function(t,e,n){function r(t,e,n){if(o.call(t,e))return t[e];var r=n();if(Object.defineProperty&&Object.keys)try{return Object.defineProperty(t,e,{value:r,writable:!0,enumerable:!1}),r}catch(i){}return t[e]=r,r}var o=Object.prototype.hasOwnProperty;e.exports=r},{}],handle:[function(t,e,n){function r(t,e,n,r){o.buffer([t],r),o.emit(t,e,n)}var o=t(\"ee\").get(\"handle\");e.exports=r,r.ee=o},{}],id:[function(t,e,n){function r(t){var e=typeof t;return!t||\"object\"!==e&&\"function\"!==e?-1:t===window?0:a(t,i,function(){return o++})}var o=1,i=\"nr@id\",a=t(\"gos\");e.exports=r},{}],loader:[function(t,e,n){function r(){if(!g++){var t=y.info=NREUM.info,e=u.getElementsByTagName(\"script\")[0];if(t&&t.licenseKey&&t.applicationID&&e){c(w,function(e,n){t[e]||(t[e]=n)});var n=\"https\"===m.split(\":\")[0]||t.sslForHttp;y.proto=n?\"https://\":\"http://\",s(\"mark\",[\"onload\",a()],null,\"api\");var r=u.createElement(\"script\");r.src=y.proto+t.agent,e.parentNode.insertBefore(r,e)}}}function o(){\"complete\"===u.readyState&&i()}function i(){s(\"mark\",[\"domContent\",a()],null,\"api\")}function a(){return(new Date).getTime()}var s=t(\"handle\"),c=t(15),f=window,u=f.document,d=\"addEventListener\",l=\"attachEvent\",p=f.XMLHttpRequest,h=p&&p.prototype;NREUM.o={ST:setTimeout,CT:clearTimeout,XHR:p,REQ:f.Request,EV:f.Event,PR:f.Promise,MO:f.MutationObserver},t(12);var m=\"\"+location,w={beacon:\"bam.nr-data.net\",errorBeacon:\"bam.nr-data.net\",agent:\"js-agent.newrelic.com/nr-974.min.js\"},v=p&&h&&h[d]&&!/CriOS/.test(navigator.userAgent),y=e.exports={offset:a(),origin:m,features:{},xhrWrappable:v};u[d]?(u[d](\"DOMContentLoaded\",i,!1),f[d](\"load\",r,!1)):(u[l](\"onreadystatechange\",o),f[l](\"onload\",r)),s(\"mark\",[\"firstbyte\",a()],null,\"api\");var g=0},{}]},{},[\"loader\",2,10,4,3]);</script>\\n<meta content=\"text/html\" http-equiv=\"Content-Type\"/>\\n<meta content=\"width=device-width, initial-scale=1, user-scalable=no\" name=\"viewport\"/>\\n<meta content=\"\" name=\"description\"/>\\n<meta content=\"website\" property=\"og:type\"/>\\n<meta content=\"https://slon.ru/news\" property=\"og:url\"/>\\n<meta content=\"\\u041d\\u043e\\u0432\\u043e\\u0441\\u0442\\u0438 \\u043d\\u0430 Slon.ru\" property=\"og:title\"/>\\n<meta content=\"\" property=\"og:description\"/>\\n<link href=\"/export/all.xml\" rel=\"alternate\" title=\"Slon.ru\" type=\"application/rss+xml\"/>\\n<link href=\"/export/articles.xml\" rel=\"alternate\" title=\"\\u0421\\u0442\\u0430\\u0442\\u044c\\u0438 Slon.ru\" type=\"application/rss+xml\"/>\\n<link href=\"/export/fast.xml\" rel=\"alternate\" title=\"\\u0411\\u044b\\u0441\\u0442\\u0440\\u044b\\u0439 Slon\" type=\"application/rss+xml\"/>\\n<link href=\"https://slon.ru/search.xml\" rel=\"search\" title=\"\\u041f\\u043e\\u0438\\u0441\\u043a \\u043d\\u0430 Slon\" type=\"application/opensearchdescription+xml\"/>\\n<link href=\"/assets/images/favicon.png?v=1.0.504\" rel=\"icon\" type=\"image/png\"/>\\n<link href=\"/assets/images/favicon76x76.png?v=1.0.504\" rel=\"apple-touch-icon\"/>\\n<link href=\"/assets/images/favicon76x76.png?v=1.0.504\" rel=\"apple-touch-icon\" sizes=\"76x76\"/>\\n<link href=\"/assets/images/favicon60x60@2x.png?v=1.0.504\" rel=\"apple-touch-icon\" sizes=\"120x120\"/>\\n<link href=\"/assets/images/favicon76x76@2x.png?v=1.0.504\" rel=\"apple-touch-icon\" sizes=\"152x152\"/>\\n<meta content=\"309148850654\" property=\"fb:pages\"/>\\n<meta content=\"xA1LIaDSAy5J179d1NKlmZwKgiGXU87FBtKblSOCOmQ\" name=\"google-site-verification\"/>\\n<script src=\"/assets/javascripts/advertisement.js?v=1.0.504\"></script>\\n<script src=\"/assets/javascripts/site-vendor.min.js?v=1.0.504\"></script>\\n<script src=\"/assets/javascripts/site-bundle.min.js?v=1.0.504\"></script>\\n<script async=\"\" src=\"https://cdn.onesignal.com/sdks/OneSignalSDK.js\"></script>\\n<link href=\"/manifest.json\" rel=\"manifest\"/>\\n<script>\\n    var OneSignal = window.OneSignal || [];\\n    OneSignal.push([\"init\", {\\n        path: \"/\",\\n        appId: \"623ee752-8622-4386-b53b-e43b4d268923\",\\n        safari_web_id: \"web.onesignal.auto.4058b815-86ea-44b3-9131-733c406f5a63\",\\n        autoRegister: true,\\n        welcomeNotification: {disable: true},\\n        bell: {disable: true},\\n        serviceWorkerRefetchRequests: false,\\n        persistNotification: false\\n    }]);\\n</script>\\n<!-- Facebook Pixel Code -->\\n<script>\\n    !function(f,b,e,v,n,t,s){if(f.fbq)return;n=f.fbq=function(){n.callMethod?\\n            n.callMethod.apply(n,arguments):n.queue.push(arguments)};if(!f._fbq)f._fbq=n;\\n        n.push=n;n.loaded=!0;n.version='2.0';n.queue=[];t=b.createElement(e);t.async=!0;\\n        t.src=v;s=b.getElementsByTagName(e)[0];s.parentNode.insertBefore(t,s)}(window,\\n            document,'script','https://connect.facebook.net/en_US/fbevents.js');\\n    fbq('init', '1235577806499011');\\n    fbq('track', \"PageView\");\\n</script>\\n<noscript>\\n<img height=\"1\" src=\"https://www.facebook.com/tr?id=1235577806499011&amp;ev=PageView&amp;noscript=1\" style=\"display:none\" width=\"1\"/>\\n</noscript>\\n<!-- End Facebook Pixel Code -->\\n<script>\\n    var isMobile = false;\\n    var targeting = {\\n        slonAuthorized: false,\\n        slonSubscriber: false\\n                    , slonUrl: \"slon.ru/news\"\\n                            , slonTitle: \"\\u041d\\u043e\\u0432\\u043e\\u0441\\u0442\\u0438 \\u043d\\u0430 Slon.ru\"\\n                    }\\n</script>\\n<!-- gpt -->\\n<script async=\"async\" src=\"https://www.googletagservices.com/tag/js/gpt.js\"></script>\\n<script>\\n    var googletag = googletag || {};\\n    googletag.cmd = googletag.cmd || [];\\n\\n    googletag.cmd.push(function() {\\n        try {\\n            googletag.pubads().addEventListener('slotRenderEnded', function(event) {\\n             // recalc waypoints & packery\\n               $(window).trigger('resize')\\n            //    console.log(event.slot.getName() + ' is rendered to slot of size: '\\n            //        + event.size[0] + 'x' + event.size[1]);\\n            });\\n\\n            if (typeof isMobile != \"undefined\" && isMobile) {\\n                googletag.defineSlot('/124171376/Slon_m_bottomline', [300, 250], 'div-gpt-ad-1474029926680-0').addService(googletag.pubads());\\n                googletag.defineSlot('/124171376/Slon_m_main_after2', [300, 250], 'div-gpt-ad-1473765563133-0').addService(googletag.pubads());\\n                googletag.defineSlot('/124171376/Slon_m_news_after2', [300, 250], 'div-gpt-ad-1474031936665-0').addService(googletag.pubads());\\n                googletag.defineSlot('/124171376/Slon_m_news_head', [[1, 1], [300, 250]], 'div-gpt-ad-1475062555813-0').addService(googletag.pubads());\\n                googletag.defineSlot('/124171376/Slon_m_articles_after1', [[1, 1], [300, 250]], 'div-gpt-ad-1475062671768-0').addService(googletag.pubads());\\n                googletag.defineSlot('/124171376/Slon_Top_970x250', [300, 250], 'div-gpt-ad-1474021918358-0').addService(googletag.pubads());\\n                googletag.defineSlot('/124171376/Slon_m_main_top', [[1, 1], [300, 250]], 'div-gpt-ad-1475062185764-0').addService(googletag.pubads());\\n                googletag.defineSlot('/124171376/Slon_mobilefulllscreen', [1, 1], 'div-gpt-ad-1475060329189-0').addService(googletag.pubads()); \\n                //googletag.defineSlot('/124171376/Slon_d_main_native', [325, 340], 'div-gpt-ad-1475243988921-0').addService(googletag.pubads()); \\n                googletag.defineSlot('/124171376/Slon_m_articles_bottom_adv', [300, 250], 'div-gpt-ad-1475491892564-0').addService(googletag.pubads());\\n                googletag.defineSlot('/124171376/Slon_m_after_social', [[325, 340], [300, 250]], 'div-gpt-ad-1475505320731-0').addService(googletag.pubads());\\n            } else {\\n                googletag.defineSlot('/124171376/d_articles_after3', [580, 400], 'div-gpt-ad-1474022000295-0').addService(googletag.pubads());\\n                googletag.defineSlot('/124171376/Slon_footer', [970, 250], 'div-gpt-ad-1463485357561-0').addService(googletag.pubads());\\n                googletag.defineSlot('/124171376/Slon_d_articles_bottom_adv', [[1, 1], [300, 250]], 'div-gpt-ad-1475491326002-0').addService(googletag.pubads());\\n                googletag.defineSlot('/124171376/Slon_NEW_240x400', [[240, 400], [300, 600]], 'div-gpt-ad-1456419684817-0').addService(googletag.pubads());\\n                googletag.defineSlot('/124171376/Slon_mainpage_240x400_2', [[300, 600], [240, 400]], 'div-gpt-ad-1453890280452-0').addService(googletag.pubads());\\n                googletag.defineSlot('/124171376/Slon_asidenews_2', [300, 600], 'div-gpt-ad-1460627939318-0').addService(googletag.pubads());\\n                googletag.defineSlot('/124171376/d_topline', [970, 250], 'div-gpt-ad-1474017645149-0').addService(googletag.pubads());\\n                 googletag.defineSlot('/124171376/d_aside', [[300, 600], [240, 400], [1, 1]], 'div-gpt-ad-1474979850261-0').addService(googletag.pubads());\\n                // googletag.defineSlot('/124171376/Slon_d_main_native', [325, 340], 'div-gpt-ad-1475243988921-0').addService(googletag.pubads()); \\n                 googletag.defineSlot('/124171376/Slon_d_after_social', [580, 400], 'div-gpt-ad-1475505355112-0').addService(googletag.pubads());\\n            }\\n\\n            for (var target in targeting) {\\n                if (targeting.hasOwnProperty(target)) {\\n                     googletag.pubads().setTargeting(target, targeting[target].toString());\\n                 }\\n            }\\n\\n            googletag.pubads().enableSingleRequest();\\n            googletag.pubads().collapseEmptyDivs(true);\\n            googletag.enableServices();\\n        } catch (e) {\\n            console.error(e);\\n        }\\n    });\\n</script>\\n<!-- end gpt -->\\n<link href=\"/assets/stylesheets/site-bundle.min.css?v=1.0.504\" rel=\"stylesheet\"/>\\n<link href=\"//fonts.googleapis.com/css?family=Roboto:300,400,700,300italic,500|Roboto+Condensed:700,400,600|Roboto+Slab&amp;subset=latin,cyrillic\" rel=\"stylesheet\"/>\\n<link href=\"/assets/fonts/style.css?v=1.0.504\" rel=\"stylesheet\"/>\\n</head>\\n<body>\\n<!-- /124171376/Slon_mobilefulllscreen -->\\n<div id=\"div-gpt-ad-1475060329189-0\" style=\"height:0px; width:0px; position: absolute;\">\\n<script>\\ngoogletag.cmd.push(function() { googletag.display('div-gpt-ad-1475060329189-0'); });\\n</script>\\n</div>\\n<div class=\"top-main-banner-wrap\">\\n<div class=\"advert advert-desktop\">\\n<!-- /124171376/d_topline -->\\n<div id=\"div-gpt-ad-1474017645149-0\">\\n<script>\\ngoogletag.cmd.push(function() { googletag.display('div-gpt-ad-1474017645149-0'); });\\n</script>\\n</div>\\n</div>\\n</div> <nav class=\"navbar navbar-default main-menu\" role=\"navigation\">\\n<div class=\"container\">\\n<div class=\"logo\">\\n<a class=\"navbar-brand\" href=\"/\"></a>\\n</div>\\n<div class=\"show-menu\">\\n<i class=\"icon-svg17\"></i>\\n</div>\\n<div class=\"collapse-block\">\\n<ul class=\"menu\">\\n<li><a href=\"/news\">\\u041d\\u043e\\u0432\\u043e\\u0441\\u0442\\u0438</a></li>\\n<li><a href=\"/special/books\">\\u041a\\u043d\\u0438\\u0433\\u0438</a></li>\\n<li><a href=\"/subscribe\">\\u041f\\u043e\\u0434\\u043f\\u0438\\u0441\\u043a\\u0430</a></li>\\n<li><a href=\"/advertise\">\\u0420\\u0435\\u043a\\u043b\\u0430\\u043c\\u0430</a></li>\\n<li><a href=\"https://telegram.me/SlonMag\">Telegram</a></li>\\n</ul>\\n<div class=\"auth-block\">\\n<ul class=\"right-menu\">\\n<li>\\n<a href=\"/signin\">\\n                                                                \\u0412\\u0445\\u043e\\u0434\\n                            </a>\\n</li>\\n<li>\\n<a href=\"/signup\">\\n                                                                \\u0420\\u0435\\u0433\\u0438\\u0441\\u0442\\u0440\\u0430\\u0446\\u0438\\u044f\\n                            </a>\\n</li>\\n<li class=\"search-button \">\\n<a class=\"full\" href=\"#\">\\n<i class=\"icon-svg2\"></i>\\n<i class=\"icon-svg18\"></i>\\n</a>\\n<a class=\"mobile\" href=\"/search\">\\n                            \\u041f\\u043e\\u0438\\u0441\\u043a\\n                        </a>\\n</li>\\n</ul>\\n</div>\\n</div>\\n</div>\\n</nav>\\n<section class=\"search-wrapper hidden-search \">\\n<section class=\"main\">\\n<section class=\"input\">\\n<div class=\"container\">\\n<form action=\"/search\" method=\"GET\">\\n<input class=\"search-input form-control\" name=\"q\" placeholder=\"\\u042f \\u0438\\u0449\\u0443...\" type=\"text\"/>\\n<button class=\"search-submit\">\\n<i class=\"icon-svg2\"></i>\\n</button>\\n</form>\\n</div>\\n</section>\\n</section>\\n</section>\\n<section class=\"showcase news\">\\n<div class=\"container\">\\n<h2>\\n                \\u041d\\u041e\\u0412\\u041e\\u0421\\u0422\\u0418\\n                <a class=\"rss-button\" href=\"/export/fast.xml\" target=\"_blank\">\\n<i class=\"icon-svg7\"></i>\\n</a>\\n</h2>\\n</div>\\n<section class=\"showcase-container\">\\n<section class=\"showcase-row\">\\n<section class=\"showcase-lines\">\\n<div class=\"date-col\">\\n<div class=\"date\">\\n<span class=\"date-content-day\">\\n                                    15\\n                                </span>\\n<span class=\"date-content-month\">\\n                                    \\u043e\\u043a\\u0442\\u044f\\u0431\\u0440\\u044f\\n                                </span>\\n</div>\\n</div>\\n<div class=\"news-col\">\\n<article class=\"news-line\">\\n<a href=\"/posts/74927\">\\n<div class=\"line-content\">\\n<div class=\"line-post-label\">\\n                                                                                                    01:31\\n                                                                                            </div>\\n<h6 class=\"line-post-headline \">\\n                                                \\u0412\\u043b\\u0430\\u0441\\u0442\\u0438 \\u0421\\u0428\\u0410 \\u0437\\u0430\\u043f\\u0440\\u0435\\u0442\\u0438\\u043b\\u0438 \\u043f\\u0440\\u043e\\u043d\\u043e\\u0441\\u0438\\u0442\\u044c Samsung Galaxy Note 7\\xa0\\u0432\\xa0\\u0441\\u0430\\u043c\\u043e\\u043b\\u0435\\u0442\\u044b\\n                                                                                            </h6>\\n</div>\\n</a>\\n</article>\\n</div>\\n</section>\\n</section>\\n<aside class=\"showcase-aside\">\\n<div class=\"advert\" data-banner=\"ASIDE_MAIN\">\\n</div>\\n</aside>\\n<section class=\"showcase-row\">\\n<section class=\"showcase-lines\">\\n<div class=\"date-col\">\\n<div class=\"date\">\\n<span class=\"date-content-day\">\\n                                    14\\n                                </span>\\n<span class=\"date-content-month\">\\n                                    \\u043e\\u043a\\u0442\\u044f\\u0431\\u0440\\u044f\\n                                </span>\\n</div>\\n</div>\\n<div class=\"news-col\">\\n<article class=\"news-line\">\\n<a href=\"/posts/74926\">\\n<div class=\"line-content\">\\n<div class=\"line-post-label\">\\n                                                                                                    23:14\\n                                                                                            </div>\\n<h6 class=\"line-post-headline \">\\n                                                Fitch \\u0443\\u043b\\u0443\\u0447\\u0448\\u0438\\u043b\\u043e \\u043f\\u0440\\u043e\\u0433\\u043d\\u043e\\u0437 \\u043f\\u043e\\xa0\\u0440\\u0435\\u0439\\u0442\\u0438\\u043d\\u0433\\u0443 \\u0420\\u043e\\u0441\\u0441\\u0438\\u0438 \\u0434\\u043e\\xa0\\xab\\u0441\\u0442\\u0430\\u0431\\u0438\\u043b\\u044c\\u043d\\u043e\\u0433\\u043e\\xbb\\n                                                                                            </h6>\\n</div>\\n</a>\\n</article>\\n<article class=\"news-line\">\\n<a href=\"/posts/74924\">\\n<div class=\"line-content\">\\n<div class=\"line-post-label\">\\n                                                                                                    21:00\\n                                                                                            </div>\\n<h6 class=\"line-post-headline \">\\n                                                \\u0421\\u041c\\u0418 \\u0441\\u043e\\u043e\\u0431\\u0449\\u0438\\u043b\\u0438 \\u043e\\u0431\\xa0\\u043e\\u0431\\u044b\\u0441\\u043a\\u0430\\u0445 \\u0432\\xa0\\u043c\\u0430\\u0433\\u0430\\u0437\\u0438\\u043d\\u0435 \\xab\\u041b\\u0438\\u0442\\u0420\\u0435\\u0441\\xbb\\n                                                                                            </h6>\\n</div>\\n</a>\\n</article>\\n<article class=\"news-line\">\\n<a href=\"/posts/74921\">\\n<div class=\"line-content\">\\n<div class=\"line-post-label\">\\n                                                                                                    19:43\\n                                                                                            </div>\\n<h6 class=\"line-post-headline \">\\n                                                \\u0421\\u041c\\u0418 \\u0441\\u043e\\u043e\\u0431\\u0449\\u0438\\u043b\\u0438 \\u043e\\xa0\\u0437\\u0430\\u0434\\u0435\\u0440\\u0436\\u0430\\u043d\\u0438\\u0438 \\u0431\\u044b\\u0432\\u0448\\u0435\\u0433\\u043e \\u043c\\u0438\\u0440\\u043e\\u0432\\u043e\\u0433\\u043e \\u0441\\u0443\\u0434\\u044c\\u0438 \\u0437\\u0430\\xa0\\u0441\\u0442\\u0440\\u0435\\u043b\\u044c\\u0431\\u0443 \\u0432\\xa0\\u0425\\u0430\\u0441\\u0430\\u0432\\u044e\\u0440\\u0442\\u0435\\n                                                                                            </h6>\\n</div>\\n</a>\\n</article>\\n<article class=\"news-line\">\\n<a href=\"/posts/74918\">\\n<div class=\"line-content\">\\n<div class=\"line-post-label\">\\n                                                                                                    18:46\\n                                                                                            </div>\\n<h6 class=\"line-post-headline \">\\n                                                \\u041e\\u0442\\xa0\\u0432\\u043b\\u0430\\u0434\\u0435\\u043b\\u044c\\u0446\\u0435\\u0432 \\u0438\\u043d\\u043e\\u0441\\u0442\\u0440\\u0430\\u043d\\u043d\\u044b\\u0445 \\u0441\\u0447\\u0435\\u0442\\u043e\\u0432 \\u0441\\u0442\\u0430\\u043b\\u0438 \\u0442\\u0440\\u0435\\u0431\\u043e\\u0432\\u0430\\u0442\\u044c \\u043b\\u0438\\u0447\\u043d\\u043e \\u043f\\u0440\\u0438\\u0439\\u0442\\u0438 \\u0432\\xa0\\u043d\\u0430\\u043b\\u043e\\u0433\\u043e\\u0432\\u0443\\u044e\\n                                                                                            </h6>\\n</div>\\n</a>\\n</article>\\n<article class=\"news-line\">\\n<a href=\"/posts/74919\">\\n<div class=\"line-content\">\\n<div class=\"line-post-label\">\\n                                                                                                    18:46\\n                                                                                            </div>\\n<h6 class=\"line-post-headline \">\\n                                                \\u041c\\u0438\\u043d\\u0438\\u0441\\u0442\\u0440 \\u0410\\u0431\\u044b\\u0437\\u043e\\u0432 \\u043e\\u0431\\u044a\\u044f\\u0441\\u043d\\u0438\\u043b \\u043f\\u0440\\u043e\\u0441\\u0440\\u043e\\u0447\\u043a\\u0443 \\u0440\\u0430\\u0441\\u0441\\u043c\\u043e\\u0442\\u0440\\u0435\\u043d\\u0438\\u044f \\u043f\\u0435\\u0442\\u0438\\u0446\\u0438\\u0438 \\u043f\\u0440\\u043e\\u0442\\u0438\\u0432 \\u0437\\u0430\\u043a\\u043e\\u043d\\u043e\\u0432 \\u042f\\u0440\\u043e\\u0432\\u043e\\u0439\\n                                                                                            </h6>\\n</div>\\n</a>\\n</article>\\n<article class=\"news-line\">\\n<a href=\"/posts/74917\">\\n<div class=\"line-content\">\\n<div class=\"line-post-label\">\\n                                                                                                    18:29\\n                                                                                            </div>\\n<h6 class=\"line-post-headline \">\\n                                                \\u041c\\u0438\\u043d\\u043e\\u0431\\u043e\\u0440\\u043e\\u043d\\u044b \\u043e\\u0442\\u0432\\u0435\\u0440\\u0433\\u043b\\u043e \\u0434\\u0430\\u043d\\u043d\\u044b\\u0435 \\u043e\\xa0\\u0433\\u0438\\u0431\\u0435\\u043b\\u0438 \\u0448\\u0435\\u0441\\u0442\\u0435\\u0440\\u044b\\u0445 \\u0432\\u043e\\u0435\\u043d\\u043d\\u044b\\u0445 \\u0432\\xa0\\u0421\\u0438\\u0440\\u0438\\u0438\\n                                                                                            </h6>\\n</div>\\n</a>\\n</article>\\n<article class=\"news-line\">\\n<a href=\"/posts/74915\">\\n<div class=\"line-content\">\\n<div class=\"line-post-label\">\\n                                                                                                    17:57\\n                                                                                            </div>\\n<h6 class=\"line-post-headline \">\\n                                                \\u0421\\u0438\\u0440\\u0438\\u0439\\u0441\\u043a\\u0438\\u0435 \\u0438\\u0441\\u043b\\u0430\\u043c\\u0438\\u0441\\u0442\\u044b \\u0437\\u0430\\u044f\\u0432\\u0438\\u043b\\u0438 \\u043e\\u0431\\xa0\\u0443\\u0431\\u0438\\u0439\\u0441\\u0442\\u0432\\u0435 \\u0448\\u0435\\u0441\\u0442\\u0435\\u0440\\u044b\\u0445 \\u0440\\u043e\\u0441\\u0441\\u0438\\u0439\\u0441\\u043a\\u0438\\u0445 \\u0432\\u043e\\u0435\\u043d\\u043d\\u044b\\u0445\\n                                                                                            </h6>\\n</div>\\n</a>\\n</article>\\n<article class=\"news-line\">\\n<a href=\"/posts/74914\">\\n<div class=\"line-content\">\\n<div class=\"line-post-label\">\\n                                                                                                    17:38\\n                                                                                            </div>\\n<h6 class=\"line-post-headline \">\\n                                                \\u0420\\u043e\\u0441\\u0442\\u0435\\u0445\\u043d\\u0430\\u0434\\u0437\\u043e\\u0440 \\u0432\\u043d\\u0435\\u043f\\u043b\\u0430\\u043d\\u043e\\u0432\\u043e \\u043f\\u0440\\u043e\\u0432\\u0435\\u0440\\u0438\\u0442 \\u043f\\u0440\\u0435\\u0434\\u043f\\u0440\\u0438\\u044f\\u0442\\u0438\\u0435 \\xab\\u041b\\u0443\\u043a\\u043e\\u0439\\u043b\\u0430\\xbb \\u0438\\xa0\\xab\\u0411\\u0430\\u0448\\u043d\\u0435\\u0444\\u0442\\u0438\\xbb\\n                                                                                            </h6>\\n</div>\\n</a>\\n</article>\\n<article class=\"news-line\">\\n<a href=\"/posts/74912\">\\n<div class=\"line-content\">\\n<div class=\"line-post-label\">\\n                                                                                                    17:26\\n                                                                                            </div>\\n<h6 class=\"line-post-headline \">\\n                                                Reuters \\u0443\\u0437\\u043d\\u0430\\u043b\\u043e \\u043e\\xa0\\u0432\\u043e\\u0437\\u043c\\u043e\\u0436\\u043d\\u043e\\u043c \\u0443\\u0432\\u043e\\u043b\\u044c\\u043d\\u0435\\u043d\\u0438\\u0438 \\u0435\\u0449\\u0435 10\\xa0\\u0442\\u044b\\u0441\\u044f\\u0447 \\u0440\\u0430\\u0431\\u043e\\u0442\\u043d\\u0438\\u043a\\u043e\\u0432 Deutsche Bank\\n                                                                                            </h6>\\n</div>\\n</a>\\n</article>\\n<article class=\"news-line\">\\n<a href=\"/posts/74913\">\\n<div class=\"line-content\">\\n<div class=\"line-post-label\">\\n                                                                                                    17:17\\n                                                                                            </div>\\n<h6 class=\"line-post-headline \">\\n                                                \\u0424\\u0440\\u0430\\u043d\\u0446\\u0443\\u0437\\u0441\\u043a\\u0438\\u0439 \\u0441\\u0443\\u0434 \\u0441\\u043c\\u044f\\u0433\\u0447\\u0438\\u043b \\u0440\\u043e\\u0441\\u0441\\u0438\\u0439\\u0441\\u043a\\u0438\\u043c \\u0431\\u043e\\u043b\\u0435\\u043b\\u044c\\u0449\\u0438\\u043a\\u0430\\u043c \\u043d\\u0430\\u043a\\u0430\\u0437\\u0430\\u043d\\u0438\\u0435 \\u0437\\u0430\\xa0\\u0431\\u0435\\u0441\\u043f\\u043e\\u0440\\u044f\\u0434\\u043a\\u0438 \\u043d\\u0430\\xa0\\u0415\\u0432\\u0440\\u043e-2016\\n                                                                                            </h6>\\n</div>\\n</a>\\n</article>\\n<article class=\"news-line\">\\n<a href=\"/posts/74911\">\\n<div class=\"line-content\">\\n<div class=\"line-post-label\">\\n                                                                                                    16:48\\n                                                                                            </div>\\n<h6 class=\"line-post-headline \">\\n                                                \\u0421\\u043b\\u0435\\u0434\\u0441\\u0442\\u0432\\u0438\\u0435 \\u0443\\u0436\\u0435\\u0441\\u0442\\u043e\\u0447\\u0438\\u043b\\u043e \\u043e\\u0431\\u0432\\u0438\\u043d\\u0435\\u043d\\u0438\\u0435 \\u041f\\u043e\\u043b\\u043e\\u043d\\u0441\\u043a\\u043e\\u043c\\u0443 \\u043f\\u043e\\xa0\\u0434\\u0435\\u043b\\u0443 \\u043e\\xa0\\u043c\\u043e\\u0448\\u0435\\u043d\\u043d\\u0438\\u0447\\u0435\\u0441\\u0442\\u0432\\u0435\\n                                                                                            </h6>\\n</div>\\n</a>\\n</article>\\n<article class=\"news-line\">\\n<a href=\"/posts/74910\">\\n<div class=\"line-content\">\\n<div class=\"line-post-label\">\\n                                                                                                    16:38\\n                                                                                            </div>\\n<h6 class=\"line-post-headline \">\\n                                                Goldman Sachs \\u0432\\u044b\\u0438\\u0433\\u0440\\u0430\\u043b \\u0438\\u0441\\u043a \\u043e\\xa0\\xab\\u0440\\u0430\\u0437\\u043e\\u0440\\u0435\\u043d\\u0438\\u0438\\xbb \\u041b\\u0438\\u0432\\u0438\\u0438\\n                                                                                            </h6>\\n</div>\\n</a>\\n</article>\\n<article class=\"news-line\">\\n<a href=\"/posts/74909\">\\n<div class=\"line-content\">\\n<div class=\"line-post-label\">\\n                                                                                                    15:54\\n                                                                                            </div>\\n<h6 class=\"line-post-headline \">\\n                                                \\u0411\\u043b\\u043e\\u0433\\u0435\\u0440 \\u0416\\u0443\\u0440\\u0430\\u0432\\u043b\\u0435\\u0432 \\u0432\\u0435\\u0440\\u043d\\u0443\\u043b\\u0441\\u044f \\u0432\\xa0\\u0420\\u043e\\u0441\\u0441\\u0438\\u044e \\u043f\\u043e\\u0441\\u043b\\u0435 \\u0442\\u0440\\u0435\\u0445 \\u043b\\u0435\\u0442 \\u0432\\xa0\\u043f\\u043b\\u0435\\u043d\\u0443 \\u0443\\xa0\\u0441\\u0438\\u0440\\u0438\\u0439\\u0441\\u043a\\u0438\\u0445 \\u0438\\u0441\\u043b\\u0430\\u043c\\u0438\\u0441\\u0442\\u043e\\u0432\\n                                                                                            </h6>\\n</div>\\n</a>\\n</article>\\n<article class=\"news-line\">\\n<a href=\"/posts/74907\">\\n<div class=\"line-content\">\\n<div class=\"line-post-label\">\\n                                                                                                    15:53\\n                                                                                            </div>\\n<h6 class=\"line-post-headline \">\\n                                                \\u041e\\u0431\\u0432\\u0438\\u043d\\u044f\\u0435\\u043c\\u043e\\u0433\\u043e \\u0432\\xa0\\u043e\\u0431\\u0432\\u0430\\u043b\\u0435 Dow Jones \\u0442\\u0440\\u0435\\u0439\\u0434\\u0435\\u0440\\u0430 \\u0432\\u044b\\u0434\\u0430\\u0434\\u0443\\u0442 \\u0421\\u0428\\u0410\\n                                                                                            </h6>\\n</div>\\n</a>\\n</article>\\n<article class=\"news-line\">\\n<a href=\"/posts/74908\">\\n<div class=\"line-content\">\\n<div class=\"line-post-label\">\\n                                                                                                    15:34\\n                                                                                            </div>\\n<h6 class=\"line-post-headline \">\\n                                                \\u041c\\u0412\\u0414 \\u043e\\u043f\\u0440\\u043e\\u0432\\u0435\\u0440\\u0433\\u043b\\u043e \\u0437\\u0430\\u043a\\u0440\\u044b\\u0442\\u0438\\u0435 \\u0434\\u0435\\u043b \\u044d\\u043a\\u0441-\\u0440\\u0443\\u043a\\u043e\\u0432\\u043e\\u0434\\u0438\\u0442\\u0435\\u043b\\u0435\\u0439 \\xab\\u041a\\u0443\\u0440\\u043e\\u0440\\u0442\\u043e\\u0432 \\u0421\\u0435\\u0432\\u0435\\u0440\\u043d\\u043e\\u0433\\u043e \\u041a\\u0430\\u0432\\u043a\\u0430\\u0437\\u0430\\xbb\\n                                                                                            </h6>\\n</div>\\n</a>\\n</article>\\n<article class=\"news-line\">\\n<a href=\"/posts/74905\">\\n<div class=\"line-content\">\\n<div class=\"line-post-label\">\\n                                                                                                    14:56\\n                                                                                            </div>\\n<h6 class=\"line-post-headline \">\\n                                                \\u041f\\u0440\\u043e\\u043f\\u0430\\u0436\\u0443 \\u0433\\u043b\\u0430\\u0432\\u044b \\u0431\\u0430\\u043d\\u043a\\u0430 \\u0420\\u041f\\u0426 \\u043e\\u0431\\u044a\\u044f\\u0441\\u043d\\u0438\\u043b\\u0438 \\u0431\\u043e\\u043b\\u0435\\u0437\\u043d\\u044c\\u044e\\n                                                                                            </h6>\\n</div>\\n</a>\\n</article>\\n<article class=\"news-line\">\\n<a href=\"/posts/74903\">\\n<div class=\"line-content\">\\n<div class=\"line-post-label\">\\n                                                                                                    14:47\\n                                                                                            </div>\\n<h6 class=\"line-post-headline \">\\n                                                \\u0412\\xa0\\u041c\\u0438\\u043d\\u0444\\u0438\\u043d\\u0435 \\u043d\\u0430\\u0437\\u0432\\u0430\\u043b\\u0438 \\u0443\\u0441\\u043b\\u043e\\u0432\\u0438\\u044f \\u0434\\u043b\\u044f \\u0440\\u0430\\u0437\\u043c\\u043e\\u0440\\u043e\\u0437\\u043a\\u0438 \\u043f\\u0435\\u043d\\u0441\\u0438\\u043e\\u043d\\u043d\\u044b\\u0445 \\u043d\\u0430\\u043a\\u043e\\u043f\\u043b\\u0435\\u043d\\u0438\\u0439\\n                                                                                            </h6>\\n</div>\\n</a>\\n</article>\\n<article class=\"news-line\">\\n<a href=\"/posts/74902\">\\n<div class=\"line-content\">\\n<div class=\"line-post-label\">\\n                                                                                                    14:33\\n                                                                                            </div>\\n<h6 class=\"line-post-headline \">\\n                                                \\u0426\\u0411\\xa0\\u0437\\u0430\\xa0\\u0442\\u0440\\u0438 \\u043a\\u0432\\u0430\\u0440\\u0442\\u0430\\u043b\\u0430 \\u043e\\u0431\\u043d\\u0430\\u0440\\u0443\\u0436\\u0438\\u043b \\u0432\\xa0\\u0420\\u043e\\u0441\\u0441\\u0438\\u0438 120 \\u0444\\u0438\\u043d\\u0430\\u043d\\u0441\\u043e\\u0432\\u044b\\u0445 \\u043f\\u0438\\u0440\\u0430\\u043c\\u0438\\u0434\\n                                                                                            </h6>\\n</div>\\n</a>\\n</article>\\n<article class=\"news-line\">\\n<a href=\"/posts/74901\">\\n<div class=\"line-content\">\\n<div class=\"line-post-label\">\\n                                                                                                    14:17\\n                                                                                            </div>\\n<h6 class=\"line-post-headline \">\\n                                                \\u0424\\u0411\\u041a \\u043f\\u043e\\u0434\\u0430\\u0441\\u0442 \\u0432\\xa0\\u0441\\u0443\\u0434 \\u0438\\u0437-\\u0437\\u0430\\xa0\\u043e\\u0442\\u043a\\u0430\\u0437\\u0430 \\u0440\\u0430\\u0441\\u0441\\u043c\\u043e\\u0442\\u0440\\u0435\\u0442\\u044c \\u043f\\u0435\\u0442\\u0438\\u0446\\u0438\\u044e \\u043f\\u043e\\xa0\\u0437\\u0430\\u043a\\u043e\\u043d\\u0430\\u043c \\u042f\\u0440\\u043e\\u0432\\u043e\\u0439\\n                                                                                            </h6>\\n</div>\\n</a>\\n</article>\\n<article class=\"news-line\">\\n<a href=\"/posts/74900\">\\n<div class=\"line-content\">\\n<div class=\"line-post-label\">\\n                                                                                                    14:10\\n                                                                                            </div>\\n<h6 class=\"line-post-headline \">\\n                                                \\u041d\\u043e\\u0441\\u0438\\u043a \\u043e\\u0431\\u043d\\u0430\\u0440\\u0443\\u0436\\u0438\\u043b \\u0447\\u0443\\u0436\\u043e\\u0435 \\u0438\\u043c\\u044f \\u0432\\xa0\\u043f\\u0440\\u0438\\u0433\\u043e\\u0432\\u043e\\u0440\\u0435 \\u0437\\u0430\\xa0\\u043f\\u043e\\u0441\\u0442 \\u0432\\xa0\\u0416\\u0416\\n                                                                                            </h6>\\n</div>\\n</a>\\n</article>\\n<article class=\"news-line\">\\n<a href=\"/posts/74897\">\\n<div class=\"line-content\">\\n<div class=\"line-post-label\">\\n                                                                                                    14:00\\n                                                                                            </div>\\n<h6 class=\"line-post-headline \">\\n                                                \\xab\\u0414\\u043e\\u0436\\u0434\\u044c\\xbb \\u0443\\u0437\\u043d\\u0430\\u043b \\u043e\\xa0\\u043f\\u0440\\u043e\\u043f\\u0430\\u0436\\u0435 \\u0433\\u043b\\u0430\\u0432\\u044b \\u0431\\u0430\\u043d\\u043a\\u0430 \\u0420\\u041f\\u0426  \\u043f\\u043e\\u0441\\u043b\\u0435 \\u043d\\u043e\\u0432\\u043e\\u0441\\u0442\\u0435\\u0439 \\u043e\\xa0\\u043f\\u043e\\u0434\\u043e\\u0437\\u0440\\u0438\\u0442\\u0435\\u043b\\u044c\\u043d\\u044b\\u0445 \\u043a\\u0440\\u0435\\u0434\\u0438\\u0442\\u0430\\u0445\\n                                                                                            </h6>\\n</div>\\n</a>\\n</article>\\n<article class=\"news-line\">\\n<a href=\"/posts/74896\">\\n<div class=\"line-content\">\\n<div class=\"line-post-label\">\\n                                                                                                    13:53\\n                                                                                            </div>\\n<h6 class=\"line-post-headline \">\\n                                                \\u041c\\u0438\\u043d\\u0444\\u0438\\u043d \\u043e\\u0442\\u043a\\u0430\\u0437\\u0430\\u043b\\u0441\\u044f \\u043e\\u0442\\xa0\\u0430\\u0432\\u0442\\u043e\\u043c\\u0430\\u0442\\u0438\\u0447\\u0435\\u0441\\u043a\\u043e\\u0433\\u043e \\u043f\\u0435\\u0440\\u0435\\u0447\\u0438\\u0441\\u043b\\u0435\\u043d\\u0438\\u044f \\u043f\\u0435\\u043d\\u0441\\u0438\\u0439 \\xab\\u043c\\u043e\\u043b\\u0447\\u0443\\u043d\\u043e\\u0432\\xbb \\u0432\\xa0\\u0431\\u044e\\u0434\\u0436\\u0435\\u0442\\n                                                                                            </h6>\\n</div>\\n</a>\\n</article>\\n<article class=\"news-line\">\\n<a href=\"/posts/74898\">\\n<div class=\"line-content\">\\n<div class=\"line-post-label\">\\n                                                                                                    13:50\\n                                                                                            </div>\\n<h6 class=\"line-post-headline \">\\n                                                \\xab\\u0420\\u043e\\u0441\\u043d\\u0435\\u0444\\u0442\\u044c\\xbb \\u0441\\u0440\\u0430\\u0432\\u043d\\u0438\\u043b\\u0430 \\u043f\\u0430\\u0434\\u0435\\u043d\\u0438\\u0435 \\u0430\\u043a\\u0446\\u0438\\u0439 \\xab\\u0411\\u0430\\u0448\\u043d\\u0435\\u0444\\u0442\\u0438\\xbb \\u0441\\xa0\\u0432\\u043e\\u0441\\u0445\\u043e\\u0434\\u043e\\u043c \\u0441\\u043e\\u043b\\u043d\\u0446\\u0430\\n                                                                                            </h6>\\n</div>\\n</a>\\n</article>\\n<article class=\"news-line\">\\n<a href=\"/posts/74894\">\\n<div class=\"line-content\">\\n<div class=\"line-post-label\">\\n                                                                                                    13:08\\n                                                                                            </div>\\n<h6 class=\"line-post-headline \">\\n                                                \\u041c\\u0438\\u043d\\u0442\\u0440\\u0430\\u043d\\u0441 \\u043f\\u043e\\u0434\\u0442\\u0432\\u0435\\u0440\\u0434\\u0438\\u043b \\u043f\\u043b\\u0430\\u043d\\u044b \\u0441\\u0434\\u0435\\u043b\\u0430\\u0442\\u044c \\u043f\\u0435\\u0440\\u0435\\u0441\\u0435\\u0447\\u0435\\u043d\\u0438\\u0435 \\u0433\\u0440\\u0430\\u043d\\u0438\\u0446\\u044b \\u043f\\u043b\\u0430\\u0442\\u043d\\u044b\\u043c\\n                                                                                            </h6>\\n</div>\\n</a>\\n</article>\\n<article class=\"news-line\">\\n<a href=\"/posts/74892\">\\n<div class=\"line-content\">\\n<div class=\"line-post-label\">\\n                                                                                                    12:26\\n                                                                                            </div>\\n<h6 class=\"line-post-headline \">\\n                                                \\u0423\\xa0\\u0441\\u0443\\u0431\\u043f\\u043e\\u0434\\u0440\\u044f\\u0434\\u0447\\u0438\\u043a\\u043e\\u0432 \\xab\\u0420\\u043e\\u0441\\u0441\\u0438\\u0439\\u0441\\u043a\\u0438\\u0445 \\u043a\\u043e\\u0441\\u043c\\u0438\\u0447\\u0435\\u0441\\u043a\\u0438\\u0445 \\u0441\\u0438\\u0441\\u0442\\u0435\\u043c\\xbb \\u043f\\u0440\\u043e\\u0448\\u043b\\u0438 \\u043e\\u0431\\u044b\\u0441\\u043a\\u0438\\n                                                                                            </h6>\\n</div>\\n</a>\\n</article>\\n<article class=\"news-line\">\\n<a href=\"/posts/74891\">\\n<div class=\"line-content\">\\n<div class=\"line-post-label\">\\n                                                                                                    12:19\\n                                                                                            </div>\\n<h6 class=\"line-post-headline \">\\n                                                \\u0413\\u0435\\u043d\\u043f\\u0440\\u043e\\u043a\\u0443\\u0440\\u0430\\u0442\\u0443\\u0440\\u0430 \\u043f\\u043e\\xa0\\u043f\\u043e\\u0440\\u0443\\u0447\\u0435\\u043d\\u0438\\u044e \\u041f\\u0443\\u0442\\u0438\\u043d\\u0430 \\u043d\\u0430\\u0447\\u0430\\u043b\\u0430 \\u043f\\u0440\\u043e\\u0432\\u0435\\u0440\\u044f\\u0442\\u044c \\u0448\\u0430\\u0445\\u0442\\u044b \\xab\\u0423\\u0440\\u0430\\u043b\\u043a\\u0430\\u043b\\u0438\\u044f\\xbb\\n                                                                                            </h6>\\n</div>\\n</a>\\n</article>\\n<article class=\"news-line\">\\n<a href=\"/posts/74893\">\\n<div class=\"line-content\">\\n<div class=\"line-post-label\">\\n                                                                                                    12:19\\n                                                                                            </div>\\n<h6 class=\"line-post-headline \">\\n                                                \\u0412\\xa0\\u0410\\u043d\\u0442\\u0430\\u043b\\u044c\\u0435 \\u0442\\u0440\\u0438 \\u0440\\u0430\\u043a\\u0435\\u0442\\u044b \\u0432\\u0437\\u043e\\u0440\\u0432\\u0430\\u043b\\u0438\\u0441\\u044c \\u043d\\u0430\\xa0\\u0448\\u043e\\u0441\\u0441\\u0435\\n                                                                                            </h6>\\n</div>\\n</a>\\n</article>\\n<article class=\"news-line\">\\n<a href=\"/posts/74890\">\\n<div class=\"line-content\">\\n<div class=\"line-post-label\">\\n                                                                                                    11:31\\n                                                                                            </div>\\n<h6 class=\"line-post-headline \">\\n                                                \\u041a\\u0438\\u0442\\u0430\\u0439 \\u0437\\u0430\\u0434\\u0443\\u043c\\u0430\\u043b \\u043e\\u0431\\u044a\\u0435\\u0434\\u0438\\u043d\\u0438\\u0442\\u044c \\u043a\\u0440\\u0443\\u043f\\u043d\\u0435\\u0439\\u0448\\u0438\\u0435 \\u0445\\u0438\\u043c\\u0438\\u0447\\u0435\\u0441\\u043a\\u0438\\u0435 \\u043a\\u043e\\u043c\\u043f\\u0430\\u043d\\u0438\\u0438 \\u0441\\u0442\\u0440\\u0430\\u043d\\u044b\\n                                                                                            </h6>\\n</div>\\n</a>\\n</article>\\n<article class=\"news-line\">\\n<a href=\"/posts/74889\">\\n<div class=\"line-content\">\\n<div class=\"line-post-label\">\\n                                                                                                    10:35\\n                                                                                            </div>\\n<h6 class=\"line-post-headline \">\\n                                                \\u0410\\u043a\\u0446\\u0438\\u0438 \\xab\\u0411\\u0430\\u0448\\u043d\\u0435\\u0444\\u0442\\u0438\\xbb \\u0443\\u043f\\u0430\\u043b\\u0438 \\u043d\\u0430\\xa07% \\u0432\\xa0\\u043d\\u0430\\u0447\\u0430\\u043b\\u0435 \\u0442\\u043e\\u0440\\u0433\\u043e\\u0432\\n                                                                                            </h6>\\n</div>\\n</a>\\n</article>\\n</div>\\n</section>\\n</section>\\n</section>\\n</section>\\n<section class=\"showcase\">\\n<div class=\"paginator\">\\n<div class=\"container\">\\n<hr/>\\n<div class=\"row\">\\n<div class=\"col-xs-3\">\\n<span class=\"prev-button muted\">\\n<i class=\"icon-svg20\"></i>\\n<span>\\u041f\\u0440\\u0435\\u0434\\u044b\\u0434\\u0443\\u0449\\u0430\\u044f</span>\\n</span>\\n</div>\\n<div class=\"col-xs-6\">\\n<ul class=\"pages\">\\n<li class=\"current\">1</li>\\n<li><a class=\"page\" href=\"?page=2\">2</a></li>\\n<li><a class=\"page\" href=\"?page=3\">3</a></li>\\n<li>...</li>\\n<li><a class=\"page\" href=\"?page=100\">100</a></li>\\n</ul>\\n</div>\\n<div class=\"col-xs-3 text-right\">\\n<a class=\"next-button\" href=\"?page=2\">\\n<span>\\u0421\\u043b\\u0435\\u0434\\u0443\\u044e\\u0449\\u0430\\u044f</span>\\n<i class=\"icon-svg19\"></i>\\n</a>\\n</div>\\n</div>\\n</div>\\n</div>\\n</section>\\n<div class=\"advert-bg advert-bg--gray\">\\n<div class=\"advert advert-desktop advert--bottom\">\\n<!-- /124171376/Slon_footer -->\\n<div id=\"div-gpt-ad-1463485357561-0\">\\n<script type=\"text/javascript\">\\ngoogletag.cmd.push(function() { googletag.display('div-gpt-ad-1463485357561-0'); });\\n</script>\\n</div>\\n</div>\\n</div>\\n<footer class=\"footer\">\\n<!-- Secondary menu -->\\n<nav class=\"navbar navbar-default navbar-black\">\\n<div class=\"container\">\\n<div class=\"navbar-header\">\\n<a class=\"navbar-brand\" href=\"/\"></a>\\n</div>\\n<div class=\"show-menu\">\\n<i class=\"icon-svg17\"></i>\\n</div>\\n<div class=\"collapse-block\">\\n<ul class=\"nav navbar-nav\">\\n<li><a href=\"/about\">\\u041e \\u043f\\u0440\\u043e\\u0435\\u043a\\u0442\\u0435</a></li>\\n<li><a href=\"/advertise\">\\u0420\\u0435\\u043a\\u043b\\u0430\\u043c\\u0430</a></li>\\n<li><a href=\"/feedback\">\\u041e\\u0431\\u0440\\u0430\\u0442\\u043d\\u0430\\u044f \\u0441\\u0432\\u044f\\u0437\\u044c</a></li>\\n<li><a href=\"/faq\">\\u0412\\u043e\\u043f\\u0440\\u043e\\u0441-\\u043e\\u0442\\u0432\\u0435\\u0442</a></li>\\n<li><a href=\"/eula\">\\u041f\\u043e\\u043b\\u044c\\u0437\\u043e\\u0432\\u0430\\u0442\\u0435\\u043b\\u044c\\u0441\\u043a\\u043e\\u0435 \\u0441\\u043e\\u0433\\u043b\\u0430\\u0448\\u0435\\u043d\\u0438\\u0435</a></li>\\n</ul>\\n</div>\\n</div>\\n</nav>\\n<!-- Copyright -->\\n<section class=\"copyright-container\">\\n<div class=\"row\">\\n<div class=\"col col-sm-8 col-xs-12\">\\n<p>\\xa9 2009 \\u2014 2016. \\u0412\\u0441\\u0435 \\u043f\\u0440\\u0430\\u0432\\u0430 \\u0437\\u0430\\u0449\\u0438\\u0449\\u0435\\u043d\\u044b.</p>\\n<p>\\n                    \\u041b\\u044e\\u0431\\u043e\\u0435 \\u0438\\u0441\\u043f\\u043e\\u043b\\u044c\\u0437\\u043e\\u0432\\u0430\\u043d\\u0438\\u0435 \\u043c\\u0430\\u0442\\u0435\\u0440\\u0438\\u0430\\u043b\\u043e\\u0432 \\u0434\\u043e\\u043f\\u0443\\u0441\\u043a\\u0430\\u0435\\u0442\\u0441\\u044f \\u0442\\u043e\\u043b\\u044c\\u043a\\u043e \\u0441\\xa0\\u0441\\u043e\\u0433\\u043b\\u0430\\u0441\\u0438\\u044f \\u0440\\u0435\\u0434\\u0430\\u043a\\u0446\\u0438\\u0438. \\u0421\\u0432\\u0438\\u0434\\u0435\\u0442\\u0435\\u043b\\u044c\\u0441\\u0442\\u0432\\u043e \\u043e\\xa0\\u0440\\u0435\\u0433\\u0438\\u0441\\u0442\\u0440\\u0430\\u0446\\u0438\\u0438 \\u042d\\u043b\\xa0\\u2116\\u0424\\u042177-36570.\\n                    \\u0412\\u044b\\u0434\\u0430\\u043d\\u043e\\xa0\\u0420\\u043e\\u0441\\u043a\\u043e\\u043c\\u043d\\u0430\\u0434\\u0437\\u043e\\u0440\\u043e\\u043c 11\\xa0\\u0438\\u044e\\u043d\\u044f\\xa02009\\xa0\\u0433\\u043e\\u0434\\u0430. 16+\\n                </p>\\n<p class=\"proofreading-invite\">\\n                    \\u0417\\u0430\\u043c\\u0435\\u0442\\u0438\\u043b\\u0438 \\u043e\\u0448\\u0438\\u0431\\u043a\\u0443? \\u0412\\u044b\\u0434\\u0435\\u043b\\u0438\\u0442\\u0435 \\u0435\\u0435 \\u0438 \\u043d\\u0430\\u0436\\u043c\\u0438\\u0442\\u0435 <span class=\"ctrl-modifier\"></span>+Enter\\n                </p>\\n<p id=\"push-notify-switch\">\\n                    Push-\\u0443\\u0432\\u0435\\u0434\\u043e\\u043c\\u043b\\u0435\\u043d\\u0438\\u044f:\\n                    <span class=\"denied\">\\u0441\\u043e\\u0441\\u0442\\u043e\\u044f\\u043d\\u0438\\u0435 \\u043f\\u0440\\u043e\\u0432\\u0435\\u0440\\u044f\\u0435\\u0442\\u0441\\u044f</span>\\n<a class=\"change hide\" href=\"#\"></a>\\n</p>\\n</div>\\n</div>\\n</section>\\n</footer>\\n<div class=\"modal proofreading\">\\n<form action=\"/proofreading\" method=\"post\">\\n<div class=\"modal-header\">\\n<button class=\"close\" type=\"button\">\\xd7</button>\\n<h3>\\u041e\\u0440\\u0444\\u043e\\u0433\\u0440\\u0430\\u0444\\u0438\\u0447\\u0435\\u0441\\u043a\\u0430\\u044f \\u043e\\u0448\\u0438\\u0431\\u043a\\u0430</h3>\\n</div>\\n<div class=\"modal-body\">\\n<div class=\"error-view\"></div>\\n<div class=\"comment\">\\n<textarea autofocus=\"\" name=\"comment\" placeholder=\"\\u041e\\u043f\\u0438\\u0441\\u0430\\u043d\\u0438\\u0435 \\u043e\\u0448\\u0438\\u0431\\u043a\\u0438 (\\u043d\\u0435\\u043e\\u0431\\u044f\\u0437\\u0430\\u0442\\u0435\\u043b\\u044c\\u043d\\u043e)\"></textarea>\\n</div>\\n<div class=\"text-muted\">\\n<small>\\n                    \\u041f\\u043e\\u0436\\u0430\\u043b\\u0443\\u0439\\u0441\\u0442\\u0430, \\u0438\\u0441\\u043f\\u043e\\u043b\\u044c\\u0437\\u0443\\u0439\\u0442\\u0435 \\u044d\\u0442\\u0443 \\u0444\\u043e\\u0440\\u043c\\u0443 \\u0434\\u043b\\u044f \\u043a\\u043e\\u0440\\u0440\\u0435\\u043a\\u0446\\u0438\\u0438 \\u043e\\u0448\\u0438\\u0431\\u043e\\u043a. <br/>\\n                    \\u0415\\u0441\\u043b\\u0438 \\u0432\\u044b \\u0445\\u043e\\u0442\\u0438\\u0442\\u0435 \\u0432\\u043d\\u0435\\u0441\\u0442\\u0438 \\u043f\\u0440\\u0435\\u0434\\u043b\\u043e\\u0436\\u0435\\u043d\\u0438\\u0435, \\u043d\\u0430\\u043f\\u0438\\u0448\\u0438\\u0442\\u0435 <a href=\"/feedback\" target=\"_blank\">\\u0440\\u0435\\u0434\\u0430\\u043a\\u0442\\u043e\\u0440\\u0443</a>.<br/>\\n                    \\u0415\\u0441\\u043b\\u0438 \\u0443 \\u0432\\u0430\\u0441 \\u0432\\u043e\\u0437\\u043d\\u0438\\u043a\\u043b\\u0438 \\u0442\\u0435\\u0445\\u043d\\u0438\\u0447\\u0435\\u0441\\u043a\\u0438\\u0435 \\u0442\\u0440\\u0443\\u0434\\u043d\\u043e\\u0441\\u0442\\u0438, \\u043d\\u0430\\u043f\\u0438\\u0448\\u0438\\u0442\\u0435 <a href=\"mailto:support@slon.ru\">\\u0432 \\u0442\\u0435\\u0445\\u043f\\u043e\\u0434\\u0434\\u0435\\u0440\\u0436\\u043a\\u0443.</a>\\n</small>\\n</div>\\n</div>\\n<div class=\"modal-footer\">\\n<button class=\"btn btn-success\" type=\"submit\">\\u041e\\u0442\\u043f\\u0440\\u0430\\u0432\\u0438\\u0442\\u044c</button>\\n<a class=\"btn btn-default btn-close\" href=\"#\">\\u0417\\u0430\\u043a\\u0440\\u044b\\u0442\\u044c</a>\\n</div>\\n</form>\\n</div> <!-- Custom analytics params -->\\n<script>\\n    window.analyticParams = window.analyticParams || {};\\n    analyticParams.isAuthorized = false;\\n    analyticParams.isSubscriber = false;\\n            analyticParams.postType = null;\\n        analyticParams.adblock = null;\\n    analyticParams.user_id = null;\\n</script>\\n<!-- /Custom analytics params -->\\n<!-- Google Analytics -->\\n<script type=\"text/javascript\">\\n    (function(i,s,o,g,r,a,m){i['GoogleAnalyticsObject']=r;i[r]=i[r]||function(){\\n    (i[r].q=i[r].q||[]).push(arguments)},i[r].l=1*new Date();a=s.createElement(o),\\n    m=s.getElementsByTagName(o)[0];a.async=1;a.src=g;m.parentNode.insertBefore(a,m)\\n    })(window,document,'script','//www.google-analytics.com/analytics.js','ga');\\n\\n    ga('create', 'UA-58645035-1', 'auto');\\n        ga('set', 'dimension5', analyticParams.isAuthorized.toString());\\n    ga('set', 'dimension6', analyticParams.isSubscriber.toString());\\n    ga('send', 'pageview');\\n</script>\\n<!-- /Google Analytics -->\\n<!-- Chartbeat -->\\n<!-- /Chartbeat -->\\n<!-- comScore -->\\n<script data-c2=\"17291956\" id=\"analytics_comscore\">\\n    var _comscore = _comscore || [];\\n    _comscore.push({ c1: \"2\", c2: \"17291956\" });\\n    (function() {\\n        var s = document.createElement(\"script\"), el = document.getElementsByTagName(\"script\")[0]; s.async = true;\\n        s.src = (document.location.protocol == \"https:\" ? \"https://sb\" : \"http://b\") + \".scorecardresearch.com/beacon.js\";\\n        el.parentNode.insertBefore(s, el);\\n    })();\\n</script>\\n<noscript>\\n<img src=\"http://b.scorecardresearch.com/p?c1=2&amp;c2=17291956&amp;cv=2.0&amp;cj=1\"/>\\n</noscript>\\n<!-- /comScore -->\\n<!-- tns-counter.ru -->\\n<script data-account=\"slon_ru\" data-tmsec=\"slon_total\" id=\"analytics_tns\" type=\"text/javascript\">\\n    (function(win, doc, cb) {\\n        (win[cb] = win[cb] || []).push(function() {\\n            try {\\n                tnsCounterslon_ru = new TNS.TnsCounter({\\n                    'account': \"slon_ru\",\\n                    'tmsec'  : \"slon_total\"\\n                });\\n            } catch (e) {}\\n        });\\n\\n        var tnsscript = doc.createElement('script');\\n        tnsscript.type = 'text/javascript';\\n        tnsscript.async = true;\\n        tnsscript.src = ('https:' == doc.location.protocol ? 'https:' : 'http:') +\\n        '//www.tns-counter.ru/tcounter.js';\\n        var s = doc.getElementsByTagName('script')[0];\\n        s.parentNode.insertBefore(tnsscript, s);\\n    })(window, this.document, 'tnscounter_callback');\\n</script>\\n<noscript>\\n<img alt=\"\" height=\"0\" src=\"//www.tns-counter.ru/V13a****slon_ru/ru/UTF-8/tmsec=slon_total/\" width=\"0\"/>\\n</noscript>\\n<!-- /tns-counter.ru -->\\n<!-- Yandex.Metrika counter -->\\n<script data-id=\"169265\" id=\"analytics_ya\" type=\"text/javascript\">\\n    (function (d, w, c) {\\n        fuckAdBlock.\\n                onDetected(function () {\\n                    w.analyticParams.adblock = true;\\n                    runMetrika();\\n                })\\n                .onNotDetected(function () {\\n                    w.analyticParams.adblock = false;\\n                    runMetrika();\\n                })\\n                .check();\\n\\n        function runMetrika() {\\n            (w[c] = w[c] || []).push(function () {\\n                try {\\n                    window.yaCommerce = window.yaCommerce || [];\\n                    w.yaCounter169265 = new Ya.Metrika({\\n                        id: 169265,\\n                        webvisor: true,\\n                        clickmap: true,\\n                        trackLinks: true,\\n                        accurateTrackBounce: true,\\n                        ecommerce: \"yaCommerce\",\\n                        params: window.analyticParams,\\n                        triggerEvent: true\\n                    });\\n                } catch (e) {\\n                }\\n            });\\n\\n            var n = d.getElementsByTagName(\"script\")[0],\\n                    s = d.createElement(\"script\"),\\n                    f = function () {\\n                        n.parentNode.insertBefore(s, n);\\n                    };\\n            s.type = \"text/javascript\";\\n            s.async = true;\\n            s.src = (d.location.protocol == \"https:\" ? \"https:\" : \"http:\") + \"//mc.yandex.ru/metrika/watch.js\";\\n\\n            if (w.opera == \"[object Opera]\") {\\n                d.addEventListener(\"DOMContentLoaded\", f, false);\\n            } else { f(); }\\n        }\\n    })(document, window, \"yandex_metrika_callbacks\");\\n</script>\\n<noscript><div><img alt=\"\" src=\"//mc.yandex.ru/watch/169265\" style=\"position:absolute; left:-9999px;\"/></div></noscript>\\n<!-- /Yandex.Metrika counter -->\\n<!-- SMI2 -->\\n<!-- /SMI2 -->\\n<!--LiveInternet counter-->\\n<script type=\"text/javascript\">\\n    new Image().src = \"//counter.yadro.ru/hit?r\" + escape(document.referrer)\\n        + ((typeof(screen)==\"undefined\")?\"\" : \";s\"+screen.width+\"*\"+screen.height+\"*\"\\n        + (screen.colorDepth?screen.colorDepth:screen.pixelDepth)) + \";u\"+escape(document.URL)\\n        + \";h\"+escape(document.title.substring(0,80))\\n        + \";\" +Math.random();\\n</script>\\n<!--/LiveInternet--> <script type=\"text/javascript\">window.NREUM||(NREUM={});NREUM.info={\"beacon\":\"bam.nr-data.net\",\"licenseKey\":\"4dd19f9694\",\"applicationID\":\"6206043\",\"transactionName\":\"ZwAHMBcAV0NQUUdaWV5KMBYMTlhAQRxDW0Y=\",\"queueTime\":0,\"applicationTime\":72,\"atts\":\"S0cERl8aRE0=\",\"errorBeacon\":\"bam.nr-data.net\",\"agent\":\"\"}</script></body>\\n</html>"
      ]
     },
     "execution_count": 9,
     "metadata": {},
     "output_type": "execute_result"
    }
   ],
   "source": [
    "news_page"
   ]
  },
  {
   "cell_type": "markdown",
   "metadata": {},
   "source": [
    "### Зато теперь зная \"адрес\" элемента на странице мы сможем находить его в этой куче добра"
   ]
  },
  {
   "cell_type": "code",
   "execution_count": 21,
   "metadata": {
    "collapsed": false
   },
   "outputs": [
    {
     "name": "stdout",
     "output_type": "stream",
     "text": [
      "<h6 class=\"line-post-headline \">\n",
      "                                                Власти США запретили проносить Samsung Galaxy Note 7 в самолеты\n",
      "                                                                                            </h6>\n"
     ]
    }
   ],
   "source": [
    "print(news_page.find('h6', attrs = {'class':\"line-post-headline \"}))"
   ]
  },
  {
   "cell_type": "code",
   "execution_count": 23,
   "metadata": {
    "collapsed": true
   },
   "outputs": [
    {
     "name": "stdout",
     "output_type": "stream",
     "text": [
      "<h6 class=\"line-post-headline \">\n",
      "                                                Власти США запретили проносить Samsung Galaxy Note 7 в самолеты\n",
      "                                                                                            </h6>\n",
      "<h6 class=\"line-post-headline \">\n",
      "                                                Fitch улучшило прогноз по рейтингу России до «стабильного»\n",
      "                                                                                            </h6>\n",
      "<h6 class=\"line-post-headline \">\n",
      "                                                СМИ сообщили об обысках в магазине «ЛитРес»\n",
      "                                                                                            </h6>\n",
      "<h6 class=\"line-post-headline \">\n",
      "                                                СМИ сообщили о задержании бывшего мирового судьи за стрельбу в Хасавюрте\n",
      "                                                                                            </h6>\n",
      "<h6 class=\"line-post-headline \">\n",
      "                                                От владельцев иностранных счетов стали требовать лично прийти в налоговую\n",
      "                                                                                            </h6>\n",
      "<h6 class=\"line-post-headline \">\n",
      "                                                Министр Абызов объяснил просрочку рассмотрения петиции против законов Яровой\n",
      "                                                                                            </h6>\n",
      "<h6 class=\"line-post-headline \">\n",
      "                                                Минобороны отвергло данные о гибели шестерых военных в Сирии\n",
      "                                                                                            </h6>\n",
      "<h6 class=\"line-post-headline \">\n",
      "                                                Сирийские исламисты заявили об убийстве шестерых российских военных\n",
      "                                                                                            </h6>\n",
      "<h6 class=\"line-post-headline \">\n",
      "                                                Ростехнадзор внепланово проверит предприятие «Лукойла» и «Башнефти»\n",
      "                                                                                            </h6>\n",
      "<h6 class=\"line-post-headline \">\n",
      "                                                Reuters узнало о возможном увольнении еще 10 тысяч работников Deutsche Bank\n",
      "                                                                                            </h6>\n",
      "<h6 class=\"line-post-headline \">\n",
      "                                                Французский суд смягчил российским болельщикам наказание за беспорядки на Евро-2016\n",
      "                                                                                            </h6>\n",
      "<h6 class=\"line-post-headline \">\n",
      "                                                Следствие ужесточило обвинение Полонскому по делу о мошенничестве\n",
      "                                                                                            </h6>\n",
      "<h6 class=\"line-post-headline \">\n",
      "                                                Goldman Sachs выиграл иск о «разорении» Ливии\n",
      "                                                                                            </h6>\n",
      "<h6 class=\"line-post-headline \">\n",
      "                                                Блогер Журавлев вернулся в Россию после трех лет в плену у сирийских исламистов\n",
      "                                                                                            </h6>\n",
      "<h6 class=\"line-post-headline \">\n",
      "                                                Обвиняемого в обвале Dow Jones трейдера выдадут США\n",
      "                                                                                            </h6>\n",
      "<h6 class=\"line-post-headline \">\n",
      "                                                МВД опровергло закрытие дел экс-руководителей «Курортов Северного Кавказа»\n",
      "                                                                                            </h6>\n",
      "<h6 class=\"line-post-headline \">\n",
      "                                                Пропажу главы банка РПЦ объяснили болезнью\n",
      "                                                                                            </h6>\n",
      "<h6 class=\"line-post-headline \">\n",
      "                                                В Минфине назвали условия для разморозки пенсионных накоплений\n",
      "                                                                                            </h6>\n",
      "<h6 class=\"line-post-headline \">\n",
      "                                                ЦБ за три квартала обнаружил в России 120 финансовых пирамид\n",
      "                                                                                            </h6>\n",
      "<h6 class=\"line-post-headline \">\n",
      "                                                ФБК подаст в суд из-за отказа рассмотреть петицию по законам Яровой\n",
      "                                                                                            </h6>\n",
      "<h6 class=\"line-post-headline \">\n",
      "                                                Носик обнаружил чужое имя в приговоре за пост в ЖЖ\n",
      "                                                                                            </h6>\n",
      "<h6 class=\"line-post-headline \">\n",
      "                                                «Дождь» узнал о пропаже главы банка РПЦ  после новостей о подозрительных кредитах\n",
      "                                                                                            </h6>\n",
      "<h6 class=\"line-post-headline \">\n",
      "                                                Минфин отказался от автоматического перечисления пенсий «молчунов» в бюджет\n",
      "                                                                                            </h6>\n",
      "<h6 class=\"line-post-headline \">\n",
      "                                                «Роснефть» сравнила падение акций «Башнефти» с восходом солнца\n",
      "                                                                                            </h6>\n",
      "<h6 class=\"line-post-headline \">\n",
      "                                                Минтранс подтвердил планы сделать пересечение границы платным\n",
      "                                                                                            </h6>\n",
      "<h6 class=\"line-post-headline \">\n",
      "                                                У субподрядчиков «Российских космических систем» прошли обыски\n",
      "                                                                                            </h6>\n",
      "<h6 class=\"line-post-headline \">\n",
      "                                                Генпрокуратура по поручению Путина начала проверять шахты «Уралкалия»\n",
      "                                                                                            </h6>\n",
      "<h6 class=\"line-post-headline \">\n",
      "                                                В Анталье три ракеты взорвались на шоссе\n",
      "                                                                                            </h6>\n",
      "<h6 class=\"line-post-headline \">\n",
      "                                                Китай задумал объединить крупнейшие химические компании страны\n",
      "                                                                                            </h6>\n",
      "<h6 class=\"line-post-headline \">\n",
      "                                                Акции «Башнефти» упали на 7% в начале торгов\n",
      "                                                                                            </h6>\n"
     ]
    }
   ],
   "source": [
    "for newshead in news_page.findAll('h6', attrs = {'class':\"line-post-headline \"}):\n",
    "    print(newshead)"
   ]
  },
  {
   "cell_type": "markdown",
   "metadata": {},
   "source": [
    "\n",
    "\n",
    "\n",
    "\n",
    "\n",
    "Но что-то явно мешает...А что если убрать не несущие никакой информации и ценности HTML тэги?"
   ]
  },
  {
   "cell_type": "code",
   "execution_count": 24,
   "metadata": {
    "collapsed": true
   },
   "outputs": [],
   "source": [
    "def html_stripper(text):\n",
    "    return re.sub('<[^<]+?>', '', str(text)) # очень крутые регулярные выражения - убирают все скобочки, тэги и прочую ерунду"
   ]
  },
  {
   "cell_type": "code",
   "execution_count": 25,
   "metadata": {
    "collapsed": false,
    "scrolled": true
   },
   "outputs": [
    {
     "name": "stdout",
     "output_type": "stream",
     "text": [
      "\n",
      "                                                Власти США запретили проносить Samsung Galaxy Note 7 в самолеты\n",
      "                                                                                            \n",
      "\n",
      "                                                Fitch улучшило прогноз по рейтингу России до «стабильного»\n",
      "                                                                                            \n",
      "\n",
      "                                                СМИ сообщили об обысках в магазине «ЛитРес»\n",
      "                                                                                            \n",
      "\n",
      "                                                СМИ сообщили о задержании бывшего мирового судьи за стрельбу в Хасавюрте\n",
      "                                                                                            \n",
      "\n",
      "                                                От владельцев иностранных счетов стали требовать лично прийти в налоговую\n",
      "                                                                                            \n",
      "\n",
      "                                                Министр Абызов объяснил просрочку рассмотрения петиции против законов Яровой\n",
      "                                                                                            \n",
      "\n",
      "                                                Минобороны отвергло данные о гибели шестерых военных в Сирии\n",
      "                                                                                            \n",
      "\n",
      "                                                Сирийские исламисты заявили об убийстве шестерых российских военных\n",
      "                                                                                            \n",
      "\n",
      "                                                Ростехнадзор внепланово проверит предприятие «Лукойла» и «Башнефти»\n",
      "                                                                                            \n",
      "\n",
      "                                                Reuters узнало о возможном увольнении еще 10 тысяч работников Deutsche Bank\n",
      "                                                                                            \n",
      "\n",
      "                                                Французский суд смягчил российским болельщикам наказание за беспорядки на Евро-2016\n",
      "                                                                                            \n",
      "\n",
      "                                                Следствие ужесточило обвинение Полонскому по делу о мошенничестве\n",
      "                                                                                            \n",
      "\n",
      "                                                Goldman Sachs выиграл иск о «разорении» Ливии\n",
      "                                                                                            \n",
      "\n",
      "                                                Блогер Журавлев вернулся в Россию после трех лет в плену у сирийских исламистов\n",
      "                                                                                            \n",
      "\n",
      "                                                Обвиняемого в обвале Dow Jones трейдера выдадут США\n",
      "                                                                                            \n",
      "\n",
      "                                                МВД опровергло закрытие дел экс-руководителей «Курортов Северного Кавказа»\n",
      "                                                                                            \n",
      "\n",
      "                                                Пропажу главы банка РПЦ объяснили болезнью\n",
      "                                                                                            \n",
      "\n",
      "                                                В Минфине назвали условия для разморозки пенсионных накоплений\n",
      "                                                                                            \n",
      "\n",
      "                                                ЦБ за три квартала обнаружил в России 120 финансовых пирамид\n",
      "                                                                                            \n",
      "\n",
      "                                                ФБК подаст в суд из-за отказа рассмотреть петицию по законам Яровой\n",
      "                                                                                            \n",
      "\n",
      "                                                Носик обнаружил чужое имя в приговоре за пост в ЖЖ\n",
      "                                                                                            \n",
      "\n",
      "                                                «Дождь» узнал о пропаже главы банка РПЦ  после новостей о подозрительных кредитах\n",
      "                                                                                            \n",
      "\n",
      "                                                Минфин отказался от автоматического перечисления пенсий «молчунов» в бюджет\n",
      "                                                                                            \n",
      "\n",
      "                                                «Роснефть» сравнила падение акций «Башнефти» с восходом солнца\n",
      "                                                                                            \n",
      "\n",
      "                                                Минтранс подтвердил планы сделать пересечение границы платным\n",
      "                                                                                            \n",
      "\n",
      "                                                У субподрядчиков «Российских космических систем» прошли обыски\n",
      "                                                                                            \n",
      "\n",
      "                                                Генпрокуратура по поручению Путина начала проверять шахты «Уралкалия»\n",
      "                                                                                            \n",
      "\n",
      "                                                В Анталье три ракеты взорвались на шоссе\n",
      "                                                                                            \n",
      "\n",
      "                                                Китай задумал объединить крупнейшие химические компании страны\n",
      "                                                                                            \n",
      "\n",
      "                                                Акции «Башнефти» упали на 7% в начале торгов\n",
      "                                                                                            \n"
     ]
    }
   ],
   "source": [
    "for newshead in news_page.findAll('h6', attrs = {'class':\"line-post-headline \"}):\n",
    "    print(html_stripper(newshead))"
   ]
  },
  {
   "cell_type": "markdown",
   "metadata": {},
   "source": [
    "## Итак, мы достали заголовки! Но на этом мы точно не остановимся - идём вглубь страницы"
   ]
  },
  {
   "cell_type": "code",
   "execution_count": 121,
   "metadata": {
    "collapsed": true
   },
   "outputs": [],
   "source": [
    "news_link = news_page.find('article', attrs= {'class':'news-line'})"
   ]
  },
  {
   "cell_type": "code",
   "execution_count": 122,
   "metadata": {
    "collapsed": false
   },
   "outputs": [
    {
     "data": {
      "text/plain": [
       "<article class=\"news-line\">\\n<a href=\"/posts/74927\">\\n<div class=\"line-content\">\\n<div class=\"line-post-label\">\\n                                                                                                    01:31\\n                                                                                            </div>\\n<h6 class=\"line-post-headline \">\\n                                                \\u0412\\u043b\\u0430\\u0441\\u0442\\u0438 \\u0421\\u0428\\u0410 \\u0437\\u0430\\u043f\\u0440\\u0435\\u0442\\u0438\\u043b\\u0438 \\u043f\\u0440\\u043e\\u043d\\u043e\\u0441\\u0438\\u0442\\u044c Samsung Galaxy Note 7\\xa0\\u0432\\xa0\\u0441\\u0430\\u043c\\u043e\\u043b\\u0435\\u0442\\u044b\\n                                                                                            </h6>\\n</div>\\n</a>\\n</article>"
      ]
     },
     "execution_count": 122,
     "metadata": {},
     "output_type": "execute_result"
    }
   ],
   "source": [
    "news_link"
   ]
  },
  {
   "cell_type": "code",
   "execution_count": 123,
   "metadata": {
    "collapsed": false
   },
   "outputs": [
    {
     "name": "stdout",
     "output_type": "stream",
     "text": [
      "<article class=\"news-line\">\n",
      "<a href=\"/posts/74927\">\n",
      "<div class=\"line-content\">\n",
      "<div class=\"line-post-label\">\n",
      "                                                                                                    01:31\n",
      "                                                                                            </div>\n",
      "<h6 class=\"line-post-headline \">\n",
      "                                                Власти США запретили проносить Samsung Galaxy Note 7 в самолеты\n",
      "                                                                                            </h6>\n",
      "</div>\n",
      "</a>\n",
      "</article>\n"
     ]
    }
   ],
   "source": [
    "print(news_link)"
   ]
  },
  {
   "cell_type": "markdown",
   "metadata": {},
   "source": [
    "### А вот и недостающая часть для нашей ссылки на страницу\n",
    "Теперь мы сможем перейти и на нее, но сначала стоит очистить её от мусора. В этом нам поможет импортированная библиотека `re`"
   ]
  },
  {
   "cell_type": "code",
   "execution_count": 124,
   "metadata": {
    "collapsed": true
   },
   "outputs": [],
   "source": [
    "pattern = '<a href=\"|\">' # вертикальная палочка обозначает логический оператор \"ИЛИ\", \n",
    "                         # то есть мы будем делить нашу строку по любому из этих элементов"
   ]
  },
  {
   "cell_type": "code",
   "execution_count": 125,
   "metadata": {
    "collapsed": false
   },
   "outputs": [
    {
     "name": "stdout",
     "output_type": "stream",
     "text": [
      "Element: <article class=\"news-line\n",
      "Element: \n",
      "\n",
      "Element: /posts/74927\n",
      "Element: \n",
      "<div class=\"line-content\n",
      "Element: \n",
      "<div class=\"line-post-label\n",
      "Element: \n",
      "                                                                                                    01:31\n",
      "                                                                                            </div>\n",
      "<h6 class=\"line-post-headline \n",
      "Element: \n",
      "                                                Власти США запретили проносить Samsung Galaxy Note 7 в самолеты\n",
      "                                                                                            </h6>\n",
      "</div>\n",
      "</a>\n",
      "</article>\n"
     ]
    }
   ],
   "source": [
    "for i in re.split(pattern, str(news_link)):\n",
    "    print(\"Element: {}\".format(i))"
   ]
  },
  {
   "cell_type": "markdown",
   "metadata": {},
   "source": [
    "Похоже, нам нужен третий элемент"
   ]
  },
  {
   "cell_type": "code",
   "execution_count": 130,
   "metadata": {
    "collapsed": false
   },
   "outputs": [
    {
     "data": {
      "text/plain": [
       "'/posts/74927'"
      ]
     },
     "execution_count": 130,
     "metadata": {},
     "output_type": "execute_result"
    }
   ],
   "source": [
    "re.split(pattern, str(news_link))[2]"
   ]
  },
  {
   "cell_type": "code",
   "execution_count": 127,
   "metadata": {
    "collapsed": false
   },
   "outputs": [
    {
     "data": {
      "text/plain": [
       "'https://slon.ru/posts/74927'"
      ]
     },
     "execution_count": 127,
     "metadata": {},
     "output_type": "execute_result"
    }
   ],
   "source": [
    "'https://slon.ru' + re.split(pattern, str(news_link))[2]"
   ]
  },
  {
   "cell_type": "code",
   "execution_count": 51,
   "metadata": {
    "collapsed": true
   },
   "outputs": [
    {
     "data": {
      "text/plain": [
       "'<!DOCTYPE html>\\n<html>\\n<head>\\n    <title>\\xd0\\x92\\xd0\\xbb\\xd0\\xb0\\xd1\\x81\\xd1\\x82\\xd0\\xb8 \\xd0\\xa1\\xd0\\xa8\\xd0\\x90 \\xd0\\xb7\\xd0\\xb0\\xd0\\xbf\\xd1\\x80\\xd0\\xb5\\xd1\\x82\\xd0\\xb8\\xd0\\xbb\\xd0\\xb8 \\xd0\\xbf\\xd1\\x80\\xd0\\xbe\\xd0\\xbd\\xd0\\xbe\\xd1\\x81\\xd0\\xb8\\xd1\\x82\\xd1\\x8c Samsung Galaxy Note 7 \\xd0\\xb2 \\xd1\\x81\\xd0\\xb0\\xd0\\xbc\\xd0\\xbe\\xd0\\xbb\\xd0\\xb5\\xd1\\x82\\xd1\\x8b</title>\\n\\n    <!-- Hello, stranger! What are you doing here? ( \\xcd\\xa1\\xc2\\xb0 \\xcd\\x9c\\xca\\x96 \\xcd\\xa1\\xc2\\xb0) -->\\n\\n    <meta charset=\"UTF-8\" /><script type=\"text/javascript\">(window.NREUM||(NREUM={})).loader_config={xpid:\"UAEGUFNVGwUCVFdSAwI=\"};window.NREUM||(NREUM={}),__nr_require=function(t,e,n){function r(n){if(!e[n]){var o=e[n]={exports:{}};t[n][0].call(o.exports,function(e){var o=t[n][1][e];return r(o||e)},o,o.exports)}return e[n].exports}if(\"function\"==typeof __nr_require)return __nr_require;for(var o=0;o<n.length;o++)r(n[o]);return r}({1:[function(t,e,n){function r(t){try{s.console&&console.log(t)}catch(e){}}var o,i=t(\"ee\"),a=t(15),s={};try{o=localStorage.getItem(\"__nr_flags\").split(\",\"),console&&\"function\"==typeof console.log&&(s.console=!0,o.indexOf(\"dev\")!==-1&&(s.dev=!0),o.indexOf(\"nr_dev\")!==-1&&(s.nrDev=!0))}catch(c){}s.nrDev&&i.on(\"internal-error\",function(t){r(t.stack)}),s.dev&&i.on(\"fn-err\",function(t,e,n){r(n.stack)}),s.dev&&(r(\"NR AGENT IN DEVELOPMENT MODE\"),r(\"flags: \"+a(s,function(t,e){return t}).join(\", \")))},{}],2:[function(t,e,n){function r(t,e,n,r,o){try{d?d-=1:i(\"err\",[o||new UncaughtException(t,e,n)])}catch(s){try{i(\"ierr\",[s,(new Date).getTime(),!0])}catch(c){}}return\"function\"==typeof f&&f.apply(this,a(arguments))}function UncaughtException(t,e,n){this.message=t||\"Uncaught error with no additional information\",this.sourceURL=e,this.line=n}function o(t){i(\"err\",[t,(new Date).getTime()])}var i=t(\"handle\"),a=t(16),s=t(\"ee\"),c=t(\"loader\"),f=window.onerror,u=!1,d=0;c.features.err=!0,t(1),window.onerror=r;try{throw new Error}catch(l){\"stack\"in l&&(t(8),t(7),\"addEventListener\"in window&&t(5),c.xhrWrappable&&t(9),u=!0)}s.on(\"fn-start\",function(t,e,n){u&&(d+=1)}),s.on(\"fn-err\",function(t,e,n){u&&(this.thrown=!0,o(n))}),s.on(\"fn-end\",function(){u&&!this.thrown&&d>0&&(d-=1)}),s.on(\"internal-error\",function(t){i(\"ierr\",[t,(new Date).getTime(),!0])})},{}],3:[function(t,e,n){t(\"loader\").features.ins=!0},{}],4:[function(t,e,n){function r(t){}if(window.performance&&window.performance.timing&&window.performance.getEntriesByType){var o=t(\"ee\"),i=t(\"handle\"),a=t(8),s=t(7),c=\"learResourceTimings\",f=\"addEventListener\",u=\"resourcetimingbufferfull\",d=\"bstResource\",l=\"resource\",p=\"-start\",h=\"-end\",m=\"fn\"+p,w=\"fn\"+h,v=\"bstTimer\",y=\"pushState\";t(\"loader\").features.stn=!0,t(6);var g=NREUM.o.EV;o.on(m,function(t,e){var n=t[0];n instanceof g&&(this.bstStart=Date.now())}),o.on(w,function(t,e){var n=t[0];n instanceof g&&i(\"bst\",[n,e,this.bstStart,Date.now()])}),a.on(m,function(t,e,n){this.bstStart=Date.now(),this.bstType=n}),a.on(w,function(t,e){i(v,[e,this.bstStart,Date.now(),this.bstType])}),s.on(m,function(){this.bstStart=Date.now()}),s.on(w,function(t,e){i(v,[e,this.bstStart,Date.now(),\"requestAnimationFrame\"])}),o.on(y+p,function(t){this.time=Date.now(),this.startPath=location.pathname+location.hash}),o.on(y+h,function(t){i(\"bstHist\",[location.pathname+location.hash,this.startPath,this.time])}),f in window.performance&&(window.performance[\"c\"+c]?window.performance[f](u,function(t){i(d,[window.performance.getEntriesByType(l)]),window.performance[\"c\"+c]()},!1):window.performance[f](\"webkit\"+u,function(t){i(d,[window.performance.getEntriesByType(l)]),window.performance[\"webkitC\"+c]()},!1)),document[f](\"scroll\",r,!1),document[f](\"keypress\",r,!1),document[f](\"click\",r,!1)}},{}],5:[function(t,e,n){function r(t){for(var e=t;e&&!e.hasOwnProperty(u);)e=Object.getPrototypeOf(e);e&&o(e)}function o(t){s.inPlace(t,[u,d],\"-\",i)}function i(t,e){return t[1]}var a=t(\"ee\").get(\"events\"),s=t(17)(a),c=t(\"gos\"),f=XMLHttpRequest,u=\"addEventListener\",d=\"removeEventListener\";e.exports=a,\"getPrototypeOf\"in Object?(r(document),r(window),r(f.prototype)):f.prototype.hasOwnProperty(u)&&(o(window),o(f.prototype)),a.on(u+\"-start\",function(t,e){if(t[1]){var n=t[1];if(\"function\"==typeof n){var r=c(n,\"nr@wrapped\",function(){return s(n,\"fn-\",null,n.name||\"anonymous\")});this.wrapped=t[1]=r}else\"function\"==typeof n.handleEvent&&s.inPlace(n,[\"handleEvent\"],\"fn-\")}}),a.on(d+\"-start\",function(t){var e=this.wrapped;e&&(t[1]=e)})},{}],6:[function(t,e,n){var r=t(\"ee\").get(\"history\"),o=t(17)(r);e.exports=r,o.inPlace(window.history,[\"pushState\",\"replaceState\"],\"-\")},{}],7:[function(t,e,n){var r=t(\"ee\").get(\"raf\"),o=t(17)(r),i=\"equestAnimationFrame\";e.exports=r,o.inPlace(window,[\"r\"+i,\"mozR\"+i,\"webkitR\"+i,\"msR\"+i],\"raf-\"),r.on(\"raf-start\",function(t){t[0]=o(t[0],\"fn-\")})},{}],8:[function(t,e,n){function r(t,e,n){t[0]=a(t[0],\"fn-\",null,n)}function o(t,e,n){this.method=n,this.timerDuration=\"number\"==typeof t[1]?t[1]:0,t[0]=a(t[0],\"fn-\",this,n)}var i=t(\"ee\").get(\"timer\"),a=t(17)(i),s=\"setTimeout\",c=\"setInterval\",f=\"clearTimeout\",u=\"-start\",d=\"-\";e.exports=i,a.inPlace(window,[s,\"setImmediate\"],s+d),a.inPlace(window,[c],c+d),a.inPlace(window,[f,\"clearImmediate\"],f+d),i.on(c+u,r),i.on(s+u,o)},{}],9:[function(t,e,n){function r(t,e){d.inPlace(e,[\"onreadystatechange\"],\"fn-\",s)}function o(){var t=this,e=u.context(t);t.readyState>3&&!e.resolved&&(e.resolved=!0,u.emit(\"xhr-resolved\",[],t)),d.inPlace(t,w,\"fn-\",s)}function i(t){v.push(t),h&&(g=-g,b.data=g)}function a(){for(var t=0;t<v.length;t++)r([],v[t]);v.length&&(v=[])}function s(t,e){return e}function c(t,e){for(var n in t)e[n]=t[n];return e}t(5);var f=t(\"ee\"),u=f.get(\"xhr\"),d=t(17)(u),l=NREUM.o,p=l.XHR,h=l.MO,m=\"readystatechange\",w=[\"onload\",\"onerror\",\"onabort\",\"onloadstart\",\"onloadend\",\"onprogress\",\"ontimeout\"],v=[];e.exports=u;var y=window.XMLHttpRequest=function(t){var e=new p(t);try{u.emit(\"new-xhr\",[e],e),e.addEventListener(m,o,!1)}catch(n){try{u.emit(\"internal-error\",[n])}catch(r){}}return e};if(c(p,y),y.prototype=p.prototype,d.inPlace(y.prototype,[\"open\",\"send\"],\"-xhr-\",s),u.on(\"send-xhr-start\",function(t,e){r(t,e),i(e)}),u.on(\"open-xhr-start\",r),h){var g=1,b=document.createTextNode(g);new h(a).observe(b,{characterData:!0})}else f.on(\"fn-end\",function(t){t[0]&&t[0].type===m||a()})},{}],10:[function(t,e,n){function r(t){var e=this.params,n=this.metrics;if(!this.ended){this.ended=!0;for(var r=0;r<d;r++)t.removeEventListener(u[r],this.listener,!1);if(!e.aborted){if(n.duration=(new Date).getTime()-this.startTime,4===t.readyState){e.status=t.status;var i=o(t,this.lastSize);if(i&&(n.rxSize=i),this.sameOrigin){var a=t.getResponseHeader(\"X-NewRelic-App-Data\");a&&(e.cat=a.split(\", \").pop())}}else e.status=0;n.cbTime=this.cbTime,f.emit(\"xhr-done\",[t],t),s(\"xhr\",[e,n,this.startTime])}}}function o(t,e){var n=t.responseType;if(\"json\"===n&&null!==e)return e;var r=\"arraybuffer\"===n||\"blob\"===n||\"json\"===n?t.response:t.responseText;return h(r)}function i(t,e){var n=c(e),r=t.params;r.host=n.hostname+\":\"+n.port,r.pathname=n.pathname,t.sameOrigin=n.sameOrigin}var a=t(\"loader\");if(a.xhrWrappable){var s=t(\"handle\"),c=t(11),f=t(\"ee\"),u=[\"load\",\"error\",\"abort\",\"timeout\"],d=u.length,l=t(\"id\"),p=t(14),h=t(13),m=window.XMLHttpRequest;a.features.xhr=!0,t(9),f.on(\"new-xhr\",function(t){var e=this;e.totalCbs=0,e.called=0,e.cbTime=0,e.end=r,e.ended=!1,e.xhrGuids={},e.lastSize=null,p&&(p>34||p<10)||window.opera||t.addEventListener(\"progress\",function(t){e.lastSize=t.loaded},!1)}),f.on(\"open-xhr-start\",function(t){this.params={method:t[0]},i(this,t[1]),this.metrics={}}),f.on(\"open-xhr-end\",function(t,e){\"loader_config\"in NREUM&&\"xpid\"in NREUM.loader_config&&this.sameOrigin&&e.setRequestHeader(\"X-NewRelic-ID\",NREUM.loader_config.xpid)}),f.on(\"send-xhr-start\",function(t,e){var n=this.metrics,r=t[0],o=this;if(n&&r){var i=h(r);i&&(n.txSize=i)}this.startTime=(new Date).getTime(),this.listener=function(t){try{\"abort\"===t.type&&(o.params.aborted=!0),(\"load\"!==t.type||o.called===o.totalCbs&&(o.onloadCalled||\"function\"!=typeof e.onload))&&o.end(e)}catch(n){try{f.emit(\"internal-error\",[n])}catch(r){}}};for(var a=0;a<d;a++)e.addEventListener(u[a],this.listener,!1)}),f.on(\"xhr-cb-time\",function(t,e,n){this.cbTime+=t,e?this.onloadCalled=!0:this.called+=1,this.called!==this.totalCbs||!this.onloadCalled&&\"function\"==typeof n.onload||this.end(n)}),f.on(\"xhr-load-added\",function(t,e){var n=\"\"+l(t)+!!e;this.xhrGuids&&!this.xhrGuids[n]&&(this.xhrGuids[n]=!0,this.totalCbs+=1)}),f.on(\"xhr-load-removed\",function(t,e){var n=\"\"+l(t)+!!e;this.xhrGuids&&this.xhrGuids[n]&&(delete this.xhrGuids[n],this.totalCbs-=1)}),f.on(\"addEventListener-end\",function(t,e){e instanceof m&&\"load\"===t[0]&&f.emit(\"xhr-load-added\",[t[1],t[2]],e)}),f.on(\"removeEventListener-end\",function(t,e){e instanceof m&&\"load\"===t[0]&&f.emit(\"xhr-load-removed\",[t[1],t[2]],e)}),f.on(\"fn-start\",function(t,e,n){e instanceof m&&(\"onload\"===n&&(this.onload=!0),(\"load\"===(t[0]&&t[0].type)||this.onload)&&(this.xhrCbStart=(new Date).getTime()))}),f.on(\"fn-end\",function(t,e){this.xhrCbStart&&f.emit(\"xhr-cb-time\",[(new Date).getTime()-this.xhrCbStart,this.onload,e],e)})}},{}],11:[function(t,e,n){e.exports=function(t){var e=document.createElement(\"a\"),n=window.location,r={};e.href=t,r.port=e.port;var o=e.href.split(\"://\");!r.port&&o[1]&&(r.port=o[1].split(\"/\")[0].split(\"@\").pop().split(\":\")[1]),r.port&&\"0\"!==r.port||(r.port=\"https\"===o[0]?\"443\":\"80\"),r.hostname=e.hostname||n.hostname,r.pathname=e.pathname,r.protocol=o[0],\"/\"!==r.pathname.charAt(0)&&(r.pathname=\"/\"+r.pathname);var i=!e.protocol||\":\"===e.protocol||e.protocol===n.protocol,a=e.hostname===document.domain&&e.port===n.port;return r.sameOrigin=i&&(!e.hostname||a),r}},{}],12:[function(t,e,n){function r(){}function o(t,e,n){return function(){return i(t,[(new Date).getTime()].concat(s(arguments)),e?null:this,n),e?void 0:this}}var i=t(\"handle\"),a=t(15),s=t(16),c=t(\"ee\").get(\"tracer\"),f=NREUM;\"undefined\"==typeof window.newrelic&&(newrelic=f);var u=[\"setPageViewName\",\"setCustomAttribute\",\"setErrorHandler\",\"finished\",\"addToTrace\",\"inlineHit\"],d=\"api-\",l=d+\"ixn-\";a(u,function(t,e){f[e]=o(d+e,!0,\"api\")}),f.addPageAction=o(d+\"addPageAction\",!0),e.exports=newrelic,f.interaction=function(){return(new r).get()};var p=r.prototype={createTracer:function(t,e){var n={},r=this,o=\"function\"==typeof e;return i(l+\"tracer\",[Date.now(),t,n],r),function(){if(c.emit((o?\"\":\"no-\")+\"fn-start\",[Date.now(),r,o],n),o)try{return e.apply(this,arguments)}finally{c.emit(\"fn-end\",[Date.now()],n)}}}};a(\"setName,setAttribute,save,ignore,onEnd,getContext,end,get\".split(\",\"),function(t,e){p[e]=o(l+e)}),newrelic.noticeError=function(t){\"string\"==typeof t&&(t=new Error(t)),i(\"err\",[t,(new Date).getTime()])}},{}],13:[function(t,e,n){e.exports=function(t){if(\"string\"==typeof t&&t.length)return t.length;if(\"object\"==typeof t){if(\"undefined\"!=typeof ArrayBuffer&&t instanceof ArrayBuffer&&t.byteLength)return t.byteLength;if(\"undefined\"!=typeof Blob&&t instanceof Blob&&t.size)return t.size;if(!(\"undefined\"!=typeof FormData&&t instanceof FormData))try{return JSON.stringify(t).length}catch(e){return}}}},{}],14:[function(t,e,n){var r=0,o=navigator.userAgent.match(/Firefox[\\\\/\\\\s](\\\\d+\\\\.\\\\d+)/);o&&(r=+o[1]),e.exports=r},{}],15:[function(t,e,n){function r(t,e){var n=[],r=\"\",i=0;for(r in t)o.call(t,r)&&(n[i]=e(r,t[r]),i+=1);return n}var o=Object.prototype.hasOwnProperty;e.exports=r},{}],16:[function(t,e,n){function r(t,e,n){e||(e=0),\"undefined\"==typeof n&&(n=t?t.length:0);for(var r=-1,o=n-e||0,i=Array(o<0?0:o);++r<o;)i[r]=t[e+r];return i}e.exports=r},{}],17:[function(t,e,n){function r(t){return!(t&&\"function\"==typeof t&&t.apply&&!t[a])}var o=t(\"ee\"),i=t(16),a=\"nr@original\",s=Object.prototype.hasOwnProperty,c=!1;e.exports=function(t){function e(t,e,n,o){function nrWrapper(){var r,a,s,c;try{a=this,r=i(arguments),s=\"function\"==typeof n?n(r,a):n||{}}catch(u){d([u,\"\",[r,a,o],s])}f(e+\"start\",[r,a,o],s);try{return c=t.apply(a,r)}catch(l){throw f(e+\"err\",[r,a,l],s),l}finally{f(e+\"end\",[r,a,c],s)}}return r(t)?t:(e||(e=\"\"),nrWrapper[a]=t,u(t,nrWrapper),nrWrapper)}function n(t,n,o,i){o||(o=\"\");var a,s,c,f=\"-\"===o.charAt(0);for(c=0;c<n.length;c++)s=n[c],a=t[s],r(a)||(t[s]=e(a,f?s+o:o,i,s))}function f(e,n,r){if(!c){c=!0;try{t.emit(e,n,r)}catch(o){d([o,e,n,r])}c=!1}}function u(t,e){if(Object.defineProperty&&Object.keys)try{var n=Object.keys(t);return n.forEach(function(n){Object.defineProperty(e,n,{get:function(){return t[n]},set:function(e){return t[n]=e,e}})}),e}catch(r){d([r])}for(var o in t)s.call(t,o)&&(e[o]=t[o]);return e}function d(e){try{t.emit(\"internal-error\",e)}catch(n){}}return t||(t=o),e.inPlace=n,e.flag=a,e}},{}],ee:[function(t,e,n){function r(){}function o(t){function e(t){return t&&t instanceof r?t:t?s(t,a,i):i()}function n(n,r,o){t&&t(n,r,o);for(var i=e(o),a=l(n),s=a.length,c=0;c<s;c++)a[c].apply(i,r);var u=f[w[n]];return u&&u.push([v,n,r,i]),i}function d(t,e){m[t]=l(t).concat(e)}function l(t){return m[t]||[]}function p(t){return u[t]=u[t]||o(n)}function h(t,e){c(t,function(t,n){e=e||\"feature\",w[n]=e,e in f||(f[e]=[])})}var m={},w={},v={on:d,emit:n,get:p,listeners:l,context:e,buffer:h};return v}function i(){return new r}var a=\"nr@context\",s=t(\"gos\"),c=t(15),f={},u={},d=e.exports=o();d.backlog=f},{}],gos:[function(t,e,n){function r(t,e,n){if(o.call(t,e))return t[e];var r=n();if(Object.defineProperty&&Object.keys)try{return Object.defineProperty(t,e,{value:r,writable:!0,enumerable:!1}),r}catch(i){}return t[e]=r,r}var o=Object.prototype.hasOwnProperty;e.exports=r},{}],handle:[function(t,e,n){function r(t,e,n,r){o.buffer([t],r),o.emit(t,e,n)}var o=t(\"ee\").get(\"handle\");e.exports=r,r.ee=o},{}],id:[function(t,e,n){function r(t){var e=typeof t;return!t||\"object\"!==e&&\"function\"!==e?-1:t===window?0:a(t,i,function(){return o++})}var o=1,i=\"nr@id\",a=t(\"gos\");e.exports=r},{}],loader:[function(t,e,n){function r(){if(!g++){var t=y.info=NREUM.info,e=u.getElementsByTagName(\"script\")[0];if(t&&t.licenseKey&&t.applicationID&&e){c(w,function(e,n){t[e]||(t[e]=n)});var n=\"https\"===m.split(\":\")[0]||t.sslForHttp;y.proto=n?\"https://\":\"http://\",s(\"mark\",[\"onload\",a()],null,\"api\");var r=u.createElement(\"script\");r.src=y.proto+t.agent,e.parentNode.insertBefore(r,e)}}}function o(){\"complete\"===u.readyState&&i()}function i(){s(\"mark\",[\"domContent\",a()],null,\"api\")}function a(){return(new Date).getTime()}var s=t(\"handle\"),c=t(15),f=window,u=f.document,d=\"addEventListener\",l=\"attachEvent\",p=f.XMLHttpRequest,h=p&&p.prototype;NREUM.o={ST:setTimeout,CT:clearTimeout,XHR:p,REQ:f.Request,EV:f.Event,PR:f.Promise,MO:f.MutationObserver},t(12);var m=\"\"+location,w={beacon:\"bam.nr-data.net\",errorBeacon:\"bam.nr-data.net\",agent:\"js-agent.newrelic.com/nr-974.min.js\"},v=p&&h&&h[d]&&!/CriOS/.test(navigator.userAgent),y=e.exports={offset:a(),origin:m,features:{},xhrWrappable:v};u[d]?(u[d](\"DOMContentLoaded\",i,!1),f[d](\"load\",r,!1)):(u[l](\"onreadystatechange\",o),f[l](\"onload\",r)),s(\"mark\",[\"firstbyte\",a()],null,\"api\");var g=0},{}]},{},[\"loader\",2,10,4,3]);</script>\\n    <meta http-equiv=\"Content-Type\" content=\"text/html\" />\\n\\n    <meta name=\"viewport\" content=\"width=device-width, initial-scale=1, user-scalable=no\" />\\n\\n                        \\n    <meta content=\"\\xd0\\x94\\xd0\\xb5\\xd0\\xbf\\xd0\\xb0\\xd1\\x80\\xd1\\x82\\xd0\\xb0\\xd0\\xbc\\xd0\\xb5\\xd0\\xbd\\xd1\\x82 \\xd1\\x82\\xd1\\x80\\xd0\\xb0\\xd0\\xbd\\xd1\\x81\\xd0\\xbf\\xd0\\xbe\\xd1\\x80\\xd1\\x82\\xd0\\xb0 \\xd0\\xa1\\xd0\\xa8\\xd0\\x90 \\xd0\\xb7\\xd0\\xb0\\xd0\\xbf\\xd1\\x80\\xd0\\xb5\\xd1\\x82\\xd0\\xb8\\xd0\\xbb \\xd0\\xbf\\xd1\\x80\\xd0\\xbe\\xd0\\xbd\\xd0\\xbe\\xd1\\x81\\xd0\\xb8\\xd1\\x82\\xd1\\x8c \\xd0\\xbd\\xd0\\xb0 \\xd0\\xb1\\xd0\\xbe\\xd1\\x80\\xd1\\x82 \\xd1\\x81\\xd0\\xb0\\xd0\\xbc\\xd0\\xbe\\xd0\\xbb\\xd0\\xb5\\xd1\\x82\\xd0\\xbe\\xd0\\xb2 \\xd1\\x81\\xd0\\xbc\\xd0\\xb0\\xd1\\x80\\xd1\\x82\\xd1\\x84\\xd0\\xbe\\xd0\\xbd\\xd1\\x8b Samsung Galaxy Note 7\" name=\"description\" />\\n<meta property=\"og:type\"        content=\"article\" />\\n<meta property=\"og:url\"         content=\"https://slon.ru/posts/74927\" />\\n<meta property=\"og:title\"       content=\"\\xd0\\x92\\xd0\\xbb\\xd0\\xb0\\xd1\\x81\\xd1\\x82\\xd0\\xb8 \\xd0\\xa1\\xd0\\xa8\\xd0\\x90 \\xd0\\xb7\\xd0\\xb0\\xd0\\xbf\\xd1\\x80\\xd0\\xb5\\xd1\\x82\\xd0\\xb8\\xd0\\xbb\\xd0\\xb8 \\xd0\\xbf\\xd1\\x80\\xd0\\xbe\\xd0\\xbd\\xd0\\xbe\\xd1\\x81\\xd0\\xb8\\xd1\\x82\\xd1\\x8c Samsung Galaxy Note 7 \\xd0\\xb2 \\xd1\\x81\\xd0\\xb0\\xd0\\xbc\\xd0\\xbe\\xd0\\xbb\\xd0\\xb5\\xd1\\x82\\xd1\\x8b\" />\\n<meta property=\"og:description\" content=\"\\xd0\\x94\\xd0\\xb5\\xd0\\xbf\\xd0\\xb0\\xd1\\x80\\xd1\\x82\\xd0\\xb0\\xd0\\xbc\\xd0\\xb5\\xd0\\xbd\\xd1\\x82 \\xd1\\x82\\xd1\\x80\\xd0\\xb0\\xd0\\xbd\\xd1\\x81\\xd0\\xbf\\xd0\\xbe\\xd1\\x80\\xd1\\x82\\xd0\\xb0 \\xd0\\xa1\\xd0\\xa8\\xd0\\x90 \\xd0\\xb7\\xd0\\xb0\\xd0\\xbf\\xd1\\x80\\xd0\\xb5\\xd1\\x82\\xd0\\xb8\\xd0\\xbb \\xd0\\xbf\\xd1\\x80\\xd0\\xbe\\xd0\\xbd\\xd0\\xbe\\xd1\\x81\\xd0\\xb8\\xd1\\x82\\xd1\\x8c \\xd0\\xbd\\xd0\\xb0 \\xd0\\xb1\\xd0\\xbe\\xd1\\x80\\xd1\\x82 \\xd1\\x81\\xd0\\xb0\\xd0\\xbc\\xd0\\xbe\\xd0\\xbb\\xd0\\xb5\\xd1\\x82\\xd0\\xbe\\xd0\\xb2 \\xd1\\x81\\xd0\\xbc\\xd0\\xb0\\xd1\\x80\\xd1\\x82\\xd1\\x84\\xd0\\xbe\\xd0\\xbd\\xd1\\x8b Samsung Galaxy Note 7\" />\\n    <meta property=\"og:image\"        content=\"https://slon.ru/uploads/og-image/74927.jpg?t=1476485766\" />\\n    <meta property=\"og:image:width\"  content=\"1200\" />\\n    <meta property=\"og:image:height\" content=\"630\" />\\n    <meta property=\"twitter:title\"       content=\"\\xd0\\x92\\xd0\\xbb\\xd0\\xb0\\xd1\\x81\\xd1\\x82\\xd0\\xb8 \\xd0\\xa1\\xd0\\xa8\\xd0\\x90 \\xd0\\xb7\\xd0\\xb0\\xd0\\xbf\\xd1\\x80\\xd0\\xb5\\xd1\\x82\\xd0\\xb8\\xd0\\xbb\\xd0\\xb8 \\xd0\\xbf\\xd1\\x80\\xd0\\xbe\\xd0\\xbd\\xd0\\xbe\\xd1\\x81\\xd0\\xb8\\xd1\\x82\\xd1\\x8c Samsung Galaxy Note 7 \\xd0\\xb2 \\xd1\\x81\\xd0\\xb0\\xd0\\xbc\\xd0\\xbe\\xd0\\xbb\\xd0\\xb5\\xd1\\x82\\xd1\\x8b\" />\\n    <meta property=\"twitter:description\" content=\"\\xd0\\x94\\xd0\\xb5\\xd0\\xbf\\xd0\\xb0\\xd1\\x80\\xd1\\x82\\xd0\\xb0\\xd0\\xbc\\xd0\\xb5\\xd0\\xbd\\xd1\\x82 \\xd1\\x82\\xd1\\x80\\xd0\\xb0\\xd0\\xbd\\xd1\\x81\\xd0\\xbf\\xd0\\xbe\\xd1\\x80\\xd1\\x82\\xd0\\xb0 \\xd0\\xa1\\xd0\\xa8\\xd0\\x90 \\xd0\\xb7\\xd0\\xb0\\xd0\\xbf\\xd1\\x80\\xd0\\xb5\\xd1\\x82\\xd0\\xb8\\xd0\\xbb \\xd0\\xbf\\xd1\\x80\\xd0\\xbe\\xd0\\xbd\\xd0\\xbe\\xd1\\x81\\xd0\\xb8\\xd1\\x82\\xd1\\x8c \\xd0\\xbd\\xd0\\xb0 \\xd0\\xb1\\xd0\\xbe\\xd1\\x80\\xd1\\x82 \\xd1\\x81\\xd0\\xb0\\xd0\\xbc\\xd0\\xbe\\xd0\\xbb\\xd0\\xb5\\xd1\\x82\\xd0\\xbe\\xd0\\xb2 \\xd1\\x81\\xd0\\xbc\\xd0\\xb0\\xd1\\x80\\xd1\\x82\\xd1\\x84\\xd0\\xbe\\xd0\\xbd\\xd1\\x8b Samsung Galaxy Note 7\" />\\n    <meta property=\"twitter:site\"        content=\"@SlonMagazine\" />\\n    <meta property=\"twitter:url\"         content=\"https://slon.ru/posts/74927\" />\\n        <meta property=\"twitter:card\"        content=\"summary_large_image\" />\\n    <meta property=\"twitter:image:src\"   content=\"https://slon.ru/uploads/og-image/74927.jpg?t=1476485766\" />\\n        <link rel=\"alternate\" type=\"application/rss+xml\" href=\"/export/all.xml\" title=\"Slon.ru\" />\\n    <link rel=\"alternate\" type=\"application/rss+xml\" href=\"/export/articles.xml\" title=\"\\xd0\\xa1\\xd1\\x82\\xd0\\xb0\\xd1\\x82\\xd1\\x8c\\xd0\\xb8 Slon.ru\" />\\n    <link rel=\"alternate\" type=\"application/rss+xml\" href=\"/export/fast.xml\" title=\"\\xd0\\x91\\xd1\\x8b\\xd1\\x81\\xd1\\x82\\xd1\\x80\\xd1\\x8b\\xd0\\xb9 Slon\" />\\n\\n    <link rel=\"search\" type=\"application/opensearchdescription+xml\" href=\"https://slon.ru/search.xml\" title=\"\\xd0\\x9f\\xd0\\xbe\\xd0\\xb8\\xd1\\x81\\xd0\\xba \\xd0\\xbd\\xd0\\xb0 Slon\" />\\n\\n    <link rel=\"icon\" type=\"image/png\" href=\"/assets/images/favicon.png?v=1.0.504\" />\\n    <link rel=\"apple-touch-icon\" href=\"/assets/images/favicon76x76.png?v=1.0.504\" />\\n    <link rel=\"apple-touch-icon\" sizes=\"76x76\" href=\"/assets/images/favicon76x76.png?v=1.0.504\" />\\n    <link rel=\"apple-touch-icon\" sizes=\"120x120\" href=\"/assets/images/favicon60x60@2x.png?v=1.0.504\" />\\n    <link rel=\"apple-touch-icon\" sizes=\"152x152\" href=\"/assets/images/favicon76x76@2x.png?v=1.0.504\" />\\n\\n    <meta property=\"fb:pages\" content=\"309148850654\" />\\n    <meta name=\"google-site-verification\" content=\"xA1LIaDSAy5J179d1NKlmZwKgiGXU87FBtKblSOCOmQ\" />\\n\\n    <script src=\"/assets/javascripts/advertisement.js?v=1.0.504\"></script>\\n    <script src=\"/assets/javascripts/site-vendor.min.js?v=1.0.504\"></script>\\n        <script src=\"/assets/javascripts/site-bundle.min.js?v=1.0.504\"></script>\\n\\n    <script src=\"https://cdn.onesignal.com/sdks/OneSignalSDK.js\" async></script>\\n<link rel=\"manifest\" href=\"/manifest.json\">\\n<script>\\n    var OneSignal = window.OneSignal || [];\\n    OneSignal.push([\"init\", {\\n        path: \"/\",\\n        appId: \"623ee752-8622-4386-b53b-e43b4d268923\",\\n        safari_web_id: \"web.onesignal.auto.4058b815-86ea-44b3-9131-733c406f5a63\",\\n        autoRegister: true,\\n        welcomeNotification: {disable: true},\\n        bell: {disable: true},\\n        serviceWorkerRefetchRequests: false,\\n        persistNotification: false\\n    }]);\\n</script>\\n\\n<!-- Facebook Pixel Code -->\\n<script>\\n    !function(f,b,e,v,n,t,s){if(f.fbq)return;n=f.fbq=function(){n.callMethod?\\n            n.callMethod.apply(n,arguments):n.queue.push(arguments)};if(!f._fbq)f._fbq=n;\\n        n.push=n;n.loaded=!0;n.version=\\'2.0\\';n.queue=[];t=b.createElement(e);t.async=!0;\\n        t.src=v;s=b.getElementsByTagName(e)[0];s.parentNode.insertBefore(t,s)}(window,\\n            document,\\'script\\',\\'https://connect.facebook.net/en_US/fbevents.js\\');\\n    fbq(\\'init\\', \\'1235577806499011\\');\\n    fbq(\\'track\\', \"PageView\");\\n</script>\\n<noscript>\\n    <img height=\"1\" width=\"1\" style=\"display:none\" src=\"https://www.facebook.com/tr?id=1235577806499011&ev=PageView&noscript=1\" />\\n</noscript>\\n<!-- End Facebook Pixel Code -->\\n    <script>\\n    var isMobile = false;\\n    var targeting = {\\n        slonAuthorized: false,\\n        slonSubscriber: false\\n                    , slonUrl: \"slon.ru/posts/74927\"\\n                            , slonTitle: \"\\xd0\\x92\\xd0\\xbb\\xd0\\xb0\\xd1\\x81\\xd1\\x82\\xd0\\xb8 \\xd0\\xa1\\xd0\\xa8\\xd0\\x90 \\xd0\\xb7\\xd0\\xb0\\xd0\\xbf\\xd1\\x80\\xd0\\xb5\\xd1\\x82\\xd0\\xb8\\xd0\\xbb\\xd0\\xb8 \\xd0\\xbf\\xd1\\x80\\xd0\\xbe\\xd0\\xbd\\xd0\\xbe\\xd1\\x81\\xd0\\xb8\\xd1\\x82\\xd1\\x8c Samsung Galaxy Note 7 \\xd0\\xb2 \\xd1\\x81\\xd0\\xb0\\xd0\\xbc\\xd0\\xbe\\xd0\\xbb\\xd0\\xb5\\xd1\\x82\\xd1\\x8b\"\\n                                        , slonPostType: \"\\xd0\\x9d\\xd0\\xbe\\xd0\\xb2\\xd0\\xbe\\xd1\\x81\\xd1\\x82\\xd0\\xb8\"\\n                                    , slonAuthor: \"\\xd0\\x9a\\xd0\\xbe\\xd0\\xbd\\xd1\\x81\\xd1\\x82\\xd0\\xb0\\xd0\\xbd\\xd1\\x82\\xd0\\xb8\\xd0\\xbd \\xd0\\xa1\\xd1\\x82\\xd1\\x80\\xd0\\xbe\\xd0\\xba\\xd0\\xbe\\xd0\\xbb\\xd1\\x8c\\xd1\\x81\\xd0\\xba\\xd0\\xb8\\xd0\\xb9\"\\n                        }\\n</script>\\n\\n<!-- gpt -->\\n<script async=\"async\" src=\"https://www.googletagservices.com/tag/js/gpt.js\"></script>\\n\\n<script>\\n    var googletag = googletag || {};\\n    googletag.cmd = googletag.cmd || [];\\n\\n    googletag.cmd.push(function() {\\n        try {\\n            googletag.pubads().addEventListener(\\'slotRenderEnded\\', function(event) {\\n             // recalc waypoints & packery\\n               $(window).trigger(\\'resize\\')\\n            //    console.log(event.slot.getName() + \\' is rendered to slot of size: \\'\\n            //        + event.size[0] + \\'x\\' + event.size[1]);\\n            });\\n\\n            if (typeof isMobile != \"undefined\" && isMobile) {\\n                googletag.defineSlot(\\'/124171376/Slon_m_bottomline\\', [300, 250], \\'div-gpt-ad-1474029926680-0\\').addService(googletag.pubads());\\n                googletag.defineSlot(\\'/124171376/Slon_m_main_after2\\', [300, 250], \\'div-gpt-ad-1473765563133-0\\').addService(googletag.pubads());\\n                googletag.defineSlot(\\'/124171376/Slon_m_news_after2\\', [300, 250], \\'div-gpt-ad-1474031936665-0\\').addService(googletag.pubads());\\n                googletag.defineSlot(\\'/124171376/Slon_m_news_head\\', [[1, 1], [300, 250]], \\'div-gpt-ad-1475062555813-0\\').addService(googletag.pubads());\\n                googletag.defineSlot(\\'/124171376/Slon_m_articles_after1\\', [[1, 1], [300, 250]], \\'div-gpt-ad-1475062671768-0\\').addService(googletag.pubads());\\n                googletag.defineSlot(\\'/124171376/Slon_Top_970x250\\', [300, 250], \\'div-gpt-ad-1474021918358-0\\').addService(googletag.pubads());\\n                googletag.defineSlot(\\'/124171376/Slon_m_main_top\\', [[1, 1], [300, 250]], \\'div-gpt-ad-1475062185764-0\\').addService(googletag.pubads());\\n                googletag.defineSlot(\\'/124171376/Slon_mobilefulllscreen\\', [1, 1], \\'div-gpt-ad-1475060329189-0\\').addService(googletag.pubads()); \\n                //googletag.defineSlot(\\'/124171376/Slon_d_main_native\\', [325, 340], \\'div-gpt-ad-1475243988921-0\\').addService(googletag.pubads()); \\n                googletag.defineSlot(\\'/124171376/Slon_m_articles_bottom_adv\\', [300, 250], \\'div-gpt-ad-1475491892564-0\\').addService(googletag.pubads());\\n                googletag.defineSlot(\\'/124171376/Slon_m_after_social\\', [[325, 340], [300, 250]], \\'div-gpt-ad-1475505320731-0\\').addService(googletag.pubads());\\n            } else {\\n                googletag.defineSlot(\\'/124171376/d_articles_after3\\', [580, 400], \\'div-gpt-ad-1474022000295-0\\').addService(googletag.pubads());\\n                googletag.defineSlot(\\'/124171376/Slon_footer\\', [970, 250], \\'div-gpt-ad-1463485357561-0\\').addService(googletag.pubads());\\n                googletag.defineSlot(\\'/124171376/Slon_d_articles_bottom_adv\\', [[1, 1], [300, 250]], \\'div-gpt-ad-1475491326002-0\\').addService(googletag.pubads());\\n                googletag.defineSlot(\\'/124171376/Slon_NEW_240x400\\', [[240, 400], [300, 600]], \\'div-gpt-ad-1456419684817-0\\').addService(googletag.pubads());\\n                googletag.defineSlot(\\'/124171376/Slon_mainpage_240x400_2\\', [[300, 600], [240, 400]], \\'div-gpt-ad-1453890280452-0\\').addService(googletag.pubads());\\n                googletag.defineSlot(\\'/124171376/Slon_asidenews_2\\', [300, 600], \\'div-gpt-ad-1460627939318-0\\').addService(googletag.pubads());\\n                googletag.defineSlot(\\'/124171376/d_topline\\', [970, 250], \\'div-gpt-ad-1474017645149-0\\').addService(googletag.pubads());\\n                 googletag.defineSlot(\\'/124171376/d_aside\\', [[300, 600], [240, 400], [1, 1]], \\'div-gpt-ad-1474979850261-0\\').addService(googletag.pubads());\\n                // googletag.defineSlot(\\'/124171376/Slon_d_main_native\\', [325, 340], \\'div-gpt-ad-1475243988921-0\\').addService(googletag.pubads()); \\n                 googletag.defineSlot(\\'/124171376/Slon_d_after_social\\', [580, 400], \\'div-gpt-ad-1475505355112-0\\').addService(googletag.pubads());\\n            }\\n\\n            for (var target in targeting) {\\n                if (targeting.hasOwnProperty(target)) {\\n                     googletag.pubads().setTargeting(target, targeting[target].toString());\\n                 }\\n            }\\n\\n            googletag.pubads().enableSingleRequest();\\n            googletag.pubads().collapseEmptyDivs(true);\\n            googletag.enableServices();\\n        } catch (e) {\\n            console.error(e);\\n        }\\n    });\\n</script>\\n<!-- end gpt -->\\n    <link rel=\"stylesheet\" href=\"/assets/stylesheets/site-bundle.min.css?v=1.0.504\" />\\n    <link rel=\"stylesheet\" href=\"//fonts.googleapis.com/css?family=Roboto:300,400,700,300italic,500|Roboto+Condensed:700,400,600|Roboto+Slab&subset=latin,cyrillic\" />\\n    <link rel=\"stylesheet\" href=\"/assets/fonts/style.css?v=1.0.504\" />\\n    </head>\\n<body>\\n            <!-- /124171376/Slon_mobilefulllscreen -->\\n<div id=\\'div-gpt-ad-1475060329189-0\\' style=\\'height:0px; width:0px; position: absolute;\\'>\\n<script>\\ngoogletag.cmd.push(function() { googletag.display(\\'div-gpt-ad-1475060329189-0\\'); });\\n</script>\\n</div>\\n        <div class=\"top-main-banner-wrap\">\\n\\t<div class=\"advert advert-desktop\">\\n\\t\\t<!-- /124171376/d_topline -->\\n<div id=\\'div-gpt-ad-1474017645149-0\\'>\\n<script>\\ngoogletag.cmd.push(function() { googletag.display(\\'div-gpt-ad-1474017645149-0\\'); });\\n</script>\\n</div>\\n\\t</div>\\n</div>        <nav class=\"navbar navbar-default main-menu\" role=\"navigation\">\\n\\n    <div class=\"container\">\\n        <div class=\"logo\">\\n            <a class=\"navbar-brand\" href=\"/\"></a>\\n        </div>\\n        <div class=\"show-menu\">\\n            <i class=\"icon-svg17\"></i>\\n        </div>\\n\\n        <div class=\"collapse-block\">\\n            \\n            <ul class=\"menu\">\\n                <li><a href=\"/news\">\\xd0\\x9d\\xd0\\xbe\\xd0\\xb2\\xd0\\xbe\\xd1\\x81\\xd1\\x82\\xd0\\xb8</a></li>\\n                <li><a href=\"/special/books\">\\xd0\\x9a\\xd0\\xbd\\xd0\\xb8\\xd0\\xb3\\xd0\\xb8</a></li>\\n                \\n                                \\n                                    <li><a href=\"/subscribe\">\\xd0\\x9f\\xd0\\xbe\\xd0\\xb4\\xd0\\xbf\\xd0\\xb8\\xd1\\x81\\xd0\\xba\\xd0\\xb0</a></li>\\n                                <li><a href=\"/advertise\">\\xd0\\xa0\\xd0\\xb5\\xd0\\xba\\xd0\\xbb\\xd0\\xb0\\xd0\\xbc\\xd0\\xb0</a></li>\\n                <li><a href=\"https://telegram.me/SlonMag\">Telegram</a></li>\\n            </ul>\\n            <div class=\"auth-block\">\\n                <ul class=\"right-menu\">\\n                                            <li>\\n                            <a href=\"/signin\">\\n                                                                \\xd0\\x92\\xd1\\x85\\xd0\\xbe\\xd0\\xb4\\n                            </a>\\n                        </li>\\n                        <li>\\n                            <a href=\"/signup\">\\n                                                                \\xd0\\xa0\\xd0\\xb5\\xd0\\xb3\\xd0\\xb8\\xd1\\x81\\xd1\\x82\\xd1\\x80\\xd0\\xb0\\xd1\\x86\\xd0\\xb8\\xd1\\x8f\\n                            </a>\\n                        </li>\\n                                        <li class=\"search-button \">\\n                        <a href=\"#\" class=\"full\">\\n                            <i class=\"icon-svg2\"></i>\\n                            <i class=\"icon-svg18\"></i>\\n                        </a>\\n                        <a href=\"/search\" class=\"mobile\">\\n                            \\xd0\\x9f\\xd0\\xbe\\xd0\\xb8\\xd1\\x81\\xd0\\xba\\n                        </a>\\n                    </li>\\n                </ul>\\n            </div>\\n        </div>\\n            </div>\\n</nav>\\n\\n<section class=\"search-wrapper hidden-search \">\\n    <section class=\"main\">\\n        <section class=\"input\">\\n            <div class=\"container\">\\n                <form action=\"/search\" method=\"GET\">\\n                    <input\\n                        type=\"text\"\\n                        class=\"search-input form-control\"\\n                        placeholder=\"\\xd0\\xaf \\xd0\\xb8\\xd1\\x89\\xd1\\x83...\"\\n                        name=\"q\"\\n                    />\\n                    <button class=\"search-submit\">\\n                        <i class=\"icon-svg2\"></i>\\n                    </button>\\n                </form>\\n            </div>\\n        </section>\\n    </section>\\n</section>\\n        \\n        \\n        \\n    <div class=\"post-content-inner news\">\\n        <div\\n            class=\"post-navbar\"\\n            data-title=\"\\xd0\\x92\\xd0\\xbb\\xd0\\xb0\\xd1\\x81\\xd1\\x82\\xd0\\xb8 \\xd0\\xa1\\xd0\\xa8\\xd0\\x90 \\xd0\\xb7\\xd0\\xb0\\xd0\\xbf\\xd1\\x80\\xd0\\xb5\\xd1\\x82\\xd0\\xb8\\xd0\\xbb\\xd0\\xb8 \\xd0\\xbf\\xd1\\x80\\xd0\\xbe\\xd0\\xbd\\xd0\\xbe\\xd1\\x81\\xd0\\xb8\\xd1\\x82\\xd1\\x8c Samsung Galaxy Note 7 \\xd0\\xb2 \\xd1\\x81\\xd0\\xb0\\xd0\\xbc\\xd0\\xbe\\xd0\\xbb\\xd0\\xb5\\xd1\\x82\\xd1\\x8b\"\\n            data-description=\"\\xd0\\x94\\xd0\\xb5\\xd0\\xbf\\xd0\\xb0\\xd1\\x80\\xd1\\x82\\xd0\\xb0\\xd0\\xbc\\xd0\\xb5\\xd0\\xbd\\xd1\\x82 \\xd1\\x82\\xd1\\x80\\xd0\\xb0\\xd0\\xbd\\xd1\\x81\\xd0\\xbf\\xd0\\xbe\\xd1\\x80\\xd1\\x82\\xd0\\xb0 \\xd0\\xa1\\xd0\\xa8\\xd0\\x90 \\xd0\\xb7\\xd0\\xb0\\xd0\\xbf\\xd1\\x80\\xd0\\xb5\\xd1\\x82\\xd0\\xb8\\xd0\\xbb \\xd0\\xbf\\xd1\\x80\\xd0\\xbe\\xd0\\xbd\\xd0\\xbe\\xd1\\x81\\xd0\\xb8\\xd1\\x82\\xd1\\x8c \\xd0\\xbd\\xd0\\xb0 \\xd0\\xb1\\xd0\\xbe\\xd1\\x80\\xd1\\x82 \\xd1\\x81\\xd0\\xb0\\xd0\\xbc\\xd0\\xbe\\xd0\\xbb\\xd0\\xb5\\xd1\\x82\\xd0\\xbe\\xd0\\xb2 \\xd1\\x81\\xd0\\xbc\\xd0\\xb0\\xd1\\x80\\xd1\\x82\\xd1\\x84\\xd0\\xbe\\xd0\\xbd\\xd1\\x8b Samsung Galaxy Note 7\"\\n            data-link=\"/posts/74927\"\\n            data-share-url=\"https://slon.ru/posts/74927\"\\n            data-id=\"74927\"\\n            data-type=\"1\"\\n                                                            data-dimension1=\"\\xd0\\x9d\\xd0\\xbe\\xd0\\xb2\\xd0\\xbe\\xd1\\x81\\xd1\\x82\\xd0\\xb8\"\\n                                    data-dimension2=\"\\xd0\\x9a\\xd0\\xbe\\xd0\\xbd\\xd1\\x81\\xd1\\x82\\xd0\\xb0\\xd0\\xbd\\xd1\\x82\\xd0\\xb8\\xd0\\xbd \\xd0\\xa1\\xd1\\x82\\xd1\\x80\\xd0\\xbe\\xd0\\xba\\xd0\\xbe\\xd0\\xbb\\xd1\\x8c\\xd1\\x81\\xd0\\xba\\xd0\\xb8\\xd0\\xb9\"\\n                                    data-dimension5=\"false\"\\n                                    data-dimension6=\"false\"\\n                                    >\\n                            <div class=\"container\">\\n                    <div class=\"logo\">\\n                        <a class=\"navbar-brand\" href=\"/\"></a>\\n                    </div>\\n\\n                    <div class=\"post-title\">\\n                        <div class=\"t-row\">\\n                            <div class=\"t-cell\">\\n                                \\xd0\\x92\\xd0\\xbb\\xd0\\xb0\\xd1\\x81\\xd1\\x82\\xd0\\xb8 \\xd0\\xa1\\xd0\\xa8\\xd0\\x90 \\xd0\\xb7\\xd0\\xb0\\xd0\\xbf\\xd1\\x80\\xd0\\xb5\\xd1\\x82\\xd0\\xb8\\xd0\\xbb\\xd0\\xb8 \\xd0\\xbf\\xd1\\x80\\xd0\\xbe\\xd0\\xbd\\xd0\\xbe\\xd1\\x81\\xd0\\xb8\\xd1\\x82\\xd1\\x8c Samsung Galaxy Note 7 \\xd0\\xb2 \\xd1\\x81\\xd0\\xb0\\xd0\\xbc\\xd0\\xbe\\xd0\\xbb\\xd0\\xb5\\xd1\\x82\\xd1\\x8b\\n                            </div>\\n                        </div>\\n                    </div>\\n                </div>\\n            \\n                            <div class=\"socials\">\\n\\t<div class=\"social-buttons\" data-url=\"https://slon.ru/posts/74927\" data-title=\"\\xd0\\x92\\xd0\\xbb\\xd0\\xb0\\xd1\\x81\\xd1\\x82\\xd0\\xb8 \\xd0\\xa1\\xd0\\xa8\\xd0\\x90 \\xd0\\xb7\\xd0\\xb0\\xd0\\xbf\\xd1\\x80\\xd0\\xb5\\xd1\\x82\\xd0\\xb8\\xd0\\xbb\\xd0\\xb8 \\xd0\\xbf\\xd1\\x80\\xd0\\xbe\\xd0\\xbd\\xd0\\xbe\\xd1\\x81\\xd0\\xb8\\xd1\\x82\\xd1\\x8c Samsung Galaxy Note 7 \\xd0\\xb2 \\xd1\\x81\\xd0\\xb0\\xd0\\xbc\\xd0\\xbe\\xd0\\xbb\\xd0\\xb5\\xd1\\x82\\xd1\\x8b\">\\n\\t\\t<div class=\"facebook\" title=\"\\xd0\\x9f\\xd0\\xbe\\xd0\\xb4\\xd0\\xb5\\xd0\\xbb\\xd0\\xb8\\xd1\\x82\\xd1\\x8c\\xd1\\x81\\xd1\\x8f\"></div>\\n\\t\\t<div class=\"vkontakte\" title=\"\\xd0\\x9f\\xd0\\xbe\\xd0\\xb4\\xd0\\xb5\\xd0\\xbb\\xd0\\xb8\\xd1\\x82\\xd1\\x8c\\xd1\\x81\\xd1\\x8f\"></div>\\n\\t\\t<div class=\"twitter\" title=\"\\xd0\\xa2\\xd0\\xb2\\xd0\\xb8\\xd1\\x82\\xd0\\xbd\\xd1\\x83\\xd1\\x82\\xd1\\x8c\"></div>\\n\\t\\n\\t\\t\\n\\n\\t</div>\\n</div>\\n                    </div>\\n\\n        \\n\\t\\t\\n\\t\\t\\t\\n\\t\\t<div class=\"container news\">\\n\\t\\t\\t\\n\\t\\t\\t<div class=\"row\">\\n\\t\\t\\t\\t<div class=\"col-xs-12\">\\n\\t\\t\\t\\t\\t\\t\\n\\t\\t\\t\\t\\t<section class=\"left-col\">\\n\\t\\t\\t\\t\\t\\t\\n\\t\\t\\t\\t\\t\\t<div class=\"head-row\">\\n\\t\\t\\t\\t\\t\\t\\t<div class=\"news-head\">\\n\\t\\t\\t\\t\\t\\t\\t\\t<h2 class=\"news-label\"><a href=\\'/macrotags/61\\'>\\xd0\\xa0\\xd0\\xbe\\xd1\\x81\\xd1\\x81\\xd0\\xb8\\xd1\\x8f</a></h2>\\n\\t\\t\\t\\t\\t\\t\\t\\t<h1>\\xd0\\x92\\xd0\\xbb\\xd0\\xb0\\xd1\\x81\\xd1\\x82\\xd0\\xb8 \\xd0\\xa1\\xd0\\xa8\\xd0\\x90 \\xd0\\xb7\\xd0\\xb0\\xd0\\xbf\\xd1\\x80\\xd0\\xb5\\xd1\\x82\\xd0\\xb8\\xd0\\xbb\\xd0\\xb8 \\xd0\\xbf\\xd1\\x80\\xd0\\xbe\\xd0\\xbd\\xd0\\xbe\\xd1\\x81\\xd0\\xb8\\xd1\\x82\\xd1\\x8c Samsung Galaxy Note 7&nbsp;\\xd0\\xb2&nbsp;\\xd1\\x81\\xd0\\xb0\\xd0\\xbc\\xd0\\xbe\\xd0\\xbb\\xd0\\xb5\\xd1\\x82\\xd1\\x8b</h1>\\n\\t\\t\\t\\t\\t\\t\\t\\t<div class=\"meta-info\">\\n\\t\\t\\t\\t\\t\\t\\t\\t\\t<div class=\"date\">\\n\\t\\t\\t\\t\\t\\t\\t\\t\\t\\t01:31\\n\\t\\t\\t\\t\\t\\t\\t\\t\\t</div>\\n\\t\\t\\t\\t\\t\\t\\t\\t\\t<div class=\"views\">\\n\\t<i class=\"icon-svg10\"></i>\\n\\t<span class=\"count\">459</span>\\n\\t\\xd0\\xbf\\xd1\\x80\\xd0\\xbe\\xd1\\x81\\xd0\\xbc\\xd0\\xbe\\xd1\\x82\\xd1\\x80\\xd0\\xbe\\xd0\\xb2\\n</div>\\t\\t\\t\\t\\t\\t\\t\\t\\t\\t\\t\\t\\t\\t\\t\\t\\t</div>\\n\\t\\t\\t\\t\\t\\t\\t</div>\\n\\t\\t\\t\\t\\t\\t</div>\\t\\n\\n\\t\\t\\t\\t\\t\\t<div class=\"post\">\\n\\t\\t\\t\\t\\t\\t\\t<div class=\"content-row\">\\n\\t\\t\\t\\t\\t\\t\\t\\t\\t<div class=\"post-content\">\\n\\t\\t\\t\\t\\t\\t\\t\\t\\t\\t\\t\\t\\t\\t\\t\\t\\t\\t\\t\\t\\t\\t\\t\\t\\t\\t\\t\\t\\t\\t<p>\\xd0\\x94\\xd0\\xb5\\xd0\\xbf\\xd0\\xb0\\xd1\\x80\\xd1\\x82\\xd0\\xb0\\xd0\\xbc\\xd0\\xb5\\xd0\\xbd\\xd1\\x82 \\xd1\\x82\\xd1\\x80\\xd0\\xb0\\xd0\\xbd\\xd1\\x81\\xd0\\xbf\\xd0\\xbe\\xd1\\x80\\xd1\\x82\\xd0\\xb0 \\xd0\\xa1\\xd0\\xa8\\xd0\\x90 \\xd0\\xb7\\xd0\\xb0\\xd0\\xbf\\xd1\\x80\\xd0\\xb5\\xd1\\x82\\xd0\\xb8\\xd0\\xbb \\xd0\\xbf\\xd1\\x80\\xd0\\xbe\\xd0\\xbd\\xd0\\xbe\\xd1\\x81\\xd0\\xb8\\xd1\\x82\\xd1\\x8c \\xd0\\xbd\\xd0\\xb0 \\xd0\\xb1\\xd0\\xbe\\xd1\\x80\\xd1\\x82 \\xd1\\x81\\xd0\\xb0\\xd0\\xbc\\xd0\\xbe\\xd0\\xbb\\xd0\\xb5\\xd1\\x82\\xd0\\xbe\\xd0\\xb2 \\xd1\\x81\\xd0\\xbc\\xd0\\xb0\\xd1\\x80\\xd1\\x82\\xd1\\x84\\xd0\\xbe\\xd0\\xbd\\xd1\\x8b Samsung Galaxy Note 7 \\xd0\\xb2 \\xd1\\x81\\xd0\\xb2\\xd1\\x8f\\xd0\\xb7\\xd0\\xb8 \\xd1\\x81 \\xd0\\xb2\\xd0\\xbe\\xd0\\xb7\\xd0\\xbc\\xd0\\xbe\\xd0\\xb6\\xd0\\xbd\\xd0\\xbe\\xd0\\xb9 \\xd1\\x83\\xd0\\xb3\\xd1\\x80\\xd0\\xbe\\xd0\\xb7\\xd0\\xbe\\xd0\\xb9 \\xd0\\xb8\\xd1\\x85 \\xd0\\xb2\\xd0\\xbe\\xd0\\xb7\\xd0\\xb3\\xd0\\xbe\\xd1\\x80\\xd0\\xb0\\xd0\\xbd\\xd0\\xb8\\xd1\\x8f, <a href=\"http://hosted.ap.org/dynamic/stories/U/US_SAMSUNG_FLIGHT_BAN?SITE=AP&amp;SECTION=HOME&amp;TEMPLATE=DEFAULT\" target=\"_blank\">\\xd1\\x81\\xd0\\xbe\\xd0\\xbe\\xd0\\xb1\\xd1\\x89\\xd0\\xb0\\xd0\\xb5\\xd1\\x82</a> AP.</p><p>\\xd0\\x92 \\xd1\\x80\\xd0\\xb0\\xd1\\x81\\xd0\\xbf\\xd0\\xbe\\xd1\\x80\\xd1\\x8f\\xd0\\xb6\\xd0\\xb5\\xd0\\xbd\\xd0\\xb8\\xd0\\xb8 \\xd0\\xb2\\xd0\\xb5\\xd0\\xb4\\xd0\\xbe\\xd0\\xbc\\xd1\\x81\\xd1\\x82\\xd0\\xb2\\xd0\\xb0 \\xd0\\xb3\\xd0\\xbe\\xd0\\xb2\\xd0\\xbe\\xd1\\x80\\xd0\\xb8\\xd1\\x82\\xd1\\x81\\xd1\\x8f, \\xd1\\x87\\xd1\\x82\\xd0\\xbe \\xd1\\x83\\xd1\\x81\\xd1\\x82\\xd1\\x80\\xd0\\xbe\\xd0\\xb9\\xd1\\x81\\xd1\\x82\\xd0\\xb2\\xd0\\xb0 \\xd0\\xbd\\xd0\\xb5 \\xd1\\x80\\xd0\\xb0\\xd0\\xb7\\xd1\\x80\\xd0\\xb5\\xd1\\x88\\xd0\\xb0\\xd0\\xb5\\xd1\\x82\\xd1\\x81\\xd1\\x8f \\xd0\\xbf\\xd1\\x80\\xd0\\xbe\\xd0\\xbd\\xd0\\xbe\\xd1\\x81\\xd0\\xb8\\xd1\\x82\\xd1\\x8c \\xd0\\xbd\\xd0\\xb0 \\xd0\\xb1\\xd0\\xbe\\xd1\\x80\\xd1\\x82 \\xd0\\xb2 \\xd1\\x80\\xd1\\x83\\xd1\\x87\\xd0\\xbd\\xd0\\xbe\\xd0\\xb9 \\xd0\\xba\\xd0\\xbb\\xd0\\xb0\\xd0\\xb4\\xd0\\xb8 \\xd0\\xb8\\xd0\\xbb\\xd0\\xb8 \\xd0\\xb1\\xd0\\xb0\\xd0\\xb3\\xd0\\xb0\\xd0\\xb6\\xd0\\xb5 \\xd0\\xbd\\xd0\\xb0 \\xd0\\xb2\\xd0\\xbd\\xd1\\x83\\xd1\\x82\\xd1\\x80\\xd0\\xb5\\xd0\\xbd\\xd0\\xbd\\xd0\\xb8\\xd1\\x85 \\xd1\\x80\\xd0\\xb5\\xd0\\xb9\\xd1\\x81\\xd0\\xb0\\xd1\\x85, \\xd0\\xb0 \\xd1\\x82\\xd0\\xb0\\xd0\\xba\\xd0\\xb6\\xd0\\xb5 \\xd0\\xbd\\xd0\\xb0 \\xd0\\xb2\\xd1\\x8b\\xd0\\xbb\\xd0\\xb5\\xd1\\x82\\xd0\\xb0\\xd1\\x8e\\xd1\\x89\\xd0\\xb8\\xd1\\x85 \\xd0\\xb8\\xd0\\xb7 \\xd0\\xa1\\xd0\\xa8\\xd0\\x90 \\xd0\\xb8 \\xd0\\xbf\\xd1\\x80\\xd0\\xb8\\xd0\\xb1\\xd1\\x8b\\xd0\\xb2\\xd0\\xb0\\xd1\\x8e\\xd1\\x89\\xd0\\xb8\\xd1\\x85 \\xd0\\xbd\\xd0\\xb0 \\xd0\\xb8\\xd1\\x85 \\xd1\\x82\\xd0\\xb5\\xd1\\x80\\xd1\\x80\\xd0\\xb8\\xd1\\x82\\xd0\\xbe\\xd1\\x80\\xd0\\xb8\\xd1\\x8e.</p><p>\\xd0\\x9f\\xd0\\xb0\\xd1\\x81\\xd1\\x81\\xd0\\xb0\\xd0\\xb6\\xd0\\xb8\\xd1\\x80\\xd1\\x8b, \\xd0\\xba\\xd0\\xbe\\xd1\\x82\\xd0\\xbe\\xd1\\x80\\xd1\\x8b\\xd0\\xb5 \\xd0\\xb1\\xd1\\x83\\xd0\\xb4\\xd1\\x83\\xd1\\x82 \\xd1\\x83\\xd0\\xbb\\xd0\\xb8\\xd1\\x87\\xd0\\xb5\\xd0\\xbd\\xd1\\x8b \\xd0\\xb2 \\xd0\\xbf\\xd0\\xbe\\xd0\\xbf\\xd1\\x8b\\xd1\\x82\\xd0\\xba\\xd0\\xb0\\xd1\\x85 \\xd0\\xbd\\xd0\\xb0\\xd1\\x80\\xd1\\x83\\xd1\\x88\\xd0\\xb8\\xd1\\x82\\xd1\\x8c \\xd1\\x8d\\xd1\\x82\\xd0\\xb8 \\xd0\\xbf\\xd1\\x80\\xd0\\xb0\\xd0\\xb2\\xd0\\xb8\\xd0\\xbb\\xd0\\xb0, \\xd0\\xb1\\xd1\\x83\\xd0\\xb4\\xd1\\x83\\xd1\\x82 \\xd0\\xbe\\xd1\\x88\\xd1\\x82\\xd1\\x80\\xd0\\xb0\\xd1\\x84\\xd0\\xbe\\xd0\\xb2\\xd0\\xb0\\xd0\\xbd\\xd1\\x8b, \\xd0\\xb0 \\xd0\\xb8\\xd1\\x85 \\xd1\\x81\\xd0\\xbc\\xd0\\xb0\\xd1\\x80\\xd1\\x82\\xd1\\x84\\xd0\\xbe\\xd0\\xbd \\xd0\\xba\\xd0\\xbe\\xd0\\xbd\\xd1\\x84\\xd0\\xb8\\xd1\\x81\\xd0\\xba\\xd1\\x83\\xd1\\x8e\\xd1\\x82.</p><p>\\xd0\\xa0\\xd0\\xb0\\xd0\\xbd\\xd0\\xb5\\xd0\\xb5 \\xd0\\xa4\\xd0\\xb5\\xd0\\xb4\\xd0\\xb5\\xd1\\x80\\xd0\\xb0\\xd0\\xbb\\xd1\\x8c\\xd0\\xbd\\xd0\\xbe\\xd0\\xb5 \\xd1\\x83\\xd0\\xbf\\xd1\\x80\\xd0\\xb0\\xd0\\xb2\\xd0\\xbb\\xd0\\xb5\\xd0\\xbd\\xd0\\xb8\\xd0\\xb5 \\xd0\\xb3\\xd1\\x80\\xd0\\xb0\\xd0\\xb6\\xd0\\xb4\\xd0\\xb0\\xd0\\xbd\\xd1\\x81\\xd0\\xba\\xd0\\xbe\\xd0\\xb9 \\xd0\\xb0\\xd0\\xb2\\xd0\\xb8\\xd0\\xb0\\xd1\\x86\\xd0\\xb8\\xd0\\xb8 \\xd0\\xa1\\xd0\\xa8\\xd0\\x90 \\xd0\\xbf\\xd1\\x80\\xd0\\xb8\\xd0\\xb7\\xd1\\x8b\\xd0\\xb2\\xd0\\xb0\\xd0\\xbb\\xd0\\xbe \\xd0\\xbf\\xd0\\xb0\\xd1\\x81\\xd1\\x81\\xd0\\xb0\\xd0\\xb6\\xd0\\xb8\\xd1\\x80\\xd0\\xbe\\xd0\\xb2 \\xd0\\xbd\\xd0\\xb5 \\xd0\\xbf\\xd1\\x80\\xd0\\xbe\\xd0\\xb2\\xd0\\xbe\\xd0\\xb7\\xd0\\xb8\\xd1\\x82\\xd1\\x8c \\xd1\\x81\\xd0\\xbc\\xd0\\xb0\\xd1\\x80\\xd1\\x82\\xd1\\x84\\xd0\\xbe\\xd0\\xbd\\xd1\\x8b \\xd0\\xb2 \\xd0\\xb1\\xd0\\xb0\\xd0\\xb3\\xd0\\xb0\\xd0\\xb6\\xd0\\xb5, \\xd0\\xbd\\xd0\\xb5 \\xd0\\xb2\\xd0\\xba\\xd0\\xbb\\xd1\\x8e\\xd1\\x87\\xd0\\xb0\\xd1\\x82\\xd1\\x8c \\xd0\\xb8 \\xd0\\xbd\\xd0\\xb5 \\xd0\\xb7\\xd0\\xb0\\xd1\\x80\\xd1\\x8f\\xd0\\xb6\\xd0\\xb0\\xd1\\x82\\xd1\\x8c \\xd0\\xb8\\xd1\\x85 \\xd0\\xbd\\xd0\\xb0 \\xd0\\xb1\\xd0\\xbe\\xd1\\x80\\xd1\\x82\\xd1\\x83 \\xd1\\x81\\xd0\\xb0\\xd0\\xbc\\xd0\\xbe\\xd0\\xbb\\xd0\\xb5\\xd1\\x82\\xd0\\xbe\\xd0\\xb2.</p><p>\\xd0\\x90\\xd0\\xbc\\xd0\\xb5\\xd1\\x80\\xd0\\xb8\\xd0\\xba\\xd0\\xb0\\xd0\\xbd\\xd1\\x81\\xd0\\xba\\xd0\\xb0\\xd1\\x8f \\xd0\\x9a\\xd0\\xbe\\xd0\\xbc\\xd0\\xb8\\xd1\\x81\\xd1\\x81\\xd0\\xb8\\xd1\\x8f \\xd0\\xbf\\xd0\\xbe \\xd0\\xb1\\xd0\\xb5\\xd0\\xb7\\xd0\\xbe\\xd0\\xbf\\xd0\\xb0\\xd1\\x81\\xd0\\xbd\\xd0\\xbe\\xd1\\x81\\xd1\\x82\\xd0\\xb8 \\xd0\\xbf\\xd0\\xbe\\xd1\\x82\\xd1\\x80\\xd0\\xb5\\xd0\\xb1\\xd0\\xb8\\xd1\\x82\\xd0\\xb5\\xd0\\xbb\\xd1\\x8c\\xd1\\x81\\xd0\\xba\\xd0\\xb8\\xd1\\x85 \\xd1\\x82\\xd0\\xbe\\xd0\\xb2\\xd0\\xb0\\xd1\\x80\\xd0\\xbe\\xd0\\xb2 \\xd1\\x81\\xd0\\xbe\\xd0\\xbe\\xd0\\xb1\\xd1\\x89\\xd0\\xb0\\xd0\\xbb\\xd0\\xb0 \\xd0\\xbe \\xd0\\xbf\\xd0\\xbe\\xd1\\x87\\xd1\\x82\\xd0\\xb8 100 \\xd1\\x81\\xd0\\xbb\\xd1\\x83\\xd1\\x87\\xd0\\xb0\\xd1\\x8f\\xd1\\x85 \\xd0\\xbf\\xd0\\xb5\\xd1\\x80\\xd0\\xb5\\xd0\\xb3\\xd1\\x80\\xd0\\xb5\\xd0\\xb2\\xd0\\xb0 \\xd0\\xb1\\xd0\\xb0\\xd1\\x82\\xd0\\xb0\\xd1\\x80\\xd0\\xb5\\xd0\\xb8 Galaxy Note 7. \\xd0\\x9e\\xd0\\xb4\\xd0\\xbd\\xd0\\xbe \\xd0\\xb8\\xd0\\xb7 \\xd1\\x83\\xd1\\x81\\xd1\\x82\\xd1\\x80\\xd0\\xbe\\xd0\\xb9\\xd1\\x81\\xd1\\x82\\xd0\\xb2 \\xd0\\xb7\\xd0\\xb0\\xd0\\xb3\\xd0\\xbe\\xd1\\x80\\xd0\\xb5\\xd0\\xbb\\xd0\\xbe\\xd1\\x81\\xd1\\x8c \\xd0\\xbd\\xd0\\xb0 \\xd0\\xb1\\xd0\\xbe\\xd1\\x80\\xd1\\x82\\xd1\\x83 \\xd1\\x81\\xd0\\xb0\\xd0\\xbc\\xd0\\xbe\\xd0\\xbb\\xd0\\xb5\\xd1\\x82\\xd0\\xb0 \\xd0\\xae\\xd0\\xb3\\xd0\\xbe-\\xd0\\xb7\\xd0\\xb0\\xd0\\xbf\\xd0\\xb0\\xd0\\xb4\\xd0\\xbd\\xd1\\x8b\\xd1\\x85 \\xd0\\xb0\\xd0\\xb2\\xd0\\xb8\\xd0\\xb0\\xd0\\xbb\\xd0\\xb8\\xd0\\xbd\\xd0\\xb8\\xd0\\xb9. \\xd0\\x94\\xd1\\x80\\xd1\\x83\\xd0\\xb3\\xd0\\xbe\\xd0\\xb5 \\xd0\\xb2\\xd0\\xbe\\xd1\\x81\\xd0\\xbf\\xd0\\xbb\\xd0\\xb0\\xd0\\xbc\\xd0\\xb5\\xd0\\xbd\\xd0\\xb8\\xd0\\xbb\\xd0\\xbe\\xd1\\x81\\xd1\\x8c \\xd0\\xb2\\xd0\\xbe \\xd0\\xb2\\xd1\\x80\\xd0\\xb5\\xd0\\xbc\\xd1\\x8f \\xd0\\xb7\\xd0\\xb0\\xd1\\x80\\xd1\\x8f\\xd0\\xb4\\xd0\\xba\\xd0\\xb8 \\xd0\\xb2 \\xd1\\x81\\xd0\\xb0\\xd0\\xbb\\xd0\\xbe\\xd0\\xbd\\xd0\\xb5 \\xc2\\xab\\xd0\\x94\\xd0\\xb6\\xd0\\xb8\\xd0\\xbf\\xd0\\xb0\\xc2\\xbb \\xd1\\x81\\xd0\\xb5\\xd0\\xbc\\xd1\\x8c\\xd0\\xb8 \\xd0\\xb8\\xd0\\xb7 \\xd0\\xa1\\xd0\\xb0\\xd0\\xbd\\xd0\\xba\\xd1\\x82-\\xd0\\x9f\\xd0\\xb5\\xd1\\x82\\xd0\\xb5\\xd1\\x80\\xd0\\xb1\\xd1\\x83\\xd1\\x80\\xd0\\xb3\\xd0\\xb0, \\xd0\\xa4\\xd0\\xbb\\xd0\\xbe\\xd1\\x80\\xd0\\xb8\\xd0\\xb4\\xd0\\xb0, \\xd0\\xb2 \\xd1\\x80\\xd0\\xb5\\xd0\\xb7\\xd1\\x83\\xd0\\xbb\\xd1\\x8c\\xd1\\x82\\xd0\\xb0\\xd1\\x82\\xd0\\xb5 \\xd1\\x87\\xd0\\xb5\\xd0\\xb3\\xd0\\xbe \\xd0\\xb0\\xd0\\xb2\\xd1\\x82\\xd0\\xbe\\xd0\\xbc\\xd0\\xbe\\xd0\\xb1\\xd0\\xb8\\xd0\\xbb\\xd1\\x8c \\xd1\\x81\\xd0\\xb3\\xd0\\xbe\\xd1\\x80\\xd0\\xb5\\xd0\\xbb.</p><p>\\xd0\\x98\\xd0\\xb7-\\xd0\\xb7\\xd0\\xb0 \\xd0\\xbd\\xd0\\xb5\\xd0\\xbf\\xd0\\xbe\\xd0\\xbb\\xd0\\xb0\\xd0\\xb4\\xd0\\xbe\\xd0\\xba \\xd1\\x81 \\xd0\\xb1\\xd0\\xb0\\xd1\\x82\\xd0\\xb0\\xd1\\x80\\xd0\\xb5\\xd0\\xb5\\xd0\\xb9 Samsung <a href=\"https://slon.ru/posts/74746\" target=\"_blank\">\\xd0\\xbe\\xd0\\xb1\\xd1\\x8a\\xd1\\x8f\\xd0\\xb2\\xd0\\xb8\\xd0\\xbb\\xd0\\xb0</a> \\xd0\\xbe \\xd0\\xbf\\xd0\\xbe\\xd0\\xbb\\xd0\\xbd\\xd0\\xbe\\xd0\\xbc \\xd0\\xbf\\xd1\\x80\\xd0\\xb5\\xd0\\xba\\xd1\\x80\\xd0\\xb0\\xd1\\x89\\xd0\\xb5\\xd0\\xbd\\xd0\\xb8\\xd0\\xb8 \\xd0\\xb2\\xd1\\x8b\\xd0\\xbf\\xd1\\x83\\xd1\\x81\\xd0\\xba\\xd0\\xb0 Galaxy Note 7. \\xd0\\xa3\\xd0\\xb1\\xd1\\x8b\\xd1\\x82\\xd0\\xba\\xd0\\xb8 \\xd0\\xbe\\xd1\\x82 \\xd1\\x82\\xd0\\xb0\\xd0\\xba\\xd0\\xbe\\xd0\\xb3\\xd0\\xbe \\xd1\\x88\\xd0\\xb0\\xd0\\xb3\\xd0\\xb0 \\xd0\\xba\\xd0\\xbe\\xd0\\xbc\\xd0\\xbf\\xd0\\xb0\\xd0\\xbd\\xd0\\xb8\\xd1\\x8f <a href=\"https://slon.ru/posts/74882\" target=\"_blank\">\\xd0\\xbe\\xd1\\x86\\xd0\\xb5\\xd0\\xbd\\xd0\\xb8\\xd0\\xbb\\xd0\\xb0</a> \\xd0\\xb2 $3 \\xd0\\xbc\\xd0\\xbb\\xd1\\x80\\xd0\\xb4.</p><p>\\xd0\\x9f\\xd1\\x80\\xd0\\xbe\\xd0\\xb4\\xd0\\xb0\\xd0\\xb6\\xd0\\xb0 \\xd1\\x81\\xd0\\xbc\\xd0\\xb0\\xd1\\x80\\xd1\\x82\\xd1\\x84\\xd0\\xbe\\xd0\\xbd\\xd0\\xbe\\xd0\\xb2 \\xd1\\x81\\xd1\\x82\\xd0\\xb0\\xd1\\x80\\xd1\\x82\\xd0\\xbe\\xd0\\xb2\\xd0\\xb0\\xd0\\xbb\\xd0\\xb0 19 \\xd0\\xb0\\xd0\\xb2\\xd0\\xb3\\xd1\\x83\\xd1\\x81\\xd1\\x82\\xd0\\xb0. \\xd0\\x92\\xd0\\xbf\\xd0\\xbe\\xd1\\x81\\xd0\\xbb\\xd0\\xb5\\xd0\\xb4\\xd1\\x81\\xd1\\x82\\xd0\\xb2\\xd0\\xb8\\xd0\\xb8 Samsung \\xd0\\xbe\\xd1\\x81\\xd1\\x82\\xd0\\xb0\\xd0\\xbd\\xd0\\xbe\\xd0\\xb2\\xd0\\xb8\\xd0\\xbb\\xd0\\xb0 \\xd0\\xbf\\xd1\\x80\\xd0\\xbe\\xd0\\xb4\\xd0\\xb0\\xd0\\xb6\\xd0\\xb8 \\xd0\\xb8 \\xd0\\xbe\\xd1\\x82\\xd0\\xbe\\xd0\\xb7\\xd0\\xb2\\xd0\\xb0\\xd0\\xbb\\xd0\\xb0 \\xd0\\xb1\\xd0\\xbe\\xd0\\xbb\\xd0\\xb5\\xd0\\xb5 2,5 \\xd0\\xbc\\xd0\\xbb\\xd0\\xbd \\xd1\\x83\\xd1\\x81\\xd1\\x82\\xd1\\x80\\xd0\\xbe\\xd0\\xb9\\xd1\\x81\\xd1\\x82\\xd0\\xb2 \\xd0\\xb8\\xd0\\xb7-\\xd0\\xb7\\xd0\\xb0 \\xd0\\xb8\\xd1\\x85&nbsp;\\xd0\\xb2\\xd0\\xbe\\xd0\\xb7\\xd0\\xb3\\xd0\\xbe\\xd1\\x80\\xd0\\xb0\\xd0\\xbd\\xd0\\xb8\\xd1\\x8f \\xd0\\xbf\\xd1\\x80\\xd0\\xb8 \\xd0\\xb7\\xd0\\xb0\\xd1\\x80\\xd1\\x8f\\xd0\\xb4\\xd0\\xba\\xd0\\xb5 \\xd0\\xb8\\xd0\\xbb\\xd0\\xb8 \\xd0\\xb8\\xd1\\x81\\xd0\\xbf\\xd0\\xbe\\xd0\\xbb\\xd1\\x8c\\xd0\\xb7\\xd0\\xbe\\xd0\\xb2\\xd0\\xb0\\xd0\\xbd\\xd0\\xb8\\xd0\\xb8.</p>\\n\\t\\t\\t\\t\\t\\t\\t\\t\\t\\t\\n\\t\\t\\t\\t\\t\\t\\t\\t\\t\\t\\n\\t\\t\\t\\t\\t\\t\\t\\t\\t\\t\\t\\t\\t\\t\\t\\t\\t\\t\\t\\t\\n\\t\\t\\t\\t\\t\\t\\t\\t\\t\\t\\n\\t\\t\\t\\t\\t\\t\\t\\t\\t\\t\\n\\t\\t\\t\\t\\t\\t\\t\\t\\t\\t\\t\\t\\t\\t\\t\\t\\t\\t\\t\\t\\t\\t\\t\\t\\t\\t\\t\\t\\t\\t\\n\\t\\t\\t\\t\\t\\t\\t\\t\\t  \\t\\n\\t\\t\\t\\t\\t\\t        <div class=\"socials\">\\n\\t<div class=\"social-buttons\" data-url=\"https://slon.ru/posts/74927\" data-title=\"\\xd0\\x92\\xd0\\xbb\\xd0\\xb0\\xd1\\x81\\xd1\\x82\\xd0\\xb8 \\xd0\\xa1\\xd0\\xa8\\xd0\\x90 \\xd0\\xb7\\xd0\\xb0\\xd0\\xbf\\xd1\\x80\\xd0\\xb5\\xd1\\x82\\xd0\\xb8\\xd0\\xbb\\xd0\\xb8 \\xd0\\xbf\\xd1\\x80\\xd0\\xbe\\xd0\\xbd\\xd0\\xbe\\xd1\\x81\\xd0\\xb8\\xd1\\x82\\xd1\\x8c Samsung Galaxy Note 7 \\xd0\\xb2 \\xd1\\x81\\xd0\\xb0\\xd0\\xbc\\xd0\\xbe\\xd0\\xbb\\xd0\\xb5\\xd1\\x82\\xd1\\x8b\">\\n\\t\\t<div class=\"facebook\" title=\"\\xd0\\x9f\\xd0\\xbe\\xd0\\xb4\\xd0\\xb5\\xd0\\xbb\\xd0\\xb8\\xd1\\x82\\xd1\\x8c\\xd1\\x81\\xd1\\x8f\"></div>\\n\\t\\t<div class=\"vkontakte\" title=\"\\xd0\\x9f\\xd0\\xbe\\xd0\\xb4\\xd0\\xb5\\xd0\\xbb\\xd0\\xb8\\xd1\\x82\\xd1\\x8c\\xd1\\x81\\xd1\\x8f\"></div>\\n\\t\\t<div class=\"twitter\" title=\"\\xd0\\xa2\\xd0\\xb2\\xd0\\xb8\\xd1\\x82\\xd0\\xbd\\xd1\\x83\\xd1\\x82\\xd1\\x8c\"></div>\\n\\t\\n\\t\\t\\n\\n\\t</div>\\n</div>\\n\\n\\t\\t\\t\\t\\t\\t    \\t\\t<div class=\"advert advert-desktop intr\">\\n\\t\\t\\t\\t\\t\\t    \\t\\t\\t<!-- /124171376/Slon_d_after_social -->\\n<div id=\\'div-gpt-ad-1475505355112-0\\' style=\\'height:400px; width:580px;\\'>\\n<script>\\ngoogletag.cmd.push(function() { googletag.display(\\'div-gpt-ad-1475505355112-0\\'); });\\n</script>\\n</div>\\n\\n\\t\\t\\t\\t\\t\\t    \\t\\t\\t\\t\\t\\t\\t\\t\\t    \\t\\t\\t\\t\\t\\t\\t\\t\\t    \\t\\t</div>\\n\\n\\t\\t\\t\\t\\t\\t    \\t\\t \\n\\n\\t\\t\\t\\t\\t\\t\\t\\t\\t\\t\\n\\t\\t\\t\\t\\t\\t\\t\\t\\t\\t<div class=\"news-articles-block\">\\n    <div class=\"showcase-row\">\\n        <div class=\"showcase-grid static\">\\n            <h3>\\n                                    \\xd0\\xa1\\xd0\\xb5\\xd0\\xb9\\xd1\\x87\\xd0\\xb0\\xd1\\x81 \\xd0\\xbd\\xd0\\xb0 \\xd0\\xb3\\xd0\\xbb\\xd0\\xb0\\xd0\\xb2\\xd0\\xbd\\xd0\\xbe\\xd0\\xb9\\n                            </h3>\\n\\n                        \\n                                                                            \\n                                    <article class=\"article-card white-labeled hovers\" data-ym-goal=\"newsnowonmain\">\\n\\n    <div class=\"card-inner\">\\n                                    <a href=\"/posts/74906?utm_source=slon.ru&amp;utm_medium=internal&amp;utm_campaign=most-popular\">\\n                                            \\t<div\\n\\t    class=\"card-cover gravity-x-c gravity-y-t\"\\n\\t    style=\"background-image: url(/images/photos/medium/5308a08896bff64353264efdefece11b.jpeg?crop=4000px,2000px,0px,201px);\"\\n\\t></div>\\n\\n                    </a>\\n\\n        <div class=\"card-content\">\\n                            <div class=\"card-post-info\">\\n                    <p class=\"card-post-label\"><a href=\\'/macrotags/63\\'>\\xd0\\xad\\xd0\\xba\\xd0\\xbe\\xd0\\xbd\\xd0\\xbe\\xd0\\xbc\\xd0\\xb8\\xd0\\xba\\xd0\\xb0</a></p>\\n                </div>\\n            \\n            <div class=\"card-post-info align-bottom\">\\n                                    \\n<a href=\"/posts/74906?utm_source=slon.ru&amp;utm_medium=internal&amp;utm_campaign=most-popular\" target=\"_self\">\\n    <h6 class=\"card-post-headline card-post-headline--inversed \">\\n                                    <i class=\"icon-svg9\"></i>\\n                            \\xc2\\xab\\xd0\\xa1\\xd0\\xbe\\xd0\\xb2\\xd1\\x81\\xd0\\xb5\\xd0\\xbc \\xd0\\xb7\\xd0\\xb0\\xd0\\xbf\\xd1\\x83\\xd1\\x82\\xd0\\xb0\\xd0\\xbb\\xd0\\xb8\\xc2\\xbb. \\xd0\\xa7\\xd0\\xb5\\xd0\\xbc \\xd0\\xbc\\xd0\\xbe\\xd1\\x81\\xd0\\xba\\xd0\\xbe\\xd0\\xb2\\xd1\\x81\\xd0\\xba\\xd0\\xb0\\xd1\\x8f \\xd0\\xbf\\xd1\\x83\\xd0\\xb1\\xd0\\xbb\\xd0\\xb8\\xd0\\xba\\xd0\\xb0 \\xd0\\xbe\\xd0\\xb7\\xd0\\xb0\\xd0\\xb4\\xd0\\xb0\\xd1\\x87\\xd0\\xb8\\xd0\\xbb\\xd0\\xb0 \\xd0\\x9d\\xd0\\xb0\\xd1\\x81\\xd1\\x81\\xd0\\xb8\\xd0\\xbc\\xd0\\xb0 \\xd0\\xa2\\xd0\\xb0\\xd0\\xbb\\xd0\\xb5\\xd0\\xb1\\xd0\\xb0?\\n    </h6>\\n</a>\\n\\n    <div class=\"card-post-author\">\\n    <a href=\"/authors/37648\">\\n        <div class=\"media-body media-middle\">\\n            <span class=\"card-post-author-name\">\\xd0\\x95\\xd0\\xb2\\xd0\\xb3\\xd0\\xb5\\xd0\\xbd\\xd0\\xb8\\xd0\\xb9 \\xd0\\x9a\\xd0\\xb0\\xd1\\x80\\xd0\\xb0\\xd1\\x81\\xd1\\x8e\\xd0\\xba</span>\\n        </div>\\n    </a>\\n</div>            </div>\\n        </div>\\n    </div>\\n</article>\\n                                                                                            \\n                                    <article class=\"article-card white-labeled hovers\" data-ym-goal=\"newsnowonmain\">\\n\\n    <div class=\"card-inner\">\\n                                    <a href=\"/posts/74916?utm_source=slon.ru&amp;utm_medium=internal&amp;utm_campaign=most-popular\">\\n                                            \\t<div\\n\\t    class=\"card-cover gravity-x-c gravity-y-c\"\\n\\t    style=\"background-image: url(/images/photos/medium/8733177c57d918f63f12708e43f2f3a6.jpeg?crop=3000px,1503px,0px,140px);\"\\n\\t></div>\\n\\n                    </a>\\n\\n        <div class=\"card-content\">\\n                            <div class=\"card-post-info\">\\n                    <p class=\"card-post-label\"><a href=\\'/sections/140\\'>\\xd0\\xa1\\xd0\\xba\\xd0\\xb0\\xd0\\xbd\\xd0\\xb5\\xd1\\x80</a></p>\\n                </div>\\n            \\n            <div class=\"card-post-info align-bottom\">\\n                                    \\n<a href=\"/posts/74916?utm_source=slon.ru&amp;utm_medium=internal&amp;utm_campaign=most-popular\" target=\"_self\">\\n    <h6 class=\"card-post-headline card-post-headline--inversed \">\\n                                    <i class=\"icon-svg9\"></i>\\n                            \\xd0\\x9a\\xd0\\xb0\\xd0\\xba \\xd0\\xbc\\xd1\\x83\\xd0\\xb6\\xd1\\x87\\xd0\\xb8\\xd0\\xbd\\xd1\\x8b \\xd0\\xb8&nbsp;\\xd0\\xb6\\xd0\\xb5\\xd0\\xbd\\xd1\\x89\\xd0\\xb8\\xd0\\xbd\\xd1\\x8b \\xd0\\xbe\\xd1\\x82\\xd0\\xbb\\xd0\\xb8\\xd1\\x87\\xd0\\xb0\\xd1\\x8e\\xd1\\x82\\xd1\\x81\\xd1\\x8f \\xd0\\xbf\\xd1\\x81\\xd0\\xb8\\xd1\\x85\\xd0\\xbe\\xd0\\xbb\\xd0\\xbe\\xd0\\xb3\\xd0\\xb8\\xd1\\x87\\xd0\\xb5\\xd1\\x81\\xd0\\xba\\xd0\\xb8: \\xd0\\xbe\\xd1\\x82\\xd0\\xb2\\xd0\\xb5\\xd1\\x82 \\xd1\\x83\\xd1\\x87\\xd0\\xb5\\xd0\\xbd\\xd1\\x8b\\xd1\\x85\\n    </h6>\\n</a>\\n\\n    <div class=\"card-post-author\">\\n    <a href=\"/authors/39477\">\\n        <div class=\"media-body media-middle\">\\n            <span class=\"card-post-author-name\">\\xd0\\x98\\xd1\\x80\\xd0\\xb0 \\xd0\\xa1\\xd0\\xbe\\xd0\\xbb\\xd0\\xbe\\xd0\\xbc\\xd0\\xbe\\xd0\\xbd\\xd0\\xbe\\xd0\\xb2\\xd0\\xb0</span>\\n        </div>\\n    </a>\\n</div>            </div>\\n        </div>\\n    </div>\\n</article>\\n                                                                                            \\n                                    <article class=\"article-card white-labeled hovers\" data-ym-goal=\"newsnowonmain\">\\n\\n    <div class=\"card-inner\">\\n                                    <a href=\"/posts/74811?utm_source=slon.ru&amp;utm_medium=internal&amp;utm_campaign=most-popular\">\\n                                            \\t<div\\n\\t    class=\"card-cover gravity-x-c gravity-y-t\"\\n\\t    style=\"background-image: url(/images/photos/medium/2de181e7e39562a10c77b8843572b8c3.jpeg?crop=3090px,1548px,0px,261px);\"\\n\\t></div>\\n\\n                    </a>\\n\\n        <div class=\"card-content\">\\n                            <div class=\"card-post-info\">\\n                    <p class=\"card-post-label\"><a href=\\'/macrotags/61\\'>\\xd0\\xa0\\xd0\\xbe\\xd1\\x81\\xd1\\x81\\xd0\\xb8\\xd1\\x8f</a></p>\\n                </div>\\n            \\n            <div class=\"card-post-info align-bottom\">\\n                                    \\n<a href=\"/posts/74811?utm_source=slon.ru&amp;utm_medium=internal&amp;utm_campaign=most-popular\" target=\"_self\">\\n    <h6 class=\"card-post-headline card-post-headline--inversed \">\\n                                    <i class=\"icon-svg9\"></i>\\n                            \\xd0\\x9f\\xd1\\x83\\xd0\\xbf\\xd1\\x81 \\xd0\\xb7\\xd0\\xb5\\xd0\\xbc\\xd0\\xbb\\xd0\\xb8. \\xd0\\xa0\\xd0\\xb0\\xd0\\xbc\\xd0\\xb7\\xd0\\xb0\\xd0\\xbd \\xd0\\x9a\\xd0\\xb0\\xd0\\xb4\\xd1\\x8b\\xd1\\x80\\xd0\\xbe\\xd0\\xb2 \\xd0\\xb8&nbsp;\\xd1\\x87\\xd0\\xb0\\xd0\\xb4\\xd0\\xbe\\xd0\\xbb\\xd1\\x8e\\xd0\\xb1\\xd0\\xb8\\xd0\\xb5\\n    </h6>\\n</a>\\n\\n    <div class=\"card-post-author\">\\n    <a href=\"/authors/11928\">\\n        <div class=\"media-body media-middle\">\\n            <span class=\"card-post-author-name\">\\xd0\\x98\\xd0\\xb3\\xd0\\xbe\\xd1\\x80\\xd1\\x8c \\xd0\\x9f\\xd0\\xbe\\xd1\\x80\\xd0\\xbe\\xd1\\x88\\xd0\\xb8\\xd0\\xbd</span>\\n        </div>\\n    </a>\\n</div>            </div>\\n        </div>\\n    </div>\\n</article>\\n                                                                                            \\n                                    <article class=\"article-card white-labeled hovers\" data-ym-goal=\"newsnowonmain\">\\n\\n    <div class=\"card-inner\">\\n                                    <a href=\"/posts/74866?utm_source=slon.ru&amp;utm_medium=internal&amp;utm_campaign=most-popular\">\\n                                            \\t<div\\n\\t    class=\"card-cover gravity-x-c gravity-y-c\"\\n\\t    style=\"background-image: url(/images/photos/medium/b52a125d25114bb4ad2a9339bddad533.jpeg?crop=2134px,1068px,0px,23px);\"\\n\\t></div>\\n\\n                    </a>\\n\\n        <div class=\"card-content\">\\n                            <div class=\"card-post-info\">\\n                    <p class=\"card-post-label\"><a href=\\'/macrotags/68\\'>\\xd0\\xa7\\xd1\\x82\\xd0\\xb5\\xd0\\xbd\\xd0\\xb8\\xd0\\xb5</a></p>\\n                </div>\\n            \\n            <div class=\"card-post-info align-bottom\">\\n                                    \\n<a href=\"/posts/74866?utm_source=slon.ru&amp;utm_medium=internal&amp;utm_campaign=most-popular\" target=\"_self\">\\n    <h6 class=\"card-post-headline card-post-headline--inversed \">\\n                                    <i class=\"icon-svg9\"></i>\\n                            \\xd0\\x9a\\xd0\\xbe\\xd0\\xb3\\xd0\\xb4\\xd0\\xb0-\\xd1\\x82\\xd0\\xbe&nbsp;\\xd1\\x8f&nbsp;\\xd0\\xb1\\xd1\\x8b\\xd0\\xbb \\xd1\\x87\\xd0\\xb5\\xd0\\xbb\\xd0\\xbe\\xd0\\xb2\\xd0\\xb5\\xd0\\xba\\xd0\\xbe\\xd0\\xbc. \\xd0\\x98\\xd1\\x81\\xd1\\x82\\xd0\\xbe\\xd1\\x80\\xd0\\xb8\\xd1\\x8f \\xd0\\xb8\\xd0\\xbd\\xd1\\x82\\xd0\\xb5\\xd1\\x80\\xd0\\xbd\\xd0\\xb5\\xd1\\x82-\\xd0\\xb7\\xd0\\xb0\\xd0\\xb2\\xd0\\xb8\\xd1\\x81\\xd0\\xb8\\xd0\\xbc\\xd0\\xbe\\xd1\\x81\\xd1\\x82\\xd0\\xb8\\n    </h6>\\n</a>\\n\\n            </div>\\n        </div>\\n    </div>\\n</article>\\n                                    </div>\\n    </div>\\n</div>\\n\\n\\t\\t\\t\\t\\t\\t\\t\\t\\t\\t<section class=\"latest-news\">\\n\\t<header>\\n\\t\\t<h4 class=\"latest-news__title\">\\xd0\\x9f\\xd0\\xbe\\xd1\\x81\\xd0\\xbb\\xd0\\xb5\\xd0\\xb4\\xd0\\xbd\\xd0\\xb8\\xd0\\xb5 \\xd0\\xbd\\xd0\\xbe\\xd0\\xb2\\xd0\\xbe\\xd1\\x81\\xd1\\x82\\xd0\\xb8</h4>\\n\\t</header>\\n\\n\\t\\t\\t<article class=\"latest-news__item\">\\n\\t\\t\\t<a href=\"/posts/74926\" class=\"latest-news__item__link\" data-ym-goal=\"newslastnews\">\\n\\t\\t\\t\\t<time class=\"latest-news__item__time\">23:14</time>\\n\\t\\t\\t\\t<h2 class=\"latest-news__item__title\">Fitch \\xd1\\x83\\xd0\\xbb\\xd1\\x83\\xd1\\x87\\xd1\\x88\\xd0\\xb8\\xd0\\xbb\\xd0\\xbe \\xd0\\xbf\\xd1\\x80\\xd0\\xbe\\xd0\\xb3\\xd0\\xbd\\xd0\\xbe\\xd0\\xb7 \\xd0\\xbf\\xd0\\xbe \\xd1\\x80\\xd0\\xb5\\xd0\\xb9\\xd1\\x82\\xd0\\xb8\\xd0\\xbd\\xd0\\xb3\\xd1\\x83 \\xd0\\xa0\\xd0\\xbe\\xd1\\x81\\xd1\\x81\\xd0\\xb8\\xd0\\xb8 \\xd0\\xb4\\xd0\\xbe \\xc2\\xab\\xd1\\x81\\xd1\\x82\\xd0\\xb0\\xd0\\xb1\\xd0\\xb8\\xd0\\xbb\\xd1\\x8c\\xd0\\xbd\\xd0\\xbe\\xd0\\xb3\\xd0\\xbe\\xc2\\xbb</h2>\\n\\t\\t\\t</a>\\n\\t\\t</article>\\n\\t\\t\\t<article class=\"latest-news__item\">\\n\\t\\t\\t<a href=\"/posts/74924\" class=\"latest-news__item__link\" data-ym-goal=\"newslastnews\">\\n\\t\\t\\t\\t<time class=\"latest-news__item__time\">21:00</time>\\n\\t\\t\\t\\t<h2 class=\"latest-news__item__title\">\\xd0\\xa1\\xd0\\x9c\\xd0\\x98 \\xd1\\x81\\xd0\\xbe\\xd0\\xbe\\xd0\\xb1\\xd1\\x89\\xd0\\xb8\\xd0\\xbb\\xd0\\xb8 \\xd0\\xbe\\xd0\\xb1 \\xd0\\xbe\\xd0\\xb1\\xd1\\x8b\\xd1\\x81\\xd0\\xba\\xd0\\xb0\\xd1\\x85 \\xd0\\xb2 \\xd0\\xbc\\xd0\\xb0\\xd0\\xb3\\xd0\\xb0\\xd0\\xb7\\xd0\\xb8\\xd0\\xbd\\xd0\\xb5 \\xc2\\xab\\xd0\\x9b\\xd0\\xb8\\xd1\\x82\\xd0\\xa0\\xd0\\xb5\\xd1\\x81\\xc2\\xbb</h2>\\n\\t\\t\\t</a>\\n\\t\\t</article>\\n\\t\\t\\t<article class=\"latest-news__item\">\\n\\t\\t\\t<a href=\"/posts/74921\" class=\"latest-news__item__link\" data-ym-goal=\"newslastnews\">\\n\\t\\t\\t\\t<time class=\"latest-news__item__time\">19:43</time>\\n\\t\\t\\t\\t<h2 class=\"latest-news__item__title\">\\xd0\\xa1\\xd0\\x9c\\xd0\\x98 \\xd1\\x81\\xd0\\xbe\\xd0\\xbe\\xd0\\xb1\\xd1\\x89\\xd0\\xb8\\xd0\\xbb\\xd0\\xb8 \\xd0\\xbe \\xd0\\xb7\\xd0\\xb0\\xd0\\xb4\\xd0\\xb5\\xd1\\x80\\xd0\\xb6\\xd0\\xb0\\xd0\\xbd\\xd0\\xb8\\xd0\\xb8 \\xd0\\xb1\\xd1\\x8b\\xd0\\xb2\\xd1\\x88\\xd0\\xb5\\xd0\\xb3\\xd0\\xbe \\xd0\\xbc\\xd0\\xb8\\xd1\\x80\\xd0\\xbe\\xd0\\xb2\\xd0\\xbe\\xd0\\xb3\\xd0\\xbe \\xd1\\x81\\xd1\\x83\\xd0\\xb4\\xd1\\x8c\\xd0\\xb8 \\xd0\\xb7\\xd0\\xb0 \\xd1\\x81\\xd1\\x82\\xd1\\x80\\xd0\\xb5\\xd0\\xbb\\xd1\\x8c\\xd0\\xb1\\xd1\\x83 \\xd0\\xb2 \\xd0\\xa5\\xd0\\xb0\\xd1\\x81\\xd0\\xb0\\xd0\\xb2\\xd1\\x8e\\xd1\\x80\\xd1\\x82\\xd0\\xb5</h2>\\n\\t\\t\\t</a>\\n\\t\\t</article>\\n\\t\\t\\t<article class=\"latest-news__item\">\\n\\t\\t\\t<a href=\"/posts/74918\" class=\"latest-news__item__link\" data-ym-goal=\"newslastnews\">\\n\\t\\t\\t\\t<time class=\"latest-news__item__time\">18:46</time>\\n\\t\\t\\t\\t<h2 class=\"latest-news__item__title\">\\xd0\\x9e\\xd1\\x82 \\xd0\\xb2\\xd0\\xbb\\xd0\\xb0\\xd0\\xb4\\xd0\\xb5\\xd0\\xbb\\xd1\\x8c\\xd1\\x86\\xd0\\xb5\\xd0\\xb2 \\xd0\\xb8\\xd0\\xbd\\xd0\\xbe\\xd1\\x81\\xd1\\x82\\xd1\\x80\\xd0\\xb0\\xd0\\xbd\\xd0\\xbd\\xd1\\x8b\\xd1\\x85 \\xd1\\x81\\xd1\\x87\\xd0\\xb5\\xd1\\x82\\xd0\\xbe\\xd0\\xb2 \\xd1\\x81\\xd1\\x82\\xd0\\xb0\\xd0\\xbb\\xd0\\xb8 \\xd1\\x82\\xd1\\x80\\xd0\\xb5\\xd0\\xb1\\xd0\\xbe\\xd0\\xb2\\xd0\\xb0\\xd1\\x82\\xd1\\x8c \\xd0\\xbb\\xd0\\xb8\\xd1\\x87\\xd0\\xbd\\xd0\\xbe \\xd0\\xbf\\xd1\\x80\\xd0\\xb8\\xd0\\xb9\\xd1\\x82\\xd0\\xb8 \\xd0\\xb2 \\xd0\\xbd\\xd0\\xb0\\xd0\\xbb\\xd0\\xbe\\xd0\\xb3\\xd0\\xbe\\xd0\\xb2\\xd1\\x83\\xd1\\x8e</h2>\\n\\t\\t\\t</a>\\n\\t\\t</article>\\n\\t\\t\\t<article class=\"latest-news__item\">\\n\\t\\t\\t<a href=\"/posts/74919\" class=\"latest-news__item__link\" data-ym-goal=\"newslastnews\">\\n\\t\\t\\t\\t<time class=\"latest-news__item__time\">18:46</time>\\n\\t\\t\\t\\t<h2 class=\"latest-news__item__title\">\\xd0\\x9c\\xd0\\xb8\\xd0\\xbd\\xd0\\xb8\\xd1\\x81\\xd1\\x82\\xd1\\x80 \\xd0\\x90\\xd0\\xb1\\xd1\\x8b\\xd0\\xb7\\xd0\\xbe\\xd0\\xb2 \\xd0\\xbe\\xd0\\xb1\\xd1\\x8a\\xd1\\x8f\\xd1\\x81\\xd0\\xbd\\xd0\\xb8\\xd0\\xbb \\xd0\\xbf\\xd1\\x80\\xd0\\xbe\\xd1\\x81\\xd1\\x80\\xd0\\xbe\\xd1\\x87\\xd0\\xba\\xd1\\x83 \\xd1\\x80\\xd0\\xb0\\xd1\\x81\\xd1\\x81\\xd0\\xbc\\xd0\\xbe\\xd1\\x82\\xd1\\x80\\xd0\\xb5\\xd0\\xbd\\xd0\\xb8\\xd1\\x8f \\xd0\\xbf\\xd0\\xb5\\xd1\\x82\\xd0\\xb8\\xd1\\x86\\xd0\\xb8\\xd0\\xb8 \\xd0\\xbf\\xd1\\x80\\xd0\\xbe\\xd1\\x82\\xd0\\xb8\\xd0\\xb2 \\xd0\\xb7\\xd0\\xb0\\xd0\\xba\\xd0\\xbe\\xd0\\xbd\\xd0\\xbe\\xd0\\xb2 \\xd0\\xaf\\xd1\\x80\\xd0\\xbe\\xd0\\xb2\\xd0\\xbe\\xd0\\xb9</h2>\\n\\t\\t\\t</a>\\n\\t\\t</article>\\n\\t\\n</section>\\n\\n\\t\\t\\t\\t\\t\\t\\t\\t\\t</div>\\n\\t\\t\\t\\t\\t\\t\\t\\t</div>\\t\\n\\t\\t\\t\\t\\t\\t</div>\\n\\t\\t\\t\\t\\t</section>\\n\\n\\t\\t\\t\\t\\t\\n\\t\\t\\t\\t\\t<aside class=\"showcase-aside feature js-changeable\">\\n\\t\\t\\t\\t\\t\\t<div class=\"adBox advert advert-desktop js-changeable-item\" data-banner=\"d_aside\">\\n\\t\\t\\t\\t\\t\\t\\t<!-- /124171376/d_aside -->\\n<div id=\\'div-gpt-ad-1474979850261-0\\'>\\n<script>\\ngoogletag.cmd.push(function() { googletag.display(\\'div-gpt-ad-1474979850261-0\\'); });\\n</script>\\n</div>\\n\\t\\t\\t\\t\\t\\t</div>\\t\\t\\t\\t\\t\\t\\n\\t\\t\\t\\t\\t\\t<div class=\"adBox advert advert-desktop advert--aside-button js-changeable-item\" data-banner=\"d_articles_aside2\">\\n\\t\\t\\t\\t\\t\\t\\t<!-- /124171376/Slon_asidenews_2 -->\\n<div id=\\'div-gpt-ad-1460627939318-0\\' style=\\'height:600px; width:300px;\\'>\\n<script type=\\'text/javascript\\'>\\ngoogletag.cmd.push(function() { googletag.display(\\'div-gpt-ad-1460627939318-0\\'); });\\n</script>\\n</div>\\n\\t\\t\\t\\t\\t\\t</div>\\n\\t\\t\\t\\t\\t\\t\\t\\t\\t\\t\\t</aside>\\n\\t\\t\\t\\t\\n\\n\\t\\t\\t\\t</div>\\n\\t\\t\\t</div>\\n\\t\\t</div>\\n\\n\\t\\n\\n\\n\\n\\t\\n\\n\\n        \\n        \\n\\n        \\n    </div>\\n\\n    \\n    \\n    <script type=\"application/x-template\" id=\"tmpl-nsfw-warning\">\\n        <div class=\"warning\">\\n            \\xd0\\xa1\\xd0\\xbe\\xd0\\xb4\\xd0\\xb5\\xd1\\x80\\xd0\\xb6\\xd0\\xb0\\xd0\\xbd\\xd0\\xb8\\xd0\\xb5 \\xd1\\x84\\xd0\\xbe\\xd1\\x82\\xd0\\xbe\\xd0\\xb3\\xd1\\x80\\xd0\\xb0\\xd1\\x84\\xd0\\xb8\\xd0\\xb8 <br/>\\n            \\xd0\\xbc\\xd0\\xbe\\xd0\\xb6\\xd0\\xb5\\xd1\\x82 \\xd0\\xb2\\xd0\\xb0\\xd1\\x81 \\xd1\\x88\\xd0\\xbe\\xd0\\xba\\xd0\\xb8\\xd1\\x80\\xd0\\xbe\\xd0\\xb2\\xd0\\xb0\\xd1\\x82\\xd1\\x8c <br/><br/>\\n            <button class=\"i-am-ok-with-this\">\\xd0\\x9e\\xd1\\x82\\xd0\\xba\\xd1\\x80\\xd1\\x8b\\xd1\\x82\\xd1\\x8c</button>\\n        </div>\\n    </script>\\n\\n        <div class=\"advert--gray\">\\n        \\t<div class=\"advert advert-desktop advert--bottom\">\\n\\t\\t<!-- /124171376/Slon_footer -->\\n<div id=\\'div-gpt-ad-1463485357561-0\\'>\\n<script type=\\'text/javascript\\'>\\ngoogletag.cmd.push(function() { googletag.display(\\'div-gpt-ad-1463485357561-0\\'); });\\n</script>\\n</div>\\n\\t</div>\\n    </div>  \\n\\n            <footer class=\"footer\">\\n    <!-- Secondary menu -->\\n    <nav class=\"navbar navbar-default navbar-black\">\\n        <div class=\"container\">\\n            <div class=\"navbar-header\">\\n                <a class=\"navbar-brand\" href=\"/\"></a>\\n            </div>\\n            <div class=\"show-menu\">\\n                <i class=\"icon-svg17\"></i>\\n            </div>\\n            <div class=\"collapse-block\">\\n                <ul class=\"nav navbar-nav\">\\n                    <li><a href=\"/about\">\\xd0\\x9e \\xd0\\xbf\\xd1\\x80\\xd0\\xbe\\xd0\\xb5\\xd0\\xba\\xd1\\x82\\xd0\\xb5</a></li>\\n                    <li><a href=\"/advertise\">\\xd0\\xa0\\xd0\\xb5\\xd0\\xba\\xd0\\xbb\\xd0\\xb0\\xd0\\xbc\\xd0\\xb0</a></li>\\n                    <li><a href=\"/feedback\">\\xd0\\x9e\\xd0\\xb1\\xd1\\x80\\xd0\\xb0\\xd1\\x82\\xd0\\xbd\\xd0\\xb0\\xd1\\x8f \\xd1\\x81\\xd0\\xb2\\xd1\\x8f\\xd0\\xb7\\xd1\\x8c</a></li>\\n                    <li><a href=\"/faq\">\\xd0\\x92\\xd0\\xbe\\xd0\\xbf\\xd1\\x80\\xd0\\xbe\\xd1\\x81-\\xd0\\xbe\\xd1\\x82\\xd0\\xb2\\xd0\\xb5\\xd1\\x82</a></li>\\n                    <li><a href=\"/eula\">\\xd0\\x9f\\xd0\\xbe\\xd0\\xbb\\xd1\\x8c\\xd0\\xb7\\xd0\\xbe\\xd0\\xb2\\xd0\\xb0\\xd1\\x82\\xd0\\xb5\\xd0\\xbb\\xd1\\x8c\\xd1\\x81\\xd0\\xba\\xd0\\xbe\\xd0\\xb5 \\xd1\\x81\\xd0\\xbe\\xd0\\xb3\\xd0\\xbb\\xd0\\xb0\\xd1\\x88\\xd0\\xb5\\xd0\\xbd\\xd0\\xb8\\xd0\\xb5</a></li>\\n                </ul>\\n            </div>\\n        </div>\\n    </nav>\\n    <!-- Copyright -->\\n    <section class=\"copyright-container\">\\n        <div class=\"row\">\\n            <div class=\"col col-sm-8 col-xs-12\">\\n                <p>&copy; 2009 &mdash; 2016. \\xd0\\x92\\xd1\\x81\\xd0\\xb5 \\xd0\\xbf\\xd1\\x80\\xd0\\xb0\\xd0\\xb2\\xd0\\xb0 \\xd0\\xb7\\xd0\\xb0\\xd1\\x89\\xd0\\xb8\\xd1\\x89\\xd0\\xb5\\xd0\\xbd\\xd1\\x8b.</p>\\n                <p>\\n                    \\xd0\\x9b\\xd1\\x8e\\xd0\\xb1\\xd0\\xbe\\xd0\\xb5 \\xd0\\xb8\\xd1\\x81\\xd0\\xbf\\xd0\\xbe\\xd0\\xbb\\xd1\\x8c\\xd0\\xb7\\xd0\\xbe\\xd0\\xb2\\xd0\\xb0\\xd0\\xbd\\xd0\\xb8\\xd0\\xb5 \\xd0\\xbc\\xd0\\xb0\\xd1\\x82\\xd0\\xb5\\xd1\\x80\\xd0\\xb8\\xd0\\xb0\\xd0\\xbb\\xd0\\xbe\\xd0\\xb2 \\xd0\\xb4\\xd0\\xbe\\xd0\\xbf\\xd1\\x83\\xd1\\x81\\xd0\\xba\\xd0\\xb0\\xd0\\xb5\\xd1\\x82\\xd1\\x81\\xd1\\x8f \\xd1\\x82\\xd0\\xbe\\xd0\\xbb\\xd1\\x8c\\xd0\\xba\\xd0\\xbe \\xd1\\x81&nbsp;\\xd1\\x81\\xd0\\xbe\\xd0\\xb3\\xd0\\xbb\\xd0\\xb0\\xd1\\x81\\xd0\\xb8\\xd1\\x8f \\xd1\\x80\\xd0\\xb5\\xd0\\xb4\\xd0\\xb0\\xd0\\xba\\xd1\\x86\\xd0\\xb8\\xd0\\xb8. \\xd0\\xa1\\xd0\\xb2\\xd0\\xb8\\xd0\\xb4\\xd0\\xb5\\xd1\\x82\\xd0\\xb5\\xd0\\xbb\\xd1\\x8c\\xd1\\x81\\xd1\\x82\\xd0\\xb2\\xd0\\xbe \\xd0\\xbe&nbsp;\\xd1\\x80\\xd0\\xb5\\xd0\\xb3\\xd0\\xb8\\xd1\\x81\\xd1\\x82\\xd1\\x80\\xd0\\xb0\\xd1\\x86\\xd0\\xb8\\xd0\\xb8 \\xd0\\xad\\xd0\\xbb&nbsp;\\xe2\\x84\\x96\\xd0\\xa4\\xd0\\xa177-36570.\\n                    \\xd0\\x92\\xd1\\x8b\\xd0\\xb4\\xd0\\xb0\\xd0\\xbd\\xd0\\xbe&nbsp;\\xd0\\xa0\\xd0\\xbe\\xd1\\x81\\xd0\\xba\\xd0\\xbe\\xd0\\xbc\\xd0\\xbd\\xd0\\xb0\\xd0\\xb4\\xd0\\xb7\\xd0\\xbe\\xd1\\x80\\xd0\\xbe\\xd0\\xbc 11&nbsp;\\xd0\\xb8\\xd1\\x8e\\xd0\\xbd\\xd1\\x8f&nbsp;2009&nbsp;\\xd0\\xb3\\xd0\\xbe\\xd0\\xb4\\xd0\\xb0. 16+\\n                </p>\\n                <p class=\"proofreading-invite\">\\n                    \\xd0\\x97\\xd0\\xb0\\xd0\\xbc\\xd0\\xb5\\xd1\\x82\\xd0\\xb8\\xd0\\xbb\\xd0\\xb8 \\xd0\\xbe\\xd1\\x88\\xd0\\xb8\\xd0\\xb1\\xd0\\xba\\xd1\\x83? \\xd0\\x92\\xd1\\x8b\\xd0\\xb4\\xd0\\xb5\\xd0\\xbb\\xd0\\xb8\\xd1\\x82\\xd0\\xb5 \\xd0\\xb5\\xd0\\xb5 \\xd0\\xb8 \\xd0\\xbd\\xd0\\xb0\\xd0\\xb6\\xd0\\xbc\\xd0\\xb8\\xd1\\x82\\xd0\\xb5 <span class=\"ctrl-modifier\"></span>+Enter\\n                </p>\\n                <p id=\"push-notify-switch\">\\n                    Push-\\xd1\\x83\\xd0\\xb2\\xd0\\xb5\\xd0\\xb4\\xd0\\xbe\\xd0\\xbc\\xd0\\xbb\\xd0\\xb5\\xd0\\xbd\\xd0\\xb8\\xd1\\x8f:\\n                    <span class=\"denied\">\\xd1\\x81\\xd0\\xbe\\xd1\\x81\\xd1\\x82\\xd0\\xbe\\xd1\\x8f\\xd0\\xbd\\xd0\\xb8\\xd0\\xb5 \\xd0\\xbf\\xd1\\x80\\xd0\\xbe\\xd0\\xb2\\xd0\\xb5\\xd1\\x80\\xd1\\x8f\\xd0\\xb5\\xd1\\x82\\xd1\\x81\\xd1\\x8f</span>\\n                    <a href=\"#\" class=\"change hide\"></a>\\n                </p>\\n            </div>\\n        </div>\\n    </section>\\n</footer>\\n\\n<div class=\"modal proofreading\">\\n    <form action=\"/proofreading\" method=\"post\">\\n        <div class=\"modal-header\">\\n            <button type=\"button\" class=\"close\">&times;</button>\\n            <h3>\\xd0\\x9e\\xd1\\x80\\xd1\\x84\\xd0\\xbe\\xd0\\xb3\\xd1\\x80\\xd0\\xb0\\xd1\\x84\\xd0\\xb8\\xd1\\x87\\xd0\\xb5\\xd1\\x81\\xd0\\xba\\xd0\\xb0\\xd1\\x8f \\xd0\\xbe\\xd1\\x88\\xd0\\xb8\\xd0\\xb1\\xd0\\xba\\xd0\\xb0</h3>\\n        </div>\\n        <div class=\"modal-body\">\\n            <div class=\"error-view\"></div>\\n            <div class=\"comment\">\\n                <textarea name=\"comment\" placeholder=\"\\xd0\\x9e\\xd0\\xbf\\xd0\\xb8\\xd1\\x81\\xd0\\xb0\\xd0\\xbd\\xd0\\xb8\\xd0\\xb5 \\xd0\\xbe\\xd1\\x88\\xd0\\xb8\\xd0\\xb1\\xd0\\xba\\xd0\\xb8 (\\xd0\\xbd\\xd0\\xb5\\xd0\\xbe\\xd0\\xb1\\xd1\\x8f\\xd0\\xb7\\xd0\\xb0\\xd1\\x82\\xd0\\xb5\\xd0\\xbb\\xd1\\x8c\\xd0\\xbd\\xd0\\xbe)\" autofocus></textarea>\\n            </div>\\n            <div class=\"text-muted\">\\n                <small>\\n                    \\xd0\\x9f\\xd0\\xbe\\xd0\\xb6\\xd0\\xb0\\xd0\\xbb\\xd1\\x83\\xd0\\xb9\\xd1\\x81\\xd1\\x82\\xd0\\xb0, \\xd0\\xb8\\xd1\\x81\\xd0\\xbf\\xd0\\xbe\\xd0\\xbb\\xd1\\x8c\\xd0\\xb7\\xd1\\x83\\xd0\\xb9\\xd1\\x82\\xd0\\xb5 \\xd1\\x8d\\xd1\\x82\\xd1\\x83 \\xd1\\x84\\xd0\\xbe\\xd1\\x80\\xd0\\xbc\\xd1\\x83 \\xd0\\xb4\\xd0\\xbb\\xd1\\x8f \\xd0\\xba\\xd0\\xbe\\xd1\\x80\\xd1\\x80\\xd0\\xb5\\xd0\\xba\\xd1\\x86\\xd0\\xb8\\xd0\\xb8 \\xd0\\xbe\\xd1\\x88\\xd0\\xb8\\xd0\\xb1\\xd0\\xbe\\xd0\\xba. <br/>\\n                    \\xd0\\x95\\xd1\\x81\\xd0\\xbb\\xd0\\xb8 \\xd0\\xb2\\xd1\\x8b \\xd1\\x85\\xd0\\xbe\\xd1\\x82\\xd0\\xb8\\xd1\\x82\\xd0\\xb5 \\xd0\\xb2\\xd0\\xbd\\xd0\\xb5\\xd1\\x81\\xd1\\x82\\xd0\\xb8 \\xd0\\xbf\\xd1\\x80\\xd0\\xb5\\xd0\\xb4\\xd0\\xbb\\xd0\\xbe\\xd0\\xb6\\xd0\\xb5\\xd0\\xbd\\xd0\\xb8\\xd0\\xb5, \\xd0\\xbd\\xd0\\xb0\\xd0\\xbf\\xd0\\xb8\\xd1\\x88\\xd0\\xb8\\xd1\\x82\\xd0\\xb5 <a href=\"/feedback\" target=\"_blank\">\\xd1\\x80\\xd0\\xb5\\xd0\\xb4\\xd0\\xb0\\xd0\\xba\\xd1\\x82\\xd0\\xbe\\xd1\\x80\\xd1\\x83</a>.<br/>\\n                    \\xd0\\x95\\xd1\\x81\\xd0\\xbb\\xd0\\xb8 \\xd1\\x83 \\xd0\\xb2\\xd0\\xb0\\xd1\\x81 \\xd0\\xb2\\xd0\\xbe\\xd0\\xb7\\xd0\\xbd\\xd0\\xb8\\xd0\\xba\\xd0\\xbb\\xd0\\xb8 \\xd1\\x82\\xd0\\xb5\\xd1\\x85\\xd0\\xbd\\xd0\\xb8\\xd1\\x87\\xd0\\xb5\\xd1\\x81\\xd0\\xba\\xd0\\xb8\\xd0\\xb5 \\xd1\\x82\\xd1\\x80\\xd1\\x83\\xd0\\xb4\\xd0\\xbd\\xd0\\xbe\\xd1\\x81\\xd1\\x82\\xd0\\xb8, \\xd0\\xbd\\xd0\\xb0\\xd0\\xbf\\xd0\\xb8\\xd1\\x88\\xd0\\xb8\\xd1\\x82\\xd0\\xb5 <a href=\"mailto:support@slon.ru\">\\xd0\\xb2 \\xd1\\x82\\xd0\\xb5\\xd1\\x85\\xd0\\xbf\\xd0\\xbe\\xd0\\xb4\\xd0\\xb4\\xd0\\xb5\\xd1\\x80\\xd0\\xb6\\xd0\\xba\\xd1\\x83.</a>\\n                </small>\\n            </div>\\n        </div>\\n        <div class=\"modal-footer\">\\n            <button type=\"submit\" class=\"btn btn-success\">\\xd0\\x9e\\xd1\\x82\\xd0\\xbf\\xd1\\x80\\xd0\\xb0\\xd0\\xb2\\xd0\\xb8\\xd1\\x82\\xd1\\x8c</button>\\n            <a href=\"#\" class=\"btn btn-default btn-close\">\\xd0\\x97\\xd0\\xb0\\xd0\\xba\\xd1\\x80\\xd1\\x8b\\xd1\\x82\\xd1\\x8c</a>\\n        </div>\\n    </form>\\n</div>                <!-- Custom analytics params -->\\n<script>\\n    window.analyticParams = window.analyticParams || {};\\n    analyticParams.isAuthorized = false;\\n    analyticParams.isSubscriber = false;\\n            analyticParams.postType = \"\\xd0\\x9d\\xd0\\xbe\\xd0\\xb2\\xd0\\xbe\\xd1\\x81\\xd1\\x82\\xd0\\xb8\";\\n        analyticParams.adblock = null;\\n    analyticParams.user_id = null;\\n</script>\\n<!-- /Custom analytics params -->\\n\\n<!-- Google Analytics -->\\n<script type=\"text/javascript\">\\n    (function(i,s,o,g,r,a,m){i[\\'GoogleAnalyticsObject\\']=r;i[r]=i[r]||function(){\\n    (i[r].q=i[r].q||[]).push(arguments)},i[r].l=1*new Date();a=s.createElement(o),\\n    m=s.getElementsByTagName(o)[0];a.async=1;a.src=g;m.parentNode.insertBefore(a,m)\\n    })(window,document,\\'script\\',\\'//www.google-analytics.com/analytics.js\\',\\'ga\\');\\n\\n    ga(\\'create\\', \\'UA-58645035-1\\', \\'auto\\');\\n                        ga(\\'set\\', \\'dimension1\\', \\'\\xd0\\x9d\\xd0\\xbe\\xd0\\xb2\\xd0\\xbe\\xd1\\x81\\xd1\\x82\\xd0\\xb8\\');\\n                    ga(\\'set\\', \\'dimension2\\', \\'\\xd0\\x9a\\xd0\\xbe\\xd0\\xbd\\xd1\\x81\\xd1\\x82\\xd0\\xb0\\xd0\\xbd\\xd1\\x82\\xd0\\xb8\\xd0\\xbd \\xd0\\xa1\\xd1\\x82\\xd1\\x80\\xd0\\xbe\\xd0\\xba\\xd0\\xbe\\xd0\\xbb\\xd1\\x8c\\xd1\\x81\\xd0\\xba\\xd0\\xb8\\xd0\\xb9\\');\\n                    ga(\\'set\\', \\'dimension5\\', \\'false\\');\\n                    ga(\\'set\\', \\'dimension6\\', \\'false\\');\\n                ga(\\'set\\', \\'dimension5\\', analyticParams.isAuthorized.toString());\\n    ga(\\'set\\', \\'dimension6\\', analyticParams.isSubscriber.toString());\\n    ga(\\'send\\', \\'pageview\\');\\n</script>\\n<!-- /Google Analytics -->\\n\\n<!-- Chartbeat -->\\n                \\n                                        <!-- /Chartbeat -->\\n\\n<!-- comScore -->\\n<script id=\"analytics_comscore\" data-c2=\"17291956\">\\n    var _comscore = _comscore || [];\\n    _comscore.push({ c1: \"2\", c2: \"17291956\" });\\n    (function() {\\n        var s = document.createElement(\"script\"), el = document.getElementsByTagName(\"script\")[0]; s.async = true;\\n        s.src = (document.location.protocol == \"https:\" ? \"https://sb\" : \"http://b\") + \".scorecardresearch.com/beacon.js\";\\n        el.parentNode.insertBefore(s, el);\\n    })();\\n</script>\\n<noscript>\\n    <img src=\"http://b.scorecardresearch.com/p?c1=2&amp;c2=17291956&amp;cv=2.0&amp;cj=1\" />\\n</noscript>\\n<!-- /comScore -->\\n\\n<!-- tns-counter.ru -->\\n<script type=\"text/javascript\" id=\"analytics_tns\" data-account=\"slon_ru\" data-tmsec=\"slon_total\">\\n    (function(win, doc, cb) {\\n        (win[cb] = win[cb] || []).push(function() {\\n            try {\\n                tnsCounterslon_ru = new TNS.TnsCounter({\\n                    \\'account\\': \"slon_ru\",\\n                    \\'tmsec\\'  : \"slon_total\"\\n                });\\n            } catch (e) {}\\n        });\\n\\n        var tnsscript = doc.createElement(\\'script\\');\\n        tnsscript.type = \\'text/javascript\\';\\n        tnsscript.async = true;\\n        tnsscript.src = (\\'https:\\' == doc.location.protocol ? \\'https:\\' : \\'http:\\') +\\n        \\'//www.tns-counter.ru/tcounter.js\\';\\n        var s = doc.getElementsByTagName(\\'script\\')[0];\\n        s.parentNode.insertBefore(tnsscript, s);\\n    })(window, this.document, \\'tnscounter_callback\\');\\n</script>\\n<noscript>\\n    <img src=\"//www.tns-counter.ru/V13a****slon_ru/ru/UTF-8/tmsec=slon_total/\" width=\"0\" height=\"0\" alt=\"\" />\\n</noscript>\\n<!-- /tns-counter.ru -->\\n\\n<!-- Yandex.Metrika counter -->\\n<script type=\"text/javascript\" id=\"analytics_ya\" data-id=\"169265\">\\n    (function (d, w, c) {\\n        fuckAdBlock.\\n                onDetected(function () {\\n                    w.analyticParams.adblock = true;\\n                    runMetrika();\\n                })\\n                .onNotDetected(function () {\\n                    w.analyticParams.adblock = false;\\n                    runMetrika();\\n                })\\n                .check();\\n\\n        function runMetrika() {\\n            (w[c] = w[c] || []).push(function () {\\n                try {\\n                    window.yaCommerce = window.yaCommerce || [];\\n                    w.yaCounter169265 = new Ya.Metrika({\\n                        id: 169265,\\n                        webvisor: true,\\n                        clickmap: true,\\n                        trackLinks: true,\\n                        accurateTrackBounce: true,\\n                        ecommerce: \"yaCommerce\",\\n                        params: window.analyticParams,\\n                        triggerEvent: true\\n                    });\\n                } catch (e) {\\n                }\\n            });\\n\\n            var n = d.getElementsByTagName(\"script\")[0],\\n                    s = d.createElement(\"script\"),\\n                    f = function () {\\n                        n.parentNode.insertBefore(s, n);\\n                    };\\n            s.type = \"text/javascript\";\\n            s.async = true;\\n            s.src = (d.location.protocol == \"https:\" ? \"https:\" : \"http:\") + \"//mc.yandex.ru/metrika/watch.js\";\\n\\n            if (w.opera == \"[object Opera]\") {\\n                d.addEventListener(\"DOMContentLoaded\", f, false);\\n            } else { f(); }\\n        }\\n    })(document, window, \"yandex_metrika_callbacks\");\\n</script>\\n<noscript><div><img src=\"//mc.yandex.ru/watch/169265\" style=\"position:absolute; left:-9999px;\" alt=\"\" /></div></noscript>\\n<!-- /Yandex.Metrika counter -->\\n\\n<!-- SMI2 -->\\n<!-- /SMI2 -->\\n\\n<!--LiveInternet counter-->\\n<script type=\"text/javascript\">\\n    new Image().src = \"//counter.yadro.ru/hit?r\" + escape(document.referrer)\\n        + ((typeof(screen)==\"undefined\")?\"\" : \";s\"+screen.width+\"*\"+screen.height+\"*\"\\n        + (screen.colorDepth?screen.colorDepth:screen.pixelDepth)) + \";u\"+escape(document.URL)\\n        + \";h\"+escape(document.title.substring(0,80))\\n        + \";\" +Math.random();\\n</script>\\n<!--/LiveInternet-->        <script type=\"text/javascript\">window.NREUM||(NREUM={});NREUM.info={\"beacon\":\"bam.nr-data.net\",\"licenseKey\":\"4dd19f9694\",\"applicationID\":\"6206043\",\"transactionName\":\"ZwAHMBcAV0NQUUdaWV5KMBYMTlhAQRxDW0Y=\",\"queueTime\":0,\"applicationTime\":124,\"atts\":\"S0cERl8aRE0=\",\"errorBeacon\":\"bam.nr-data.net\",\"agent\":\"\"}</script></body>\\n</html>'"
      ]
     },
     "execution_count": 51,
     "metadata": {},
     "output_type": "execute_result"
    }
   ],
   "source": [
    "requests.get('https://slon.ru' + re.split(pattern, str(news_link))[2]).content"
   ]
  },
  {
   "cell_type": "code",
   "execution_count": 53,
   "metadata": {
    "collapsed": false
   },
   "outputs": [],
   "source": [
    "sub_page = requests.get('https://slon.ru' + re.split(pattern, str(news_link))[2]).content\n",
    "sub_page = BeautifulSoup(sub_page, 'lxml')"
   ]
  },
  {
   "cell_type": "code",
   "execution_count": 128,
   "metadata": {
    "collapsed": true
   },
   "outputs": [],
   "source": [
    "def getSubpageLink(news_link):\n",
    "    pattern = '<a href=\"|\">'\n",
    "    return 'https://slon.ru' + re.split(pattern, str(news_link))[2]"
   ]
  },
  {
   "cell_type": "code",
   "execution_count": 131,
   "metadata": {
    "collapsed": false
   },
   "outputs": [
    {
     "data": {
      "text/plain": [
       "'https://slon.ru/posts/74927'"
      ]
     },
     "execution_count": 131,
     "metadata": {},
     "output_type": "execute_result"
    }
   ],
   "source": [
    "getSubpageLink(news_link)"
   ]
  },
  {
   "cell_type": "markdown",
   "metadata": {},
   "source": [
    "# Дата публикации"
   ]
  },
  {
   "cell_type": "code",
   "execution_count": 57,
   "metadata": {
    "collapsed": false
   },
   "outputs": [
    {
     "name": "stdout",
     "output_type": "stream",
     "text": [
      "<div class=\"date\">\n",
      "\t\t\t\t\t\t\t\t\t\t01:31\n",
      "\t\t\t\t\t\t\t\t\t</div>\n"
     ]
    }
   ],
   "source": [
    "print(sub_page.find('div', attrs={'class':'date'}))"
   ]
  },
  {
   "cell_type": "code",
   "execution_count": 61,
   "metadata": {
    "collapsed": true
   },
   "outputs": [],
   "source": [
    "date = str(sub_page.find('div', attrs={'class':'date'}))"
   ]
  },
  {
   "cell_type": "markdown",
   "metadata": {},
   "source": [
    "###  Дату мы нашли, однако на сайте есть две возможных записи для даты:\n",
    "- в случае, если новость опубликована сегодня, она не будет содержать года и месяца, только время\n",
    "- если новость опубликована не сегодня, формат даты будет полным"
   ]
  },
  {
   "cell_type": "code",
   "execution_count": 62,
   "metadata": {
    "collapsed": false
   },
   "outputs": [
    {
     "data": {
      "text/plain": [
       "['<div', 'class=\"date\">', '01:31', '</div>']"
      ]
     },
     "execution_count": 62,
     "metadata": {},
     "output_type": "execute_result"
    }
   ],
   "source": [
    "date.split()"
   ]
  },
  {
   "cell_type": "code",
   "execution_count": 79,
   "metadata": {
    "collapsed": false
   },
   "outputs": [],
   "source": [
    "other_page = requests.get('https://slon.ru/posts/74926').content\n",
    "other_page = BeautifulSoup(other_page)\n",
    "other_page_date = str(other_page.find('div', attrs={'class':'date'})).split()"
   ]
  },
  {
   "cell_type": "code",
   "execution_count": 80,
   "metadata": {
    "collapsed": false
   },
   "outputs": [
    {
     "name": "stdout",
     "output_type": "stream",
     "text": [
      "<div\n",
      "class=\"date\">\n",
      "14\n",
      "октября,\n",
      "23:14\n",
      "</div>\n"
     ]
    }
   ],
   "source": [
    "for i in other_page_date:\n",
    "    print i"
   ]
  },
  {
   "cell_type": "code",
   "execution_count": 91,
   "metadata": {
    "collapsed": false
   },
   "outputs": [],
   "source": [
    "def getDate(current_page):\n",
    "    date = str(current_page.find('div', attrs={'class':'date'})).split()\n",
    "    if len(date) == 4:\n",
    "        return date[2]\n",
    "    else:\n",
    "        return ' '.join(date[2:5])"
   ]
  },
  {
   "cell_type": "markdown",
   "metadata": {},
   "source": [
    "### похоже, все работает"
   ]
  },
  {
   "cell_type": "code",
   "execution_count": 95,
   "metadata": {
    "collapsed": false
   },
   "outputs": [
    {
     "name": "stdout",
     "output_type": "stream",
     "text": [
      "14 октября, 23:14\n"
     ]
    }
   ],
   "source": [
    "print(getDate(other_page))"
   ]
  },
  {
   "cell_type": "code",
   "execution_count": 96,
   "metadata": {
    "collapsed": false
   },
   "outputs": [
    {
     "name": "stdout",
     "output_type": "stream",
     "text": [
      "01:31\n"
     ]
    }
   ],
   "source": [
    "print(getDate(sub_page))"
   ]
  },
  {
   "cell_type": "markdown",
   "metadata": {},
   "source": [
    "# Число просмотров"
   ]
  },
  {
   "cell_type": "code",
   "execution_count": 99,
   "metadata": {
    "collapsed": false
   },
   "outputs": [
    {
     "data": {
      "text/plain": [
       "<span class=\"count\">467</span>"
      ]
     },
     "execution_count": 99,
     "metadata": {},
     "output_type": "execute_result"
    }
   ],
   "source": [
    "sub_page.find('span', attrs={'class':'count'})"
   ]
  },
  {
   "cell_type": "code",
   "execution_count": 100,
   "metadata": {
    "collapsed": false
   },
   "outputs": [
    {
     "name": "stdout",
     "output_type": "stream",
     "text": [
      "467\n"
     ]
    }
   ],
   "source": [
    "views = sub_page.find('span', attrs={'class':'count'})\n",
    "views = html_stripper(views)\n",
    "print(views)"
   ]
  },
  {
   "cell_type": "code",
   "execution_count": 101,
   "metadata": {
    "collapsed": true
   },
   "outputs": [],
   "source": [
    "def getViews(current_page):\n",
    "    views = current_page.find('span', attrs={'class':'count'})\n",
    "    views = html_stripper(views)\n",
    "    return views"
   ]
  },
  {
   "cell_type": "markdown",
   "metadata": {},
   "source": [
    "### Кажется, тоже работает"
   ]
  },
  {
   "cell_type": "code",
   "execution_count": 102,
   "metadata": {
    "collapsed": false
   },
   "outputs": [
    {
     "data": {
      "text/plain": [
       "'467'"
      ]
     },
     "execution_count": 102,
     "metadata": {},
     "output_type": "execute_result"
    }
   ],
   "source": [
    "getViews(sub_page)"
   ]
  },
  {
   "cell_type": "code",
   "execution_count": 105,
   "metadata": {
    "collapsed": false
   },
   "outputs": [
    {
     "data": {
      "text/plain": [
       "'1 848'"
      ]
     },
     "execution_count": 105,
     "metadata": {},
     "output_type": "execute_result"
    }
   ],
   "source": [
    "getViews(other_page)"
   ]
  },
  {
   "cell_type": "markdown",
   "metadata": {},
   "source": [
    "# Заголовок\n",
    "раз уж мы находимя на этой странице - возьмем отсюда и заголовок, чтобы все было в одном месте"
   ]
  },
  {
   "cell_type": "code",
   "execution_count": 136,
   "metadata": {
    "collapsed": false
   },
   "outputs": [
    {
     "name": "stdout",
     "output_type": "stream",
     "text": [
      "<h1>Власти США запретили проносить Samsung Galaxy Note 7 в самолеты</h1>\n"
     ]
    }
   ],
   "source": [
    "print(sub_page.find('h1'))"
   ]
  },
  {
   "cell_type": "code",
   "execution_count": 139,
   "metadata": {
    "collapsed": false
   },
   "outputs": [
    {
     "name": "stdout",
     "output_type": "stream",
     "text": [
      "Власти США запретили проносить Samsung Galaxy Note 7 в самолеты\n"
     ]
    }
   ],
   "source": [
    "print(html_stripper(sub_page.find('h1')))"
   ]
  },
  {
   "cell_type": "code",
   "execution_count": 140,
   "metadata": {
    "collapsed": true
   },
   "outputs": [],
   "source": [
    "def getTitle(current_page):\n",
    "    return html_stripper(current_page.find('h1'))"
   ]
  },
  {
   "cell_type": "code",
   "execution_count": 142,
   "metadata": {
    "collapsed": false
   },
   "outputs": [
    {
     "name": "stdout",
     "output_type": "stream",
     "text": [
      "Власти США запретили проносить Samsung Galaxy Note 7 в самолеты\n"
     ]
    }
   ],
   "source": [
    "print(getTitle(sub_page))"
   ]
  },
  {
   "cell_type": "code",
   "execution_count": 143,
   "metadata": {
    "collapsed": false
   },
   "outputs": [
    {
     "name": "stdout",
     "output_type": "stream",
     "text": [
      "Fitch улучшило прогноз по рейтингу России до «стабильного»\n"
     ]
    }
   ],
   "source": [
    "print(getTitle(other_page))"
   ]
  },
  {
   "cell_type": "markdown",
   "metadata": {},
   "source": [
    "# Попробуем соединить все вместе\n",
    "попробуем достать все заголовки, даты и просмотры с первой страницы новостей"
   ]
  },
  {
   "cell_type": "code",
   "execution_count": 108,
   "metadata": {
    "collapsed": false
   },
   "outputs": [
    {
     "data": {
      "text/plain": [
       "[<article class=\"news-line\">\\n<a href=\"/posts/74927\">\\n<div class=\"line-content\">\\n<div class=\"line-post-label\">\\n                                                                                                    01:31\\n                                                                                            </div>\\n<h6 class=\"line-post-headline \">\\n                                                \\u0412\\u043b\\u0430\\u0441\\u0442\\u0438 \\u0421\\u0428\\u0410 \\u0437\\u0430\\u043f\\u0440\\u0435\\u0442\\u0438\\u043b\\u0438 \\u043f\\u0440\\u043e\\u043d\\u043e\\u0441\\u0438\\u0442\\u044c Samsung Galaxy Note 7\\xa0\\u0432\\xa0\\u0441\\u0430\\u043c\\u043e\\u043b\\u0435\\u0442\\u044b\\n                                                                                            </h6>\\n</div>\\n</a>\\n</article>,\n",
       " <article class=\"news-line\">\\n<a href=\"/posts/74926\">\\n<div class=\"line-content\">\\n<div class=\"line-post-label\">\\n                                                                                                    23:14\\n                                                                                            </div>\\n<h6 class=\"line-post-headline \">\\n                                                Fitch \\u0443\\u043b\\u0443\\u0447\\u0448\\u0438\\u043b\\u043e \\u043f\\u0440\\u043e\\u0433\\u043d\\u043e\\u0437 \\u043f\\u043e\\xa0\\u0440\\u0435\\u0439\\u0442\\u0438\\u043d\\u0433\\u0443 \\u0420\\u043e\\u0441\\u0441\\u0438\\u0438 \\u0434\\u043e\\xa0\\xab\\u0441\\u0442\\u0430\\u0431\\u0438\\u043b\\u044c\\u043d\\u043e\\u0433\\u043e\\xbb\\n                                                                                            </h6>\\n</div>\\n</a>\\n</article>,\n",
       " <article class=\"news-line\">\\n<a href=\"/posts/74924\">\\n<div class=\"line-content\">\\n<div class=\"line-post-label\">\\n                                                                                                    21:00\\n                                                                                            </div>\\n<h6 class=\"line-post-headline \">\\n                                                \\u0421\\u041c\\u0418 \\u0441\\u043e\\u043e\\u0431\\u0449\\u0438\\u043b\\u0438 \\u043e\\u0431\\xa0\\u043e\\u0431\\u044b\\u0441\\u043a\\u0430\\u0445 \\u0432\\xa0\\u043c\\u0430\\u0433\\u0430\\u0437\\u0438\\u043d\\u0435 \\xab\\u041b\\u0438\\u0442\\u0420\\u0435\\u0441\\xbb\\n                                                                                            </h6>\\n</div>\\n</a>\\n</article>,\n",
       " <article class=\"news-line\">\\n<a href=\"/posts/74921\">\\n<div class=\"line-content\">\\n<div class=\"line-post-label\">\\n                                                                                                    19:43\\n                                                                                            </div>\\n<h6 class=\"line-post-headline \">\\n                                                \\u0421\\u041c\\u0418 \\u0441\\u043e\\u043e\\u0431\\u0449\\u0438\\u043b\\u0438 \\u043e\\xa0\\u0437\\u0430\\u0434\\u0435\\u0440\\u0436\\u0430\\u043d\\u0438\\u0438 \\u0431\\u044b\\u0432\\u0448\\u0435\\u0433\\u043e \\u043c\\u0438\\u0440\\u043e\\u0432\\u043e\\u0433\\u043e \\u0441\\u0443\\u0434\\u044c\\u0438 \\u0437\\u0430\\xa0\\u0441\\u0442\\u0440\\u0435\\u043b\\u044c\\u0431\\u0443 \\u0432\\xa0\\u0425\\u0430\\u0441\\u0430\\u0432\\u044e\\u0440\\u0442\\u0435\\n                                                                                            </h6>\\n</div>\\n</a>\\n</article>,\n",
       " <article class=\"news-line\">\\n<a href=\"/posts/74918\">\\n<div class=\"line-content\">\\n<div class=\"line-post-label\">\\n                                                                                                    18:46\\n                                                                                            </div>\\n<h6 class=\"line-post-headline \">\\n                                                \\u041e\\u0442\\xa0\\u0432\\u043b\\u0430\\u0434\\u0435\\u043b\\u044c\\u0446\\u0435\\u0432 \\u0438\\u043d\\u043e\\u0441\\u0442\\u0440\\u0430\\u043d\\u043d\\u044b\\u0445 \\u0441\\u0447\\u0435\\u0442\\u043e\\u0432 \\u0441\\u0442\\u0430\\u043b\\u0438 \\u0442\\u0440\\u0435\\u0431\\u043e\\u0432\\u0430\\u0442\\u044c \\u043b\\u0438\\u0447\\u043d\\u043e \\u043f\\u0440\\u0438\\u0439\\u0442\\u0438 \\u0432\\xa0\\u043d\\u0430\\u043b\\u043e\\u0433\\u043e\\u0432\\u0443\\u044e\\n                                                                                            </h6>\\n</div>\\n</a>\\n</article>,\n",
       " <article class=\"news-line\">\\n<a href=\"/posts/74919\">\\n<div class=\"line-content\">\\n<div class=\"line-post-label\">\\n                                                                                                    18:46\\n                                                                                            </div>\\n<h6 class=\"line-post-headline \">\\n                                                \\u041c\\u0438\\u043d\\u0438\\u0441\\u0442\\u0440 \\u0410\\u0431\\u044b\\u0437\\u043e\\u0432 \\u043e\\u0431\\u044a\\u044f\\u0441\\u043d\\u0438\\u043b \\u043f\\u0440\\u043e\\u0441\\u0440\\u043e\\u0447\\u043a\\u0443 \\u0440\\u0430\\u0441\\u0441\\u043c\\u043e\\u0442\\u0440\\u0435\\u043d\\u0438\\u044f \\u043f\\u0435\\u0442\\u0438\\u0446\\u0438\\u0438 \\u043f\\u0440\\u043e\\u0442\\u0438\\u0432 \\u0437\\u0430\\u043a\\u043e\\u043d\\u043e\\u0432 \\u042f\\u0440\\u043e\\u0432\\u043e\\u0439\\n                                                                                            </h6>\\n</div>\\n</a>\\n</article>,\n",
       " <article class=\"news-line\">\\n<a href=\"/posts/74917\">\\n<div class=\"line-content\">\\n<div class=\"line-post-label\">\\n                                                                                                    18:29\\n                                                                                            </div>\\n<h6 class=\"line-post-headline \">\\n                                                \\u041c\\u0438\\u043d\\u043e\\u0431\\u043e\\u0440\\u043e\\u043d\\u044b \\u043e\\u0442\\u0432\\u0435\\u0440\\u0433\\u043b\\u043e \\u0434\\u0430\\u043d\\u043d\\u044b\\u0435 \\u043e\\xa0\\u0433\\u0438\\u0431\\u0435\\u043b\\u0438 \\u0448\\u0435\\u0441\\u0442\\u0435\\u0440\\u044b\\u0445 \\u0432\\u043e\\u0435\\u043d\\u043d\\u044b\\u0445 \\u0432\\xa0\\u0421\\u0438\\u0440\\u0438\\u0438\\n                                                                                            </h6>\\n</div>\\n</a>\\n</article>,\n",
       " <article class=\"news-line\">\\n<a href=\"/posts/74915\">\\n<div class=\"line-content\">\\n<div class=\"line-post-label\">\\n                                                                                                    17:57\\n                                                                                            </div>\\n<h6 class=\"line-post-headline \">\\n                                                \\u0421\\u0438\\u0440\\u0438\\u0439\\u0441\\u043a\\u0438\\u0435 \\u0438\\u0441\\u043b\\u0430\\u043c\\u0438\\u0441\\u0442\\u044b \\u0437\\u0430\\u044f\\u0432\\u0438\\u043b\\u0438 \\u043e\\u0431\\xa0\\u0443\\u0431\\u0438\\u0439\\u0441\\u0442\\u0432\\u0435 \\u0448\\u0435\\u0441\\u0442\\u0435\\u0440\\u044b\\u0445 \\u0440\\u043e\\u0441\\u0441\\u0438\\u0439\\u0441\\u043a\\u0438\\u0445 \\u0432\\u043e\\u0435\\u043d\\u043d\\u044b\\u0445\\n                                                                                            </h6>\\n</div>\\n</a>\\n</article>,\n",
       " <article class=\"news-line\">\\n<a href=\"/posts/74914\">\\n<div class=\"line-content\">\\n<div class=\"line-post-label\">\\n                                                                                                    17:38\\n                                                                                            </div>\\n<h6 class=\"line-post-headline \">\\n                                                \\u0420\\u043e\\u0441\\u0442\\u0435\\u0445\\u043d\\u0430\\u0434\\u0437\\u043e\\u0440 \\u0432\\u043d\\u0435\\u043f\\u043b\\u0430\\u043d\\u043e\\u0432\\u043e \\u043f\\u0440\\u043e\\u0432\\u0435\\u0440\\u0438\\u0442 \\u043f\\u0440\\u0435\\u0434\\u043f\\u0440\\u0438\\u044f\\u0442\\u0438\\u0435 \\xab\\u041b\\u0443\\u043a\\u043e\\u0439\\u043b\\u0430\\xbb \\u0438\\xa0\\xab\\u0411\\u0430\\u0448\\u043d\\u0435\\u0444\\u0442\\u0438\\xbb\\n                                                                                            </h6>\\n</div>\\n</a>\\n</article>,\n",
       " <article class=\"news-line\">\\n<a href=\"/posts/74912\">\\n<div class=\"line-content\">\\n<div class=\"line-post-label\">\\n                                                                                                    17:26\\n                                                                                            </div>\\n<h6 class=\"line-post-headline \">\\n                                                Reuters \\u0443\\u0437\\u043d\\u0430\\u043b\\u043e \\u043e\\xa0\\u0432\\u043e\\u0437\\u043c\\u043e\\u0436\\u043d\\u043e\\u043c \\u0443\\u0432\\u043e\\u043b\\u044c\\u043d\\u0435\\u043d\\u0438\\u0438 \\u0435\\u0449\\u0435 10\\xa0\\u0442\\u044b\\u0441\\u044f\\u0447 \\u0440\\u0430\\u0431\\u043e\\u0442\\u043d\\u0438\\u043a\\u043e\\u0432 Deutsche Bank\\n                                                                                            </h6>\\n</div>\\n</a>\\n</article>,\n",
       " <article class=\"news-line\">\\n<a href=\"/posts/74913\">\\n<div class=\"line-content\">\\n<div class=\"line-post-label\">\\n                                                                                                    17:17\\n                                                                                            </div>\\n<h6 class=\"line-post-headline \">\\n                                                \\u0424\\u0440\\u0430\\u043d\\u0446\\u0443\\u0437\\u0441\\u043a\\u0438\\u0439 \\u0441\\u0443\\u0434 \\u0441\\u043c\\u044f\\u0433\\u0447\\u0438\\u043b \\u0440\\u043e\\u0441\\u0441\\u0438\\u0439\\u0441\\u043a\\u0438\\u043c \\u0431\\u043e\\u043b\\u0435\\u043b\\u044c\\u0449\\u0438\\u043a\\u0430\\u043c \\u043d\\u0430\\u043a\\u0430\\u0437\\u0430\\u043d\\u0438\\u0435 \\u0437\\u0430\\xa0\\u0431\\u0435\\u0441\\u043f\\u043e\\u0440\\u044f\\u0434\\u043a\\u0438 \\u043d\\u0430\\xa0\\u0415\\u0432\\u0440\\u043e-2016\\n                                                                                            </h6>\\n</div>\\n</a>\\n</article>,\n",
       " <article class=\"news-line\">\\n<a href=\"/posts/74911\">\\n<div class=\"line-content\">\\n<div class=\"line-post-label\">\\n                                                                                                    16:48\\n                                                                                            </div>\\n<h6 class=\"line-post-headline \">\\n                                                \\u0421\\u043b\\u0435\\u0434\\u0441\\u0442\\u0432\\u0438\\u0435 \\u0443\\u0436\\u0435\\u0441\\u0442\\u043e\\u0447\\u0438\\u043b\\u043e \\u043e\\u0431\\u0432\\u0438\\u043d\\u0435\\u043d\\u0438\\u0435 \\u041f\\u043e\\u043b\\u043e\\u043d\\u0441\\u043a\\u043e\\u043c\\u0443 \\u043f\\u043e\\xa0\\u0434\\u0435\\u043b\\u0443 \\u043e\\xa0\\u043c\\u043e\\u0448\\u0435\\u043d\\u043d\\u0438\\u0447\\u0435\\u0441\\u0442\\u0432\\u0435\\n                                                                                            </h6>\\n</div>\\n</a>\\n</article>,\n",
       " <article class=\"news-line\">\\n<a href=\"/posts/74910\">\\n<div class=\"line-content\">\\n<div class=\"line-post-label\">\\n                                                                                                    16:38\\n                                                                                            </div>\\n<h6 class=\"line-post-headline \">\\n                                                Goldman Sachs \\u0432\\u044b\\u0438\\u0433\\u0440\\u0430\\u043b \\u0438\\u0441\\u043a \\u043e\\xa0\\xab\\u0440\\u0430\\u0437\\u043e\\u0440\\u0435\\u043d\\u0438\\u0438\\xbb \\u041b\\u0438\\u0432\\u0438\\u0438\\n                                                                                            </h6>\\n</div>\\n</a>\\n</article>,\n",
       " <article class=\"news-line\">\\n<a href=\"/posts/74909\">\\n<div class=\"line-content\">\\n<div class=\"line-post-label\">\\n                                                                                                    15:54\\n                                                                                            </div>\\n<h6 class=\"line-post-headline \">\\n                                                \\u0411\\u043b\\u043e\\u0433\\u0435\\u0440 \\u0416\\u0443\\u0440\\u0430\\u0432\\u043b\\u0435\\u0432 \\u0432\\u0435\\u0440\\u043d\\u0443\\u043b\\u0441\\u044f \\u0432\\xa0\\u0420\\u043e\\u0441\\u0441\\u0438\\u044e \\u043f\\u043e\\u0441\\u043b\\u0435 \\u0442\\u0440\\u0435\\u0445 \\u043b\\u0435\\u0442 \\u0432\\xa0\\u043f\\u043b\\u0435\\u043d\\u0443 \\u0443\\xa0\\u0441\\u0438\\u0440\\u0438\\u0439\\u0441\\u043a\\u0438\\u0445 \\u0438\\u0441\\u043b\\u0430\\u043c\\u0438\\u0441\\u0442\\u043e\\u0432\\n                                                                                            </h6>\\n</div>\\n</a>\\n</article>,\n",
       " <article class=\"news-line\">\\n<a href=\"/posts/74907\">\\n<div class=\"line-content\">\\n<div class=\"line-post-label\">\\n                                                                                                    15:53\\n                                                                                            </div>\\n<h6 class=\"line-post-headline \">\\n                                                \\u041e\\u0431\\u0432\\u0438\\u043d\\u044f\\u0435\\u043c\\u043e\\u0433\\u043e \\u0432\\xa0\\u043e\\u0431\\u0432\\u0430\\u043b\\u0435 Dow Jones \\u0442\\u0440\\u0435\\u0439\\u0434\\u0435\\u0440\\u0430 \\u0432\\u044b\\u0434\\u0430\\u0434\\u0443\\u0442 \\u0421\\u0428\\u0410\\n                                                                                            </h6>\\n</div>\\n</a>\\n</article>,\n",
       " <article class=\"news-line\">\\n<a href=\"/posts/74908\">\\n<div class=\"line-content\">\\n<div class=\"line-post-label\">\\n                                                                                                    15:34\\n                                                                                            </div>\\n<h6 class=\"line-post-headline \">\\n                                                \\u041c\\u0412\\u0414 \\u043e\\u043f\\u0440\\u043e\\u0432\\u0435\\u0440\\u0433\\u043b\\u043e \\u0437\\u0430\\u043a\\u0440\\u044b\\u0442\\u0438\\u0435 \\u0434\\u0435\\u043b \\u044d\\u043a\\u0441-\\u0440\\u0443\\u043a\\u043e\\u0432\\u043e\\u0434\\u0438\\u0442\\u0435\\u043b\\u0435\\u0439 \\xab\\u041a\\u0443\\u0440\\u043e\\u0440\\u0442\\u043e\\u0432 \\u0421\\u0435\\u0432\\u0435\\u0440\\u043d\\u043e\\u0433\\u043e \\u041a\\u0430\\u0432\\u043a\\u0430\\u0437\\u0430\\xbb\\n                                                                                            </h6>\\n</div>\\n</a>\\n</article>,\n",
       " <article class=\"news-line\">\\n<a href=\"/posts/74905\">\\n<div class=\"line-content\">\\n<div class=\"line-post-label\">\\n                                                                                                    14:56\\n                                                                                            </div>\\n<h6 class=\"line-post-headline \">\\n                                                \\u041f\\u0440\\u043e\\u043f\\u0430\\u0436\\u0443 \\u0433\\u043b\\u0430\\u0432\\u044b \\u0431\\u0430\\u043d\\u043a\\u0430 \\u0420\\u041f\\u0426 \\u043e\\u0431\\u044a\\u044f\\u0441\\u043d\\u0438\\u043b\\u0438 \\u0431\\u043e\\u043b\\u0435\\u0437\\u043d\\u044c\\u044e\\n                                                                                            </h6>\\n</div>\\n</a>\\n</article>,\n",
       " <article class=\"news-line\">\\n<a href=\"/posts/74903\">\\n<div class=\"line-content\">\\n<div class=\"line-post-label\">\\n                                                                                                    14:47\\n                                                                                            </div>\\n<h6 class=\"line-post-headline \">\\n                                                \\u0412\\xa0\\u041c\\u0438\\u043d\\u0444\\u0438\\u043d\\u0435 \\u043d\\u0430\\u0437\\u0432\\u0430\\u043b\\u0438 \\u0443\\u0441\\u043b\\u043e\\u0432\\u0438\\u044f \\u0434\\u043b\\u044f \\u0440\\u0430\\u0437\\u043c\\u043e\\u0440\\u043e\\u0437\\u043a\\u0438 \\u043f\\u0435\\u043d\\u0441\\u0438\\u043e\\u043d\\u043d\\u044b\\u0445 \\u043d\\u0430\\u043a\\u043e\\u043f\\u043b\\u0435\\u043d\\u0438\\u0439\\n                                                                                            </h6>\\n</div>\\n</a>\\n</article>,\n",
       " <article class=\"news-line\">\\n<a href=\"/posts/74902\">\\n<div class=\"line-content\">\\n<div class=\"line-post-label\">\\n                                                                                                    14:33\\n                                                                                            </div>\\n<h6 class=\"line-post-headline \">\\n                                                \\u0426\\u0411\\xa0\\u0437\\u0430\\xa0\\u0442\\u0440\\u0438 \\u043a\\u0432\\u0430\\u0440\\u0442\\u0430\\u043b\\u0430 \\u043e\\u0431\\u043d\\u0430\\u0440\\u0443\\u0436\\u0438\\u043b \\u0432\\xa0\\u0420\\u043e\\u0441\\u0441\\u0438\\u0438 120 \\u0444\\u0438\\u043d\\u0430\\u043d\\u0441\\u043e\\u0432\\u044b\\u0445 \\u043f\\u0438\\u0440\\u0430\\u043c\\u0438\\u0434\\n                                                                                            </h6>\\n</div>\\n</a>\\n</article>,\n",
       " <article class=\"news-line\">\\n<a href=\"/posts/74901\">\\n<div class=\"line-content\">\\n<div class=\"line-post-label\">\\n                                                                                                    14:17\\n                                                                                            </div>\\n<h6 class=\"line-post-headline \">\\n                                                \\u0424\\u0411\\u041a \\u043f\\u043e\\u0434\\u0430\\u0441\\u0442 \\u0432\\xa0\\u0441\\u0443\\u0434 \\u0438\\u0437-\\u0437\\u0430\\xa0\\u043e\\u0442\\u043a\\u0430\\u0437\\u0430 \\u0440\\u0430\\u0441\\u0441\\u043c\\u043e\\u0442\\u0440\\u0435\\u0442\\u044c \\u043f\\u0435\\u0442\\u0438\\u0446\\u0438\\u044e \\u043f\\u043e\\xa0\\u0437\\u0430\\u043a\\u043e\\u043d\\u0430\\u043c \\u042f\\u0440\\u043e\\u0432\\u043e\\u0439\\n                                                                                            </h6>\\n</div>\\n</a>\\n</article>,\n",
       " <article class=\"news-line\">\\n<a href=\"/posts/74900\">\\n<div class=\"line-content\">\\n<div class=\"line-post-label\">\\n                                                                                                    14:10\\n                                                                                            </div>\\n<h6 class=\"line-post-headline \">\\n                                                \\u041d\\u043e\\u0441\\u0438\\u043a \\u043e\\u0431\\u043d\\u0430\\u0440\\u0443\\u0436\\u0438\\u043b \\u0447\\u0443\\u0436\\u043e\\u0435 \\u0438\\u043c\\u044f \\u0432\\xa0\\u043f\\u0440\\u0438\\u0433\\u043e\\u0432\\u043e\\u0440\\u0435 \\u0437\\u0430\\xa0\\u043f\\u043e\\u0441\\u0442 \\u0432\\xa0\\u0416\\u0416\\n                                                                                            </h6>\\n</div>\\n</a>\\n</article>,\n",
       " <article class=\"news-line\">\\n<a href=\"/posts/74897\">\\n<div class=\"line-content\">\\n<div class=\"line-post-label\">\\n                                                                                                    14:00\\n                                                                                            </div>\\n<h6 class=\"line-post-headline \">\\n                                                \\xab\\u0414\\u043e\\u0436\\u0434\\u044c\\xbb \\u0443\\u0437\\u043d\\u0430\\u043b \\u043e\\xa0\\u043f\\u0440\\u043e\\u043f\\u0430\\u0436\\u0435 \\u0433\\u043b\\u0430\\u0432\\u044b \\u0431\\u0430\\u043d\\u043a\\u0430 \\u0420\\u041f\\u0426  \\u043f\\u043e\\u0441\\u043b\\u0435 \\u043d\\u043e\\u0432\\u043e\\u0441\\u0442\\u0435\\u0439 \\u043e\\xa0\\u043f\\u043e\\u0434\\u043e\\u0437\\u0440\\u0438\\u0442\\u0435\\u043b\\u044c\\u043d\\u044b\\u0445 \\u043a\\u0440\\u0435\\u0434\\u0438\\u0442\\u0430\\u0445\\n                                                                                            </h6>\\n</div>\\n</a>\\n</article>,\n",
       " <article class=\"news-line\">\\n<a href=\"/posts/74896\">\\n<div class=\"line-content\">\\n<div class=\"line-post-label\">\\n                                                                                                    13:53\\n                                                                                            </div>\\n<h6 class=\"line-post-headline \">\\n                                                \\u041c\\u0438\\u043d\\u0444\\u0438\\u043d \\u043e\\u0442\\u043a\\u0430\\u0437\\u0430\\u043b\\u0441\\u044f \\u043e\\u0442\\xa0\\u0430\\u0432\\u0442\\u043e\\u043c\\u0430\\u0442\\u0438\\u0447\\u0435\\u0441\\u043a\\u043e\\u0433\\u043e \\u043f\\u0435\\u0440\\u0435\\u0447\\u0438\\u0441\\u043b\\u0435\\u043d\\u0438\\u044f \\u043f\\u0435\\u043d\\u0441\\u0438\\u0439 \\xab\\u043c\\u043e\\u043b\\u0447\\u0443\\u043d\\u043e\\u0432\\xbb \\u0432\\xa0\\u0431\\u044e\\u0434\\u0436\\u0435\\u0442\\n                                                                                            </h6>\\n</div>\\n</a>\\n</article>,\n",
       " <article class=\"news-line\">\\n<a href=\"/posts/74898\">\\n<div class=\"line-content\">\\n<div class=\"line-post-label\">\\n                                                                                                    13:50\\n                                                                                            </div>\\n<h6 class=\"line-post-headline \">\\n                                                \\xab\\u0420\\u043e\\u0441\\u043d\\u0435\\u0444\\u0442\\u044c\\xbb \\u0441\\u0440\\u0430\\u0432\\u043d\\u0438\\u043b\\u0430 \\u043f\\u0430\\u0434\\u0435\\u043d\\u0438\\u0435 \\u0430\\u043a\\u0446\\u0438\\u0439 \\xab\\u0411\\u0430\\u0448\\u043d\\u0435\\u0444\\u0442\\u0438\\xbb \\u0441\\xa0\\u0432\\u043e\\u0441\\u0445\\u043e\\u0434\\u043e\\u043c \\u0441\\u043e\\u043b\\u043d\\u0446\\u0430\\n                                                                                            </h6>\\n</div>\\n</a>\\n</article>,\n",
       " <article class=\"news-line\">\\n<a href=\"/posts/74894\">\\n<div class=\"line-content\">\\n<div class=\"line-post-label\">\\n                                                                                                    13:08\\n                                                                                            </div>\\n<h6 class=\"line-post-headline \">\\n                                                \\u041c\\u0438\\u043d\\u0442\\u0440\\u0430\\u043d\\u0441 \\u043f\\u043e\\u0434\\u0442\\u0432\\u0435\\u0440\\u0434\\u0438\\u043b \\u043f\\u043b\\u0430\\u043d\\u044b \\u0441\\u0434\\u0435\\u043b\\u0430\\u0442\\u044c \\u043f\\u0435\\u0440\\u0435\\u0441\\u0435\\u0447\\u0435\\u043d\\u0438\\u0435 \\u0433\\u0440\\u0430\\u043d\\u0438\\u0446\\u044b \\u043f\\u043b\\u0430\\u0442\\u043d\\u044b\\u043c\\n                                                                                            </h6>\\n</div>\\n</a>\\n</article>,\n",
       " <article class=\"news-line\">\\n<a href=\"/posts/74892\">\\n<div class=\"line-content\">\\n<div class=\"line-post-label\">\\n                                                                                                    12:26\\n                                                                                            </div>\\n<h6 class=\"line-post-headline \">\\n                                                \\u0423\\xa0\\u0441\\u0443\\u0431\\u043f\\u043e\\u0434\\u0440\\u044f\\u0434\\u0447\\u0438\\u043a\\u043e\\u0432 \\xab\\u0420\\u043e\\u0441\\u0441\\u0438\\u0439\\u0441\\u043a\\u0438\\u0445 \\u043a\\u043e\\u0441\\u043c\\u0438\\u0447\\u0435\\u0441\\u043a\\u0438\\u0445 \\u0441\\u0438\\u0441\\u0442\\u0435\\u043c\\xbb \\u043f\\u0440\\u043e\\u0448\\u043b\\u0438 \\u043e\\u0431\\u044b\\u0441\\u043a\\u0438\\n                                                                                            </h6>\\n</div>\\n</a>\\n</article>,\n",
       " <article class=\"news-line\">\\n<a href=\"/posts/74891\">\\n<div class=\"line-content\">\\n<div class=\"line-post-label\">\\n                                                                                                    12:19\\n                                                                                            </div>\\n<h6 class=\"line-post-headline \">\\n                                                \\u0413\\u0435\\u043d\\u043f\\u0440\\u043e\\u043a\\u0443\\u0440\\u0430\\u0442\\u0443\\u0440\\u0430 \\u043f\\u043e\\xa0\\u043f\\u043e\\u0440\\u0443\\u0447\\u0435\\u043d\\u0438\\u044e \\u041f\\u0443\\u0442\\u0438\\u043d\\u0430 \\u043d\\u0430\\u0447\\u0430\\u043b\\u0430 \\u043f\\u0440\\u043e\\u0432\\u0435\\u0440\\u044f\\u0442\\u044c \\u0448\\u0430\\u0445\\u0442\\u044b \\xab\\u0423\\u0440\\u0430\\u043b\\u043a\\u0430\\u043b\\u0438\\u044f\\xbb\\n                                                                                            </h6>\\n</div>\\n</a>\\n</article>,\n",
       " <article class=\"news-line\">\\n<a href=\"/posts/74893\">\\n<div class=\"line-content\">\\n<div class=\"line-post-label\">\\n                                                                                                    12:19\\n                                                                                            </div>\\n<h6 class=\"line-post-headline \">\\n                                                \\u0412\\xa0\\u0410\\u043d\\u0442\\u0430\\u043b\\u044c\\u0435 \\u0442\\u0440\\u0438 \\u0440\\u0430\\u043a\\u0435\\u0442\\u044b \\u0432\\u0437\\u043e\\u0440\\u0432\\u0430\\u043b\\u0438\\u0441\\u044c \\u043d\\u0430\\xa0\\u0448\\u043e\\u0441\\u0441\\u0435\\n                                                                                            </h6>\\n</div>\\n</a>\\n</article>,\n",
       " <article class=\"news-line\">\\n<a href=\"/posts/74890\">\\n<div class=\"line-content\">\\n<div class=\"line-post-label\">\\n                                                                                                    11:31\\n                                                                                            </div>\\n<h6 class=\"line-post-headline \">\\n                                                \\u041a\\u0438\\u0442\\u0430\\u0439 \\u0437\\u0430\\u0434\\u0443\\u043c\\u0430\\u043b \\u043e\\u0431\\u044a\\u0435\\u0434\\u0438\\u043d\\u0438\\u0442\\u044c \\u043a\\u0440\\u0443\\u043f\\u043d\\u0435\\u0439\\u0448\\u0438\\u0435 \\u0445\\u0438\\u043c\\u0438\\u0447\\u0435\\u0441\\u043a\\u0438\\u0435 \\u043a\\u043e\\u043c\\u043f\\u0430\\u043d\\u0438\\u0438 \\u0441\\u0442\\u0440\\u0430\\u043d\\u044b\\n                                                                                            </h6>\\n</div>\\n</a>\\n</article>,\n",
       " <article class=\"news-line\">\\n<a href=\"/posts/74889\">\\n<div class=\"line-content\">\\n<div class=\"line-post-label\">\\n                                                                                                    10:35\\n                                                                                            </div>\\n<h6 class=\"line-post-headline \">\\n                                                \\u0410\\u043a\\u0446\\u0438\\u0438 \\xab\\u0411\\u0430\\u0448\\u043d\\u0435\\u0444\\u0442\\u0438\\xbb \\u0443\\u043f\\u0430\\u043b\\u0438 \\u043d\\u0430\\xa07% \\u0432\\xa0\\u043d\\u0430\\u0447\\u0430\\u043b\\u0435 \\u0442\\u043e\\u0440\\u0433\\u043e\\u0432\\n                                                                                            </h6>\\n</div>\\n</a>\\n</article>]"
      ]
     },
     "execution_count": 108,
     "metadata": {},
     "output_type": "execute_result"
    }
   ],
   "source": [
    "news_page.findAll('article', attrs= {'class':'news-line'})"
   ]
  },
  {
   "cell_type": "code",
   "execution_count": 111,
   "metadata": {
    "collapsed": true
   },
   "outputs": [],
   "source": [
    "all_links = news_page.findAll('article', attrs= {'class':'news-line'})"
   ]
  },
  {
   "cell_type": "markdown",
   "metadata": {},
   "source": [
    "ура!"
   ]
  },
  {
   "cell_type": "code",
   "execution_count": 132,
   "metadata": {
    "collapsed": false
   },
   "outputs": [
    {
     "name": "stdout",
     "output_type": "stream",
     "text": [
      "https://slon.ru/posts/74927\n",
      "https://slon.ru/posts/74926\n",
      "https://slon.ru/posts/74924\n",
      "https://slon.ru/posts/74921\n",
      "https://slon.ru/posts/74918\n",
      "https://slon.ru/posts/74919\n",
      "https://slon.ru/posts/74917\n",
      "https://slon.ru/posts/74915\n",
      "https://slon.ru/posts/74914\n",
      "https://slon.ru/posts/74912\n",
      "https://slon.ru/posts/74913\n",
      "https://slon.ru/posts/74911\n",
      "https://slon.ru/posts/74910\n",
      "https://slon.ru/posts/74909\n",
      "https://slon.ru/posts/74907\n",
      "https://slon.ru/posts/74908\n",
      "https://slon.ru/posts/74905\n",
      "https://slon.ru/posts/74903\n",
      "https://slon.ru/posts/74902\n",
      "https://slon.ru/posts/74901\n",
      "https://slon.ru/posts/74900\n",
      "https://slon.ru/posts/74897\n",
      "https://slon.ru/posts/74896\n",
      "https://slon.ru/posts/74898\n",
      "https://slon.ru/posts/74894\n",
      "https://slon.ru/posts/74892\n",
      "https://slon.ru/posts/74891\n",
      "https://slon.ru/posts/74893\n",
      "https://slon.ru/posts/74890\n",
      "https://slon.ru/posts/74889\n"
     ]
    }
   ],
   "source": [
    "for link in all_links:\n",
    "    print(getSubpageLink(link))"
   ]
  },
  {
   "cell_type": "markdown",
   "metadata": {},
   "source": [
    "# Пошли гулять по страничкам!"
   ]
  },
  {
   "cell_type": "code",
   "execution_count": 147,
   "metadata": {
    "collapsed": true
   },
   "outputs": [],
   "source": [
    "def getPage(link):\n",
    "    page = requests.get(link).content\n",
    "    page = BeautifulSoup(page, 'lxml')\n",
    "    return page"
   ]
  },
  {
   "cell_type": "code",
   "execution_count": 148,
   "metadata": {
    "collapsed": false,
    "scrolled": true
   },
   "outputs": [
    {
     "name": "stdout",
     "output_type": "stream",
     "text": [
      "Власти США запретили проносить Samsung Galaxy Note 7 в самолеты\n",
      "01:31\n",
      "625\n",
      "====================\n",
      "Fitch улучшило прогноз по рейтингу России до «стабильного»\n",
      "14 октября, 23:14\n",
      "2 083\n",
      "====================\n",
      "СМИ сообщили об обысках в магазине «ЛитРес»\n",
      "14 октября, 21:00\n",
      "2 477\n",
      "====================\n",
      "СМИ сообщили о задержании бывшего мирового судьи за стрельбу в Хасавюрте\n",
      "14 октября, 19:43\n",
      "1 266\n",
      "====================\n",
      "От владельцев иностранных счетов стали требовать лично прийти в налоговую\n",
      "14 октября, 18:46\n",
      "7 072\n",
      "====================\n",
      "Министр Абызов объяснил просрочку рассмотрения петиции против законов Яровой\n",
      "14 октября, 18:46\n",
      "4 553\n",
      "====================\n",
      "Минобороны отвергло данные о гибели шестерых военных в Сирии\n",
      "14 октября, 18:29\n",
      "1 845\n",
      "====================\n",
      "Сирийские исламисты заявили об убийстве шестерых российских военных\n",
      "14 октября, 17:57\n",
      "14 888\n",
      "====================\n",
      "Ростехнадзор внепланово проверит предприятие «Лукойла» и «Башнефти»\n",
      "14 октября, 17:38\n",
      "2 180\n",
      "====================\n",
      "Reuters узнало о возможном увольнении еще 10 тысяч работников Deutsche Bank\n",
      "14 октября, 17:26\n",
      "1 200\n",
      "====================\n",
      "Французский суд смягчил российским болельщикам наказание за беспорядки на Евро-2016\n",
      "14 октября, 17:17\n",
      "1 225\n",
      "====================\n",
      "Следствие ужесточило обвинение Полонскому по делу о мошенничестве\n",
      "14 октября, 16:48\n",
      "1 175\n",
      "====================\n",
      "Goldman Sachs выиграл иск о «разорении» Ливии\n",
      "14 октября, 16:38\n",
      "1 565\n",
      "====================\n",
      "Блогер Журавлев вернулся в Россию после трех лет в плену у сирийских исламистов\n",
      "14 октября, 15:54\n",
      "2 853\n",
      "====================\n",
      "Обвиняемого в обвале Dow Jones трейдера выдадут США\n",
      "14 октября, 15:53\n",
      "1 406\n",
      "====================\n",
      "МВД опровергло закрытие дел экс-руководителей «Курортов Северного Кавказа»\n",
      "14 октября, 15:34\n",
      "1 806\n",
      "====================\n",
      "Пропажу главы банка РПЦ объяснили болезнью\n",
      "14 октября, 14:56\n",
      "1 381\n",
      "====================\n",
      "В Минфине назвали условия для разморозки пенсионных накоплений\n",
      "14 октября, 14:47\n",
      "2 098\n",
      "====================\n",
      "ЦБ за три квартала обнаружил в России 120 финансовых пирамид\n",
      "14 октября, 14:33\n",
      "1 164\n",
      "====================\n",
      "ФБК подаст в суд из-за отказа рассмотреть петицию по законам Яровой\n",
      "14 октября, 14:17\n",
      "1 589\n",
      "====================\n",
      "Носик обнаружил чужое имя в приговоре за пост в ЖЖ\n",
      "14 октября, 14:10\n",
      "3 641\n",
      "====================\n",
      "«Дождь» узнал о пропаже главы банка РПЦ  после новостей о подозрительных кредитах\n",
      "14 октября, 14:00\n",
      "4 654\n",
      "====================\n",
      "Минфин отказался от автоматического перечисления пенсий «молчунов» в бюджет\n",
      "14 октября, 13:53\n",
      "2 415\n",
      "====================\n",
      "«Роснефть» сравнила падение акций «Башнефти» с восходом солнца\n",
      "14 октября, 13:50\n",
      "1 789\n",
      "====================\n",
      "Минтранс подтвердил планы сделать пересечение границы платным\n",
      "14 октября, 13:08\n",
      "4 331\n",
      "====================\n",
      "У субподрядчиков «Российских космических систем» прошли обыски\n",
      "14 октября, 12:26\n",
      "1 636\n",
      "====================\n",
      "Генпрокуратура по поручению Путина начала проверять шахты «Уралкалия»\n",
      "14 октября, 12:19\n",
      "1 520\n",
      "====================\n",
      "В Анталье три ракеты взорвались на шоссе\n",
      "14 октября, 12:19\n",
      "2 669\n",
      "====================\n",
      "Китай задумал объединить крупнейшие химические компании страны\n",
      "14 октября, 11:31\n",
      "996\n",
      "====================\n",
      "Акции «Башнефти» упали на 7% в начале торгов\n",
      "14 октября, 10:35\n",
      "1 708\n",
      "====================\n"
     ]
    }
   ],
   "source": [
    "for link in all_links:\n",
    "    current_page = getPage(getSubpageLink(link))\n",
    "    print(getTitle(current_page))\n",
    "    print(getDate(current_page))\n",
    "    print(getViews(current_page))\n",
    "    print('====================')"
   ]
  },
  {
   "cell_type": "markdown",
   "metadata": {},
   "source": [
    "Всего у нас на слоне сейчас 100 страничек с новостями, попробуем вытащить несколько и записать их в датафрейм"
   ]
  },
  {
   "cell_type": "code",
   "execution_count": 155,
   "metadata": {
    "collapsed": true
   },
   "outputs": [],
   "source": [
    "NEWS = pd.DataFrame(columns=['title', 'date', 'views'])"
   ]
  },
  {
   "cell_type": "code",
   "execution_count": 156,
   "metadata": {
    "collapsed": true
   },
   "outputs": [],
   "source": [
    "total_pages = 5"
   ]
  },
  {
   "cell_type": "code",
   "execution_count": 157,
   "metadata": {
    "collapsed": false
   },
   "outputs": [
    {
     "name": "stdout",
     "output_type": "stream",
     "text": [
      "I`m not dead, I`m working! The page is 1\n",
      "I`m not dead, I`m working! The page is 2\n",
      "I`m not dead, I`m working! The page is 3\n",
      "I`m not dead, I`m working! The page is 4\n",
      "I`m not dead, I`m working! The page is 5\n"
     ]
    }
   ],
   "source": [
    "count = 0\n",
    "for page in range(total_pages):\n",
    "    \n",
    "    news_page = getPage(main_url+str(page+1))\n",
    "    all_links = news_page.findAll('article', attrs= {'class':'news-line'})\n",
    "    \n",
    "    for link in all_links:\n",
    "        current_page = getPage(getSubpageLink(link))\n",
    "        \n",
    "        to_append = {'title':getTitle(current_page), 'date':getDate(current_page), 'views':getViews(current_page)}\n",
    "        NEWS = NEWS.append(to_append, ignore_index=True)\n",
    "        count +=1 \n",
    "    print('I`m not dead, I`m working! The page is {}'.format(page+1))"
   ]
  },
  {
   "cell_type": "code",
   "execution_count": 160,
   "metadata": {
    "collapsed": false
   },
   "outputs": [
    {
     "data": {
      "text/html": [
       "<div>\n",
       "<table border=\"1\" class=\"dataframe\">\n",
       "  <thead>\n",
       "    <tr style=\"text-align: right;\">\n",
       "      <th></th>\n",
       "      <th>title</th>\n",
       "      <th>date</th>\n",
       "      <th>views</th>\n",
       "    </tr>\n",
       "  </thead>\n",
       "  <tbody>\n",
       "    <tr>\n",
       "      <th>0</th>\n",
       "      <td>СМИ сообщили о подготовке ЦРУ кибератак против...</td>\n",
       "      <td>02:46</td>\n",
       "      <td>498</td>\n",
       "    </tr>\n",
       "    <tr>\n",
       "      <th>1</th>\n",
       "      <td>Власти США запретили проносить Samsung Galaxy ...</td>\n",
       "      <td>01:31</td>\n",
       "      <td>645</td>\n",
       "    </tr>\n",
       "    <tr>\n",
       "      <th>2</th>\n",
       "      <td>Fitch улучшило прогноз по рейтингу России до «...</td>\n",
       "      <td>14 октября, 23:14</td>\n",
       "      <td>2 153</td>\n",
       "    </tr>\n",
       "    <tr>\n",
       "      <th>3</th>\n",
       "      <td>СМИ сообщили об обысках в магазине «ЛитРес»</td>\n",
       "      <td>14 октября, 21:00</td>\n",
       "      <td>2 495</td>\n",
       "    </tr>\n",
       "    <tr>\n",
       "      <th>4</th>\n",
       "      <td>СМИ сообщили о задержании бывшего мирового суд...</td>\n",
       "      <td>14 октября, 19:43</td>\n",
       "      <td>1 279</td>\n",
       "    </tr>\n",
       "  </tbody>\n",
       "</table>\n",
       "</div>"
      ],
      "text/plain": [
       "                                               title               date  views\n",
       "0  СМИ сообщили о подготовке ЦРУ кибератак против...              02:46    498\n",
       "1  Власти США запретили проносить Samsung Galaxy ...              01:31    645\n",
       "2  Fitch улучшило прогноз по рейтингу России до «...  14 октября, 23:14  2 153\n",
       "3        СМИ сообщили об обысках в магазине «ЛитРес»  14 октября, 21:00  2 495\n",
       "4  СМИ сообщили о задержании бывшего мирового суд...  14 октября, 19:43  1 279"
      ]
     },
     "execution_count": 160,
     "metadata": {},
     "output_type": "execute_result"
    }
   ],
   "source": [
    "NEWS.head()"
   ]
  },
  {
   "cell_type": "markdown",
   "metadata": {},
   "source": [
    "![](http://i0.kym-cdn.com/entries/icons/facebook/000/006/077/so_good.jpg)"
   ]
  },
  {
   "cell_type": "code",
   "execution_count": 176,
   "metadata": {
    "collapsed": true
   },
   "outputs": [],
   "source": [
    "import numpy as np"
   ]
  },
  {
   "cell_type": "code",
   "execution_count": 177,
   "metadata": {
    "collapsed": false
   },
   "outputs": [],
   "source": [
    "def integerConverter(number):\n",
    "    try:\n",
    "        return int(''.join(number.split()))\n",
    "    except:\n",
    "        return np.NaN"
   ]
  },
  {
   "cell_type": "code",
   "execution_count": 164,
   "metadata": {
    "collapsed": false
   },
   "outputs": [],
   "source": [
    "NEWS.views = NEWS.views.apply(lambda number: integerConverter(number))"
   ]
  },
  {
   "cell_type": "code",
   "execution_count": 168,
   "metadata": {
    "collapsed": true
   },
   "outputs": [],
   "source": [
    "%matplotlib inline\n",
    "import matplotlib.pyplot as plt\n",
    "plt.style.use('ggplot')"
   ]
  },
  {
   "cell_type": "code",
   "execution_count": 169,
   "metadata": {
    "collapsed": false
   },
   "outputs": [
    {
     "data": {
      "text/plain": [
       "<matplotlib.axes._subplots.AxesSubplot at 0x11437a2d0>"
      ]
     },
     "execution_count": 169,
     "metadata": {},
     "output_type": "execute_result"
    },
    {
     "data": {
      "image/png": "[encoded data removed]",
      "text/plain": [
       "<matplotlib.figure.Figure at 0x115be1150>"
      ]
     },
     "metadata": {},
     "output_type": "display_data"
    }
   ],
   "source": [
    "NEWS.views.hist()"
   ]
  },
  {
   "cell_type": "code",
   "execution_count": 170,
   "metadata": {
    "collapsed": false,
    "scrolled": true
   },
   "outputs": [
    {
     "name": "stdout",
     "output_type": "stream",
     "text": [
      "The page is 1\n",
      "The page is 2\n",
      "The page is 3\n",
      "The page is 4\n",
      "The page is 5\n",
      "The page is 6\n",
      "The page is 7\n",
      "The page is 8\n",
      "The page is 9\n",
      "The page is 10\n",
      "The page is 11\n",
      "The page is 12\n",
      "The page is 13\n",
      "The page is 14\n",
      "The page is 15\n",
      "The page is 16\n",
      "The page is 17\n",
      "The page is 18\n",
      "The page is 19\n",
      "The page is 20\n",
      "The page is 21\n",
      "The page is 22\n",
      "The page is 23\n",
      "The page is 24\n",
      "The page is 25\n",
      "The page is 26\n",
      "The page is 27\n",
      "The page is 28\n",
      "The page is 29\n",
      "The page is 30\n",
      "The page is 31\n",
      "The page is 32\n",
      "The page is 33\n",
      "The page is 34\n",
      "The page is 35\n",
      "The page is 36\n",
      "The page is 37\n",
      "The page is 38\n",
      "The page is 39\n",
      "The page is 40\n",
      "The page is 41\n",
      "The page is 42\n",
      "The page is 43\n",
      "The page is 44\n",
      "The page is 45\n",
      "The page is 46\n",
      "The page is 47\n",
      "The page is 48\n",
      "The page is 49\n",
      "The page is 50\n",
      "The page is 51\n",
      "The page is 52\n",
      "The page is 53\n",
      "The page is 54\n",
      "The page is 55\n",
      "The page is 56\n",
      "The page is 57\n",
      "The page is 58\n",
      "The page is 59\n",
      "The page is 60\n",
      "The page is 61\n",
      "The page is 62\n",
      "The page is 63\n",
      "The page is 64\n",
      "The page is 65\n",
      "The page is 66\n",
      "The page is 67\n",
      "The page is 68\n",
      "The page is 69\n",
      "The page is 70\n",
      "The page is 71\n",
      "The page is 72\n",
      "The page is 73\n",
      "The page is 74\n",
      "The page is 75\n",
      "The page is 76\n",
      "The page is 77\n",
      "The page is 78\n",
      "The page is 79\n",
      "The page is 80\n",
      "The page is 81\n",
      "The page is 82\n",
      "The page is 83\n",
      "The page is 84\n",
      "The page is 85\n",
      "The page is 86\n",
      "The page is 87\n",
      "The page is 88\n",
      "The page is 89\n",
      "The page is 90\n",
      "The page is 91\n",
      "The page is 92\n",
      "The page is 93\n",
      "The page is 94\n",
      "The page is 95\n",
      "The page is 96\n",
      "The page is 97\n",
      "The page is 98\n",
      "The page is 99\n",
      "The page is 100\n"
     ]
    }
   ],
   "source": [
    "NEWS = pd.DataFrame(columns=['title', 'date', 'views'])\n",
    "total_pages = 100\n",
    "\n",
    "count = 0\n",
    "for page in range(total_pages):\n",
    "    try:\n",
    "        news_page = getPage(main_url+str(page+1))\n",
    "        all_links = news_page.findAll('article', attrs= {'class':'news-line'})\n",
    "\n",
    "        for link in all_links:\n",
    "            current_page = getPage(getSubpageLink(link))\n",
    "\n",
    "            to_append = {'title':getTitle(current_page), 'date':getDate(current_page), 'views':getViews(current_page)}\n",
    "            NEWS = NEWS.append(to_append, ignore_index=True)\n",
    "            count +=1 \n",
    "        print('The page is {}'.format(page+1))\n",
    "    except:\n",
    "        print('OOps, something whent wrong with the page {}'.format(page+1))\n",
    "        \n",
    "NEWS.to_csv('/Users/dmitrys/Desktop/DataProjects/NEWS.csv')"
   ]
  },
  {
   "cell_type": "code",
   "execution_count": 171,
   "metadata": {
    "collapsed": false
   },
   "outputs": [
    {
     "data": {
      "text/html": [
       "<div>\n",
       "<table border=\"1\" class=\"dataframe\">\n",
       "  <thead>\n",
       "    <tr style=\"text-align: right;\">\n",
       "      <th></th>\n",
       "      <th>title</th>\n",
       "      <th>date</th>\n",
       "      <th>views</th>\n",
       "    </tr>\n",
       "  </thead>\n",
       "  <tbody>\n",
       "    <tr>\n",
       "      <th>2995</th>\n",
       "      <td>Власти РФ решили приравнять биткоины к иностра...</td>\n",
       "      <td>18 июля, 23:16</td>\n",
       "      <td>7 377</td>\n",
       "    </tr>\n",
       "    <tr>\n",
       "      <th>2996</th>\n",
       "      <td>Мутко огорчился результатами доклада ВАДА</td>\n",
       "      <td>18 июля, 22:34</td>\n",
       "      <td>3 936</td>\n",
       "    </tr>\n",
       "    <tr>\n",
       "      <th>2997</th>\n",
       "      <td>Керимов решил выкупить у Прохорова 17% «Русала»</td>\n",
       "      <td>18 июля, 21:51</td>\n",
       "      <td>2 356</td>\n",
       "    </tr>\n",
       "    <tr>\n",
       "      <th>2998</th>\n",
       "      <td>Путин отстранит от должностей упомянутых в док...</td>\n",
       "      <td>18 июля, 19:49</td>\n",
       "      <td>21 379</td>\n",
       "    </tr>\n",
       "    <tr>\n",
       "      <th>2999</th>\n",
       "      <td>ВАДА потребовало отстранения паралимпийской сб...</td>\n",
       "      <td>18 июля, 19:11</td>\n",
       "      <td>6 072</td>\n",
       "    </tr>\n",
       "  </tbody>\n",
       "</table>\n",
       "</div>"
      ],
      "text/plain": [
       "                                                  title            date  \\\n",
       "2995  Власти РФ решили приравнять биткоины к иностра...  18 июля, 23:16   \n",
       "2996          Мутко огорчился результатами доклада ВАДА  18 июля, 22:34   \n",
       "2997    Керимов решил выкупить у Прохорова 17% «Русала»  18 июля, 21:51   \n",
       "2998  Путин отстранит от должностей упомянутых в док...  18 июля, 19:49   \n",
       "2999  ВАДА потребовало отстранения паралимпийской сб...  18 июля, 19:11   \n",
       "\n",
       "       views  \n",
       "2995   7 377  \n",
       "2996   3 936  \n",
       "2997   2 356  \n",
       "2998  21 379  \n",
       "2999   6 072  "
      ]
     },
     "execution_count": 171,
     "metadata": {},
     "output_type": "execute_result"
    }
   ],
   "source": [
    "NEWS.tail()"
   ]
  },
  {
   "cell_type": "code",
   "execution_count": 178,
   "metadata": {
    "collapsed": false
   },
   "outputs": [],
   "source": [
    "NEWS.views = NEWS.views.apply(lambda number: integerConverter(number))"
   ]
  },
  {
   "cell_type": "code",
   "execution_count": 180,
   "metadata": {
    "collapsed": false
   },
   "outputs": [
    {
     "data": {
      "text/plain": [
       "<matplotlib.axes._subplots.AxesSubplot at 0x11a854ed0>"
      ]
     },
     "execution_count": 180,
     "metadata": {},
     "output_type": "execute_result"
    },
    {
     "data": {
      "image/png": "[encoded data removed]",
      "text/plain": [
       "<matplotlib.figure.Figure at 0x11a8d4a50>"
      ]
     },
     "metadata": {},
     "output_type": "display_data"
    }
   ],
   "source": [
    "NEWS.views.apply(np.log).hist()"
   ]
  },
  {
   "cell_type": "code",
   "execution_count": 188,
   "metadata": {
    "collapsed": false
   },
   "outputs": [
    {
     "data": {
      "text/html": [
       "<div>\n",
       "<table border=\"1\" class=\"dataframe\">\n",
       "  <thead>\n",
       "    <tr style=\"text-align: right;\">\n",
       "      <th></th>\n",
       "      <th>views</th>\n",
       "    </tr>\n",
       "  </thead>\n",
       "  <tbody>\n",
       "    <tr>\n",
       "      <th>count</th>\n",
       "      <td>2997.000000</td>\n",
       "    </tr>\n",
       "    <tr>\n",
       "      <th>mean</th>\n",
       "      <td>4771.569236</td>\n",
       "    </tr>\n",
       "    <tr>\n",
       "      <th>std</th>\n",
       "      <td>6332.620853</td>\n",
       "    </tr>\n",
       "    <tr>\n",
       "      <th>min</th>\n",
       "      <td>543.000000</td>\n",
       "    </tr>\n",
       "    <tr>\n",
       "      <th>25%</th>\n",
       "      <td>NaN</td>\n",
       "    </tr>\n",
       "    <tr>\n",
       "      <th>50%</th>\n",
       "      <td>NaN</td>\n",
       "    </tr>\n",
       "    <tr>\n",
       "      <th>75%</th>\n",
       "      <td>NaN</td>\n",
       "    </tr>\n",
       "    <tr>\n",
       "      <th>max</th>\n",
       "      <td>152408.000000</td>\n",
       "    </tr>\n",
       "  </tbody>\n",
       "</table>\n",
       "</div>"
      ],
      "text/plain": [
       "               views\n",
       "count    2997.000000\n",
       "mean     4771.569236\n",
       "std      6332.620853\n",
       "min       543.000000\n",
       "25%              NaN\n",
       "50%              NaN\n",
       "75%              NaN\n",
       "max    152408.000000"
      ]
     },
     "execution_count": 188,
     "metadata": {},
     "output_type": "execute_result"
    }
   ],
   "source": [
    "NEWS.describe()"
   ]
  },
  {
   "cell_type": "code",
   "execution_count": 191,
   "metadata": {
    "collapsed": false
   },
   "outputs": [
    {
     "data": {
      "text/html": [
       "<div>\n",
       "<table border=\"1\" class=\"dataframe\">\n",
       "  <thead>\n",
       "    <tr style=\"text-align: right;\">\n",
       "      <th></th>\n",
       "      <th>title</th>\n",
       "      <th>date</th>\n",
       "      <th>views</th>\n",
       "    </tr>\n",
       "  </thead>\n",
       "  <tbody>\n",
       "    <tr>\n",
       "      <th>414</th>\n",
       "      <td>Путин потребовал от США компенсировать потери ...</td>\n",
       "      <td>3 октября, 16:46</td>\n",
       "      <td>152408.0</td>\n",
       "    </tr>\n",
       "  </tbody>\n",
       "</table>\n",
       "</div>"
      ],
      "text/plain": [
       "                                                 title              date  \\\n",
       "414  Путин потребовал от США компенсировать потери ...  3 октября, 16:46   \n",
       "\n",
       "        views  \n",
       "414  152408.0  "
      ]
     },
     "execution_count": 191,
     "metadata": {},
     "output_type": "execute_result"
    }
   ],
   "source": [
    "NEWS[NEWS.views == max(NEWS.views)]"
   ]
  }
 ],
 "metadata": {
  "anaconda-cloud": {},
  "kernelspec": {
   "display_name": "Python [Root]",
   "language": "python",
   "name": "Python [Root]"
  },
  "language_info": {
   "codemirror_mode": {
    "name": "ipython",
    "version": 2
   },
   "file_extension": ".py",
   "mimetype": "text/x-python",
   "name": "python",
   "nbconvert_exporter": "python",
   "pygments_lexer": "ipython2",
   "version": "2.7.12"
  }
 },
 "nbformat": 4,
 "nbformat_minor": 0
}
